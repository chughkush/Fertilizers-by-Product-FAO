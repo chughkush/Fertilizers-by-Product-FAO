{
 "cells": [
  {
   "cell_type": "markdown",
   "metadata": {
    "papermill": {
     "duration": 0.031036,
     "end_time": "2021-02-15T19:09:24.097613",
     "exception": false,
     "start_time": "2021-02-15T19:09:24.066577",
     "status": "completed"
    },
    "tags": []
   },
   "source": [
    "## Importing Libraries"
   ]
  },
  {
   "cell_type": "code",
   "execution_count": 1,
   "metadata": {
    "execution": {
     "iopub.execute_input": "2021-02-15T19:09:24.165568Z",
     "iopub.status.busy": "2021-02-15T19:09:24.164457Z",
     "iopub.status.idle": "2021-02-15T19:09:24.167657Z",
     "shell.execute_reply": "2021-02-15T19:09:24.168224Z"
    },
    "papermill": {
     "duration": 0.039662,
     "end_time": "2021-02-15T19:09:24.168403",
     "exception": false,
     "start_time": "2021-02-15T19:09:24.128741",
     "status": "completed"
    },
    "tags": []
   },
   "outputs": [],
   "source": [
    "import warnings #to ignore any warnings\n",
    "warnings.filterwarnings('ignore')"
   ]
  },
  {
   "cell_type": "code",
   "execution_count": 2,
   "metadata": {
    "_cell_guid": "b1076dfc-b9ad-4769-8c92-a6c4dae69d19",
    "_uuid": "8f2839f25d086af736a60e9eeb907d3b93b6e0e5",
    "execution": {
     "iopub.execute_input": "2021-02-15T19:09:24.238453Z",
     "iopub.status.busy": "2021-02-15T19:09:24.237680Z",
     "iopub.status.idle": "2021-02-15T19:09:26.311551Z",
     "shell.execute_reply": "2021-02-15T19:09:26.310843Z"
    },
    "papermill": {
     "duration": 2.111647,
     "end_time": "2021-02-15T19:09:26.311691",
     "exception": false,
     "start_time": "2021-02-15T19:09:24.200044",
     "status": "completed"
    },
    "tags": []
   },
   "outputs": [],
   "source": [
    "import numpy as np \n",
    "import pandas as pd\n",
    "\n",
    "import matplotlib.pyplot as plt\n",
    "\n",
    "import seaborn as sns\n",
    "sns.set_style(\"darkgrid\")\n",
    "import plotly.express as px"
   ]
  },
  {
   "cell_type": "markdown",
   "metadata": {
    "papermill": {
     "duration": 0.030165,
     "end_time": "2021-02-15T19:09:26.374435",
     "exception": false,
     "start_time": "2021-02-15T19:09:26.344270",
     "status": "completed"
    },
    "tags": []
   },
   "source": [
    "## Reading and Inspecting Data"
   ]
  },
  {
   "cell_type": "code",
   "execution_count": 3,
   "metadata": {
    "execution": {
     "iopub.execute_input": "2021-02-15T19:09:26.441582Z",
     "iopub.status.busy": "2021-02-15T19:09:26.440734Z",
     "iopub.status.idle": "2021-02-15T19:09:27.019200Z",
     "shell.execute_reply": "2021-02-15T19:09:27.019856Z"
    },
    "papermill": {
     "duration": 0.615232,
     "end_time": "2021-02-15T19:09:27.019997",
     "exception": false,
     "start_time": "2021-02-15T19:09:26.404765",
     "status": "completed"
    },
    "tags": []
   },
   "outputs": [
    {
     "output_type": "execute_result",
     "data": {
      "text/plain": [
       "   Area Code         Area  Item Code                Item  Element Code  \\\n",
       "0          2  Afghanistan       4007  Ammonia, anhydrous          5610   \n",
       "1          2  Afghanistan       4007  Ammonia, anhydrous          5610   \n",
       "2          2  Afghanistan       4007  Ammonia, anhydrous          5610   \n",
       "3          2  Afghanistan       4007  Ammonia, anhydrous          5622   \n",
       "4          2  Afghanistan       4007  Ammonia, anhydrous          5622   \n",
       "\n",
       "           Element  Year Code  Year      Unit  Value Flag  \n",
       "0  Import Quantity       2011  2011    tonnes   4.49    R  \n",
       "1  Import Quantity       2014  2014    tonnes   2.00    R  \n",
       "2  Import Quantity       2017  2017    tonnes   2.07    R  \n",
       "3     Import Value       2011  2011  1000 US$   2.69    R  \n",
       "4     Import Value       2014  2014  1000 US$   1.07    R  "
      ],
      "text/html": "<div>\n<style scoped>\n    .dataframe tbody tr th:only-of-type {\n        vertical-align: middle;\n    }\n\n    .dataframe tbody tr th {\n        vertical-align: top;\n    }\n\n    .dataframe thead th {\n        text-align: right;\n    }\n</style>\n<table border=\"1\" class=\"dataframe\">\n  <thead>\n    <tr style=\"text-align: right;\">\n      <th></th>\n      <th>Area Code</th>\n      <th>Area</th>\n      <th>Item Code</th>\n      <th>Item</th>\n      <th>Element Code</th>\n      <th>Element</th>\n      <th>Year Code</th>\n      <th>Year</th>\n      <th>Unit</th>\n      <th>Value</th>\n      <th>Flag</th>\n    </tr>\n  </thead>\n  <tbody>\n    <tr>\n      <th>0</th>\n      <td>2</td>\n      <td>Afghanistan</td>\n      <td>4007</td>\n      <td>Ammonia, anhydrous</td>\n      <td>5610</td>\n      <td>Import Quantity</td>\n      <td>2011</td>\n      <td>2011</td>\n      <td>tonnes</td>\n      <td>4.49</td>\n      <td>R</td>\n    </tr>\n    <tr>\n      <th>1</th>\n      <td>2</td>\n      <td>Afghanistan</td>\n      <td>4007</td>\n      <td>Ammonia, anhydrous</td>\n      <td>5610</td>\n      <td>Import Quantity</td>\n      <td>2014</td>\n      <td>2014</td>\n      <td>tonnes</td>\n      <td>2.00</td>\n      <td>R</td>\n    </tr>\n    <tr>\n      <th>2</th>\n      <td>2</td>\n      <td>Afghanistan</td>\n      <td>4007</td>\n      <td>Ammonia, anhydrous</td>\n      <td>5610</td>\n      <td>Import Quantity</td>\n      <td>2017</td>\n      <td>2017</td>\n      <td>tonnes</td>\n      <td>2.07</td>\n      <td>R</td>\n    </tr>\n    <tr>\n      <th>3</th>\n      <td>2</td>\n      <td>Afghanistan</td>\n      <td>4007</td>\n      <td>Ammonia, anhydrous</td>\n      <td>5622</td>\n      <td>Import Value</td>\n      <td>2011</td>\n      <td>2011</td>\n      <td>1000 US$</td>\n      <td>2.69</td>\n      <td>R</td>\n    </tr>\n    <tr>\n      <th>4</th>\n      <td>2</td>\n      <td>Afghanistan</td>\n      <td>4007</td>\n      <td>Ammonia, anhydrous</td>\n      <td>5622</td>\n      <td>Import Value</td>\n      <td>2014</td>\n      <td>2014</td>\n      <td>1000 US$</td>\n      <td>1.07</td>\n      <td>R</td>\n    </tr>\n  </tbody>\n</table>\n</div>"
     },
     "metadata": {},
     "execution_count": 3
    }
   ],
   "source": [
    "df = pd.read_csv('FertilizersProduct.csv',encoding = \"ISO-8859-1\", header = 0, sep = \",\")\n",
    "df.head()"
   ]
  },
  {
   "cell_type": "code",
   "execution_count": 4,
   "metadata": {
    "execution": {
     "iopub.execute_input": "2021-02-15T19:09:27.085117Z",
     "iopub.status.busy": "2021-02-15T19:09:27.084473Z",
     "iopub.status.idle": "2021-02-15T19:09:27.101947Z",
     "shell.execute_reply": "2021-02-15T19:09:27.101363Z"
    },
    "papermill": {
     "duration": 0.051103,
     "end_time": "2021-02-15T19:09:27.102123",
     "exception": false,
     "start_time": "2021-02-15T19:09:27.051020",
     "status": "completed"
    },
    "tags": []
   },
   "outputs": [
    {
     "output_type": "execute_result",
     "data": {
      "text/plain": [
       "        Area Code      Area  Item Code  \\\n",
       "164463        181  Zimbabwe       4006   \n",
       "164464        181  Zimbabwe       4006   \n",
       "164465        181  Zimbabwe       4006   \n",
       "164466        181  Zimbabwe       4006   \n",
       "164467        181  Zimbabwe       4006   \n",
       "\n",
       "                                             Item  Element Code  \\\n",
       "164463  Urea and ammonium nitrate solutions (UAN)          5157   \n",
       "164464  Urea and ammonium nitrate solutions (UAN)          5157   \n",
       "164465  Urea and ammonium nitrate solutions (UAN)          5157   \n",
       "164466  Urea and ammonium nitrate solutions (UAN)          5157   \n",
       "164467  Urea and ammonium nitrate solutions (UAN)          5157   \n",
       "\n",
       "                 Element  Year Code  Year    Unit    Value Flag  \n",
       "164463  Agricultural Use       2004  2004  tonnes     5.00   Fb  \n",
       "164464  Agricultural Use       2008  2008  tonnes     2.13   Fb  \n",
       "164465  Agricultural Use       2009  2009  tonnes     9.00   Fb  \n",
       "164466  Agricultural Use       2010  2010  tonnes  4971.00   Fb  \n",
       "164467  Agricultural Use       2011  2011  tonnes     7.00   Fb  "
      ],
      "text/html": "<div>\n<style scoped>\n    .dataframe tbody tr th:only-of-type {\n        vertical-align: middle;\n    }\n\n    .dataframe tbody tr th {\n        vertical-align: top;\n    }\n\n    .dataframe thead th {\n        text-align: right;\n    }\n</style>\n<table border=\"1\" class=\"dataframe\">\n  <thead>\n    <tr style=\"text-align: right;\">\n      <th></th>\n      <th>Area Code</th>\n      <th>Area</th>\n      <th>Item Code</th>\n      <th>Item</th>\n      <th>Element Code</th>\n      <th>Element</th>\n      <th>Year Code</th>\n      <th>Year</th>\n      <th>Unit</th>\n      <th>Value</th>\n      <th>Flag</th>\n    </tr>\n  </thead>\n  <tbody>\n    <tr>\n      <th>164463</th>\n      <td>181</td>\n      <td>Zimbabwe</td>\n      <td>4006</td>\n      <td>Urea and ammonium nitrate solutions (UAN)</td>\n      <td>5157</td>\n      <td>Agricultural Use</td>\n      <td>2004</td>\n      <td>2004</td>\n      <td>tonnes</td>\n      <td>5.00</td>\n      <td>Fb</td>\n    </tr>\n    <tr>\n      <th>164464</th>\n      <td>181</td>\n      <td>Zimbabwe</td>\n      <td>4006</td>\n      <td>Urea and ammonium nitrate solutions (UAN)</td>\n      <td>5157</td>\n      <td>Agricultural Use</td>\n      <td>2008</td>\n      <td>2008</td>\n      <td>tonnes</td>\n      <td>2.13</td>\n      <td>Fb</td>\n    </tr>\n    <tr>\n      <th>164465</th>\n      <td>181</td>\n      <td>Zimbabwe</td>\n      <td>4006</td>\n      <td>Urea and ammonium nitrate solutions (UAN)</td>\n      <td>5157</td>\n      <td>Agricultural Use</td>\n      <td>2009</td>\n      <td>2009</td>\n      <td>tonnes</td>\n      <td>9.00</td>\n      <td>Fb</td>\n    </tr>\n    <tr>\n      <th>164466</th>\n      <td>181</td>\n      <td>Zimbabwe</td>\n      <td>4006</td>\n      <td>Urea and ammonium nitrate solutions (UAN)</td>\n      <td>5157</td>\n      <td>Agricultural Use</td>\n      <td>2010</td>\n      <td>2010</td>\n      <td>tonnes</td>\n      <td>4971.00</td>\n      <td>Fb</td>\n    </tr>\n    <tr>\n      <th>164467</th>\n      <td>181</td>\n      <td>Zimbabwe</td>\n      <td>4006</td>\n      <td>Urea and ammonium nitrate solutions (UAN)</td>\n      <td>5157</td>\n      <td>Agricultural Use</td>\n      <td>2011</td>\n      <td>2011</td>\n      <td>tonnes</td>\n      <td>7.00</td>\n      <td>Fb</td>\n    </tr>\n  </tbody>\n</table>\n</div>"
     },
     "metadata": {},
     "execution_count": 4
    }
   ],
   "source": [
    "df.tail()"
   ]
  },
  {
   "cell_type": "code",
   "execution_count": 5,
   "metadata": {
    "execution": {
     "iopub.execute_input": "2021-02-15T19:09:27.171510Z",
     "iopub.status.busy": "2021-02-15T19:09:27.170812Z",
     "iopub.status.idle": "2021-02-15T19:09:27.272834Z",
     "shell.execute_reply": "2021-02-15T19:09:27.272161Z"
    },
    "papermill": {
     "duration": 0.138168,
     "end_time": "2021-02-15T19:09:27.272945",
     "exception": false,
     "start_time": "2021-02-15T19:09:27.134777",
     "status": "completed"
    },
    "tags": []
   },
   "outputs": [
    {
     "output_type": "stream",
     "name": "stdout",
     "text": [
      "<class 'pandas.core.frame.DataFrame'>\nRangeIndex: 164468 entries, 0 to 164467\nData columns (total 11 columns):\n #   Column        Non-Null Count   Dtype  \n---  ------        --------------   -----  \n 0   Area Code     164468 non-null  int64  \n 1   Area          164468 non-null  object \n 2   Item Code     164468 non-null  int64  \n 3   Item          164468 non-null  object \n 4   Element Code  164468 non-null  int64  \n 5   Element       164468 non-null  object \n 6   Year Code     164468 non-null  int64  \n 7   Year          164468 non-null  int64  \n 8   Unit          164468 non-null  object \n 9   Value         164468 non-null  float64\n 10  Flag          164468 non-null  object \ndtypes: float64(1), int64(5), object(5)\nmemory usage: 13.8+ MB\n"
     ]
    }
   ],
   "source": [
    "df.info()"
   ]
  },
  {
   "cell_type": "markdown",
   "metadata": {
    "papermill": {
     "duration": 0.032112,
     "end_time": "2021-02-15T19:09:27.337931",
     "exception": false,
     "start_time": "2021-02-15T19:09:27.305819",
     "status": "completed"
    },
    "tags": []
   },
   "source": [
    "From above we can see that there are no null values in the dataframe. We can also see that all the columns are of the correct datatype\n",
    "\n",
    "To have consistency in the column names, I'll change all the column names to the format : firstName_lastName"
   ]
  },
  {
   "cell_type": "code",
   "execution_count": 6,
   "metadata": {
    "execution": {
     "iopub.execute_input": "2021-02-15T19:09:27.422614Z",
     "iopub.status.busy": "2021-02-15T19:09:27.421598Z",
     "iopub.status.idle": "2021-02-15T19:09:27.426531Z",
     "shell.execute_reply": "2021-02-15T19:09:27.425876Z"
    },
    "papermill": {
     "duration": 0.056,
     "end_time": "2021-02-15T19:09:27.426647",
     "exception": false,
     "start_time": "2021-02-15T19:09:27.370647",
     "status": "completed"
    },
    "tags": []
   },
   "outputs": [
    {
     "output_type": "execute_result",
     "data": {
      "text/plain": [
       "   area_code         area  item_code                item  element_code  \\\n",
       "0          2  Afghanistan       4007  Ammonia, anhydrous          5610   \n",
       "1          2  Afghanistan       4007  Ammonia, anhydrous          5610   \n",
       "2          2  Afghanistan       4007  Ammonia, anhydrous          5610   \n",
       "3          2  Afghanistan       4007  Ammonia, anhydrous          5622   \n",
       "4          2  Afghanistan       4007  Ammonia, anhydrous          5622   \n",
       "\n",
       "           element  year_code  year      unit  value flag  \n",
       "0  Import Quantity       2011  2011    tonnes   4.49    R  \n",
       "1  Import Quantity       2014  2014    tonnes   2.00    R  \n",
       "2  Import Quantity       2017  2017    tonnes   2.07    R  \n",
       "3     Import Value       2011  2011  1000 US$   2.69    R  \n",
       "4     Import Value       2014  2014  1000 US$   1.07    R  "
      ],
      "text/html": "<div>\n<style scoped>\n    .dataframe tbody tr th:only-of-type {\n        vertical-align: middle;\n    }\n\n    .dataframe tbody tr th {\n        vertical-align: top;\n    }\n\n    .dataframe thead th {\n        text-align: right;\n    }\n</style>\n<table border=\"1\" class=\"dataframe\">\n  <thead>\n    <tr style=\"text-align: right;\">\n      <th></th>\n      <th>area_code</th>\n      <th>area</th>\n      <th>item_code</th>\n      <th>item</th>\n      <th>element_code</th>\n      <th>element</th>\n      <th>year_code</th>\n      <th>year</th>\n      <th>unit</th>\n      <th>value</th>\n      <th>flag</th>\n    </tr>\n  </thead>\n  <tbody>\n    <tr>\n      <th>0</th>\n      <td>2</td>\n      <td>Afghanistan</td>\n      <td>4007</td>\n      <td>Ammonia, anhydrous</td>\n      <td>5610</td>\n      <td>Import Quantity</td>\n      <td>2011</td>\n      <td>2011</td>\n      <td>tonnes</td>\n      <td>4.49</td>\n      <td>R</td>\n    </tr>\n    <tr>\n      <th>1</th>\n      <td>2</td>\n      <td>Afghanistan</td>\n      <td>4007</td>\n      <td>Ammonia, anhydrous</td>\n      <td>5610</td>\n      <td>Import Quantity</td>\n      <td>2014</td>\n      <td>2014</td>\n      <td>tonnes</td>\n      <td>2.00</td>\n      <td>R</td>\n    </tr>\n    <tr>\n      <th>2</th>\n      <td>2</td>\n      <td>Afghanistan</td>\n      <td>4007</td>\n      <td>Ammonia, anhydrous</td>\n      <td>5610</td>\n      <td>Import Quantity</td>\n      <td>2017</td>\n      <td>2017</td>\n      <td>tonnes</td>\n      <td>2.07</td>\n      <td>R</td>\n    </tr>\n    <tr>\n      <th>3</th>\n      <td>2</td>\n      <td>Afghanistan</td>\n      <td>4007</td>\n      <td>Ammonia, anhydrous</td>\n      <td>5622</td>\n      <td>Import Value</td>\n      <td>2011</td>\n      <td>2011</td>\n      <td>1000 US$</td>\n      <td>2.69</td>\n      <td>R</td>\n    </tr>\n    <tr>\n      <th>4</th>\n      <td>2</td>\n      <td>Afghanistan</td>\n      <td>4007</td>\n      <td>Ammonia, anhydrous</td>\n      <td>5622</td>\n      <td>Import Value</td>\n      <td>2014</td>\n      <td>2014</td>\n      <td>1000 US$</td>\n      <td>1.07</td>\n      <td>R</td>\n    </tr>\n  </tbody>\n</table>\n</div>"
     },
     "metadata": {},
     "execution_count": 6
    }
   ],
   "source": [
    "df.columns  = df.columns.str.lower()\n",
    "df.columns = df.columns.str.replace(' ','_')\n",
    "df.head()"
   ]
  },
  {
   "cell_type": "markdown",
   "metadata": {
    "papermill": {
     "duration": 0.033675,
     "end_time": "2021-02-15T19:09:27.493488",
     "exception": false,
     "start_time": "2021-02-15T19:09:27.459813",
     "status": "completed"
    },
    "tags": []
   },
   "source": [
    "Removing irrelevant columns i.e. the columns that are not needed for the analysis like: area_code, item_code, element_code, year_code and flag"
   ]
  },
  {
   "cell_type": "code",
   "execution_count": 7,
   "metadata": {
    "execution": {
     "iopub.execute_input": "2021-02-15T19:09:27.570499Z",
     "iopub.status.busy": "2021-02-15T19:09:27.569335Z",
     "iopub.status.idle": "2021-02-15T19:09:27.591179Z",
     "shell.execute_reply": "2021-02-15T19:09:27.590473Z"
    },
    "papermill": {
     "duration": 0.064733,
     "end_time": "2021-02-15T19:09:27.591303",
     "exception": false,
     "start_time": "2021-02-15T19:09:27.526570",
     "status": "completed"
    },
    "tags": []
   },
   "outputs": [
    {
     "output_type": "execute_result",
     "data": {
      "text/plain": [
       "          area                item          element  year      unit  value\n",
       "0  Afghanistan  Ammonia, anhydrous  Import Quantity  2011    tonnes   4.49\n",
       "1  Afghanistan  Ammonia, anhydrous  Import Quantity  2014    tonnes   2.00\n",
       "2  Afghanistan  Ammonia, anhydrous  Import Quantity  2017    tonnes   2.07\n",
       "3  Afghanistan  Ammonia, anhydrous     Import Value  2011  1000 US$   2.69\n",
       "4  Afghanistan  Ammonia, anhydrous     Import Value  2014  1000 US$   1.07"
      ],
      "text/html": "<div>\n<style scoped>\n    .dataframe tbody tr th:only-of-type {\n        vertical-align: middle;\n    }\n\n    .dataframe tbody tr th {\n        vertical-align: top;\n    }\n\n    .dataframe thead th {\n        text-align: right;\n    }\n</style>\n<table border=\"1\" class=\"dataframe\">\n  <thead>\n    <tr style=\"text-align: right;\">\n      <th></th>\n      <th>area</th>\n      <th>item</th>\n      <th>element</th>\n      <th>year</th>\n      <th>unit</th>\n      <th>value</th>\n    </tr>\n  </thead>\n  <tbody>\n    <tr>\n      <th>0</th>\n      <td>Afghanistan</td>\n      <td>Ammonia, anhydrous</td>\n      <td>Import Quantity</td>\n      <td>2011</td>\n      <td>tonnes</td>\n      <td>4.49</td>\n    </tr>\n    <tr>\n      <th>1</th>\n      <td>Afghanistan</td>\n      <td>Ammonia, anhydrous</td>\n      <td>Import Quantity</td>\n      <td>2014</td>\n      <td>tonnes</td>\n      <td>2.00</td>\n    </tr>\n    <tr>\n      <th>2</th>\n      <td>Afghanistan</td>\n      <td>Ammonia, anhydrous</td>\n      <td>Import Quantity</td>\n      <td>2017</td>\n      <td>tonnes</td>\n      <td>2.07</td>\n    </tr>\n    <tr>\n      <th>3</th>\n      <td>Afghanistan</td>\n      <td>Ammonia, anhydrous</td>\n      <td>Import Value</td>\n      <td>2011</td>\n      <td>1000 US$</td>\n      <td>2.69</td>\n    </tr>\n    <tr>\n      <th>4</th>\n      <td>Afghanistan</td>\n      <td>Ammonia, anhydrous</td>\n      <td>Import Value</td>\n      <td>2014</td>\n      <td>1000 US$</td>\n      <td>1.07</td>\n    </tr>\n  </tbody>\n</table>\n</div>"
     },
     "metadata": {},
     "execution_count": 7
    }
   ],
   "source": [
    "df.drop(['area_code','item_code','element_code','year_code','flag'], axis = 1, inplace = True)\n",
    "df.head()"
   ]
  },
  {
   "cell_type": "markdown",
   "metadata": {
    "papermill": {
     "duration": 0.034971,
     "end_time": "2021-02-15T19:09:27.660116",
     "exception": false,
     "start_time": "2021-02-15T19:09:27.625145",
     "status": "completed"
    },
    "tags": []
   },
   "source": [
    "Checking for any duplicates"
   ]
  },
  {
   "cell_type": "code",
   "execution_count": 8,
   "metadata": {
    "execution": {
     "iopub.execute_input": "2021-02-15T19:09:27.741695Z",
     "iopub.status.busy": "2021-02-15T19:09:27.738676Z",
     "iopub.status.idle": "2021-02-15T19:09:27.811521Z",
     "shell.execute_reply": "2021-02-15T19:09:27.810949Z"
    },
    "papermill": {
     "duration": 0.114781,
     "end_time": "2021-02-15T19:09:27.811643",
     "exception": false,
     "start_time": "2021-02-15T19:09:27.696862",
     "status": "completed"
    },
    "tags": []
   },
   "outputs": [
    {
     "output_type": "execute_result",
     "data": {
      "text/plain": [
       "False"
      ]
     },
     "metadata": {},
     "execution_count": 8
    }
   ],
   "source": [
    "df.duplicated().any()"
   ]
  },
  {
   "cell_type": "markdown",
   "metadata": {
    "papermill": {
     "duration": 0.034136,
     "end_time": "2021-02-15T19:09:27.880456",
     "exception": false,
     "start_time": "2021-02-15T19:09:27.846320",
     "status": "completed"
    },
    "tags": []
   },
   "source": [
    "## EDA"
   ]
  },
  {
   "cell_type": "markdown",
   "metadata": {
    "papermill": {
     "duration": 0.033475,
     "end_time": "2021-02-15T19:09:27.947884",
     "exception": false,
     "start_time": "2021-02-15T19:09:27.914409",
     "status": "completed"
    },
    "tags": []
   },
   "source": [
    "### Elements in the dataset"
   ]
  },
  {
   "cell_type": "code",
   "execution_count": 9,
   "metadata": {
    "execution": {
     "iopub.execute_input": "2021-02-15T19:09:28.060176Z",
     "iopub.status.busy": "2021-02-15T19:09:28.043192Z",
     "iopub.status.idle": "2021-02-15T19:09:28.423028Z",
     "shell.execute_reply": "2021-02-15T19:09:28.421883Z"
    },
    "papermill": {
     "duration": 0.441582,
     "end_time": "2021-02-15T19:09:28.423172",
     "exception": false,
     "start_time": "2021-02-15T19:09:27.981590",
     "status": "completed"
    },
    "tags": []
   },
   "outputs": [
    {
     "output_type": "display_data",
     "data": {
      "text/plain": "<Figure size 720x360 with 1 Axes>",
      "image/svg+xml": "<?xml version=\"1.0\" encoding=\"utf-8\" standalone=\"no\"?>\r\n<!DOCTYPE svg PUBLIC \"-//W3C//DTD SVG 1.1//EN\"\r\n  \"http://www.w3.org/Graphics/SVG/1.1/DTD/svg11.dtd\">\r\n<!-- Created with matplotlib (https://matplotlib.org/) -->\r\n<svg height=\"302.345312pt\" version=\"1.1\" viewBox=\"0 0 649.978125 302.345312\" width=\"649.978125pt\" xmlns=\"http://www.w3.org/2000/svg\" xmlns:xlink=\"http://www.w3.org/1999/xlink\">\r\n <metadata>\r\n  <rdf:RDF xmlns:cc=\"http://creativecommons.org/ns#\" xmlns:dc=\"http://purl.org/dc/elements/1.1/\" xmlns:rdf=\"http://www.w3.org/1999/02/22-rdf-syntax-ns#\">\r\n   <cc:Work>\r\n    <dc:type rdf:resource=\"http://purl.org/dc/dcmitype/StillImage\"/>\r\n    <dc:date>2021-02-20T22:39:01.519486</dc:date>\r\n    <dc:format>image/svg+xml</dc:format>\r\n    <dc:creator>\r\n     <cc:Agent>\r\n      <dc:title>Matplotlib v3.3.3, https://matplotlib.org/</dc:title>\r\n     </cc:Agent>\r\n    </dc:creator>\r\n   </cc:Work>\r\n  </rdf:RDF>\r\n </metadata>\r\n <defs>\r\n  <style type=\"text/css\">*{stroke-linecap:butt;stroke-linejoin:round;}</style>\r\n </defs>\r\n <g id=\"figure_1\">\r\n  <g id=\"patch_1\">\r\n   <path d=\"M 0 302.345312 \r\nL 649.978125 302.345312 \r\nL 649.978125 0 \r\nL 0 0 \r\nz\r\n\" style=\"fill:#ffffff;\"/>\r\n  </g>\r\n  <g id=\"axes_1\">\r\n   <g id=\"patch_2\">\r\n    <path d=\"M 84.778125 279 \r\nL 642.778125 279 \r\nL 642.778125 7.2 \r\nL 84.778125 7.2 \r\nz\r\n\" style=\"fill:#eaeaf2;\"/>\r\n   </g>\r\n   <g id=\"matplotlib.axis_1\">\r\n    <g id=\"xtick_1\">\r\n     <g id=\"line2d_1\">\r\n      <path clip-path=\"url(#p3d9cb190b4)\" d=\"M 84.778125 279 \r\nL 84.778125 7.2 \r\n\" style=\"fill:none;stroke:#ffffff;stroke-linecap:round;stroke-width:0.8;\"/>\r\n     </g>\r\n     <g id=\"text_1\">\r\n      <!-- 0.00 -->\r\n      <g style=\"fill:#262626;\" transform=\"translate(75.047656 293.157812)scale(0.1 -0.1)\">\r\n       <defs>\r\n        <path d=\"M 4.15625 35.296875 \r\nQ 4.15625 48 6.765625 55.734375 \r\nQ 9.375 63.484375 14.515625 67.671875 \r\nQ 19.671875 71.875 27.484375 71.875 \r\nQ 33.25 71.875 37.59375 69.546875 \r\nQ 41.9375 67.234375 44.765625 62.859375 \r\nQ 47.609375 58.5 49.21875 52.21875 \r\nQ 50.828125 45.953125 50.828125 35.296875 \r\nQ 50.828125 22.703125 48.234375 14.96875 \r\nQ 45.65625 7.234375 40.5 3 \r\nQ 35.359375 -1.21875 27.484375 -1.21875 \r\nQ 17.140625 -1.21875 11.234375 6.203125 \r\nQ 4.15625 15.140625 4.15625 35.296875 \r\nz\r\nM 13.1875 35.296875 \r\nQ 13.1875 17.671875 17.3125 11.828125 \r\nQ 21.4375 6 27.484375 6 \r\nQ 33.546875 6 37.671875 11.859375 \r\nQ 41.796875 17.71875 41.796875 35.296875 \r\nQ 41.796875 52.984375 37.671875 58.78125 \r\nQ 33.546875 64.59375 27.390625 64.59375 \r\nQ 21.34375 64.59375 17.71875 59.46875 \r\nQ 13.1875 52.9375 13.1875 35.296875 \r\nz\r\n\" id=\"ArialMT-48\"/>\r\n        <path d=\"M 9.078125 0 \r\nL 9.078125 10.015625 \r\nL 19.09375 10.015625 \r\nL 19.09375 0 \r\nz\r\n\" id=\"ArialMT-46\"/>\r\n       </defs>\r\n       <use xlink:href=\"#ArialMT-48\"/>\r\n       <use x=\"55.615234\" xlink:href=\"#ArialMT-46\"/>\r\n       <use x=\"83.398438\" xlink:href=\"#ArialMT-48\"/>\r\n       <use x=\"139.013672\" xlink:href=\"#ArialMT-48\"/>\r\n      </g>\r\n     </g>\r\n    </g>\r\n    <g id=\"xtick_2\">\r\n     <g id=\"line2d_2\">\r\n      <path clip-path=\"url(#p3d9cb190b4)\" d=\"M 180.386205 279 \r\nL 180.386205 7.2 \r\n\" style=\"fill:none;stroke:#ffffff;stroke-linecap:round;stroke-width:0.8;\"/>\r\n     </g>\r\n     <g id=\"text_2\">\r\n      <!-- 0.05 -->\r\n      <g style=\"fill:#262626;\" transform=\"translate(170.655736 293.157812)scale(0.1 -0.1)\">\r\n       <defs>\r\n        <path d=\"M 4.15625 18.75 \r\nL 13.375 19.53125 \r\nQ 14.40625 12.796875 18.140625 9.390625 \r\nQ 21.875 6 27.15625 6 \r\nQ 33.5 6 37.890625 10.78125 \r\nQ 42.28125 15.578125 42.28125 23.484375 \r\nQ 42.28125 31 38.0625 35.34375 \r\nQ 33.84375 39.703125 27 39.703125 \r\nQ 22.75 39.703125 19.328125 37.765625 \r\nQ 15.921875 35.84375 13.96875 32.765625 \r\nL 5.71875 33.84375 \r\nL 12.640625 70.609375 \r\nL 48.25 70.609375 \r\nL 48.25 62.203125 \r\nL 19.671875 62.203125 \r\nL 15.828125 42.96875 \r\nQ 22.265625 47.46875 29.34375 47.46875 \r\nQ 38.71875 47.46875 45.15625 40.96875 \r\nQ 51.609375 34.46875 51.609375 24.265625 \r\nQ 51.609375 14.546875 45.953125 7.46875 \r\nQ 39.0625 -1.21875 27.15625 -1.21875 \r\nQ 17.390625 -1.21875 11.203125 4.25 \r\nQ 5.03125 9.71875 4.15625 18.75 \r\nz\r\n\" id=\"ArialMT-53\"/>\r\n       </defs>\r\n       <use xlink:href=\"#ArialMT-48\"/>\r\n       <use x=\"55.615234\" xlink:href=\"#ArialMT-46\"/>\r\n       <use x=\"83.398438\" xlink:href=\"#ArialMT-48\"/>\r\n       <use x=\"139.013672\" xlink:href=\"#ArialMT-53\"/>\r\n      </g>\r\n     </g>\r\n    </g>\r\n    <g id=\"xtick_3\">\r\n     <g id=\"line2d_3\">\r\n      <path clip-path=\"url(#p3d9cb190b4)\" d=\"M 275.994284 279 \r\nL 275.994284 7.2 \r\n\" style=\"fill:none;stroke:#ffffff;stroke-linecap:round;stroke-width:0.8;\"/>\r\n     </g>\r\n     <g id=\"text_3\">\r\n      <!-- 0.10 -->\r\n      <g style=\"fill:#262626;\" transform=\"translate(266.263816 293.157812)scale(0.1 -0.1)\">\r\n       <defs>\r\n        <path d=\"M 37.25 0 \r\nL 28.46875 0 \r\nL 28.46875 56 \r\nQ 25.296875 52.984375 20.140625 49.953125 \r\nQ 14.984375 46.921875 10.890625 45.40625 \r\nL 10.890625 53.90625 \r\nQ 18.265625 57.375 23.78125 62.296875 \r\nQ 29.296875 67.234375 31.59375 71.875 \r\nL 37.25 71.875 \r\nz\r\n\" id=\"ArialMT-49\"/>\r\n       </defs>\r\n       <use xlink:href=\"#ArialMT-48\"/>\r\n       <use x=\"55.615234\" xlink:href=\"#ArialMT-46\"/>\r\n       <use x=\"83.398438\" xlink:href=\"#ArialMT-49\"/>\r\n       <use x=\"139.013672\" xlink:href=\"#ArialMT-48\"/>\r\n      </g>\r\n     </g>\r\n    </g>\r\n    <g id=\"xtick_4\">\r\n     <g id=\"line2d_4\">\r\n      <path clip-path=\"url(#p3d9cb190b4)\" d=\"M 371.602364 279 \r\nL 371.602364 7.2 \r\n\" style=\"fill:none;stroke:#ffffff;stroke-linecap:round;stroke-width:0.8;\"/>\r\n     </g>\r\n     <g id=\"text_4\">\r\n      <!-- 0.15 -->\r\n      <g style=\"fill:#262626;\" transform=\"translate(361.871895 293.157812)scale(0.1 -0.1)\">\r\n       <use xlink:href=\"#ArialMT-48\"/>\r\n       <use x=\"55.615234\" xlink:href=\"#ArialMT-46\"/>\r\n       <use x=\"83.398438\" xlink:href=\"#ArialMT-49\"/>\r\n       <use x=\"139.013672\" xlink:href=\"#ArialMT-53\"/>\r\n      </g>\r\n     </g>\r\n    </g>\r\n    <g id=\"xtick_5\">\r\n     <g id=\"line2d_5\">\r\n      <path clip-path=\"url(#p3d9cb190b4)\" d=\"M 467.210444 279 \r\nL 467.210444 7.2 \r\n\" style=\"fill:none;stroke:#ffffff;stroke-linecap:round;stroke-width:0.8;\"/>\r\n     </g>\r\n     <g id=\"text_5\">\r\n      <!-- 0.20 -->\r\n      <g style=\"fill:#262626;\" transform=\"translate(457.479975 293.157812)scale(0.1 -0.1)\">\r\n       <defs>\r\n        <path d=\"M 50.34375 8.453125 \r\nL 50.34375 0 \r\nL 3.03125 0 \r\nQ 2.9375 3.171875 4.046875 6.109375 \r\nQ 5.859375 10.9375 9.828125 15.625 \r\nQ 13.8125 20.3125 21.34375 26.46875 \r\nQ 33.015625 36.03125 37.109375 41.625 \r\nQ 41.21875 47.21875 41.21875 52.203125 \r\nQ 41.21875 57.421875 37.46875 61 \r\nQ 33.734375 64.59375 27.734375 64.59375 \r\nQ 21.390625 64.59375 17.578125 60.78125 \r\nQ 13.765625 56.984375 13.71875 50.25 \r\nL 4.6875 51.171875 \r\nQ 5.609375 61.28125 11.65625 66.578125 \r\nQ 17.71875 71.875 27.9375 71.875 \r\nQ 38.234375 71.875 44.234375 66.15625 \r\nQ 50.25 60.453125 50.25 52 \r\nQ 50.25 47.703125 48.484375 43.546875 \r\nQ 46.734375 39.40625 42.65625 34.8125 \r\nQ 38.578125 30.21875 29.109375 22.21875 \r\nQ 21.1875 15.578125 18.9375 13.203125 \r\nQ 16.703125 10.84375 15.234375 8.453125 \r\nz\r\n\" id=\"ArialMT-50\"/>\r\n       </defs>\r\n       <use xlink:href=\"#ArialMT-48\"/>\r\n       <use x=\"55.615234\" xlink:href=\"#ArialMT-46\"/>\r\n       <use x=\"83.398438\" xlink:href=\"#ArialMT-50\"/>\r\n       <use x=\"139.013672\" xlink:href=\"#ArialMT-48\"/>\r\n      </g>\r\n     </g>\r\n    </g>\r\n    <g id=\"xtick_6\">\r\n     <g id=\"line2d_6\">\r\n      <path clip-path=\"url(#p3d9cb190b4)\" d=\"M 562.818523 279 \r\nL 562.818523 7.2 \r\n\" style=\"fill:none;stroke:#ffffff;stroke-linecap:round;stroke-width:0.8;\"/>\r\n     </g>\r\n     <g id=\"text_6\">\r\n      <!-- 0.25 -->\r\n      <g style=\"fill:#262626;\" transform=\"translate(553.088055 293.157812)scale(0.1 -0.1)\">\r\n       <use xlink:href=\"#ArialMT-48\"/>\r\n       <use x=\"55.615234\" xlink:href=\"#ArialMT-46\"/>\r\n       <use x=\"83.398438\" xlink:href=\"#ArialMT-50\"/>\r\n       <use x=\"139.013672\" xlink:href=\"#ArialMT-53\"/>\r\n      </g>\r\n     </g>\r\n    </g>\r\n   </g>\r\n   <g id=\"matplotlib.axis_2\">\r\n    <g id=\"ytick_1\">\r\n     <g id=\"line2d_7\">\r\n      <path clip-path=\"url(#p3d9cb190b4)\" d=\"M 84.778125 256.35 \r\nL 642.778125 256.35 \r\n\" style=\"fill:none;stroke:#ffffff;stroke-linecap:round;stroke-width:0.8;\"/>\r\n     </g>\r\n     <g id=\"text_7\">\r\n      <!-- Import Quantity -->\r\n      <g style=\"fill:#262626;\" transform=\"translate(9.423438 259.992969)scale(0.1 -0.1)\">\r\n       <defs>\r\n        <path d=\"M 9.328125 0 \r\nL 9.328125 71.578125 \r\nL 18.796875 71.578125 \r\nL 18.796875 0 \r\nz\r\n\" id=\"ArialMT-73\"/>\r\n        <path d=\"M 6.59375 0 \r\nL 6.59375 51.859375 \r\nL 14.453125 51.859375 \r\nL 14.453125 44.578125 \r\nQ 16.890625 48.390625 20.9375 50.703125 \r\nQ 25 53.03125 30.171875 53.03125 \r\nQ 35.9375 53.03125 39.625 50.640625 \r\nQ 43.3125 48.25 44.828125 43.953125 \r\nQ 50.984375 53.03125 60.84375 53.03125 \r\nQ 68.5625 53.03125 72.703125 48.75 \r\nQ 76.859375 44.484375 76.859375 35.59375 \r\nL 76.859375 0 \r\nL 68.109375 0 \r\nL 68.109375 32.671875 \r\nQ 68.109375 37.9375 67.25 40.25 \r\nQ 66.40625 42.578125 64.15625 43.984375 \r\nQ 61.921875 45.40625 58.890625 45.40625 \r\nQ 53.421875 45.40625 49.796875 41.765625 \r\nQ 46.1875 38.140625 46.1875 30.125 \r\nL 46.1875 0 \r\nL 37.40625 0 \r\nL 37.40625 33.6875 \r\nQ 37.40625 39.546875 35.25 42.46875 \r\nQ 33.109375 45.40625 28.21875 45.40625 \r\nQ 24.515625 45.40625 21.359375 43.453125 \r\nQ 18.21875 41.5 16.796875 37.734375 \r\nQ 15.375 33.984375 15.375 26.90625 \r\nL 15.375 0 \r\nz\r\n\" id=\"ArialMT-109\"/>\r\n        <path d=\"M 6.59375 -19.875 \r\nL 6.59375 51.859375 \r\nL 14.59375 51.859375 \r\nL 14.59375 45.125 \r\nQ 17.4375 49.078125 21 51.046875 \r\nQ 24.5625 53.03125 29.640625 53.03125 \r\nQ 36.28125 53.03125 41.359375 49.609375 \r\nQ 46.4375 46.1875 49.015625 39.953125 \r\nQ 51.609375 33.734375 51.609375 26.3125 \r\nQ 51.609375 18.359375 48.75 11.984375 \r\nQ 45.90625 5.609375 40.453125 2.21875 \r\nQ 35.015625 -1.171875 29 -1.171875 \r\nQ 24.609375 -1.171875 21.109375 0.6875 \r\nQ 17.625 2.546875 15.375 5.375 \r\nL 15.375 -19.875 \r\nz\r\nM 14.546875 25.640625 \r\nQ 14.546875 15.625 18.59375 10.84375 \r\nQ 22.65625 6.0625 28.421875 6.0625 \r\nQ 34.28125 6.0625 38.453125 11.015625 \r\nQ 42.625 15.96875 42.625 26.375 \r\nQ 42.625 36.28125 38.546875 41.203125 \r\nQ 34.46875 46.140625 28.8125 46.140625 \r\nQ 23.1875 46.140625 18.859375 40.890625 \r\nQ 14.546875 35.640625 14.546875 25.640625 \r\nz\r\n\" id=\"ArialMT-112\"/>\r\n        <path d=\"M 3.328125 25.921875 \r\nQ 3.328125 40.328125 11.328125 47.265625 \r\nQ 18.015625 53.03125 27.640625 53.03125 \r\nQ 38.328125 53.03125 45.109375 46.015625 \r\nQ 51.90625 39.015625 51.90625 26.65625 \r\nQ 51.90625 16.65625 48.90625 10.90625 \r\nQ 45.90625 5.171875 40.15625 2 \r\nQ 34.421875 -1.171875 27.640625 -1.171875 \r\nQ 16.75 -1.171875 10.03125 5.8125 \r\nQ 3.328125 12.796875 3.328125 25.921875 \r\nz\r\nM 12.359375 25.921875 \r\nQ 12.359375 15.96875 16.703125 11.015625 \r\nQ 21.046875 6.0625 27.640625 6.0625 \r\nQ 34.1875 6.0625 38.53125 11.03125 \r\nQ 42.875 16.015625 42.875 26.21875 \r\nQ 42.875 35.84375 38.5 40.796875 \r\nQ 34.125 45.75 27.640625 45.75 \r\nQ 21.046875 45.75 16.703125 40.8125 \r\nQ 12.359375 35.890625 12.359375 25.921875 \r\nz\r\n\" id=\"ArialMT-111\"/>\r\n        <path d=\"M 6.5 0 \r\nL 6.5 51.859375 \r\nL 14.40625 51.859375 \r\nL 14.40625 44 \r\nQ 17.4375 49.515625 20 51.265625 \r\nQ 22.5625 53.03125 25.640625 53.03125 \r\nQ 30.078125 53.03125 34.671875 50.203125 \r\nL 31.640625 42.046875 \r\nQ 28.421875 43.953125 25.203125 43.953125 \r\nQ 22.3125 43.953125 20.015625 42.21875 \r\nQ 17.71875 40.484375 16.75 37.40625 \r\nQ 15.28125 32.71875 15.28125 27.15625 \r\nL 15.28125 0 \r\nz\r\n\" id=\"ArialMT-114\"/>\r\n        <path d=\"M 25.78125 7.859375 \r\nL 27.046875 0.09375 \r\nQ 23.34375 -0.6875 20.40625 -0.6875 \r\nQ 15.625 -0.6875 12.984375 0.828125 \r\nQ 10.359375 2.34375 9.28125 4.8125 \r\nQ 8.203125 7.28125 8.203125 15.1875 \r\nL 8.203125 45.015625 \r\nL 1.765625 45.015625 \r\nL 1.765625 51.859375 \r\nL 8.203125 51.859375 \r\nL 8.203125 64.703125 \r\nL 16.9375 69.96875 \r\nL 16.9375 51.859375 \r\nL 25.78125 51.859375 \r\nL 25.78125 45.015625 \r\nL 16.9375 45.015625 \r\nL 16.9375 14.703125 \r\nQ 16.9375 10.9375 17.40625 9.859375 \r\nQ 17.875 8.796875 18.921875 8.15625 \r\nQ 19.96875 7.515625 21.921875 7.515625 \r\nQ 23.390625 7.515625 25.78125 7.859375 \r\nz\r\n\" id=\"ArialMT-116\"/>\r\n        <path id=\"ArialMT-32\"/>\r\n        <path d=\"M 61.96875 7.671875 \r\nQ 68.5625 3.125 74.125 1.03125 \r\nL 71.34375 -5.5625 \r\nQ 63.625 -2.78125 55.953125 3.21875 \r\nQ 48 -1.21875 38.375 -1.21875 \r\nQ 28.65625 -1.21875 20.75 3.46875 \r\nQ 12.84375 8.15625 8.5625 16.640625 \r\nQ 4.296875 25.140625 4.296875 35.796875 \r\nQ 4.296875 46.390625 8.59375 55.078125 \r\nQ 12.890625 63.765625 20.828125 68.3125 \r\nQ 28.765625 72.859375 38.578125 72.859375 \r\nQ 48.484375 72.859375 56.4375 68.140625 \r\nQ 64.40625 63.421875 68.578125 54.953125 \r\nQ 72.75 46.484375 72.75 35.84375 \r\nQ 72.75 27 70.0625 19.9375 \r\nQ 67.390625 12.890625 61.96875 7.671875 \r\nz\r\nM 41.109375 19.78125 \r\nQ 49.3125 17.484375 54.640625 12.9375 \r\nQ 62.984375 20.5625 62.984375 35.84375 \r\nQ 62.984375 44.53125 60.03125 51.015625 \r\nQ 57.078125 57.515625 51.390625 61.109375 \r\nQ 45.703125 64.703125 38.625 64.703125 \r\nQ 28.03125 64.703125 21.046875 57.453125 \r\nQ 14.0625 50.203125 14.0625 35.796875 \r\nQ 14.0625 21.828125 20.96875 14.359375 \r\nQ 27.875 6.890625 38.625 6.890625 \r\nQ 43.703125 6.890625 48.1875 8.796875 \r\nQ 43.75 11.671875 38.8125 12.890625 \r\nz\r\n\" id=\"ArialMT-81\"/>\r\n        <path d=\"M 40.578125 0 \r\nL 40.578125 7.625 \r\nQ 34.515625 -1.171875 24.125 -1.171875 \r\nQ 19.53125 -1.171875 15.546875 0.578125 \r\nQ 11.578125 2.34375 9.640625 5 \r\nQ 7.71875 7.671875 6.9375 11.53125 \r\nQ 6.390625 14.109375 6.390625 19.734375 \r\nL 6.390625 51.859375 \r\nL 15.1875 51.859375 \r\nL 15.1875 23.09375 \r\nQ 15.1875 16.21875 15.71875 13.8125 \r\nQ 16.546875 10.359375 19.234375 8.375 \r\nQ 21.921875 6.390625 25.875 6.390625 \r\nQ 29.828125 6.390625 33.296875 8.421875 \r\nQ 36.765625 10.453125 38.203125 13.9375 \r\nQ 39.65625 17.4375 39.65625 24.078125 \r\nL 39.65625 51.859375 \r\nL 48.4375 51.859375 \r\nL 48.4375 0 \r\nz\r\n\" id=\"ArialMT-117\"/>\r\n        <path d=\"M 40.4375 6.390625 \r\nQ 35.546875 2.25 31.03125 0.53125 \r\nQ 26.515625 -1.171875 21.34375 -1.171875 \r\nQ 12.796875 -1.171875 8.203125 3 \r\nQ 3.609375 7.171875 3.609375 13.671875 \r\nQ 3.609375 17.484375 5.34375 20.625 \r\nQ 7.078125 23.78125 9.890625 25.6875 \r\nQ 12.703125 27.59375 16.21875 28.5625 \r\nQ 18.796875 29.25 24.03125 29.890625 \r\nQ 34.671875 31.15625 39.703125 32.90625 \r\nQ 39.75 34.71875 39.75 35.203125 \r\nQ 39.75 40.578125 37.25 42.78125 \r\nQ 33.890625 45.75 27.25 45.75 \r\nQ 21.046875 45.75 18.09375 43.578125 \r\nQ 15.140625 41.40625 13.71875 35.890625 \r\nL 5.125 37.0625 \r\nQ 6.296875 42.578125 8.984375 45.96875 \r\nQ 11.671875 49.359375 16.75 51.1875 \r\nQ 21.828125 53.03125 28.515625 53.03125 \r\nQ 35.15625 53.03125 39.296875 51.46875 \r\nQ 43.453125 49.90625 45.40625 47.53125 \r\nQ 47.359375 45.171875 48.140625 41.546875 \r\nQ 48.578125 39.3125 48.578125 33.453125 \r\nL 48.578125 21.734375 \r\nQ 48.578125 9.46875 49.140625 6.21875 \r\nQ 49.703125 2.984375 51.375 0 \r\nL 42.1875 0 \r\nQ 40.828125 2.734375 40.4375 6.390625 \r\nz\r\nM 39.703125 26.03125 \r\nQ 34.90625 24.078125 25.34375 22.703125 \r\nQ 19.921875 21.921875 17.671875 20.9375 \r\nQ 15.4375 19.96875 14.203125 18.09375 \r\nQ 12.984375 16.21875 12.984375 13.921875 \r\nQ 12.984375 10.40625 15.640625 8.0625 \r\nQ 18.3125 5.71875 23.4375 5.71875 \r\nQ 28.515625 5.71875 32.46875 7.9375 \r\nQ 36.421875 10.15625 38.28125 14.015625 \r\nQ 39.703125 17 39.703125 22.796875 \r\nz\r\n\" id=\"ArialMT-97\"/>\r\n        <path d=\"M 6.59375 0 \r\nL 6.59375 51.859375 \r\nL 14.5 51.859375 \r\nL 14.5 44.484375 \r\nQ 20.21875 53.03125 31 53.03125 \r\nQ 35.6875 53.03125 39.625 51.34375 \r\nQ 43.5625 49.65625 45.515625 46.921875 \r\nQ 47.46875 44.1875 48.25 40.4375 \r\nQ 48.734375 37.984375 48.734375 31.890625 \r\nL 48.734375 0 \r\nL 39.9375 0 \r\nL 39.9375 31.546875 \r\nQ 39.9375 36.921875 38.90625 39.578125 \r\nQ 37.890625 42.234375 35.28125 43.8125 \r\nQ 32.671875 45.40625 29.15625 45.40625 \r\nQ 23.53125 45.40625 19.453125 41.84375 \r\nQ 15.375 38.28125 15.375 28.328125 \r\nL 15.375 0 \r\nz\r\n\" id=\"ArialMT-110\"/>\r\n        <path d=\"M 6.640625 61.46875 \r\nL 6.640625 71.578125 \r\nL 15.4375 71.578125 \r\nL 15.4375 61.46875 \r\nz\r\nM 6.640625 0 \r\nL 6.640625 51.859375 \r\nL 15.4375 51.859375 \r\nL 15.4375 0 \r\nz\r\n\" id=\"ArialMT-105\"/>\r\n        <path d=\"M 6.203125 -19.96875 \r\nL 5.21875 -11.71875 \r\nQ 8.109375 -12.5 10.25 -12.5 \r\nQ 13.1875 -12.5 14.9375 -11.515625 \r\nQ 16.703125 -10.546875 17.828125 -8.796875 \r\nQ 18.65625 -7.46875 20.515625 -2.25 \r\nQ 20.75 -1.515625 21.296875 -0.09375 \r\nL 1.609375 51.859375 \r\nL 11.078125 51.859375 \r\nL 21.875 21.828125 \r\nQ 23.96875 16.109375 25.640625 9.8125 \r\nQ 27.15625 15.875 29.25 21.625 \r\nL 40.328125 51.859375 \r\nL 49.125 51.859375 \r\nL 29.390625 -0.875 \r\nQ 26.21875 -9.421875 24.46875 -12.640625 \r\nQ 22.125 -17 19.09375 -19.015625 \r\nQ 16.0625 -21.046875 11.859375 -21.046875 \r\nQ 9.328125 -21.046875 6.203125 -19.96875 \r\nz\r\n\" id=\"ArialMT-121\"/>\r\n       </defs>\r\n       <use xlink:href=\"#ArialMT-73\"/>\r\n       <use x=\"27.783203\" xlink:href=\"#ArialMT-109\"/>\r\n       <use x=\"111.083984\" xlink:href=\"#ArialMT-112\"/>\r\n       <use x=\"166.699219\" xlink:href=\"#ArialMT-111\"/>\r\n       <use x=\"222.314453\" xlink:href=\"#ArialMT-114\"/>\r\n       <use x=\"255.615234\" xlink:href=\"#ArialMT-116\"/>\r\n       <use x=\"283.398438\" xlink:href=\"#ArialMT-32\"/>\r\n       <use x=\"311.181641\" xlink:href=\"#ArialMT-81\"/>\r\n       <use x=\"388.964844\" xlink:href=\"#ArialMT-117\"/>\r\n       <use x=\"444.580078\" xlink:href=\"#ArialMT-97\"/>\r\n       <use x=\"500.195312\" xlink:href=\"#ArialMT-110\"/>\r\n       <use x=\"555.810547\" xlink:href=\"#ArialMT-116\"/>\r\n       <use x=\"583.59375\" xlink:href=\"#ArialMT-105\"/>\r\n       <use x=\"605.810547\" xlink:href=\"#ArialMT-116\"/>\r\n       <use x=\"633.59375\" xlink:href=\"#ArialMT-121\"/>\r\n      </g>\r\n     </g>\r\n    </g>\r\n    <g id=\"ytick_2\">\r\n     <g id=\"line2d_8\">\r\n      <path clip-path=\"url(#p3d9cb190b4)\" d=\"M 84.778125 211.05 \r\nL 642.778125 211.05 \r\n\" style=\"fill:none;stroke:#ffffff;stroke-linecap:round;stroke-width:0.8;\"/>\r\n     </g>\r\n     <g id=\"text_8\">\r\n      <!-- Import Value -->\r\n      <g style=\"fill:#262626;\" transform=\"translate(21.825 214.628906)scale(0.1 -0.1)\">\r\n       <defs>\r\n        <path d=\"M 28.171875 0 \r\nL 0.4375 71.578125 \r\nL 10.6875 71.578125 \r\nL 29.296875 19.578125 \r\nQ 31.546875 13.328125 33.0625 7.859375 \r\nQ 34.71875 13.71875 36.921875 19.578125 \r\nL 56.25 71.578125 \r\nL 65.921875 71.578125 \r\nL 37.890625 0 \r\nz\r\n\" id=\"ArialMT-86\"/>\r\n        <path d=\"M 6.390625 0 \r\nL 6.390625 71.578125 \r\nL 15.1875 71.578125 \r\nL 15.1875 0 \r\nz\r\n\" id=\"ArialMT-108\"/>\r\n        <path d=\"M 42.09375 16.703125 \r\nL 51.171875 15.578125 \r\nQ 49.03125 7.625 43.21875 3.21875 \r\nQ 37.40625 -1.171875 28.375 -1.171875 \r\nQ 17 -1.171875 10.328125 5.828125 \r\nQ 3.65625 12.84375 3.65625 25.484375 \r\nQ 3.65625 38.578125 10.390625 45.796875 \r\nQ 17.140625 53.03125 27.875 53.03125 \r\nQ 38.28125 53.03125 44.875 45.953125 \r\nQ 51.46875 38.875 51.46875 26.03125 \r\nQ 51.46875 25.25 51.421875 23.6875 \r\nL 12.75 23.6875 \r\nQ 13.234375 15.140625 17.578125 10.59375 \r\nQ 21.921875 6.0625 28.421875 6.0625 \r\nQ 33.25 6.0625 36.671875 8.59375 \r\nQ 40.09375 11.140625 42.09375 16.703125 \r\nz\r\nM 13.234375 30.90625 \r\nL 42.1875 30.90625 \r\nQ 41.609375 37.453125 38.875 40.71875 \r\nQ 34.671875 45.796875 27.984375 45.796875 \r\nQ 21.921875 45.796875 17.796875 41.75 \r\nQ 13.671875 37.703125 13.234375 30.90625 \r\nz\r\n\" id=\"ArialMT-101\"/>\r\n       </defs>\r\n       <use xlink:href=\"#ArialMT-73\"/>\r\n       <use x=\"27.783203\" xlink:href=\"#ArialMT-109\"/>\r\n       <use x=\"111.083984\" xlink:href=\"#ArialMT-112\"/>\r\n       <use x=\"166.699219\" xlink:href=\"#ArialMT-111\"/>\r\n       <use x=\"222.314453\" xlink:href=\"#ArialMT-114\"/>\r\n       <use x=\"255.615234\" xlink:href=\"#ArialMT-116\"/>\r\n       <use x=\"283.398438\" xlink:href=\"#ArialMT-32\"/>\r\n       <use x=\"311.181641\" xlink:href=\"#ArialMT-86\"/>\r\n       <use x=\"370.505859\" xlink:href=\"#ArialMT-97\"/>\r\n       <use x=\"426.121094\" xlink:href=\"#ArialMT-108\"/>\r\n       <use x=\"448.337891\" xlink:href=\"#ArialMT-117\"/>\r\n       <use x=\"503.953125\" xlink:href=\"#ArialMT-101\"/>\r\n      </g>\r\n     </g>\r\n    </g>\r\n    <g id=\"ytick_3\">\r\n     <g id=\"line2d_9\">\r\n      <path clip-path=\"url(#p3d9cb190b4)\" d=\"M 84.778125 165.75 \r\nL 642.778125 165.75 \r\n\" style=\"fill:none;stroke:#ffffff;stroke-linecap:round;stroke-width:0.8;\"/>\r\n     </g>\r\n     <g id=\"text_9\">\r\n      <!-- Export Quantity -->\r\n      <g style=\"fill:#262626;\" transform=\"translate(8.860938 169.392969)scale(0.1 -0.1)\">\r\n       <defs>\r\n        <path d=\"M 7.90625 0 \r\nL 7.90625 71.578125 \r\nL 59.671875 71.578125 \r\nL 59.671875 63.140625 \r\nL 17.390625 63.140625 \r\nL 17.390625 41.21875 \r\nL 56.984375 41.21875 \r\nL 56.984375 32.8125 \r\nL 17.390625 32.8125 \r\nL 17.390625 8.453125 \r\nL 61.328125 8.453125 \r\nL 61.328125 0 \r\nz\r\n\" id=\"ArialMT-69\"/>\r\n        <path d=\"M 0.734375 0 \r\nL 19.671875 26.953125 \r\nL 2.15625 51.859375 \r\nL 13.140625 51.859375 \r\nL 21.09375 39.703125 \r\nQ 23.34375 36.234375 24.703125 33.890625 \r\nQ 26.859375 37.109375 28.65625 39.59375 \r\nL 37.40625 51.859375 \r\nL 47.90625 51.859375 \r\nL 29.984375 27.4375 \r\nL 49.265625 0 \r\nL 38.484375 0 \r\nL 27.828125 16.109375 \r\nL 25 20.453125 \r\nL 11.375 0 \r\nz\r\n\" id=\"ArialMT-120\"/>\r\n       </defs>\r\n       <use xlink:href=\"#ArialMT-69\"/>\r\n       <use x=\"66.699219\" xlink:href=\"#ArialMT-120\"/>\r\n       <use x=\"116.699219\" xlink:href=\"#ArialMT-112\"/>\r\n       <use x=\"172.314453\" xlink:href=\"#ArialMT-111\"/>\r\n       <use x=\"227.929688\" xlink:href=\"#ArialMT-114\"/>\r\n       <use x=\"261.230469\" xlink:href=\"#ArialMT-116\"/>\r\n       <use x=\"289.013672\" xlink:href=\"#ArialMT-32\"/>\r\n       <use x=\"316.796875\" xlink:href=\"#ArialMT-81\"/>\r\n       <use x=\"394.580078\" xlink:href=\"#ArialMT-117\"/>\r\n       <use x=\"450.195312\" xlink:href=\"#ArialMT-97\"/>\r\n       <use x=\"505.810547\" xlink:href=\"#ArialMT-110\"/>\r\n       <use x=\"561.425781\" xlink:href=\"#ArialMT-116\"/>\r\n       <use x=\"589.208984\" xlink:href=\"#ArialMT-105\"/>\r\n       <use x=\"611.425781\" xlink:href=\"#ArialMT-116\"/>\r\n       <use x=\"639.208984\" xlink:href=\"#ArialMT-121\"/>\r\n      </g>\r\n     </g>\r\n    </g>\r\n    <g id=\"ytick_4\">\r\n     <g id=\"line2d_10\">\r\n      <path clip-path=\"url(#p3d9cb190b4)\" d=\"M 84.778125 120.45 \r\nL 642.778125 120.45 \r\n\" style=\"fill:none;stroke:#ffffff;stroke-linecap:round;stroke-width:0.8;\"/>\r\n     </g>\r\n     <g id=\"text_10\">\r\n      <!-- Export Value -->\r\n      <g style=\"fill:#262626;\" transform=\"translate(21.2625 124.028906)scale(0.1 -0.1)\">\r\n       <use xlink:href=\"#ArialMT-69\"/>\r\n       <use x=\"66.699219\" xlink:href=\"#ArialMT-120\"/>\r\n       <use x=\"116.699219\" xlink:href=\"#ArialMT-112\"/>\r\n       <use x=\"172.314453\" xlink:href=\"#ArialMT-111\"/>\r\n       <use x=\"227.929688\" xlink:href=\"#ArialMT-114\"/>\r\n       <use x=\"261.230469\" xlink:href=\"#ArialMT-116\"/>\r\n       <use x=\"289.013672\" xlink:href=\"#ArialMT-32\"/>\r\n       <use x=\"316.796875\" xlink:href=\"#ArialMT-86\"/>\r\n       <use x=\"376.121094\" xlink:href=\"#ArialMT-97\"/>\r\n       <use x=\"431.736328\" xlink:href=\"#ArialMT-108\"/>\r\n       <use x=\"453.953125\" xlink:href=\"#ArialMT-117\"/>\r\n       <use x=\"509.568359\" xlink:href=\"#ArialMT-101\"/>\r\n      </g>\r\n     </g>\r\n    </g>\r\n    <g id=\"ytick_5\">\r\n     <g id=\"line2d_11\">\r\n      <path clip-path=\"url(#p3d9cb190b4)\" d=\"M 84.778125 75.15 \r\nL 642.778125 75.15 \r\n\" style=\"fill:none;stroke:#ffffff;stroke-linecap:round;stroke-width:0.8;\"/>\r\n     </g>\r\n     <g id=\"text_11\">\r\n      <!-- Agricultural Use -->\r\n      <g style=\"fill:#262626;\" transform=\"translate(7.2 78.728906)scale(0.1 -0.1)\">\r\n       <defs>\r\n        <path d=\"M -0.140625 0 \r\nL 27.34375 71.578125 \r\nL 37.546875 71.578125 \r\nL 66.84375 0 \r\nL 56.0625 0 \r\nL 47.703125 21.6875 \r\nL 17.78125 21.6875 \r\nL 9.90625 0 \r\nz\r\nM 20.515625 29.390625 \r\nL 44.78125 29.390625 \r\nL 37.3125 49.21875 \r\nQ 33.890625 58.25 32.234375 64.0625 \r\nQ 30.859375 57.171875 28.375 50.390625 \r\nz\r\n\" id=\"ArialMT-65\"/>\r\n        <path d=\"M 4.984375 -4.296875 \r\nL 13.53125 -5.5625 \r\nQ 14.0625 -9.515625 16.5 -11.328125 \r\nQ 19.78125 -13.765625 25.4375 -13.765625 \r\nQ 31.546875 -13.765625 34.859375 -11.328125 \r\nQ 38.1875 -8.890625 39.359375 -4.5 \r\nQ 40.046875 -1.8125 39.984375 6.78125 \r\nQ 34.234375 0 25.640625 0 \r\nQ 14.9375 0 9.078125 7.71875 \r\nQ 3.21875 15.4375 3.21875 26.21875 \r\nQ 3.21875 33.640625 5.90625 39.90625 \r\nQ 8.59375 46.1875 13.6875 49.609375 \r\nQ 18.796875 53.03125 25.6875 53.03125 \r\nQ 34.859375 53.03125 40.828125 45.609375 \r\nL 40.828125 51.859375 \r\nL 48.921875 51.859375 \r\nL 48.921875 7.03125 \r\nQ 48.921875 -5.078125 46.453125 -10.125 \r\nQ 44 -15.1875 38.640625 -18.109375 \r\nQ 33.296875 -21.046875 25.484375 -21.046875 \r\nQ 16.21875 -21.046875 10.5 -16.875 \r\nQ 4.78125 -12.703125 4.984375 -4.296875 \r\nz\r\nM 12.25 26.859375 \r\nQ 12.25 16.65625 16.296875 11.96875 \r\nQ 20.359375 7.28125 26.46875 7.28125 \r\nQ 32.515625 7.28125 36.609375 11.9375 \r\nQ 40.71875 16.609375 40.71875 26.5625 \r\nQ 40.71875 36.078125 36.5 40.90625 \r\nQ 32.28125 45.75 26.3125 45.75 \r\nQ 20.453125 45.75 16.34375 40.984375 \r\nQ 12.25 36.234375 12.25 26.859375 \r\nz\r\n\" id=\"ArialMT-103\"/>\r\n        <path d=\"M 40.4375 19 \r\nL 49.078125 17.875 \r\nQ 47.65625 8.9375 41.8125 3.875 \r\nQ 35.984375 -1.171875 27.484375 -1.171875 \r\nQ 16.84375 -1.171875 10.375 5.78125 \r\nQ 3.90625 12.75 3.90625 25.734375 \r\nQ 3.90625 34.125 6.6875 40.421875 \r\nQ 9.46875 46.734375 15.15625 49.875 \r\nQ 20.84375 53.03125 27.546875 53.03125 \r\nQ 35.984375 53.03125 41.359375 48.75 \r\nQ 46.734375 44.484375 48.25 36.625 \r\nL 39.703125 35.296875 \r\nQ 38.484375 40.53125 35.375 43.15625 \r\nQ 32.28125 45.796875 27.875 45.796875 \r\nQ 21.234375 45.796875 17.078125 41.03125 \r\nQ 12.9375 36.28125 12.9375 25.984375 \r\nQ 12.9375 15.53125 16.9375 10.796875 \r\nQ 20.953125 6.0625 27.390625 6.0625 \r\nQ 32.5625 6.0625 36.03125 9.234375 \r\nQ 39.5 12.40625 40.4375 19 \r\nz\r\n\" id=\"ArialMT-99\"/>\r\n        <path d=\"M 54.6875 71.578125 \r\nL 64.15625 71.578125 \r\nL 64.15625 30.21875 \r\nQ 64.15625 19.4375 61.71875 13.078125 \r\nQ 59.28125 6.734375 52.90625 2.75 \r\nQ 46.53125 -1.21875 36.1875 -1.21875 \r\nQ 26.125 -1.21875 19.71875 2.25 \r\nQ 13.328125 5.71875 10.59375 12.28125 \r\nQ 7.859375 18.84375 7.859375 30.21875 \r\nL 7.859375 71.578125 \r\nL 17.328125 71.578125 \r\nL 17.328125 30.28125 \r\nQ 17.328125 20.953125 19.0625 16.53125 \r\nQ 20.796875 12.109375 25.015625 9.71875 \r\nQ 29.25 7.328125 35.359375 7.328125 \r\nQ 45.796875 7.328125 50.234375 12.0625 \r\nQ 54.6875 16.796875 54.6875 30.28125 \r\nz\r\n\" id=\"ArialMT-85\"/>\r\n        <path d=\"M 3.078125 15.484375 \r\nL 11.765625 16.84375 \r\nQ 12.5 11.625 15.84375 8.84375 \r\nQ 19.1875 6.0625 25.203125 6.0625 \r\nQ 31.25 6.0625 34.171875 8.515625 \r\nQ 37.109375 10.984375 37.109375 14.3125 \r\nQ 37.109375 17.28125 34.515625 19 \r\nQ 32.71875 20.171875 25.53125 21.96875 \r\nQ 15.875 24.421875 12.140625 26.203125 \r\nQ 8.40625 27.984375 6.46875 31.125 \r\nQ 4.546875 34.28125 4.546875 38.09375 \r\nQ 4.546875 41.546875 6.125 44.5 \r\nQ 7.71875 47.46875 10.453125 49.421875 \r\nQ 12.5 50.921875 16.03125 51.96875 \r\nQ 19.578125 53.03125 23.640625 53.03125 \r\nQ 29.734375 53.03125 34.34375 51.265625 \r\nQ 38.96875 49.515625 41.15625 46.5 \r\nQ 43.359375 43.5 44.1875 38.484375 \r\nL 35.59375 37.3125 \r\nQ 35.015625 41.3125 32.203125 43.546875 \r\nQ 29.390625 45.796875 24.265625 45.796875 \r\nQ 18.21875 45.796875 15.625 43.796875 \r\nQ 13.03125 41.796875 13.03125 39.109375 \r\nQ 13.03125 37.40625 14.109375 36.03125 \r\nQ 15.1875 34.625 17.484375 33.6875 \r\nQ 18.796875 33.203125 25.25 31.453125 \r\nQ 34.578125 28.953125 38.25 27.359375 \r\nQ 41.9375 25.78125 44.03125 22.75 \r\nQ 46.140625 19.734375 46.140625 15.234375 \r\nQ 46.140625 10.84375 43.578125 6.953125 \r\nQ 41.015625 3.078125 36.171875 0.953125 \r\nQ 31.34375 -1.171875 25.25 -1.171875 \r\nQ 15.140625 -1.171875 9.84375 3.03125 \r\nQ 4.546875 7.234375 3.078125 15.484375 \r\nz\r\n\" id=\"ArialMT-115\"/>\r\n       </defs>\r\n       <use xlink:href=\"#ArialMT-65\"/>\r\n       <use x=\"66.699219\" xlink:href=\"#ArialMT-103\"/>\r\n       <use x=\"122.314453\" xlink:href=\"#ArialMT-114\"/>\r\n       <use x=\"155.615234\" xlink:href=\"#ArialMT-105\"/>\r\n       <use x=\"177.832031\" xlink:href=\"#ArialMT-99\"/>\r\n       <use x=\"227.832031\" xlink:href=\"#ArialMT-117\"/>\r\n       <use x=\"283.447266\" xlink:href=\"#ArialMT-108\"/>\r\n       <use x=\"305.664062\" xlink:href=\"#ArialMT-116\"/>\r\n       <use x=\"333.447266\" xlink:href=\"#ArialMT-117\"/>\r\n       <use x=\"389.0625\" xlink:href=\"#ArialMT-114\"/>\r\n       <use x=\"422.363281\" xlink:href=\"#ArialMT-97\"/>\r\n       <use x=\"477.978516\" xlink:href=\"#ArialMT-108\"/>\r\n       <use x=\"500.195312\" xlink:href=\"#ArialMT-32\"/>\r\n       <use x=\"527.978516\" xlink:href=\"#ArialMT-85\"/>\r\n       <use x=\"600.195312\" xlink:href=\"#ArialMT-115\"/>\r\n       <use x=\"650.195312\" xlink:href=\"#ArialMT-101\"/>\r\n      </g>\r\n     </g>\r\n    </g>\r\n    <g id=\"ytick_6\">\r\n     <g id=\"line2d_12\">\r\n      <path clip-path=\"url(#p3d9cb190b4)\" d=\"M 84.778125 29.85 \r\nL 642.778125 29.85 \r\n\" style=\"fill:none;stroke:#ffffff;stroke-linecap:round;stroke-width:0.8;\"/>\r\n     </g>\r\n     <g id=\"text_12\">\r\n      <!-- Production -->\r\n      <g style=\"fill:#262626;\" transform=\"translate(29.973438 33.428906)scale(0.1 -0.1)\">\r\n       <defs>\r\n        <path d=\"M 7.71875 0 \r\nL 7.71875 71.578125 \r\nL 34.71875 71.578125 \r\nQ 41.84375 71.578125 45.609375 70.90625 \r\nQ 50.875 70.015625 54.4375 67.546875 \r\nQ 58.015625 65.09375 60.1875 60.640625 \r\nQ 62.359375 56.203125 62.359375 50.875 \r\nQ 62.359375 41.75 56.546875 35.421875 \r\nQ 50.734375 29.109375 35.546875 29.109375 \r\nL 17.1875 29.109375 \r\nL 17.1875 0 \r\nz\r\nM 17.1875 37.546875 \r\nL 35.6875 37.546875 \r\nQ 44.875 37.546875 48.734375 40.96875 \r\nQ 52.59375 44.390625 52.59375 50.59375 \r\nQ 52.59375 55.078125 50.3125 58.265625 \r\nQ 48.046875 61.46875 44.34375 62.5 \r\nQ 41.9375 63.140625 35.5 63.140625 \r\nL 17.1875 63.140625 \r\nz\r\n\" id=\"ArialMT-80\"/>\r\n        <path d=\"M 40.234375 0 \r\nL 40.234375 6.546875 \r\nQ 35.296875 -1.171875 25.734375 -1.171875 \r\nQ 19.53125 -1.171875 14.328125 2.25 \r\nQ 9.125 5.671875 6.265625 11.796875 \r\nQ 3.421875 17.921875 3.421875 25.875 \r\nQ 3.421875 33.640625 6 39.96875 \r\nQ 8.59375 46.296875 13.765625 49.65625 \r\nQ 18.953125 53.03125 25.34375 53.03125 \r\nQ 30.03125 53.03125 33.6875 51.046875 \r\nQ 37.359375 49.078125 39.65625 45.90625 \r\nL 39.65625 71.578125 \r\nL 48.390625 71.578125 \r\nL 48.390625 0 \r\nz\r\nM 12.453125 25.875 \r\nQ 12.453125 15.921875 16.640625 10.984375 \r\nQ 20.84375 6.0625 26.5625 6.0625 \r\nQ 32.328125 6.0625 36.34375 10.765625 \r\nQ 40.375 15.484375 40.375 25.140625 \r\nQ 40.375 35.796875 36.265625 40.765625 \r\nQ 32.171875 45.75 26.171875 45.75 \r\nQ 20.3125 45.75 16.375 40.96875 \r\nQ 12.453125 36.1875 12.453125 25.875 \r\nz\r\n\" id=\"ArialMT-100\"/>\r\n       </defs>\r\n       <use xlink:href=\"#ArialMT-80\"/>\r\n       <use x=\"66.699219\" xlink:href=\"#ArialMT-114\"/>\r\n       <use x=\"100\" xlink:href=\"#ArialMT-111\"/>\r\n       <use x=\"155.615234\" xlink:href=\"#ArialMT-100\"/>\r\n       <use x=\"211.230469\" xlink:href=\"#ArialMT-117\"/>\r\n       <use x=\"266.845703\" xlink:href=\"#ArialMT-99\"/>\r\n       <use x=\"316.845703\" xlink:href=\"#ArialMT-116\"/>\r\n       <use x=\"344.628906\" xlink:href=\"#ArialMT-105\"/>\r\n       <use x=\"366.845703\" xlink:href=\"#ArialMT-111\"/>\r\n       <use x=\"422.460938\" xlink:href=\"#ArialMT-110\"/>\r\n      </g>\r\n     </g>\r\n    </g>\r\n   </g>\r\n   <g id=\"patch_3\">\r\n    <path clip-path=\"url(#p3d9cb190b4)\" d=\"M 84.778125 267.675 \r\nL 616.206696 267.675 \r\nL 616.206696 245.025 \r\nL 84.778125 245.025 \r\nz\r\n\" style=\"fill:#1f77b4;stroke:#ffffff;stroke-linejoin:miter;\"/>\r\n   </g>\r\n   <g id=\"patch_4\">\r\n    <path clip-path=\"url(#p3d9cb190b4)\" d=\"M 84.778125 222.375 \r\nL 615.706764 222.375 \r\nL 615.706764 199.725 \r\nL 84.778125 199.725 \r\nz\r\n\" style=\"fill:#1f77b4;stroke:#ffffff;stroke-linejoin:miter;\"/>\r\n   </g>\r\n   <g id=\"patch_5\">\r\n    <path clip-path=\"url(#p3d9cb190b4)\" d=\"M 84.778125 177.075 \r\nL 380.69184 177.075 \r\nL 380.69184 154.425 \r\nL 84.778125 154.425 \r\nz\r\n\" style=\"fill:#1f77b4;stroke:#ffffff;stroke-linejoin:miter;\"/>\r\n   </g>\r\n   <g id=\"patch_6\">\r\n    <path clip-path=\"url(#p3d9cb190b4)\" d=\"M 84.778125 131.775 \r\nL 380.377929 131.775 \r\nL 380.377929 109.125 \r\nL 84.778125 109.125 \r\nz\r\n\" style=\"fill:#1f77b4;stroke:#ffffff;stroke-linejoin:miter;\"/>\r\n   </g>\r\n   <g id=\"patch_7\">\r\n    <path clip-path=\"url(#p3d9cb190b4)\" d=\"M 84.778125 86.475 \r\nL 253.685655 86.475 \r\nL 253.685655 63.825 \r\nL 84.778125 63.825 \r\nz\r\n\" style=\"fill:#1f77b4;stroke:#ffffff;stroke-linejoin:miter;\"/>\r\n   </g>\r\n   <g id=\"patch_8\">\r\n    <path clip-path=\"url(#p3d9cb190b4)\" d=\"M 84.778125 41.175 \r\nL 174.16146 41.175 \r\nL 174.16146 18.525 \r\nL 84.778125 18.525 \r\nz\r\n\" style=\"fill:#1f77b4;stroke:#ffffff;stroke-linejoin:miter;\"/>\r\n   </g>\r\n   <g id=\"patch_9\">\r\n    <path d=\"M 84.778125 279 \r\nL 84.778125 7.2 \r\n\" style=\"fill:none;stroke:#ffffff;stroke-linecap:square;stroke-linejoin:miter;stroke-width:0.8;\"/>\r\n   </g>\r\n   <g id=\"patch_10\">\r\n    <path d=\"M 642.778125 279 \r\nL 642.778125 7.2 \r\n\" style=\"fill:none;stroke:#ffffff;stroke-linecap:square;stroke-linejoin:miter;stroke-width:0.8;\"/>\r\n   </g>\r\n   <g id=\"patch_11\">\r\n    <path d=\"M 84.778125 279 \r\nL 642.778125 279 \r\n\" style=\"fill:none;stroke:#ffffff;stroke-linecap:square;stroke-linejoin:miter;stroke-width:0.8;\"/>\r\n   </g>\r\n   <g id=\"patch_12\">\r\n    <path d=\"M 84.778125 7.2 \r\nL 642.778125 7.2 \r\n\" style=\"fill:none;stroke:#ffffff;stroke-linecap:square;stroke-linejoin:miter;stroke-width:0.8;\"/>\r\n   </g>\r\n  </g>\r\n </g>\r\n <defs>\r\n  <clipPath id=\"p3d9cb190b4\">\r\n   <rect height=\"271.8\" width=\"558\" x=\"84.778125\" y=\"7.2\"/>\r\n  </clipPath>\r\n </defs>\r\n</svg>\r\n",
      "image/png": "[encoded data removed]"
     },
     "metadata": {}
    }
   ],
   "source": [
    "df[\"element\"].value_counts(normalize = True).plot(kind = \"barh\", figsize = (10,5))\n",
    "plt.show()"
   ]
  },
  {
   "cell_type": "markdown",
   "metadata": {
    "papermill": {
     "duration": 0.03461,
     "end_time": "2021-02-15T19:09:28.492777",
     "exception": false,
     "start_time": "2021-02-15T19:09:28.458167",
     "status": "completed"
    },
    "tags": []
   },
   "source": [
    "From above we can see that overall, the import quantity by countries is the most compared to what they produce, use and export."
   ]
  },
  {
   "cell_type": "markdown",
   "metadata": {
    "papermill": {
     "duration": 0.034533,
     "end_time": "2021-02-15T19:09:28.562536",
     "exception": false,
     "start_time": "2021-02-15T19:09:28.528003",
     "status": "completed"
    },
    "tags": []
   },
   "source": [
    "### Top 10 Countries with most Fertilizer used"
   ]
  },
  {
   "cell_type": "code",
   "execution_count": 10,
   "metadata": {
    "execution": {
     "iopub.execute_input": "2021-02-15T19:09:28.659573Z",
     "iopub.status.busy": "2021-02-15T19:09:28.658847Z",
     "iopub.status.idle": "2021-02-15T19:09:29.761698Z",
     "shell.execute_reply": "2021-02-15T19:09:29.761067Z"
    },
    "papermill": {
     "duration": 1.164244,
     "end_time": "2021-02-15T19:09:29.761825",
     "exception": false,
     "start_time": "2021-02-15T19:09:28.597581",
     "status": "completed"
    },
    "tags": []
   },
   "outputs": [
    {
     "output_type": "display_data",
     "data": {
      "application/vnd.plotly.v1+json": {
       "config": {
        "plotlyServerURL": "https://plot.ly"
       },
       "data": [
        {
         "alignmentgroup": "True",
         "hovertemplate": "No. of Fertilizers=%{x}<br>Countries=%{y}<extra></extra>",
         "legendgroup": "",
         "marker": {
          "color": "#636efa"
         },
         "name": "",
         "offsetgroup": "",
         "orientation": "h",
         "showlegend": false,
         "textposition": "auto",
         "type": "bar",
         "x": [
          1779,
          1626,
          1621,
          1592,
          1575,
          1566,
          1520,
          1516,
          1514,
          1512
         ],
         "xaxis": "x",
         "y": [
          "Brazil",
          "Slovenia",
          "Denmark",
          "United States of America",
          "Sweden",
          "Turkey",
          "Poland",
          "Spain",
          "India",
          "Canada"
         ],
         "yaxis": "y"
        }
       ],
       "layout": {
        "barmode": "relative",
        "legend": {
         "tracegroupgap": 0
        },
        "template": {
         "data": {
          "bar": [
           {
            "error_x": {
             "color": "#2a3f5f"
            },
            "error_y": {
             "color": "#2a3f5f"
            },
            "marker": {
             "line": {
              "color": "#E5ECF6",
              "width": 0.5
             }
            },
            "type": "bar"
           }
          ],
          "barpolar": [
           {
            "marker": {
             "line": {
              "color": "#E5ECF6",
              "width": 0.5
             }
            },
            "type": "barpolar"
           }
          ],
          "carpet": [
           {
            "aaxis": {
             "endlinecolor": "#2a3f5f",
             "gridcolor": "white",
             "linecolor": "white",
             "minorgridcolor": "white",
             "startlinecolor": "#2a3f5f"
            },
            "baxis": {
             "endlinecolor": "#2a3f5f",
             "gridcolor": "white",
             "linecolor": "white",
             "minorgridcolor": "white",
             "startlinecolor": "#2a3f5f"
            },
            "type": "carpet"
           }
          ],
          "choropleth": [
           {
            "colorbar": {
             "outlinewidth": 0,
             "ticks": ""
            },
            "type": "choropleth"
           }
          ],
          "contour": [
           {
            "colorbar": {
             "outlinewidth": 0,
             "ticks": ""
            },
            "colorscale": [
             [
              0,
              "#0d0887"
             ],
             [
              0.1111111111111111,
              "#46039f"
             ],
             [
              0.2222222222222222,
              "#7201a8"
             ],
             [
              0.3333333333333333,
              "#9c179e"
             ],
             [
              0.4444444444444444,
              "#bd3786"
             ],
             [
              0.5555555555555556,
              "#d8576b"
             ],
             [
              0.6666666666666666,
              "#ed7953"
             ],
             [
              0.7777777777777778,
              "#fb9f3a"
             ],
             [
              0.8888888888888888,
              "#fdca26"
             ],
             [
              1,
              "#f0f921"
             ]
            ],
            "type": "contour"
           }
          ],
          "contourcarpet": [
           {
            "colorbar": {
             "outlinewidth": 0,
             "ticks": ""
            },
            "type": "contourcarpet"
           }
          ],
          "heatmap": [
           {
            "colorbar": {
             "outlinewidth": 0,
             "ticks": ""
            },
            "colorscale": [
             [
              0,
              "#0d0887"
             ],
             [
              0.1111111111111111,
              "#46039f"
             ],
             [
              0.2222222222222222,
              "#7201a8"
             ],
             [
              0.3333333333333333,
              "#9c179e"
             ],
             [
              0.4444444444444444,
              "#bd3786"
             ],
             [
              0.5555555555555556,
              "#d8576b"
             ],
             [
              0.6666666666666666,
              "#ed7953"
             ],
             [
              0.7777777777777778,
              "#fb9f3a"
             ],
             [
              0.8888888888888888,
              "#fdca26"
             ],
             [
              1,
              "#f0f921"
             ]
            ],
            "type": "heatmap"
           }
          ],
          "heatmapgl": [
           {
            "colorbar": {
             "outlinewidth": 0,
             "ticks": ""
            },
            "colorscale": [
             [
              0,
              "#0d0887"
             ],
             [
              0.1111111111111111,
              "#46039f"
             ],
             [
              0.2222222222222222,
              "#7201a8"
             ],
             [
              0.3333333333333333,
              "#9c179e"
             ],
             [
              0.4444444444444444,
              "#bd3786"
             ],
             [
              0.5555555555555556,
              "#d8576b"
             ],
             [
              0.6666666666666666,
              "#ed7953"
             ],
             [
              0.7777777777777778,
              "#fb9f3a"
             ],
             [
              0.8888888888888888,
              "#fdca26"
             ],
             [
              1,
              "#f0f921"
             ]
            ],
            "type": "heatmapgl"
           }
          ],
          "histogram": [
           {
            "marker": {
             "colorbar": {
              "outlinewidth": 0,
              "ticks": ""
             }
            },
            "type": "histogram"
           }
          ],
          "histogram2d": [
           {
            "colorbar": {
             "outlinewidth": 0,
             "ticks": ""
            },
            "colorscale": [
             [
              0,
              "#0d0887"
             ],
             [
              0.1111111111111111,
              "#46039f"
             ],
             [
              0.2222222222222222,
              "#7201a8"
             ],
             [
              0.3333333333333333,
              "#9c179e"
             ],
             [
              0.4444444444444444,
              "#bd3786"
             ],
             [
              0.5555555555555556,
              "#d8576b"
             ],
             [
              0.6666666666666666,
              "#ed7953"
             ],
             [
              0.7777777777777778,
              "#fb9f3a"
             ],
             [
              0.8888888888888888,
              "#fdca26"
             ],
             [
              1,
              "#f0f921"
             ]
            ],
            "type": "histogram2d"
           }
          ],
          "histogram2dcontour": [
           {
            "colorbar": {
             "outlinewidth": 0,
             "ticks": ""
            },
            "colorscale": [
             [
              0,
              "#0d0887"
             ],
             [
              0.1111111111111111,
              "#46039f"
             ],
             [
              0.2222222222222222,
              "#7201a8"
             ],
             [
              0.3333333333333333,
              "#9c179e"
             ],
             [
              0.4444444444444444,
              "#bd3786"
             ],
             [
              0.5555555555555556,
              "#d8576b"
             ],
             [
              0.6666666666666666,
              "#ed7953"
             ],
             [
              0.7777777777777778,
              "#fb9f3a"
             ],
             [
              0.8888888888888888,
              "#fdca26"
             ],
             [
              1,
              "#f0f921"
             ]
            ],
            "type": "histogram2dcontour"
           }
          ],
          "mesh3d": [
           {
            "colorbar": {
             "outlinewidth": 0,
             "ticks": ""
            },
            "type": "mesh3d"
           }
          ],
          "parcoords": [
           {
            "line": {
             "colorbar": {
              "outlinewidth": 0,
              "ticks": ""
             }
            },
            "type": "parcoords"
           }
          ],
          "pie": [
           {
            "automargin": true,
            "type": "pie"
           }
          ],
          "scatter": [
           {
            "marker": {
             "colorbar": {
              "outlinewidth": 0,
              "ticks": ""
             }
            },
            "type": "scatter"
           }
          ],
          "scatter3d": [
           {
            "line": {
             "colorbar": {
              "outlinewidth": 0,
              "ticks": ""
             }
            },
            "marker": {
             "colorbar": {
              "outlinewidth": 0,
              "ticks": ""
             }
            },
            "type": "scatter3d"
           }
          ],
          "scattercarpet": [
           {
            "marker": {
             "colorbar": {
              "outlinewidth": 0,
              "ticks": ""
             }
            },
            "type": "scattercarpet"
           }
          ],
          "scattergeo": [
           {
            "marker": {
             "colorbar": {
              "outlinewidth": 0,
              "ticks": ""
             }
            },
            "type": "scattergeo"
           }
          ],
          "scattergl": [
           {
            "marker": {
             "colorbar": {
              "outlinewidth": 0,
              "ticks": ""
             }
            },
            "type": "scattergl"
           }
          ],
          "scattermapbox": [
           {
            "marker": {
             "colorbar": {
              "outlinewidth": 0,
              "ticks": ""
             }
            },
            "type": "scattermapbox"
           }
          ],
          "scatterpolar": [
           {
            "marker": {
             "colorbar": {
              "outlinewidth": 0,
              "ticks": ""
             }
            },
            "type": "scatterpolar"
           }
          ],
          "scatterpolargl": [
           {
            "marker": {
             "colorbar": {
              "outlinewidth": 0,
              "ticks": ""
             }
            },
            "type": "scatterpolargl"
           }
          ],
          "scatterternary": [
           {
            "marker": {
             "colorbar": {
              "outlinewidth": 0,
              "ticks": ""
             }
            },
            "type": "scatterternary"
           }
          ],
          "surface": [
           {
            "colorbar": {
             "outlinewidth": 0,
             "ticks": ""
            },
            "colorscale": [
             [
              0,
              "#0d0887"
             ],
             [
              0.1111111111111111,
              "#46039f"
             ],
             [
              0.2222222222222222,
              "#7201a8"
             ],
             [
              0.3333333333333333,
              "#9c179e"
             ],
             [
              0.4444444444444444,
              "#bd3786"
             ],
             [
              0.5555555555555556,
              "#d8576b"
             ],
             [
              0.6666666666666666,
              "#ed7953"
             ],
             [
              0.7777777777777778,
              "#fb9f3a"
             ],
             [
              0.8888888888888888,
              "#fdca26"
             ],
             [
              1,
              "#f0f921"
             ]
            ],
            "type": "surface"
           }
          ],
          "table": [
           {
            "cells": {
             "fill": {
              "color": "#EBF0F8"
             },
             "line": {
              "color": "white"
             }
            },
            "header": {
             "fill": {
              "color": "#C8D4E3"
             },
             "line": {
              "color": "white"
             }
            },
            "type": "table"
           }
          ]
         },
         "layout": {
          "annotationdefaults": {
           "arrowcolor": "#2a3f5f",
           "arrowhead": 0,
           "arrowwidth": 1
          },
          "autotypenumbers": "strict",
          "coloraxis": {
           "colorbar": {
            "outlinewidth": 0,
            "ticks": ""
           }
          },
          "colorscale": {
           "diverging": [
            [
             0,
             "#8e0152"
            ],
            [
             0.1,
             "#c51b7d"
            ],
            [
             0.2,
             "#de77ae"
            ],
            [
             0.3,
             "#f1b6da"
            ],
            [
             0.4,
             "#fde0ef"
            ],
            [
             0.5,
             "#f7f7f7"
            ],
            [
             0.6,
             "#e6f5d0"
            ],
            [
             0.7,
             "#b8e186"
            ],
            [
             0.8,
             "#7fbc41"
            ],
            [
             0.9,
             "#4d9221"
            ],
            [
             1,
             "#276419"
            ]
           ],
           "sequential": [
            [
             0,
             "#0d0887"
            ],
            [
             0.1111111111111111,
             "#46039f"
            ],
            [
             0.2222222222222222,
             "#7201a8"
            ],
            [
             0.3333333333333333,
             "#9c179e"
            ],
            [
             0.4444444444444444,
             "#bd3786"
            ],
            [
             0.5555555555555556,
             "#d8576b"
            ],
            [
             0.6666666666666666,
             "#ed7953"
            ],
            [
             0.7777777777777778,
             "#fb9f3a"
            ],
            [
             0.8888888888888888,
             "#fdca26"
            ],
            [
             1,
             "#f0f921"
            ]
           ],
           "sequentialminus": [
            [
             0,
             "#0d0887"
            ],
            [
             0.1111111111111111,
             "#46039f"
            ],
            [
             0.2222222222222222,
             "#7201a8"
            ],
            [
             0.3333333333333333,
             "#9c179e"
            ],
            [
             0.4444444444444444,
             "#bd3786"
            ],
            [
             0.5555555555555556,
             "#d8576b"
            ],
            [
             0.6666666666666666,
             "#ed7953"
            ],
            [
             0.7777777777777778,
             "#fb9f3a"
            ],
            [
             0.8888888888888888,
             "#fdca26"
            ],
            [
             1,
             "#f0f921"
            ]
           ]
          },
          "colorway": [
           "#636efa",
           "#EF553B",
           "#00cc96",
           "#ab63fa",
           "#FFA15A",
           "#19d3f3",
           "#FF6692",
           "#B6E880",
           "#FF97FF",
           "#FECB52"
          ],
          "font": {
           "color": "#2a3f5f"
          },
          "geo": {
           "bgcolor": "white",
           "lakecolor": "white",
           "landcolor": "#E5ECF6",
           "showlakes": true,
           "showland": true,
           "subunitcolor": "white"
          },
          "hoverlabel": {
           "align": "left"
          },
          "hovermode": "closest",
          "mapbox": {
           "style": "light"
          },
          "paper_bgcolor": "white",
          "plot_bgcolor": "#E5ECF6",
          "polar": {
           "angularaxis": {
            "gridcolor": "white",
            "linecolor": "white",
            "ticks": ""
           },
           "bgcolor": "#E5ECF6",
           "radialaxis": {
            "gridcolor": "white",
            "linecolor": "white",
            "ticks": ""
           }
          },
          "scene": {
           "xaxis": {
            "backgroundcolor": "#E5ECF6",
            "gridcolor": "white",
            "gridwidth": 2,
            "linecolor": "white",
            "showbackground": true,
            "ticks": "",
            "zerolinecolor": "white"
           },
           "yaxis": {
            "backgroundcolor": "#E5ECF6",
            "gridcolor": "white",
            "gridwidth": 2,
            "linecolor": "white",
            "showbackground": true,
            "ticks": "",
            "zerolinecolor": "white"
           },
           "zaxis": {
            "backgroundcolor": "#E5ECF6",
            "gridcolor": "white",
            "gridwidth": 2,
            "linecolor": "white",
            "showbackground": true,
            "ticks": "",
            "zerolinecolor": "white"
           }
          },
          "shapedefaults": {
           "line": {
            "color": "#2a3f5f"
           }
          },
          "ternary": {
           "aaxis": {
            "gridcolor": "white",
            "linecolor": "white",
            "ticks": ""
           },
           "baxis": {
            "gridcolor": "white",
            "linecolor": "white",
            "ticks": ""
           },
           "bgcolor": "#E5ECF6",
           "caxis": {
            "gridcolor": "white",
            "linecolor": "white",
            "ticks": ""
           }
          },
          "title": {
           "x": 0.05
          },
          "xaxis": {
           "automargin": true,
           "gridcolor": "white",
           "linecolor": "white",
           "ticks": "",
           "title": {
            "standoff": 15
           },
           "zerolinecolor": "white",
           "zerolinewidth": 2
          },
          "yaxis": {
           "automargin": true,
           "gridcolor": "white",
           "linecolor": "white",
           "ticks": "",
           "title": {
            "standoff": 15
           },
           "zerolinecolor": "white",
           "zerolinewidth": 2
          }
         }
        },
        "title": {
         "text": "Top 10 Countries with Most Fertilizers used"
        },
        "xaxis": {
         "anchor": "y",
         "domain": [
          0,
          1
         ],
         "title": {
          "text": "No. of Fertilizers"
         }
        },
        "yaxis": {
         "anchor": "x",
         "domain": [
          0,
          1
         ],
         "title": {
          "text": "Countries"
         }
        }
       }
      }
     },
     "metadata": {}
    }
   ],
   "source": [
    "df1 = df.area.value_counts().head(10).reset_index()\n",
    "df1 = df1.rename(columns = {'index':'Countries','area':'No. of Fertilizers'})\n",
    "fig = px.bar(df1, x = 'No. of Fertilizers', y= 'Countries', orientation='h', title = 'Top 10 Countries with Most Fertilizers used')\n",
    "fig.show()"
   ]
  },
  {
   "cell_type": "markdown",
   "metadata": {
    "papermill": {
     "duration": 0.036647,
     "end_time": "2021-02-15T19:09:29.835520",
     "exception": false,
     "start_time": "2021-02-15T19:09:29.798873",
     "status": "completed"
    },
    "tags": []
   },
   "source": [
    "We can see the Top 10 countries above that deal with fertilizers i.e. either producing, exporting, importing or using them. India is the Top 9th Country to do so.\n",
    "\n",
    "Will look at each use for top 10 countries in detail."
   ]
  },
  {
   "cell_type": "markdown",
   "metadata": {
    "papermill": {
     "duration": 0.035701,
     "end_time": "2021-02-15T19:09:29.908434",
     "exception": false,
     "start_time": "2021-02-15T19:09:29.872733",
     "status": "completed"
    },
    "tags": []
   },
   "source": [
    "### Top 10 Countries - Export"
   ]
  },
  {
   "cell_type": "code",
   "execution_count": 11,
   "metadata": {
    "execution": {
     "iopub.execute_input": "2021-02-15T19:09:30.013142Z",
     "iopub.status.busy": "2021-02-15T19:09:30.012383Z",
     "iopub.status.idle": "2021-02-15T19:09:30.084199Z",
     "shell.execute_reply": "2021-02-15T19:09:30.083653Z"
    },
    "papermill": {
     "duration": 0.13905,
     "end_time": "2021-02-15T19:09:30.084328",
     "exception": false,
     "start_time": "2021-02-15T19:09:29.945278",
     "status": "completed"
    },
    "tags": []
   },
   "outputs": [
    {
     "output_type": "display_data",
     "data": {
      "application/vnd.plotly.v1+json": {
       "config": {
        "plotlyServerURL": "https://plot.ly"
       },
       "data": [
        {
         "alignmentgroup": "True",
         "hovertemplate": "No. of Fertilizers=%{x}<br>Countries=%{y}<extra></extra>",
         "legendgroup": "",
         "marker": {
          "color": "#636efa"
         },
         "name": "",
         "offsetgroup": "",
         "orientation": "h",
         "showlegend": false,
         "textposition": "auto",
         "type": "bar",
         "x": [
          337,
          337,
          337,
          337,
          336,
          335,
          335,
          332,
          331,
          330
         ],
         "xaxis": "x",
         "y": [
          "Spain",
          "Netherlands",
          "South Africa",
          "United States of America",
          "Russian Federation",
          "United Kingdom",
          "Canada",
          "China, mainland",
          "Czechia",
          "Australia"
         ],
         "yaxis": "y"
        }
       ],
       "layout": {
        "barmode": "relative",
        "legend": {
         "tracegroupgap": 0
        },
        "template": {
         "data": {
          "bar": [
           {
            "error_x": {
             "color": "#2a3f5f"
            },
            "error_y": {
             "color": "#2a3f5f"
            },
            "marker": {
             "line": {
              "color": "#E5ECF6",
              "width": 0.5
             }
            },
            "type": "bar"
           }
          ],
          "barpolar": [
           {
            "marker": {
             "line": {
              "color": "#E5ECF6",
              "width": 0.5
             }
            },
            "type": "barpolar"
           }
          ],
          "carpet": [
           {
            "aaxis": {
             "endlinecolor": "#2a3f5f",
             "gridcolor": "white",
             "linecolor": "white",
             "minorgridcolor": "white",
             "startlinecolor": "#2a3f5f"
            },
            "baxis": {
             "endlinecolor": "#2a3f5f",
             "gridcolor": "white",
             "linecolor": "white",
             "minorgridcolor": "white",
             "startlinecolor": "#2a3f5f"
            },
            "type": "carpet"
           }
          ],
          "choropleth": [
           {
            "colorbar": {
             "outlinewidth": 0,
             "ticks": ""
            },
            "type": "choropleth"
           }
          ],
          "contour": [
           {
            "colorbar": {
             "outlinewidth": 0,
             "ticks": ""
            },
            "colorscale": [
             [
              0,
              "#0d0887"
             ],
             [
              0.1111111111111111,
              "#46039f"
             ],
             [
              0.2222222222222222,
              "#7201a8"
             ],
             [
              0.3333333333333333,
              "#9c179e"
             ],
             [
              0.4444444444444444,
              "#bd3786"
             ],
             [
              0.5555555555555556,
              "#d8576b"
             ],
             [
              0.6666666666666666,
              "#ed7953"
             ],
             [
              0.7777777777777778,
              "#fb9f3a"
             ],
             [
              0.8888888888888888,
              "#fdca26"
             ],
             [
              1,
              "#f0f921"
             ]
            ],
            "type": "contour"
           }
          ],
          "contourcarpet": [
           {
            "colorbar": {
             "outlinewidth": 0,
             "ticks": ""
            },
            "type": "contourcarpet"
           }
          ],
          "heatmap": [
           {
            "colorbar": {
             "outlinewidth": 0,
             "ticks": ""
            },
            "colorscale": [
             [
              0,
              "#0d0887"
             ],
             [
              0.1111111111111111,
              "#46039f"
             ],
             [
              0.2222222222222222,
              "#7201a8"
             ],
             [
              0.3333333333333333,
              "#9c179e"
             ],
             [
              0.4444444444444444,
              "#bd3786"
             ],
             [
              0.5555555555555556,
              "#d8576b"
             ],
             [
              0.6666666666666666,
              "#ed7953"
             ],
             [
              0.7777777777777778,
              "#fb9f3a"
             ],
             [
              0.8888888888888888,
              "#fdca26"
             ],
             [
              1,
              "#f0f921"
             ]
            ],
            "type": "heatmap"
           }
          ],
          "heatmapgl": [
           {
            "colorbar": {
             "outlinewidth": 0,
             "ticks": ""
            },
            "colorscale": [
             [
              0,
              "#0d0887"
             ],
             [
              0.1111111111111111,
              "#46039f"
             ],
             [
              0.2222222222222222,
              "#7201a8"
             ],
             [
              0.3333333333333333,
              "#9c179e"
             ],
             [
              0.4444444444444444,
              "#bd3786"
             ],
             [
              0.5555555555555556,
              "#d8576b"
             ],
             [
              0.6666666666666666,
              "#ed7953"
             ],
             [
              0.7777777777777778,
              "#fb9f3a"
             ],
             [
              0.8888888888888888,
              "#fdca26"
             ],
             [
              1,
              "#f0f921"
             ]
            ],
            "type": "heatmapgl"
           }
          ],
          "histogram": [
           {
            "marker": {
             "colorbar": {
              "outlinewidth": 0,
              "ticks": ""
             }
            },
            "type": "histogram"
           }
          ],
          "histogram2d": [
           {
            "colorbar": {
             "outlinewidth": 0,
             "ticks": ""
            },
            "colorscale": [
             [
              0,
              "#0d0887"
             ],
             [
              0.1111111111111111,
              "#46039f"
             ],
             [
              0.2222222222222222,
              "#7201a8"
             ],
             [
              0.3333333333333333,
              "#9c179e"
             ],
             [
              0.4444444444444444,
              "#bd3786"
             ],
             [
              0.5555555555555556,
              "#d8576b"
             ],
             [
              0.6666666666666666,
              "#ed7953"
             ],
             [
              0.7777777777777778,
              "#fb9f3a"
             ],
             [
              0.8888888888888888,
              "#fdca26"
             ],
             [
              1,
              "#f0f921"
             ]
            ],
            "type": "histogram2d"
           }
          ],
          "histogram2dcontour": [
           {
            "colorbar": {
             "outlinewidth": 0,
             "ticks": ""
            },
            "colorscale": [
             [
              0,
              "#0d0887"
             ],
             [
              0.1111111111111111,
              "#46039f"
             ],
             [
              0.2222222222222222,
              "#7201a8"
             ],
             [
              0.3333333333333333,
              "#9c179e"
             ],
             [
              0.4444444444444444,
              "#bd3786"
             ],
             [
              0.5555555555555556,
              "#d8576b"
             ],
             [
              0.6666666666666666,
              "#ed7953"
             ],
             [
              0.7777777777777778,
              "#fb9f3a"
             ],
             [
              0.8888888888888888,
              "#fdca26"
             ],
             [
              1,
              "#f0f921"
             ]
            ],
            "type": "histogram2dcontour"
           }
          ],
          "mesh3d": [
           {
            "colorbar": {
             "outlinewidth": 0,
             "ticks": ""
            },
            "type": "mesh3d"
           }
          ],
          "parcoords": [
           {
            "line": {
             "colorbar": {
              "outlinewidth": 0,
              "ticks": ""
             }
            },
            "type": "parcoords"
           }
          ],
          "pie": [
           {
            "automargin": true,
            "type": "pie"
           }
          ],
          "scatter": [
           {
            "marker": {
             "colorbar": {
              "outlinewidth": 0,
              "ticks": ""
             }
            },
            "type": "scatter"
           }
          ],
          "scatter3d": [
           {
            "line": {
             "colorbar": {
              "outlinewidth": 0,
              "ticks": ""
             }
            },
            "marker": {
             "colorbar": {
              "outlinewidth": 0,
              "ticks": ""
             }
            },
            "type": "scatter3d"
           }
          ],
          "scattercarpet": [
           {
            "marker": {
             "colorbar": {
              "outlinewidth": 0,
              "ticks": ""
             }
            },
            "type": "scattercarpet"
           }
          ],
          "scattergeo": [
           {
            "marker": {
             "colorbar": {
              "outlinewidth": 0,
              "ticks": ""
             }
            },
            "type": "scattergeo"
           }
          ],
          "scattergl": [
           {
            "marker": {
             "colorbar": {
              "outlinewidth": 0,
              "ticks": ""
             }
            },
            "type": "scattergl"
           }
          ],
          "scattermapbox": [
           {
            "marker": {
             "colorbar": {
              "outlinewidth": 0,
              "ticks": ""
             }
            },
            "type": "scattermapbox"
           }
          ],
          "scatterpolar": [
           {
            "marker": {
             "colorbar": {
              "outlinewidth": 0,
              "ticks": ""
             }
            },
            "type": "scatterpolar"
           }
          ],
          "scatterpolargl": [
           {
            "marker": {
             "colorbar": {
              "outlinewidth": 0,
              "ticks": ""
             }
            },
            "type": "scatterpolargl"
           }
          ],
          "scatterternary": [
           {
            "marker": {
             "colorbar": {
              "outlinewidth": 0,
              "ticks": ""
             }
            },
            "type": "scatterternary"
           }
          ],
          "surface": [
           {
            "colorbar": {
             "outlinewidth": 0,
             "ticks": ""
            },
            "colorscale": [
             [
              0,
              "#0d0887"
             ],
             [
              0.1111111111111111,
              "#46039f"
             ],
             [
              0.2222222222222222,
              "#7201a8"
             ],
             [
              0.3333333333333333,
              "#9c179e"
             ],
             [
              0.4444444444444444,
              "#bd3786"
             ],
             [
              0.5555555555555556,
              "#d8576b"
             ],
             [
              0.6666666666666666,
              "#ed7953"
             ],
             [
              0.7777777777777778,
              "#fb9f3a"
             ],
             [
              0.8888888888888888,
              "#fdca26"
             ],
             [
              1,
              "#f0f921"
             ]
            ],
            "type": "surface"
           }
          ],
          "table": [
           {
            "cells": {
             "fill": {
              "color": "#EBF0F8"
             },
             "line": {
              "color": "white"
             }
            },
            "header": {
             "fill": {
              "color": "#C8D4E3"
             },
             "line": {
              "color": "white"
             }
            },
            "type": "table"
           }
          ]
         },
         "layout": {
          "annotationdefaults": {
           "arrowcolor": "#2a3f5f",
           "arrowhead": 0,
           "arrowwidth": 1
          },
          "autotypenumbers": "strict",
          "coloraxis": {
           "colorbar": {
            "outlinewidth": 0,
            "ticks": ""
           }
          },
          "colorscale": {
           "diverging": [
            [
             0,
             "#8e0152"
            ],
            [
             0.1,
             "#c51b7d"
            ],
            [
             0.2,
             "#de77ae"
            ],
            [
             0.3,
             "#f1b6da"
            ],
            [
             0.4,
             "#fde0ef"
            ],
            [
             0.5,
             "#f7f7f7"
            ],
            [
             0.6,
             "#e6f5d0"
            ],
            [
             0.7,
             "#b8e186"
            ],
            [
             0.8,
             "#7fbc41"
            ],
            [
             0.9,
             "#4d9221"
            ],
            [
             1,
             "#276419"
            ]
           ],
           "sequential": [
            [
             0,
             "#0d0887"
            ],
            [
             0.1111111111111111,
             "#46039f"
            ],
            [
             0.2222222222222222,
             "#7201a8"
            ],
            [
             0.3333333333333333,
             "#9c179e"
            ],
            [
             0.4444444444444444,
             "#bd3786"
            ],
            [
             0.5555555555555556,
             "#d8576b"
            ],
            [
             0.6666666666666666,
             "#ed7953"
            ],
            [
             0.7777777777777778,
             "#fb9f3a"
            ],
            [
             0.8888888888888888,
             "#fdca26"
            ],
            [
             1,
             "#f0f921"
            ]
           ],
           "sequentialminus": [
            [
             0,
             "#0d0887"
            ],
            [
             0.1111111111111111,
             "#46039f"
            ],
            [
             0.2222222222222222,
             "#7201a8"
            ],
            [
             0.3333333333333333,
             "#9c179e"
            ],
            [
             0.4444444444444444,
             "#bd3786"
            ],
            [
             0.5555555555555556,
             "#d8576b"
            ],
            [
             0.6666666666666666,
             "#ed7953"
            ],
            [
             0.7777777777777778,
             "#fb9f3a"
            ],
            [
             0.8888888888888888,
             "#fdca26"
            ],
            [
             1,
             "#f0f921"
            ]
           ]
          },
          "colorway": [
           "#636efa",
           "#EF553B",
           "#00cc96",
           "#ab63fa",
           "#FFA15A",
           "#19d3f3",
           "#FF6692",
           "#B6E880",
           "#FF97FF",
           "#FECB52"
          ],
          "font": {
           "color": "#2a3f5f"
          },
          "geo": {
           "bgcolor": "white",
           "lakecolor": "white",
           "landcolor": "#E5ECF6",
           "showlakes": true,
           "showland": true,
           "subunitcolor": "white"
          },
          "hoverlabel": {
           "align": "left"
          },
          "hovermode": "closest",
          "mapbox": {
           "style": "light"
          },
          "paper_bgcolor": "white",
          "plot_bgcolor": "#E5ECF6",
          "polar": {
           "angularaxis": {
            "gridcolor": "white",
            "linecolor": "white",
            "ticks": ""
           },
           "bgcolor": "#E5ECF6",
           "radialaxis": {
            "gridcolor": "white",
            "linecolor": "white",
            "ticks": ""
           }
          },
          "scene": {
           "xaxis": {
            "backgroundcolor": "#E5ECF6",
            "gridcolor": "white",
            "gridwidth": 2,
            "linecolor": "white",
            "showbackground": true,
            "ticks": "",
            "zerolinecolor": "white"
           },
           "yaxis": {
            "backgroundcolor": "#E5ECF6",
            "gridcolor": "white",
            "gridwidth": 2,
            "linecolor": "white",
            "showbackground": true,
            "ticks": "",
            "zerolinecolor": "white"
           },
           "zaxis": {
            "backgroundcolor": "#E5ECF6",
            "gridcolor": "white",
            "gridwidth": 2,
            "linecolor": "white",
            "showbackground": true,
            "ticks": "",
            "zerolinecolor": "white"
           }
          },
          "shapedefaults": {
           "line": {
            "color": "#2a3f5f"
           }
          },
          "ternary": {
           "aaxis": {
            "gridcolor": "white",
            "linecolor": "white",
            "ticks": ""
           },
           "baxis": {
            "gridcolor": "white",
            "linecolor": "white",
            "ticks": ""
           },
           "bgcolor": "#E5ECF6",
           "caxis": {
            "gridcolor": "white",
            "linecolor": "white",
            "ticks": ""
           }
          },
          "title": {
           "x": 0.05
          },
          "xaxis": {
           "automargin": true,
           "gridcolor": "white",
           "linecolor": "white",
           "ticks": "",
           "title": {
            "standoff": 15
           },
           "zerolinecolor": "white",
           "zerolinewidth": 2
          },
          "yaxis": {
           "automargin": true,
           "gridcolor": "white",
           "linecolor": "white",
           "ticks": "",
           "title": {
            "standoff": 15
           },
           "zerolinecolor": "white",
           "zerolinewidth": 2
          }
         }
        },
        "title": {
         "text": "Top 10 Countries with Most Fertilizers exported"
        },
        "xaxis": {
         "anchor": "y",
         "domain": [
          0,
          1
         ],
         "title": {
          "text": "No. of Fertilizers"
         }
        },
        "yaxis": {
         "anchor": "x",
         "domain": [
          0,
          1
         ],
         "title": {
          "text": "Countries"
         }
        }
       }
      }
     },
     "metadata": {}
    }
   ],
   "source": [
    "df_exp = df[df[\"element\"] == \"Export Quantity\"]\n",
    "\n",
    "df_exp = df_exp.area.value_counts().head(10).reset_index()\n",
    "df_exp = df_exp.rename(columns = {'index':'Countries','area':'No. of Fertilizers'})\n",
    "fig = px.bar(df_exp, x = 'No. of Fertilizers', y= 'Countries', orientation='h', title = 'Top 10 Countries with Most Fertilizers exported')\n",
    "fig.show()"
   ]
  },
  {
   "cell_type": "markdown",
   "metadata": {
    "papermill": {
     "duration": 0.036836,
     "end_time": "2021-02-15T19:09:30.158310",
     "exception": false,
     "start_time": "2021-02-15T19:09:30.121474",
     "status": "completed"
    },
    "tags": []
   },
   "source": [
    "India is not one of the Top 10 Countries to export fertilizers. United States of America, Spain, and Canada are in Top 10 countries to export, and they are in the top 10 countries for overall fertilizers used as well."
   ]
  },
  {
   "cell_type": "markdown",
   "metadata": {
    "papermill": {
     "duration": 0.037789,
     "end_time": "2021-02-15T19:09:30.233034",
     "exception": false,
     "start_time": "2021-02-15T19:09:30.195245",
     "status": "completed"
    },
    "tags": []
   },
   "source": [
    "### Top 10 Countries - Import"
   ]
  },
  {
   "cell_type": "code",
   "execution_count": 12,
   "metadata": {
    "execution": {
     "iopub.execute_input": "2021-02-15T19:09:30.338521Z",
     "iopub.status.busy": "2021-02-15T19:09:30.337701Z",
     "iopub.status.idle": "2021-02-15T19:09:30.412915Z",
     "shell.execute_reply": "2021-02-15T19:09:30.412343Z"
    },
    "papermill": {
     "duration": 0.143068,
     "end_time": "2021-02-15T19:09:30.413118",
     "exception": false,
     "start_time": "2021-02-15T19:09:30.270050",
     "status": "completed"
    },
    "tags": []
   },
   "outputs": [
    {
     "output_type": "display_data",
     "data": {
      "application/vnd.plotly.v1+json": {
       "config": {
        "plotlyServerURL": "https://plot.ly"
       },
       "data": [
        {
         "alignmentgroup": "True",
         "hovertemplate": "No. of Fertilizers=%{x}<br>Countries=%{y}<extra></extra>",
         "legendgroup": "",
         "marker": {
          "color": "#636efa"
         },
         "name": "",
         "offsetgroup": "",
         "orientation": "h",
         "showlegend": false,
         "textposition": "auto",
         "type": "bar",
         "x": [
          337,
          337,
          337,
          337,
          337,
          337,
          337,
          337,
          337,
          337
         ],
         "xaxis": "x",
         "y": [
          "Netherlands",
          "United States of America",
          "Germany",
          "Spain",
          "Switzerland",
          "United Kingdom",
          "Denmark",
          "Italy",
          "France",
          "Canada"
         ],
         "yaxis": "y"
        }
       ],
       "layout": {
        "barmode": "relative",
        "legend": {
         "tracegroupgap": 0
        },
        "template": {
         "data": {
          "bar": [
           {
            "error_x": {
             "color": "#2a3f5f"
            },
            "error_y": {
             "color": "#2a3f5f"
            },
            "marker": {
             "line": {
              "color": "#E5ECF6",
              "width": 0.5
             }
            },
            "type": "bar"
           }
          ],
          "barpolar": [
           {
            "marker": {
             "line": {
              "color": "#E5ECF6",
              "width": 0.5
             }
            },
            "type": "barpolar"
           }
          ],
          "carpet": [
           {
            "aaxis": {
             "endlinecolor": "#2a3f5f",
             "gridcolor": "white",
             "linecolor": "white",
             "minorgridcolor": "white",
             "startlinecolor": "#2a3f5f"
            },
            "baxis": {
             "endlinecolor": "#2a3f5f",
             "gridcolor": "white",
             "linecolor": "white",
             "minorgridcolor": "white",
             "startlinecolor": "#2a3f5f"
            },
            "type": "carpet"
           }
          ],
          "choropleth": [
           {
            "colorbar": {
             "outlinewidth": 0,
             "ticks": ""
            },
            "type": "choropleth"
           }
          ],
          "contour": [
           {
            "colorbar": {
             "outlinewidth": 0,
             "ticks": ""
            },
            "colorscale": [
             [
              0,
              "#0d0887"
             ],
             [
              0.1111111111111111,
              "#46039f"
             ],
             [
              0.2222222222222222,
              "#7201a8"
             ],
             [
              0.3333333333333333,
              "#9c179e"
             ],
             [
              0.4444444444444444,
              "#bd3786"
             ],
             [
              0.5555555555555556,
              "#d8576b"
             ],
             [
              0.6666666666666666,
              "#ed7953"
             ],
             [
              0.7777777777777778,
              "#fb9f3a"
             ],
             [
              0.8888888888888888,
              "#fdca26"
             ],
             [
              1,
              "#f0f921"
             ]
            ],
            "type": "contour"
           }
          ],
          "contourcarpet": [
           {
            "colorbar": {
             "outlinewidth": 0,
             "ticks": ""
            },
            "type": "contourcarpet"
           }
          ],
          "heatmap": [
           {
            "colorbar": {
             "outlinewidth": 0,
             "ticks": ""
            },
            "colorscale": [
             [
              0,
              "#0d0887"
             ],
             [
              0.1111111111111111,
              "#46039f"
             ],
             [
              0.2222222222222222,
              "#7201a8"
             ],
             [
              0.3333333333333333,
              "#9c179e"
             ],
             [
              0.4444444444444444,
              "#bd3786"
             ],
             [
              0.5555555555555556,
              "#d8576b"
             ],
             [
              0.6666666666666666,
              "#ed7953"
             ],
             [
              0.7777777777777778,
              "#fb9f3a"
             ],
             [
              0.8888888888888888,
              "#fdca26"
             ],
             [
              1,
              "#f0f921"
             ]
            ],
            "type": "heatmap"
           }
          ],
          "heatmapgl": [
           {
            "colorbar": {
             "outlinewidth": 0,
             "ticks": ""
            },
            "colorscale": [
             [
              0,
              "#0d0887"
             ],
             [
              0.1111111111111111,
              "#46039f"
             ],
             [
              0.2222222222222222,
              "#7201a8"
             ],
             [
              0.3333333333333333,
              "#9c179e"
             ],
             [
              0.4444444444444444,
              "#bd3786"
             ],
             [
              0.5555555555555556,
              "#d8576b"
             ],
             [
              0.6666666666666666,
              "#ed7953"
             ],
             [
              0.7777777777777778,
              "#fb9f3a"
             ],
             [
              0.8888888888888888,
              "#fdca26"
             ],
             [
              1,
              "#f0f921"
             ]
            ],
            "type": "heatmapgl"
           }
          ],
          "histogram": [
           {
            "marker": {
             "colorbar": {
              "outlinewidth": 0,
              "ticks": ""
             }
            },
            "type": "histogram"
           }
          ],
          "histogram2d": [
           {
            "colorbar": {
             "outlinewidth": 0,
             "ticks": ""
            },
            "colorscale": [
             [
              0,
              "#0d0887"
             ],
             [
              0.1111111111111111,
              "#46039f"
             ],
             [
              0.2222222222222222,
              "#7201a8"
             ],
             [
              0.3333333333333333,
              "#9c179e"
             ],
             [
              0.4444444444444444,
              "#bd3786"
             ],
             [
              0.5555555555555556,
              "#d8576b"
             ],
             [
              0.6666666666666666,
              "#ed7953"
             ],
             [
              0.7777777777777778,
              "#fb9f3a"
             ],
             [
              0.8888888888888888,
              "#fdca26"
             ],
             [
              1,
              "#f0f921"
             ]
            ],
            "type": "histogram2d"
           }
          ],
          "histogram2dcontour": [
           {
            "colorbar": {
             "outlinewidth": 0,
             "ticks": ""
            },
            "colorscale": [
             [
              0,
              "#0d0887"
             ],
             [
              0.1111111111111111,
              "#46039f"
             ],
             [
              0.2222222222222222,
              "#7201a8"
             ],
             [
              0.3333333333333333,
              "#9c179e"
             ],
             [
              0.4444444444444444,
              "#bd3786"
             ],
             [
              0.5555555555555556,
              "#d8576b"
             ],
             [
              0.6666666666666666,
              "#ed7953"
             ],
             [
              0.7777777777777778,
              "#fb9f3a"
             ],
             [
              0.8888888888888888,
              "#fdca26"
             ],
             [
              1,
              "#f0f921"
             ]
            ],
            "type": "histogram2dcontour"
           }
          ],
          "mesh3d": [
           {
            "colorbar": {
             "outlinewidth": 0,
             "ticks": ""
            },
            "type": "mesh3d"
           }
          ],
          "parcoords": [
           {
            "line": {
             "colorbar": {
              "outlinewidth": 0,
              "ticks": ""
             }
            },
            "type": "parcoords"
           }
          ],
          "pie": [
           {
            "automargin": true,
            "type": "pie"
           }
          ],
          "scatter": [
           {
            "marker": {
             "colorbar": {
              "outlinewidth": 0,
              "ticks": ""
             }
            },
            "type": "scatter"
           }
          ],
          "scatter3d": [
           {
            "line": {
             "colorbar": {
              "outlinewidth": 0,
              "ticks": ""
             }
            },
            "marker": {
             "colorbar": {
              "outlinewidth": 0,
              "ticks": ""
             }
            },
            "type": "scatter3d"
           }
          ],
          "scattercarpet": [
           {
            "marker": {
             "colorbar": {
              "outlinewidth": 0,
              "ticks": ""
             }
            },
            "type": "scattercarpet"
           }
          ],
          "scattergeo": [
           {
            "marker": {
             "colorbar": {
              "outlinewidth": 0,
              "ticks": ""
             }
            },
            "type": "scattergeo"
           }
          ],
          "scattergl": [
           {
            "marker": {
             "colorbar": {
              "outlinewidth": 0,
              "ticks": ""
             }
            },
            "type": "scattergl"
           }
          ],
          "scattermapbox": [
           {
            "marker": {
             "colorbar": {
              "outlinewidth": 0,
              "ticks": ""
             }
            },
            "type": "scattermapbox"
           }
          ],
          "scatterpolar": [
           {
            "marker": {
             "colorbar": {
              "outlinewidth": 0,
              "ticks": ""
             }
            },
            "type": "scatterpolar"
           }
          ],
          "scatterpolargl": [
           {
            "marker": {
             "colorbar": {
              "outlinewidth": 0,
              "ticks": ""
             }
            },
            "type": "scatterpolargl"
           }
          ],
          "scatterternary": [
           {
            "marker": {
             "colorbar": {
              "outlinewidth": 0,
              "ticks": ""
             }
            },
            "type": "scatterternary"
           }
          ],
          "surface": [
           {
            "colorbar": {
             "outlinewidth": 0,
             "ticks": ""
            },
            "colorscale": [
             [
              0,
              "#0d0887"
             ],
             [
              0.1111111111111111,
              "#46039f"
             ],
             [
              0.2222222222222222,
              "#7201a8"
             ],
             [
              0.3333333333333333,
              "#9c179e"
             ],
             [
              0.4444444444444444,
              "#bd3786"
             ],
             [
              0.5555555555555556,
              "#d8576b"
             ],
             [
              0.6666666666666666,
              "#ed7953"
             ],
             [
              0.7777777777777778,
              "#fb9f3a"
             ],
             [
              0.8888888888888888,
              "#fdca26"
             ],
             [
              1,
              "#f0f921"
             ]
            ],
            "type": "surface"
           }
          ],
          "table": [
           {
            "cells": {
             "fill": {
              "color": "#EBF0F8"
             },
             "line": {
              "color": "white"
             }
            },
            "header": {
             "fill": {
              "color": "#C8D4E3"
             },
             "line": {
              "color": "white"
             }
            },
            "type": "table"
           }
          ]
         },
         "layout": {
          "annotationdefaults": {
           "arrowcolor": "#2a3f5f",
           "arrowhead": 0,
           "arrowwidth": 1
          },
          "autotypenumbers": "strict",
          "coloraxis": {
           "colorbar": {
            "outlinewidth": 0,
            "ticks": ""
           }
          },
          "colorscale": {
           "diverging": [
            [
             0,
             "#8e0152"
            ],
            [
             0.1,
             "#c51b7d"
            ],
            [
             0.2,
             "#de77ae"
            ],
            [
             0.3,
             "#f1b6da"
            ],
            [
             0.4,
             "#fde0ef"
            ],
            [
             0.5,
             "#f7f7f7"
            ],
            [
             0.6,
             "#e6f5d0"
            ],
            [
             0.7,
             "#b8e186"
            ],
            [
             0.8,
             "#7fbc41"
            ],
            [
             0.9,
             "#4d9221"
            ],
            [
             1,
             "#276419"
            ]
           ],
           "sequential": [
            [
             0,
             "#0d0887"
            ],
            [
             0.1111111111111111,
             "#46039f"
            ],
            [
             0.2222222222222222,
             "#7201a8"
            ],
            [
             0.3333333333333333,
             "#9c179e"
            ],
            [
             0.4444444444444444,
             "#bd3786"
            ],
            [
             0.5555555555555556,
             "#d8576b"
            ],
            [
             0.6666666666666666,
             "#ed7953"
            ],
            [
             0.7777777777777778,
             "#fb9f3a"
            ],
            [
             0.8888888888888888,
             "#fdca26"
            ],
            [
             1,
             "#f0f921"
            ]
           ],
           "sequentialminus": [
            [
             0,
             "#0d0887"
            ],
            [
             0.1111111111111111,
             "#46039f"
            ],
            [
             0.2222222222222222,
             "#7201a8"
            ],
            [
             0.3333333333333333,
             "#9c179e"
            ],
            [
             0.4444444444444444,
             "#bd3786"
            ],
            [
             0.5555555555555556,
             "#d8576b"
            ],
            [
             0.6666666666666666,
             "#ed7953"
            ],
            [
             0.7777777777777778,
             "#fb9f3a"
            ],
            [
             0.8888888888888888,
             "#fdca26"
            ],
            [
             1,
             "#f0f921"
            ]
           ]
          },
          "colorway": [
           "#636efa",
           "#EF553B",
           "#00cc96",
           "#ab63fa",
           "#FFA15A",
           "#19d3f3",
           "#FF6692",
           "#B6E880",
           "#FF97FF",
           "#FECB52"
          ],
          "font": {
           "color": "#2a3f5f"
          },
          "geo": {
           "bgcolor": "white",
           "lakecolor": "white",
           "landcolor": "#E5ECF6",
           "showlakes": true,
           "showland": true,
           "subunitcolor": "white"
          },
          "hoverlabel": {
           "align": "left"
          },
          "hovermode": "closest",
          "mapbox": {
           "style": "light"
          },
          "paper_bgcolor": "white",
          "plot_bgcolor": "#E5ECF6",
          "polar": {
           "angularaxis": {
            "gridcolor": "white",
            "linecolor": "white",
            "ticks": ""
           },
           "bgcolor": "#E5ECF6",
           "radialaxis": {
            "gridcolor": "white",
            "linecolor": "white",
            "ticks": ""
           }
          },
          "scene": {
           "xaxis": {
            "backgroundcolor": "#E5ECF6",
            "gridcolor": "white",
            "gridwidth": 2,
            "linecolor": "white",
            "showbackground": true,
            "ticks": "",
            "zerolinecolor": "white"
           },
           "yaxis": {
            "backgroundcolor": "#E5ECF6",
            "gridcolor": "white",
            "gridwidth": 2,
            "linecolor": "white",
            "showbackground": true,
            "ticks": "",
            "zerolinecolor": "white"
           },
           "zaxis": {
            "backgroundcolor": "#E5ECF6",
            "gridcolor": "white",
            "gridwidth": 2,
            "linecolor": "white",
            "showbackground": true,
            "ticks": "",
            "zerolinecolor": "white"
           }
          },
          "shapedefaults": {
           "line": {
            "color": "#2a3f5f"
           }
          },
          "ternary": {
           "aaxis": {
            "gridcolor": "white",
            "linecolor": "white",
            "ticks": ""
           },
           "baxis": {
            "gridcolor": "white",
            "linecolor": "white",
            "ticks": ""
           },
           "bgcolor": "#E5ECF6",
           "caxis": {
            "gridcolor": "white",
            "linecolor": "white",
            "ticks": ""
           }
          },
          "title": {
           "x": 0.05
          },
          "xaxis": {
           "automargin": true,
           "gridcolor": "white",
           "linecolor": "white",
           "ticks": "",
           "title": {
            "standoff": 15
           },
           "zerolinecolor": "white",
           "zerolinewidth": 2
          },
          "yaxis": {
           "automargin": true,
           "gridcolor": "white",
           "linecolor": "white",
           "ticks": "",
           "title": {
            "standoff": 15
           },
           "zerolinecolor": "white",
           "zerolinewidth": 2
          }
         }
        },
        "title": {
         "text": "Top 10 Countries with Most Fertilizers imported"
        },
        "xaxis": {
         "anchor": "y",
         "domain": [
          0,
          1
         ],
         "title": {
          "text": "No. of Fertilizers"
         }
        },
        "yaxis": {
         "anchor": "x",
         "domain": [
          0,
          1
         ],
         "title": {
          "text": "Countries"
         }
        }
       }
      }
     },
     "metadata": {}
    }
   ],
   "source": [
    "df_imp = df[df[\"element\"] == \"Import Quantity\"]\n",
    "\n",
    "df_imp = df_imp.area.value_counts().head(10).reset_index()\n",
    "df_imp = df_imp.rename(columns = {'index':'Countries','area':'No. of Fertilizers'})\n",
    "fig = px.bar(df_imp, x = 'No. of Fertilizers', y= 'Countries', orientation='h', title = 'Top 10 Countries with Most Fertilizers imported')\n",
    "fig.show()"
   ]
  },
  {
   "cell_type": "markdown",
   "metadata": {
    "papermill": {
     "duration": 0.037576,
     "end_time": "2021-02-15T19:09:30.489738",
     "exception": false,
     "start_time": "2021-02-15T19:09:30.452162",
     "status": "completed"
    },
    "tags": []
   },
   "source": [
    "India is not one of the Top 10 Countries to import fertilizers. Denmark, Canda, United States of America, and Spain are in Top 10 countries to import, and they are in the top 10 countries for overall fertilizers used as well."
   ]
  },
  {
   "cell_type": "markdown",
   "metadata": {
    "papermill": {
     "duration": 0.037585,
     "end_time": "2021-02-15T19:09:30.565773",
     "exception": false,
     "start_time": "2021-02-15T19:09:30.528188",
     "status": "completed"
    },
    "tags": []
   },
   "source": [
    "### Top 10 Countries - Agricultural Use"
   ]
  },
  {
   "cell_type": "code",
   "execution_count": 13,
   "metadata": {
    "execution": {
     "iopub.execute_input": "2021-02-15T19:09:30.682418Z",
     "iopub.status.busy": "2021-02-15T19:09:30.674752Z",
     "iopub.status.idle": "2021-02-15T19:09:30.756044Z",
     "shell.execute_reply": "2021-02-15T19:09:30.754714Z"
    },
    "papermill": {
     "duration": 0.152538,
     "end_time": "2021-02-15T19:09:30.756247",
     "exception": false,
     "start_time": "2021-02-15T19:09:30.603709",
     "status": "completed"
    },
    "tags": []
   },
   "outputs": [
    {
     "output_type": "display_data",
     "data": {
      "application/vnd.plotly.v1+json": {
       "config": {
        "plotlyServerURL": "https://plot.ly"
       },
       "data": [
        {
         "alignmentgroup": "True",
         "hovertemplate": "No. of Fertilizers=%{x}<br>Countries=%{y}<extra></extra>",
         "legendgroup": "",
         "marker": {
          "color": "#636efa"
         },
         "name": "",
         "offsetgroup": "",
         "orientation": "h",
         "showlegend": false,
         "textposition": "auto",
         "type": "bar",
         "x": [
          286,
          271,
          252,
          243,
          234,
          231,
          226,
          224,
          208,
          186
         ],
         "xaxis": "x",
         "y": [
          "Tunisia",
          "Slovenia",
          "Brazil",
          "Cyprus",
          "Switzerland",
          "Pakistan",
          "Uruguay",
          "Ireland",
          "Sweden",
          "Iran (Islamic Republic of)"
         ],
         "yaxis": "y"
        }
       ],
       "layout": {
        "barmode": "relative",
        "legend": {
         "tracegroupgap": 0
        },
        "template": {
         "data": {
          "bar": [
           {
            "error_x": {
             "color": "#2a3f5f"
            },
            "error_y": {
             "color": "#2a3f5f"
            },
            "marker": {
             "line": {
              "color": "#E5ECF6",
              "width": 0.5
             }
            },
            "type": "bar"
           }
          ],
          "barpolar": [
           {
            "marker": {
             "line": {
              "color": "#E5ECF6",
              "width": 0.5
             }
            },
            "type": "barpolar"
           }
          ],
          "carpet": [
           {
            "aaxis": {
             "endlinecolor": "#2a3f5f",
             "gridcolor": "white",
             "linecolor": "white",
             "minorgridcolor": "white",
             "startlinecolor": "#2a3f5f"
            },
            "baxis": {
             "endlinecolor": "#2a3f5f",
             "gridcolor": "white",
             "linecolor": "white",
             "minorgridcolor": "white",
             "startlinecolor": "#2a3f5f"
            },
            "type": "carpet"
           }
          ],
          "choropleth": [
           {
            "colorbar": {
             "outlinewidth": 0,
             "ticks": ""
            },
            "type": "choropleth"
           }
          ],
          "contour": [
           {
            "colorbar": {
             "outlinewidth": 0,
             "ticks": ""
            },
            "colorscale": [
             [
              0,
              "#0d0887"
             ],
             [
              0.1111111111111111,
              "#46039f"
             ],
             [
              0.2222222222222222,
              "#7201a8"
             ],
             [
              0.3333333333333333,
              "#9c179e"
             ],
             [
              0.4444444444444444,
              "#bd3786"
             ],
             [
              0.5555555555555556,
              "#d8576b"
             ],
             [
              0.6666666666666666,
              "#ed7953"
             ],
             [
              0.7777777777777778,
              "#fb9f3a"
             ],
             [
              0.8888888888888888,
              "#fdca26"
             ],
             [
              1,
              "#f0f921"
             ]
            ],
            "type": "contour"
           }
          ],
          "contourcarpet": [
           {
            "colorbar": {
             "outlinewidth": 0,
             "ticks": ""
            },
            "type": "contourcarpet"
           }
          ],
          "heatmap": [
           {
            "colorbar": {
             "outlinewidth": 0,
             "ticks": ""
            },
            "colorscale": [
             [
              0,
              "#0d0887"
             ],
             [
              0.1111111111111111,
              "#46039f"
             ],
             [
              0.2222222222222222,
              "#7201a8"
             ],
             [
              0.3333333333333333,
              "#9c179e"
             ],
             [
              0.4444444444444444,
              "#bd3786"
             ],
             [
              0.5555555555555556,
              "#d8576b"
             ],
             [
              0.6666666666666666,
              "#ed7953"
             ],
             [
              0.7777777777777778,
              "#fb9f3a"
             ],
             [
              0.8888888888888888,
              "#fdca26"
             ],
             [
              1,
              "#f0f921"
             ]
            ],
            "type": "heatmap"
           }
          ],
          "heatmapgl": [
           {
            "colorbar": {
             "outlinewidth": 0,
             "ticks": ""
            },
            "colorscale": [
             [
              0,
              "#0d0887"
             ],
             [
              0.1111111111111111,
              "#46039f"
             ],
             [
              0.2222222222222222,
              "#7201a8"
             ],
             [
              0.3333333333333333,
              "#9c179e"
             ],
             [
              0.4444444444444444,
              "#bd3786"
             ],
             [
              0.5555555555555556,
              "#d8576b"
             ],
             [
              0.6666666666666666,
              "#ed7953"
             ],
             [
              0.7777777777777778,
              "#fb9f3a"
             ],
             [
              0.8888888888888888,
              "#fdca26"
             ],
             [
              1,
              "#f0f921"
             ]
            ],
            "type": "heatmapgl"
           }
          ],
          "histogram": [
           {
            "marker": {
             "colorbar": {
              "outlinewidth": 0,
              "ticks": ""
             }
            },
            "type": "histogram"
           }
          ],
          "histogram2d": [
           {
            "colorbar": {
             "outlinewidth": 0,
             "ticks": ""
            },
            "colorscale": [
             [
              0,
              "#0d0887"
             ],
             [
              0.1111111111111111,
              "#46039f"
             ],
             [
              0.2222222222222222,
              "#7201a8"
             ],
             [
              0.3333333333333333,
              "#9c179e"
             ],
             [
              0.4444444444444444,
              "#bd3786"
             ],
             [
              0.5555555555555556,
              "#d8576b"
             ],
             [
              0.6666666666666666,
              "#ed7953"
             ],
             [
              0.7777777777777778,
              "#fb9f3a"
             ],
             [
              0.8888888888888888,
              "#fdca26"
             ],
             [
              1,
              "#f0f921"
             ]
            ],
            "type": "histogram2d"
           }
          ],
          "histogram2dcontour": [
           {
            "colorbar": {
             "outlinewidth": 0,
             "ticks": ""
            },
            "colorscale": [
             [
              0,
              "#0d0887"
             ],
             [
              0.1111111111111111,
              "#46039f"
             ],
             [
              0.2222222222222222,
              "#7201a8"
             ],
             [
              0.3333333333333333,
              "#9c179e"
             ],
             [
              0.4444444444444444,
              "#bd3786"
             ],
             [
              0.5555555555555556,
              "#d8576b"
             ],
             [
              0.6666666666666666,
              "#ed7953"
             ],
             [
              0.7777777777777778,
              "#fb9f3a"
             ],
             [
              0.8888888888888888,
              "#fdca26"
             ],
             [
              1,
              "#f0f921"
             ]
            ],
            "type": "histogram2dcontour"
           }
          ],
          "mesh3d": [
           {
            "colorbar": {
             "outlinewidth": 0,
             "ticks": ""
            },
            "type": "mesh3d"
           }
          ],
          "parcoords": [
           {
            "line": {
             "colorbar": {
              "outlinewidth": 0,
              "ticks": ""
             }
            },
            "type": "parcoords"
           }
          ],
          "pie": [
           {
            "automargin": true,
            "type": "pie"
           }
          ],
          "scatter": [
           {
            "marker": {
             "colorbar": {
              "outlinewidth": 0,
              "ticks": ""
             }
            },
            "type": "scatter"
           }
          ],
          "scatter3d": [
           {
            "line": {
             "colorbar": {
              "outlinewidth": 0,
              "ticks": ""
             }
            },
            "marker": {
             "colorbar": {
              "outlinewidth": 0,
              "ticks": ""
             }
            },
            "type": "scatter3d"
           }
          ],
          "scattercarpet": [
           {
            "marker": {
             "colorbar": {
              "outlinewidth": 0,
              "ticks": ""
             }
            },
            "type": "scattercarpet"
           }
          ],
          "scattergeo": [
           {
            "marker": {
             "colorbar": {
              "outlinewidth": 0,
              "ticks": ""
             }
            },
            "type": "scattergeo"
           }
          ],
          "scattergl": [
           {
            "marker": {
             "colorbar": {
              "outlinewidth": 0,
              "ticks": ""
             }
            },
            "type": "scattergl"
           }
          ],
          "scattermapbox": [
           {
            "marker": {
             "colorbar": {
              "outlinewidth": 0,
              "ticks": ""
             }
            },
            "type": "scattermapbox"
           }
          ],
          "scatterpolar": [
           {
            "marker": {
             "colorbar": {
              "outlinewidth": 0,
              "ticks": ""
             }
            },
            "type": "scatterpolar"
           }
          ],
          "scatterpolargl": [
           {
            "marker": {
             "colorbar": {
              "outlinewidth": 0,
              "ticks": ""
             }
            },
            "type": "scatterpolargl"
           }
          ],
          "scatterternary": [
           {
            "marker": {
             "colorbar": {
              "outlinewidth": 0,
              "ticks": ""
             }
            },
            "type": "scatterternary"
           }
          ],
          "surface": [
           {
            "colorbar": {
             "outlinewidth": 0,
             "ticks": ""
            },
            "colorscale": [
             [
              0,
              "#0d0887"
             ],
             [
              0.1111111111111111,
              "#46039f"
             ],
             [
              0.2222222222222222,
              "#7201a8"
             ],
             [
              0.3333333333333333,
              "#9c179e"
             ],
             [
              0.4444444444444444,
              "#bd3786"
             ],
             [
              0.5555555555555556,
              "#d8576b"
             ],
             [
              0.6666666666666666,
              "#ed7953"
             ],
             [
              0.7777777777777778,
              "#fb9f3a"
             ],
             [
              0.8888888888888888,
              "#fdca26"
             ],
             [
              1,
              "#f0f921"
             ]
            ],
            "type": "surface"
           }
          ],
          "table": [
           {
            "cells": {
             "fill": {
              "color": "#EBF0F8"
             },
             "line": {
              "color": "white"
             }
            },
            "header": {
             "fill": {
              "color": "#C8D4E3"
             },
             "line": {
              "color": "white"
             }
            },
            "type": "table"
           }
          ]
         },
         "layout": {
          "annotationdefaults": {
           "arrowcolor": "#2a3f5f",
           "arrowhead": 0,
           "arrowwidth": 1
          },
          "autotypenumbers": "strict",
          "coloraxis": {
           "colorbar": {
            "outlinewidth": 0,
            "ticks": ""
           }
          },
          "colorscale": {
           "diverging": [
            [
             0,
             "#8e0152"
            ],
            [
             0.1,
             "#c51b7d"
            ],
            [
             0.2,
             "#de77ae"
            ],
            [
             0.3,
             "#f1b6da"
            ],
            [
             0.4,
             "#fde0ef"
            ],
            [
             0.5,
             "#f7f7f7"
            ],
            [
             0.6,
             "#e6f5d0"
            ],
            [
             0.7,
             "#b8e186"
            ],
            [
             0.8,
             "#7fbc41"
            ],
            [
             0.9,
             "#4d9221"
            ],
            [
             1,
             "#276419"
            ]
           ],
           "sequential": [
            [
             0,
             "#0d0887"
            ],
            [
             0.1111111111111111,
             "#46039f"
            ],
            [
             0.2222222222222222,
             "#7201a8"
            ],
            [
             0.3333333333333333,
             "#9c179e"
            ],
            [
             0.4444444444444444,
             "#bd3786"
            ],
            [
             0.5555555555555556,
             "#d8576b"
            ],
            [
             0.6666666666666666,
             "#ed7953"
            ],
            [
             0.7777777777777778,
             "#fb9f3a"
            ],
            [
             0.8888888888888888,
             "#fdca26"
            ],
            [
             1,
             "#f0f921"
            ]
           ],
           "sequentialminus": [
            [
             0,
             "#0d0887"
            ],
            [
             0.1111111111111111,
             "#46039f"
            ],
            [
             0.2222222222222222,
             "#7201a8"
            ],
            [
             0.3333333333333333,
             "#9c179e"
            ],
            [
             0.4444444444444444,
             "#bd3786"
            ],
            [
             0.5555555555555556,
             "#d8576b"
            ],
            [
             0.6666666666666666,
             "#ed7953"
            ],
            [
             0.7777777777777778,
             "#fb9f3a"
            ],
            [
             0.8888888888888888,
             "#fdca26"
            ],
            [
             1,
             "#f0f921"
            ]
           ]
          },
          "colorway": [
           "#636efa",
           "#EF553B",
           "#00cc96",
           "#ab63fa",
           "#FFA15A",
           "#19d3f3",
           "#FF6692",
           "#B6E880",
           "#FF97FF",
           "#FECB52"
          ],
          "font": {
           "color": "#2a3f5f"
          },
          "geo": {
           "bgcolor": "white",
           "lakecolor": "white",
           "landcolor": "#E5ECF6",
           "showlakes": true,
           "showland": true,
           "subunitcolor": "white"
          },
          "hoverlabel": {
           "align": "left"
          },
          "hovermode": "closest",
          "mapbox": {
           "style": "light"
          },
          "paper_bgcolor": "white",
          "plot_bgcolor": "#E5ECF6",
          "polar": {
           "angularaxis": {
            "gridcolor": "white",
            "linecolor": "white",
            "ticks": ""
           },
           "bgcolor": "#E5ECF6",
           "radialaxis": {
            "gridcolor": "white",
            "linecolor": "white",
            "ticks": ""
           }
          },
          "scene": {
           "xaxis": {
            "backgroundcolor": "#E5ECF6",
            "gridcolor": "white",
            "gridwidth": 2,
            "linecolor": "white",
            "showbackground": true,
            "ticks": "",
            "zerolinecolor": "white"
           },
           "yaxis": {
            "backgroundcolor": "#E5ECF6",
            "gridcolor": "white",
            "gridwidth": 2,
            "linecolor": "white",
            "showbackground": true,
            "ticks": "",
            "zerolinecolor": "white"
           },
           "zaxis": {
            "backgroundcolor": "#E5ECF6",
            "gridcolor": "white",
            "gridwidth": 2,
            "linecolor": "white",
            "showbackground": true,
            "ticks": "",
            "zerolinecolor": "white"
           }
          },
          "shapedefaults": {
           "line": {
            "color": "#2a3f5f"
           }
          },
          "ternary": {
           "aaxis": {
            "gridcolor": "white",
            "linecolor": "white",
            "ticks": ""
           },
           "baxis": {
            "gridcolor": "white",
            "linecolor": "white",
            "ticks": ""
           },
           "bgcolor": "#E5ECF6",
           "caxis": {
            "gridcolor": "white",
            "linecolor": "white",
            "ticks": ""
           }
          },
          "title": {
           "x": 0.05
          },
          "xaxis": {
           "automargin": true,
           "gridcolor": "white",
           "linecolor": "white",
           "ticks": "",
           "title": {
            "standoff": 15
           },
           "zerolinecolor": "white",
           "zerolinewidth": 2
          },
          "yaxis": {
           "automargin": true,
           "gridcolor": "white",
           "linecolor": "white",
           "ticks": "",
           "title": {
            "standoff": 15
           },
           "zerolinecolor": "white",
           "zerolinewidth": 2
          }
         }
        },
        "title": {
         "text": "Top 10 Countries with Most Fertilizers used agriculturally"
        },
        "xaxis": {
         "anchor": "y",
         "domain": [
          0,
          1
         ],
         "title": {
          "text": "No. of Fertilizers"
         }
        },
        "yaxis": {
         "anchor": "x",
         "domain": [
          0,
          1
         ],
         "title": {
          "text": "Countries"
         }
        }
       }
      }
     },
     "metadata": {}
    }
   ],
   "source": [
    "df_agr = df[df[\"element\"] == \"Agricultural Use\"]\n",
    "\n",
    "df_agr = df_agr.area.value_counts().head(10).reset_index()\n",
    "df_agr = df_agr.rename(columns = {'index':'Countries','area':'No. of Fertilizers'})\n",
    "fig = px.bar(df_agr, x = 'No. of Fertilizers', y= 'Countries', orientation='h', title = 'Top 10 Countries with Most Fertilizers used agriculturally')\n",
    "fig.show()"
   ]
  },
  {
   "cell_type": "markdown",
   "metadata": {
    "papermill": {
     "duration": 0.041254,
     "end_time": "2021-02-15T19:09:30.849449",
     "exception": false,
     "start_time": "2021-02-15T19:09:30.808195",
     "status": "completed"
    },
    "tags": []
   },
   "source": [
    "India is not one of the Top 10 Countries to use fertilizers agriculturally. Slovenia, Brazil, and Sweden are in Top 10 countries for agriculture use, and they are in the top 10 countries for overall fertilizers used as well."
   ]
  },
  {
   "cell_type": "markdown",
   "metadata": {
    "papermill": {
     "duration": 0.03832,
     "end_time": "2021-02-15T19:09:30.927187",
     "exception": false,
     "start_time": "2021-02-15T19:09:30.888867",
     "status": "completed"
    },
    "tags": []
   },
   "source": [
    "### Top 10 Countries - Production Use"
   ]
  },
  {
   "cell_type": "code",
   "execution_count": 14,
   "metadata": {
    "execution": {
     "iopub.execute_input": "2021-02-15T19:09:31.046527Z",
     "iopub.status.busy": "2021-02-15T19:09:31.045461Z",
     "iopub.status.idle": "2021-02-15T19:09:31.121661Z",
     "shell.execute_reply": "2021-02-15T19:09:31.120830Z"
    },
    "papermill": {
     "duration": 0.154067,
     "end_time": "2021-02-15T19:09:31.121827",
     "exception": false,
     "start_time": "2021-02-15T19:09:30.967760",
     "status": "completed"
    },
    "tags": []
   },
   "outputs": [
    {
     "output_type": "display_data",
     "data": {
      "application/vnd.plotly.v1+json": {
       "config": {
        "plotlyServerURL": "https://plot.ly"
       },
       "data": [
        {
         "alignmentgroup": "True",
         "hovertemplate": "No. of Fertilizers=%{x}<br>Countries=%{y}<extra></extra>",
         "legendgroup": "",
         "marker": {
          "color": "#636efa"
         },
         "name": "",
         "offsetgroup": "",
         "orientation": "h",
         "showlegend": false,
         "textposition": "auto",
         "type": "bar",
         "x": [
          227,
          186,
          180,
          174,
          169,
          166,
          155,
          151,
          143,
          141
         ],
         "xaxis": "x",
         "y": [
          "Brazil",
          "Luxembourg",
          "Denmark",
          "Pakistan",
          "Mauritius",
          "Cyprus",
          "Portugal",
          "Slovenia",
          "Poland",
          "Cameroon"
         ],
         "yaxis": "y"
        }
       ],
       "layout": {
        "barmode": "relative",
        "legend": {
         "tracegroupgap": 0
        },
        "template": {
         "data": {
          "bar": [
           {
            "error_x": {
             "color": "#2a3f5f"
            },
            "error_y": {
             "color": "#2a3f5f"
            },
            "marker": {
             "line": {
              "color": "#E5ECF6",
              "width": 0.5
             }
            },
            "type": "bar"
           }
          ],
          "barpolar": [
           {
            "marker": {
             "line": {
              "color": "#E5ECF6",
              "width": 0.5
             }
            },
            "type": "barpolar"
           }
          ],
          "carpet": [
           {
            "aaxis": {
             "endlinecolor": "#2a3f5f",
             "gridcolor": "white",
             "linecolor": "white",
             "minorgridcolor": "white",
             "startlinecolor": "#2a3f5f"
            },
            "baxis": {
             "endlinecolor": "#2a3f5f",
             "gridcolor": "white",
             "linecolor": "white",
             "minorgridcolor": "white",
             "startlinecolor": "#2a3f5f"
            },
            "type": "carpet"
           }
          ],
          "choropleth": [
           {
            "colorbar": {
             "outlinewidth": 0,
             "ticks": ""
            },
            "type": "choropleth"
           }
          ],
          "contour": [
           {
            "colorbar": {
             "outlinewidth": 0,
             "ticks": ""
            },
            "colorscale": [
             [
              0,
              "#0d0887"
             ],
             [
              0.1111111111111111,
              "#46039f"
             ],
             [
              0.2222222222222222,
              "#7201a8"
             ],
             [
              0.3333333333333333,
              "#9c179e"
             ],
             [
              0.4444444444444444,
              "#bd3786"
             ],
             [
              0.5555555555555556,
              "#d8576b"
             ],
             [
              0.6666666666666666,
              "#ed7953"
             ],
             [
              0.7777777777777778,
              "#fb9f3a"
             ],
             [
              0.8888888888888888,
              "#fdca26"
             ],
             [
              1,
              "#f0f921"
             ]
            ],
            "type": "contour"
           }
          ],
          "contourcarpet": [
           {
            "colorbar": {
             "outlinewidth": 0,
             "ticks": ""
            },
            "type": "contourcarpet"
           }
          ],
          "heatmap": [
           {
            "colorbar": {
             "outlinewidth": 0,
             "ticks": ""
            },
            "colorscale": [
             [
              0,
              "#0d0887"
             ],
             [
              0.1111111111111111,
              "#46039f"
             ],
             [
              0.2222222222222222,
              "#7201a8"
             ],
             [
              0.3333333333333333,
              "#9c179e"
             ],
             [
              0.4444444444444444,
              "#bd3786"
             ],
             [
              0.5555555555555556,
              "#d8576b"
             ],
             [
              0.6666666666666666,
              "#ed7953"
             ],
             [
              0.7777777777777778,
              "#fb9f3a"
             ],
             [
              0.8888888888888888,
              "#fdca26"
             ],
             [
              1,
              "#f0f921"
             ]
            ],
            "type": "heatmap"
           }
          ],
          "heatmapgl": [
           {
            "colorbar": {
             "outlinewidth": 0,
             "ticks": ""
            },
            "colorscale": [
             [
              0,
              "#0d0887"
             ],
             [
              0.1111111111111111,
              "#46039f"
             ],
             [
              0.2222222222222222,
              "#7201a8"
             ],
             [
              0.3333333333333333,
              "#9c179e"
             ],
             [
              0.4444444444444444,
              "#bd3786"
             ],
             [
              0.5555555555555556,
              "#d8576b"
             ],
             [
              0.6666666666666666,
              "#ed7953"
             ],
             [
              0.7777777777777778,
              "#fb9f3a"
             ],
             [
              0.8888888888888888,
              "#fdca26"
             ],
             [
              1,
              "#f0f921"
             ]
            ],
            "type": "heatmapgl"
           }
          ],
          "histogram": [
           {
            "marker": {
             "colorbar": {
              "outlinewidth": 0,
              "ticks": ""
             }
            },
            "type": "histogram"
           }
          ],
          "histogram2d": [
           {
            "colorbar": {
             "outlinewidth": 0,
             "ticks": ""
            },
            "colorscale": [
             [
              0,
              "#0d0887"
             ],
             [
              0.1111111111111111,
              "#46039f"
             ],
             [
              0.2222222222222222,
              "#7201a8"
             ],
             [
              0.3333333333333333,
              "#9c179e"
             ],
             [
              0.4444444444444444,
              "#bd3786"
             ],
             [
              0.5555555555555556,
              "#d8576b"
             ],
             [
              0.6666666666666666,
              "#ed7953"
             ],
             [
              0.7777777777777778,
              "#fb9f3a"
             ],
             [
              0.8888888888888888,
              "#fdca26"
             ],
             [
              1,
              "#f0f921"
             ]
            ],
            "type": "histogram2d"
           }
          ],
          "histogram2dcontour": [
           {
            "colorbar": {
             "outlinewidth": 0,
             "ticks": ""
            },
            "colorscale": [
             [
              0,
              "#0d0887"
             ],
             [
              0.1111111111111111,
              "#46039f"
             ],
             [
              0.2222222222222222,
              "#7201a8"
             ],
             [
              0.3333333333333333,
              "#9c179e"
             ],
             [
              0.4444444444444444,
              "#bd3786"
             ],
             [
              0.5555555555555556,
              "#d8576b"
             ],
             [
              0.6666666666666666,
              "#ed7953"
             ],
             [
              0.7777777777777778,
              "#fb9f3a"
             ],
             [
              0.8888888888888888,
              "#fdca26"
             ],
             [
              1,
              "#f0f921"
             ]
            ],
            "type": "histogram2dcontour"
           }
          ],
          "mesh3d": [
           {
            "colorbar": {
             "outlinewidth": 0,
             "ticks": ""
            },
            "type": "mesh3d"
           }
          ],
          "parcoords": [
           {
            "line": {
             "colorbar": {
              "outlinewidth": 0,
              "ticks": ""
             }
            },
            "type": "parcoords"
           }
          ],
          "pie": [
           {
            "automargin": true,
            "type": "pie"
           }
          ],
          "scatter": [
           {
            "marker": {
             "colorbar": {
              "outlinewidth": 0,
              "ticks": ""
             }
            },
            "type": "scatter"
           }
          ],
          "scatter3d": [
           {
            "line": {
             "colorbar": {
              "outlinewidth": 0,
              "ticks": ""
             }
            },
            "marker": {
             "colorbar": {
              "outlinewidth": 0,
              "ticks": ""
             }
            },
            "type": "scatter3d"
           }
          ],
          "scattercarpet": [
           {
            "marker": {
             "colorbar": {
              "outlinewidth": 0,
              "ticks": ""
             }
            },
            "type": "scattercarpet"
           }
          ],
          "scattergeo": [
           {
            "marker": {
             "colorbar": {
              "outlinewidth": 0,
              "ticks": ""
             }
            },
            "type": "scattergeo"
           }
          ],
          "scattergl": [
           {
            "marker": {
             "colorbar": {
              "outlinewidth": 0,
              "ticks": ""
             }
            },
            "type": "scattergl"
           }
          ],
          "scattermapbox": [
           {
            "marker": {
             "colorbar": {
              "outlinewidth": 0,
              "ticks": ""
             }
            },
            "type": "scattermapbox"
           }
          ],
          "scatterpolar": [
           {
            "marker": {
             "colorbar": {
              "outlinewidth": 0,
              "ticks": ""
             }
            },
            "type": "scatterpolar"
           }
          ],
          "scatterpolargl": [
           {
            "marker": {
             "colorbar": {
              "outlinewidth": 0,
              "ticks": ""
             }
            },
            "type": "scatterpolargl"
           }
          ],
          "scatterternary": [
           {
            "marker": {
             "colorbar": {
              "outlinewidth": 0,
              "ticks": ""
             }
            },
            "type": "scatterternary"
           }
          ],
          "surface": [
           {
            "colorbar": {
             "outlinewidth": 0,
             "ticks": ""
            },
            "colorscale": [
             [
              0,
              "#0d0887"
             ],
             [
              0.1111111111111111,
              "#46039f"
             ],
             [
              0.2222222222222222,
              "#7201a8"
             ],
             [
              0.3333333333333333,
              "#9c179e"
             ],
             [
              0.4444444444444444,
              "#bd3786"
             ],
             [
              0.5555555555555556,
              "#d8576b"
             ],
             [
              0.6666666666666666,
              "#ed7953"
             ],
             [
              0.7777777777777778,
              "#fb9f3a"
             ],
             [
              0.8888888888888888,
              "#fdca26"
             ],
             [
              1,
              "#f0f921"
             ]
            ],
            "type": "surface"
           }
          ],
          "table": [
           {
            "cells": {
             "fill": {
              "color": "#EBF0F8"
             },
             "line": {
              "color": "white"
             }
            },
            "header": {
             "fill": {
              "color": "#C8D4E3"
             },
             "line": {
              "color": "white"
             }
            },
            "type": "table"
           }
          ]
         },
         "layout": {
          "annotationdefaults": {
           "arrowcolor": "#2a3f5f",
           "arrowhead": 0,
           "arrowwidth": 1
          },
          "autotypenumbers": "strict",
          "coloraxis": {
           "colorbar": {
            "outlinewidth": 0,
            "ticks": ""
           }
          },
          "colorscale": {
           "diverging": [
            [
             0,
             "#8e0152"
            ],
            [
             0.1,
             "#c51b7d"
            ],
            [
             0.2,
             "#de77ae"
            ],
            [
             0.3,
             "#f1b6da"
            ],
            [
             0.4,
             "#fde0ef"
            ],
            [
             0.5,
             "#f7f7f7"
            ],
            [
             0.6,
             "#e6f5d0"
            ],
            [
             0.7,
             "#b8e186"
            ],
            [
             0.8,
             "#7fbc41"
            ],
            [
             0.9,
             "#4d9221"
            ],
            [
             1,
             "#276419"
            ]
           ],
           "sequential": [
            [
             0,
             "#0d0887"
            ],
            [
             0.1111111111111111,
             "#46039f"
            ],
            [
             0.2222222222222222,
             "#7201a8"
            ],
            [
             0.3333333333333333,
             "#9c179e"
            ],
            [
             0.4444444444444444,
             "#bd3786"
            ],
            [
             0.5555555555555556,
             "#d8576b"
            ],
            [
             0.6666666666666666,
             "#ed7953"
            ],
            [
             0.7777777777777778,
             "#fb9f3a"
            ],
            [
             0.8888888888888888,
             "#fdca26"
            ],
            [
             1,
             "#f0f921"
            ]
           ],
           "sequentialminus": [
            [
             0,
             "#0d0887"
            ],
            [
             0.1111111111111111,
             "#46039f"
            ],
            [
             0.2222222222222222,
             "#7201a8"
            ],
            [
             0.3333333333333333,
             "#9c179e"
            ],
            [
             0.4444444444444444,
             "#bd3786"
            ],
            [
             0.5555555555555556,
             "#d8576b"
            ],
            [
             0.6666666666666666,
             "#ed7953"
            ],
            [
             0.7777777777777778,
             "#fb9f3a"
            ],
            [
             0.8888888888888888,
             "#fdca26"
            ],
            [
             1,
             "#f0f921"
            ]
           ]
          },
          "colorway": [
           "#636efa",
           "#EF553B",
           "#00cc96",
           "#ab63fa",
           "#FFA15A",
           "#19d3f3",
           "#FF6692",
           "#B6E880",
           "#FF97FF",
           "#FECB52"
          ],
          "font": {
           "color": "#2a3f5f"
          },
          "geo": {
           "bgcolor": "white",
           "lakecolor": "white",
           "landcolor": "#E5ECF6",
           "showlakes": true,
           "showland": true,
           "subunitcolor": "white"
          },
          "hoverlabel": {
           "align": "left"
          },
          "hovermode": "closest",
          "mapbox": {
           "style": "light"
          },
          "paper_bgcolor": "white",
          "plot_bgcolor": "#E5ECF6",
          "polar": {
           "angularaxis": {
            "gridcolor": "white",
            "linecolor": "white",
            "ticks": ""
           },
           "bgcolor": "#E5ECF6",
           "radialaxis": {
            "gridcolor": "white",
            "linecolor": "white",
            "ticks": ""
           }
          },
          "scene": {
           "xaxis": {
            "backgroundcolor": "#E5ECF6",
            "gridcolor": "white",
            "gridwidth": 2,
            "linecolor": "white",
            "showbackground": true,
            "ticks": "",
            "zerolinecolor": "white"
           },
           "yaxis": {
            "backgroundcolor": "#E5ECF6",
            "gridcolor": "white",
            "gridwidth": 2,
            "linecolor": "white",
            "showbackground": true,
            "ticks": "",
            "zerolinecolor": "white"
           },
           "zaxis": {
            "backgroundcolor": "#E5ECF6",
            "gridcolor": "white",
            "gridwidth": 2,
            "linecolor": "white",
            "showbackground": true,
            "ticks": "",
            "zerolinecolor": "white"
           }
          },
          "shapedefaults": {
           "line": {
            "color": "#2a3f5f"
           }
          },
          "ternary": {
           "aaxis": {
            "gridcolor": "white",
            "linecolor": "white",
            "ticks": ""
           },
           "baxis": {
            "gridcolor": "white",
            "linecolor": "white",
            "ticks": ""
           },
           "bgcolor": "#E5ECF6",
           "caxis": {
            "gridcolor": "white",
            "linecolor": "white",
            "ticks": ""
           }
          },
          "title": {
           "x": 0.05
          },
          "xaxis": {
           "automargin": true,
           "gridcolor": "white",
           "linecolor": "white",
           "ticks": "",
           "title": {
            "standoff": 15
           },
           "zerolinecolor": "white",
           "zerolinewidth": 2
          },
          "yaxis": {
           "automargin": true,
           "gridcolor": "white",
           "linecolor": "white",
           "ticks": "",
           "title": {
            "standoff": 15
           },
           "zerolinecolor": "white",
           "zerolinewidth": 2
          }
         }
        },
        "title": {
         "text": "Top 10 Countries with Most Fertilizers Produced"
        },
        "xaxis": {
         "anchor": "y",
         "domain": [
          0,
          1
         ],
         "title": {
          "text": "No. of Fertilizers"
         }
        },
        "yaxis": {
         "anchor": "x",
         "domain": [
          0,
          1
         ],
         "title": {
          "text": "Countries"
         }
        }
       }
      }
     },
     "metadata": {}
    }
   ],
   "source": [
    "df_prod = df[df[\"element\"] == \"Production\"]\n",
    "\n",
    "df_prod = df_prod.area.value_counts().head(10).reset_index()\n",
    "df_prod = df_prod.rename(columns = {'index':'Countries','area':'No. of Fertilizers'})\n",
    "fig = px.bar(df_prod, x = 'No. of Fertilizers', y= 'Countries', orientation='h', title = 'Top 10 Countries with Most Fertilizers Produced')\n",
    "fig.show()"
   ]
  },
  {
   "cell_type": "markdown",
   "metadata": {
    "papermill": {
     "duration": 0.040012,
     "end_time": "2021-02-15T19:09:31.211547",
     "exception": false,
     "start_time": "2021-02-15T19:09:31.171535",
     "status": "completed"
    },
    "tags": []
   },
   "source": [
    "India is not one of the Top 10 Countries to produce fertilizers. Brazil, Denmark, Slovenia, and Poland are in Top 10 countries for production, and they are in the top 10 countries for overall fertilizers used as well."
   ]
  },
  {
   "cell_type": "markdown",
   "metadata": {
    "papermill": {
     "duration": 0.039572,
     "end_time": "2021-02-15T19:09:31.296986",
     "exception": false,
     "start_time": "2021-02-15T19:09:31.257414",
     "status": "completed"
    },
    "tags": []
   },
   "source": [
    "### Analysing Indian Market"
   ]
  },
  {
   "cell_type": "code",
   "execution_count": 15,
   "metadata": {
    "execution": {
     "iopub.execute_input": "2021-02-15T19:09:31.389362Z",
     "iopub.status.busy": "2021-02-15T19:09:31.388305Z",
     "iopub.status.idle": "2021-02-15T19:09:31.428972Z",
     "shell.execute_reply": "2021-02-15T19:09:31.428452Z"
    },
    "papermill": {
     "duration": 0.085802,
     "end_time": "2021-02-15T19:09:31.429106",
     "exception": false,
     "start_time": "2021-02-15T19:09:31.343304",
     "status": "completed"
    },
    "tags": []
   },
   "outputs": [
    {
     "output_type": "execute_result",
     "data": {
      "text/plain": [
       "                     item          element  year    unit       value\n",
       "65372  Ammonia, anhydrous  Import Quantity  2002  tonnes  1279348.13\n",
       "65373  Ammonia, anhydrous  Import Quantity  2003  tonnes   979985.94\n",
       "65374  Ammonia, anhydrous  Import Quantity  2004  tonnes  1189895.82\n",
       "65375  Ammonia, anhydrous  Import Quantity  2005  tonnes  1731417.05\n",
       "65376  Ammonia, anhydrous  Import Quantity  2006  tonnes  1781431.57"
      ],
      "text/html": "<div>\n<style scoped>\n    .dataframe tbody tr th:only-of-type {\n        vertical-align: middle;\n    }\n\n    .dataframe tbody tr th {\n        vertical-align: top;\n    }\n\n    .dataframe thead th {\n        text-align: right;\n    }\n</style>\n<table border=\"1\" class=\"dataframe\">\n  <thead>\n    <tr style=\"text-align: right;\">\n      <th></th>\n      <th>item</th>\n      <th>element</th>\n      <th>year</th>\n      <th>unit</th>\n      <th>value</th>\n    </tr>\n  </thead>\n  <tbody>\n    <tr>\n      <th>65372</th>\n      <td>Ammonia, anhydrous</td>\n      <td>Import Quantity</td>\n      <td>2002</td>\n      <td>tonnes</td>\n      <td>1279348.13</td>\n    </tr>\n    <tr>\n      <th>65373</th>\n      <td>Ammonia, anhydrous</td>\n      <td>Import Quantity</td>\n      <td>2003</td>\n      <td>tonnes</td>\n      <td>979985.94</td>\n    </tr>\n    <tr>\n      <th>65374</th>\n      <td>Ammonia, anhydrous</td>\n      <td>Import Quantity</td>\n      <td>2004</td>\n      <td>tonnes</td>\n      <td>1189895.82</td>\n    </tr>\n    <tr>\n      <th>65375</th>\n      <td>Ammonia, anhydrous</td>\n      <td>Import Quantity</td>\n      <td>2005</td>\n      <td>tonnes</td>\n      <td>1731417.05</td>\n    </tr>\n    <tr>\n      <th>65376</th>\n      <td>Ammonia, anhydrous</td>\n      <td>Import Quantity</td>\n      <td>2006</td>\n      <td>tonnes</td>\n      <td>1781431.57</td>\n    </tr>\n  </tbody>\n</table>\n</div>"
     },
     "metadata": {},
     "execution_count": 15
    }
   ],
   "source": [
    "India = df[df.area == 'India'] # creating a new dataframe where the area is India\n",
    "India.drop(\"area\", axis = 1, inplace = True) # since we just have a single area, having an area column is no longer required\n",
    "India.head()"
   ]
  },
  {
   "cell_type": "code",
   "execution_count": 16,
   "metadata": {
    "execution": {
     "iopub.execute_input": "2021-02-15T19:09:31.515468Z",
     "iopub.status.busy": "2021-02-15T19:09:31.514345Z",
     "iopub.status.idle": "2021-02-15T19:09:31.519698Z",
     "shell.execute_reply": "2021-02-15T19:09:31.519028Z"
    },
    "papermill": {
     "duration": 0.05083,
     "end_time": "2021-02-15T19:09:31.519811",
     "exception": false,
     "start_time": "2021-02-15T19:09:31.468981",
     "status": "completed"
    },
    "tags": []
   },
   "outputs": [
    {
     "output_type": "execute_result",
     "data": {
      "text/plain": [
       "(1514, 5)"
      ]
     },
     "metadata": {},
     "execution_count": 16
    }
   ],
   "source": [
    "India.shape"
   ]
  },
  {
   "cell_type": "markdown",
   "metadata": {
    "papermill": {
     "duration": 0.040907,
     "end_time": "2021-02-15T19:09:31.602975",
     "exception": false,
     "start_time": "2021-02-15T19:09:31.562068",
     "status": "completed"
    },
    "tags": []
   },
   "source": [
    "#### Different Uses for Each Fertilizer in India"
   ]
  },
  {
   "cell_type": "markdown",
   "metadata": {
    "papermill": {
     "duration": 0.041169,
     "end_time": "2021-02-15T19:09:31.685466",
     "exception": false,
     "start_time": "2021-02-15T19:09:31.644297",
     "status": "completed"
    },
    "tags": []
   },
   "source": [
    "Looking at how each fertilizer is being used i.e. how much a certain fertilizer is being used for Production, Agricultural use etc."
   ]
  },
  {
   "cell_type": "code",
   "execution_count": 17,
   "metadata": {
    "execution": {
     "iopub.execute_input": "2021-02-15T19:09:31.781640Z",
     "iopub.status.busy": "2021-02-15T19:09:31.780385Z",
     "iopub.status.idle": "2021-02-15T19:09:32.746449Z",
     "shell.execute_reply": "2021-02-15T19:09:32.745865Z"
    },
    "papermill": {
     "duration": 1.020379,
     "end_time": "2021-02-15T19:09:32.746563",
     "exception": false,
     "start_time": "2021-02-15T19:09:31.726184",
     "status": "completed"
    },
    "tags": []
   },
   "outputs": [
    {
     "output_type": "display_data",
     "data": {
      "text/plain": "<Figure size 1440x540 with 1 Axes>",
      "image/svg+xml": "<?xml version=\"1.0\" encoding=\"utf-8\" standalone=\"no\"?>\r\n<!DOCTYPE svg PUBLIC \"-//W3C//DTD SVG 1.1//EN\"\r\n  \"http://www.w3.org/Graphics/SVG/1.1/DTD/svg11.dtd\">\r\n<!-- Created with matplotlib (https://matplotlib.org/) -->\r\n<svg height=\"804.563437pt\" version=\"1.1\" viewBox=\"0 0 1165.66875 804.563437\" width=\"1165.66875pt\" xmlns=\"http://www.w3.org/2000/svg\" xmlns:xlink=\"http://www.w3.org/1999/xlink\">\r\n <metadata>\r\n  <rdf:RDF xmlns:cc=\"http://creativecommons.org/ns#\" xmlns:dc=\"http://purl.org/dc/elements/1.1/\" xmlns:rdf=\"http://www.w3.org/1999/02/22-rdf-syntax-ns#\">\r\n   <cc:Work>\r\n    <dc:type rdf:resource=\"http://purl.org/dc/dcmitype/StillImage\"/>\r\n    <dc:date>2021-02-20T22:39:02.882796</dc:date>\r\n    <dc:format>image/svg+xml</dc:format>\r\n    <dc:creator>\r\n     <cc:Agent>\r\n      <dc:title>Matplotlib v3.3.3, https://matplotlib.org/</dc:title>\r\n     </cc:Agent>\r\n    </dc:creator>\r\n   </cc:Work>\r\n  </rdf:RDF>\r\n </metadata>\r\n <defs>\r\n  <style type=\"text/css\">*{stroke-linecap:butt;stroke-linejoin:round;}</style>\r\n </defs>\r\n <g id=\"figure_1\">\r\n  <g id=\"patch_1\">\r\n   <path d=\"M 0 804.563437 \r\nL 1165.66875 804.563437 \r\nL 1165.66875 0 \r\nL 0 0 \r\nz\r\n\" style=\"fill:#ffffff;\"/>\r\n  </g>\r\n  <g id=\"axes_1\">\r\n   <g id=\"patch_2\">\r\n    <path d=\"M 42.46875 434.014687 \r\nL 1158.46875 434.014687 \r\nL 1158.46875 26.314687 \r\nL 42.46875 26.314687 \r\nz\r\n\" style=\"fill:#eaeaf2;\"/>\r\n   </g>\r\n   <g id=\"matplotlib.axis_1\">\r\n    <g id=\"xtick_1\">\r\n     <g id=\"text_1\">\r\n      <!-- Ammonia, anhydrous -->\r\n      <g style=\"fill:#262626;\" transform=\"translate(70.358949 535.500625)rotate(-90)scale(0.1 -0.1)\">\r\n       <defs>\r\n        <path d=\"M -0.140625 0 \r\nL 27.34375 71.578125 \r\nL 37.546875 71.578125 \r\nL 66.84375 0 \r\nL 56.0625 0 \r\nL 47.703125 21.6875 \r\nL 17.78125 21.6875 \r\nL 9.90625 0 \r\nz\r\nM 20.515625 29.390625 \r\nL 44.78125 29.390625 \r\nL 37.3125 49.21875 \r\nQ 33.890625 58.25 32.234375 64.0625 \r\nQ 30.859375 57.171875 28.375 50.390625 \r\nz\r\n\" id=\"ArialMT-65\"/>\r\n        <path d=\"M 6.59375 0 \r\nL 6.59375 51.859375 \r\nL 14.453125 51.859375 \r\nL 14.453125 44.578125 \r\nQ 16.890625 48.390625 20.9375 50.703125 \r\nQ 25 53.03125 30.171875 53.03125 \r\nQ 35.9375 53.03125 39.625 50.640625 \r\nQ 43.3125 48.25 44.828125 43.953125 \r\nQ 50.984375 53.03125 60.84375 53.03125 \r\nQ 68.5625 53.03125 72.703125 48.75 \r\nQ 76.859375 44.484375 76.859375 35.59375 \r\nL 76.859375 0 \r\nL 68.109375 0 \r\nL 68.109375 32.671875 \r\nQ 68.109375 37.9375 67.25 40.25 \r\nQ 66.40625 42.578125 64.15625 43.984375 \r\nQ 61.921875 45.40625 58.890625 45.40625 \r\nQ 53.421875 45.40625 49.796875 41.765625 \r\nQ 46.1875 38.140625 46.1875 30.125 \r\nL 46.1875 0 \r\nL 37.40625 0 \r\nL 37.40625 33.6875 \r\nQ 37.40625 39.546875 35.25 42.46875 \r\nQ 33.109375 45.40625 28.21875 45.40625 \r\nQ 24.515625 45.40625 21.359375 43.453125 \r\nQ 18.21875 41.5 16.796875 37.734375 \r\nQ 15.375 33.984375 15.375 26.90625 \r\nL 15.375 0 \r\nz\r\n\" id=\"ArialMT-109\"/>\r\n        <path d=\"M 3.328125 25.921875 \r\nQ 3.328125 40.328125 11.328125 47.265625 \r\nQ 18.015625 53.03125 27.640625 53.03125 \r\nQ 38.328125 53.03125 45.109375 46.015625 \r\nQ 51.90625 39.015625 51.90625 26.65625 \r\nQ 51.90625 16.65625 48.90625 10.90625 \r\nQ 45.90625 5.171875 40.15625 2 \r\nQ 34.421875 -1.171875 27.640625 -1.171875 \r\nQ 16.75 -1.171875 10.03125 5.8125 \r\nQ 3.328125 12.796875 3.328125 25.921875 \r\nz\r\nM 12.359375 25.921875 \r\nQ 12.359375 15.96875 16.703125 11.015625 \r\nQ 21.046875 6.0625 27.640625 6.0625 \r\nQ 34.1875 6.0625 38.53125 11.03125 \r\nQ 42.875 16.015625 42.875 26.21875 \r\nQ 42.875 35.84375 38.5 40.796875 \r\nQ 34.125 45.75 27.640625 45.75 \r\nQ 21.046875 45.75 16.703125 40.8125 \r\nQ 12.359375 35.890625 12.359375 25.921875 \r\nz\r\n\" id=\"ArialMT-111\"/>\r\n        <path d=\"M 6.59375 0 \r\nL 6.59375 51.859375 \r\nL 14.5 51.859375 \r\nL 14.5 44.484375 \r\nQ 20.21875 53.03125 31 53.03125 \r\nQ 35.6875 53.03125 39.625 51.34375 \r\nQ 43.5625 49.65625 45.515625 46.921875 \r\nQ 47.46875 44.1875 48.25 40.4375 \r\nQ 48.734375 37.984375 48.734375 31.890625 \r\nL 48.734375 0 \r\nL 39.9375 0 \r\nL 39.9375 31.546875 \r\nQ 39.9375 36.921875 38.90625 39.578125 \r\nQ 37.890625 42.234375 35.28125 43.8125 \r\nQ 32.671875 45.40625 29.15625 45.40625 \r\nQ 23.53125 45.40625 19.453125 41.84375 \r\nQ 15.375 38.28125 15.375 28.328125 \r\nL 15.375 0 \r\nz\r\n\" id=\"ArialMT-110\"/>\r\n        <path d=\"M 6.640625 61.46875 \r\nL 6.640625 71.578125 \r\nL 15.4375 71.578125 \r\nL 15.4375 61.46875 \r\nz\r\nM 6.640625 0 \r\nL 6.640625 51.859375 \r\nL 15.4375 51.859375 \r\nL 15.4375 0 \r\nz\r\n\" id=\"ArialMT-105\"/>\r\n        <path d=\"M 40.4375 6.390625 \r\nQ 35.546875 2.25 31.03125 0.53125 \r\nQ 26.515625 -1.171875 21.34375 -1.171875 \r\nQ 12.796875 -1.171875 8.203125 3 \r\nQ 3.609375 7.171875 3.609375 13.671875 \r\nQ 3.609375 17.484375 5.34375 20.625 \r\nQ 7.078125 23.78125 9.890625 25.6875 \r\nQ 12.703125 27.59375 16.21875 28.5625 \r\nQ 18.796875 29.25 24.03125 29.890625 \r\nQ 34.671875 31.15625 39.703125 32.90625 \r\nQ 39.75 34.71875 39.75 35.203125 \r\nQ 39.75 40.578125 37.25 42.78125 \r\nQ 33.890625 45.75 27.25 45.75 \r\nQ 21.046875 45.75 18.09375 43.578125 \r\nQ 15.140625 41.40625 13.71875 35.890625 \r\nL 5.125 37.0625 \r\nQ 6.296875 42.578125 8.984375 45.96875 \r\nQ 11.671875 49.359375 16.75 51.1875 \r\nQ 21.828125 53.03125 28.515625 53.03125 \r\nQ 35.15625 53.03125 39.296875 51.46875 \r\nQ 43.453125 49.90625 45.40625 47.53125 \r\nQ 47.359375 45.171875 48.140625 41.546875 \r\nQ 48.578125 39.3125 48.578125 33.453125 \r\nL 48.578125 21.734375 \r\nQ 48.578125 9.46875 49.140625 6.21875 \r\nQ 49.703125 2.984375 51.375 0 \r\nL 42.1875 0 \r\nQ 40.828125 2.734375 40.4375 6.390625 \r\nz\r\nM 39.703125 26.03125 \r\nQ 34.90625 24.078125 25.34375 22.703125 \r\nQ 19.921875 21.921875 17.671875 20.9375 \r\nQ 15.4375 19.96875 14.203125 18.09375 \r\nQ 12.984375 16.21875 12.984375 13.921875 \r\nQ 12.984375 10.40625 15.640625 8.0625 \r\nQ 18.3125 5.71875 23.4375 5.71875 \r\nQ 28.515625 5.71875 32.46875 7.9375 \r\nQ 36.421875 10.15625 38.28125 14.015625 \r\nQ 39.703125 17 39.703125 22.796875 \r\nz\r\n\" id=\"ArialMT-97\"/>\r\n        <path d=\"M 8.890625 0 \r\nL 8.890625 10.015625 \r\nL 18.890625 10.015625 \r\nL 18.890625 0 \r\nQ 18.890625 -5.515625 16.9375 -8.90625 \r\nQ 14.984375 -12.3125 10.75 -14.15625 \r\nL 8.296875 -10.40625 \r\nQ 11.078125 -9.1875 12.390625 -6.8125 \r\nQ 13.71875 -4.4375 13.875 0 \r\nz\r\n\" id=\"ArialMT-44\"/>\r\n        <path id=\"ArialMT-32\"/>\r\n        <path d=\"M 6.59375 0 \r\nL 6.59375 71.578125 \r\nL 15.375 71.578125 \r\nL 15.375 45.90625 \r\nQ 21.53125 53.03125 30.90625 53.03125 \r\nQ 36.671875 53.03125 40.921875 50.75 \r\nQ 45.171875 48.484375 47 44.484375 \r\nQ 48.828125 40.484375 48.828125 32.859375 \r\nL 48.828125 0 \r\nL 40.046875 0 \r\nL 40.046875 32.859375 \r\nQ 40.046875 39.453125 37.1875 42.453125 \r\nQ 34.328125 45.453125 29.109375 45.453125 \r\nQ 25.203125 45.453125 21.75 43.421875 \r\nQ 18.3125 41.40625 16.84375 37.9375 \r\nQ 15.375 34.46875 15.375 28.375 \r\nL 15.375 0 \r\nz\r\n\" id=\"ArialMT-104\"/>\r\n        <path d=\"M 6.203125 -19.96875 \r\nL 5.21875 -11.71875 \r\nQ 8.109375 -12.5 10.25 -12.5 \r\nQ 13.1875 -12.5 14.9375 -11.515625 \r\nQ 16.703125 -10.546875 17.828125 -8.796875 \r\nQ 18.65625 -7.46875 20.515625 -2.25 \r\nQ 20.75 -1.515625 21.296875 -0.09375 \r\nL 1.609375 51.859375 \r\nL 11.078125 51.859375 \r\nL 21.875 21.828125 \r\nQ 23.96875 16.109375 25.640625 9.8125 \r\nQ 27.15625 15.875 29.25 21.625 \r\nL 40.328125 51.859375 \r\nL 49.125 51.859375 \r\nL 29.390625 -0.875 \r\nQ 26.21875 -9.421875 24.46875 -12.640625 \r\nQ 22.125 -17 19.09375 -19.015625 \r\nQ 16.0625 -21.046875 11.859375 -21.046875 \r\nQ 9.328125 -21.046875 6.203125 -19.96875 \r\nz\r\n\" id=\"ArialMT-121\"/>\r\n        <path d=\"M 40.234375 0 \r\nL 40.234375 6.546875 \r\nQ 35.296875 -1.171875 25.734375 -1.171875 \r\nQ 19.53125 -1.171875 14.328125 2.25 \r\nQ 9.125 5.671875 6.265625 11.796875 \r\nQ 3.421875 17.921875 3.421875 25.875 \r\nQ 3.421875 33.640625 6 39.96875 \r\nQ 8.59375 46.296875 13.765625 49.65625 \r\nQ 18.953125 53.03125 25.34375 53.03125 \r\nQ 30.03125 53.03125 33.6875 51.046875 \r\nQ 37.359375 49.078125 39.65625 45.90625 \r\nL 39.65625 71.578125 \r\nL 48.390625 71.578125 \r\nL 48.390625 0 \r\nz\r\nM 12.453125 25.875 \r\nQ 12.453125 15.921875 16.640625 10.984375 \r\nQ 20.84375 6.0625 26.5625 6.0625 \r\nQ 32.328125 6.0625 36.34375 10.765625 \r\nQ 40.375 15.484375 40.375 25.140625 \r\nQ 40.375 35.796875 36.265625 40.765625 \r\nQ 32.171875 45.75 26.171875 45.75 \r\nQ 20.3125 45.75 16.375 40.96875 \r\nQ 12.453125 36.1875 12.453125 25.875 \r\nz\r\n\" id=\"ArialMT-100\"/>\r\n        <path d=\"M 6.5 0 \r\nL 6.5 51.859375 \r\nL 14.40625 51.859375 \r\nL 14.40625 44 \r\nQ 17.4375 49.515625 20 51.265625 \r\nQ 22.5625 53.03125 25.640625 53.03125 \r\nQ 30.078125 53.03125 34.671875 50.203125 \r\nL 31.640625 42.046875 \r\nQ 28.421875 43.953125 25.203125 43.953125 \r\nQ 22.3125 43.953125 20.015625 42.21875 \r\nQ 17.71875 40.484375 16.75 37.40625 \r\nQ 15.28125 32.71875 15.28125 27.15625 \r\nL 15.28125 0 \r\nz\r\n\" id=\"ArialMT-114\"/>\r\n        <path d=\"M 40.578125 0 \r\nL 40.578125 7.625 \r\nQ 34.515625 -1.171875 24.125 -1.171875 \r\nQ 19.53125 -1.171875 15.546875 0.578125 \r\nQ 11.578125 2.34375 9.640625 5 \r\nQ 7.71875 7.671875 6.9375 11.53125 \r\nQ 6.390625 14.109375 6.390625 19.734375 \r\nL 6.390625 51.859375 \r\nL 15.1875 51.859375 \r\nL 15.1875 23.09375 \r\nQ 15.1875 16.21875 15.71875 13.8125 \r\nQ 16.546875 10.359375 19.234375 8.375 \r\nQ 21.921875 6.390625 25.875 6.390625 \r\nQ 29.828125 6.390625 33.296875 8.421875 \r\nQ 36.765625 10.453125 38.203125 13.9375 \r\nQ 39.65625 17.4375 39.65625 24.078125 \r\nL 39.65625 51.859375 \r\nL 48.4375 51.859375 \r\nL 48.4375 0 \r\nz\r\n\" id=\"ArialMT-117\"/>\r\n        <path d=\"M 3.078125 15.484375 \r\nL 11.765625 16.84375 \r\nQ 12.5 11.625 15.84375 8.84375 \r\nQ 19.1875 6.0625 25.203125 6.0625 \r\nQ 31.25 6.0625 34.171875 8.515625 \r\nQ 37.109375 10.984375 37.109375 14.3125 \r\nQ 37.109375 17.28125 34.515625 19 \r\nQ 32.71875 20.171875 25.53125 21.96875 \r\nQ 15.875 24.421875 12.140625 26.203125 \r\nQ 8.40625 27.984375 6.46875 31.125 \r\nQ 4.546875 34.28125 4.546875 38.09375 \r\nQ 4.546875 41.546875 6.125 44.5 \r\nQ 7.71875 47.46875 10.453125 49.421875 \r\nQ 12.5 50.921875 16.03125 51.96875 \r\nQ 19.578125 53.03125 23.640625 53.03125 \r\nQ 29.734375 53.03125 34.34375 51.265625 \r\nQ 38.96875 49.515625 41.15625 46.5 \r\nQ 43.359375 43.5 44.1875 38.484375 \r\nL 35.59375 37.3125 \r\nQ 35.015625 41.3125 32.203125 43.546875 \r\nQ 29.390625 45.796875 24.265625 45.796875 \r\nQ 18.21875 45.796875 15.625 43.796875 \r\nQ 13.03125 41.796875 13.03125 39.109375 \r\nQ 13.03125 37.40625 14.109375 36.03125 \r\nQ 15.1875 34.625 17.484375 33.6875 \r\nQ 18.796875 33.203125 25.25 31.453125 \r\nQ 34.578125 28.953125 38.25 27.359375 \r\nQ 41.9375 25.78125 44.03125 22.75 \r\nQ 46.140625 19.734375 46.140625 15.234375 \r\nQ 46.140625 10.84375 43.578125 6.953125 \r\nQ 41.015625 3.078125 36.171875 0.953125 \r\nQ 31.34375 -1.171875 25.25 -1.171875 \r\nQ 15.140625 -1.171875 9.84375 3.03125 \r\nQ 4.546875 7.234375 3.078125 15.484375 \r\nz\r\n\" id=\"ArialMT-115\"/>\r\n       </defs>\r\n       <use xlink:href=\"#ArialMT-65\"/>\r\n       <use x=\"66.699219\" xlink:href=\"#ArialMT-109\"/>\r\n       <use x=\"150\" xlink:href=\"#ArialMT-109\"/>\r\n       <use x=\"233.300781\" xlink:href=\"#ArialMT-111\"/>\r\n       <use x=\"288.916016\" xlink:href=\"#ArialMT-110\"/>\r\n       <use x=\"344.53125\" xlink:href=\"#ArialMT-105\"/>\r\n       <use x=\"366.748047\" xlink:href=\"#ArialMT-97\"/>\r\n       <use x=\"422.363281\" xlink:href=\"#ArialMT-44\"/>\r\n       <use x=\"450.146484\" xlink:href=\"#ArialMT-32\"/>\r\n       <use x=\"477.929688\" xlink:href=\"#ArialMT-97\"/>\r\n       <use x=\"533.544922\" xlink:href=\"#ArialMT-110\"/>\r\n       <use x=\"589.160156\" xlink:href=\"#ArialMT-104\"/>\r\n       <use x=\"644.775391\" xlink:href=\"#ArialMT-121\"/>\r\n       <use x=\"694.775391\" xlink:href=\"#ArialMT-100\"/>\r\n       <use x=\"750.390625\" xlink:href=\"#ArialMT-114\"/>\r\n       <use x=\"783.691406\" xlink:href=\"#ArialMT-111\"/>\r\n       <use x=\"839.306641\" xlink:href=\"#ArialMT-117\"/>\r\n       <use x=\"894.921875\" xlink:href=\"#ArialMT-115\"/>\r\n      </g>\r\n     </g>\r\n    </g>\r\n    <g id=\"xtick_2\">\r\n     <g id=\"text_2\">\r\n      <!-- Ammonium nitrate (AN) -->\r\n      <g style=\"fill:#262626;\" transform=\"translate(121.147159 545.477187)rotate(-90)scale(0.1 -0.1)\">\r\n       <defs>\r\n        <path d=\"M 25.78125 7.859375 \r\nL 27.046875 0.09375 \r\nQ 23.34375 -0.6875 20.40625 -0.6875 \r\nQ 15.625 -0.6875 12.984375 0.828125 \r\nQ 10.359375 2.34375 9.28125 4.8125 \r\nQ 8.203125 7.28125 8.203125 15.1875 \r\nL 8.203125 45.015625 \r\nL 1.765625 45.015625 \r\nL 1.765625 51.859375 \r\nL 8.203125 51.859375 \r\nL 8.203125 64.703125 \r\nL 16.9375 69.96875 \r\nL 16.9375 51.859375 \r\nL 25.78125 51.859375 \r\nL 25.78125 45.015625 \r\nL 16.9375 45.015625 \r\nL 16.9375 14.703125 \r\nQ 16.9375 10.9375 17.40625 9.859375 \r\nQ 17.875 8.796875 18.921875 8.15625 \r\nQ 19.96875 7.515625 21.921875 7.515625 \r\nQ 23.390625 7.515625 25.78125 7.859375 \r\nz\r\n\" id=\"ArialMT-116\"/>\r\n        <path d=\"M 42.09375 16.703125 \r\nL 51.171875 15.578125 \r\nQ 49.03125 7.625 43.21875 3.21875 \r\nQ 37.40625 -1.171875 28.375 -1.171875 \r\nQ 17 -1.171875 10.328125 5.828125 \r\nQ 3.65625 12.84375 3.65625 25.484375 \r\nQ 3.65625 38.578125 10.390625 45.796875 \r\nQ 17.140625 53.03125 27.875 53.03125 \r\nQ 38.28125 53.03125 44.875 45.953125 \r\nQ 51.46875 38.875 51.46875 26.03125 \r\nQ 51.46875 25.25 51.421875 23.6875 \r\nL 12.75 23.6875 \r\nQ 13.234375 15.140625 17.578125 10.59375 \r\nQ 21.921875 6.0625 28.421875 6.0625 \r\nQ 33.25 6.0625 36.671875 8.59375 \r\nQ 40.09375 11.140625 42.09375 16.703125 \r\nz\r\nM 13.234375 30.90625 \r\nL 42.1875 30.90625 \r\nQ 41.609375 37.453125 38.875 40.71875 \r\nQ 34.671875 45.796875 27.984375 45.796875 \r\nQ 21.921875 45.796875 17.796875 41.75 \r\nQ 13.671875 37.703125 13.234375 30.90625 \r\nz\r\n\" id=\"ArialMT-101\"/>\r\n        <path d=\"M 23.390625 -21.046875 \r\nQ 16.109375 -11.859375 11.078125 0.4375 \r\nQ 6.0625 12.75 6.0625 25.921875 \r\nQ 6.0625 37.546875 9.8125 48.1875 \r\nQ 14.203125 60.546875 23.390625 72.796875 \r\nL 29.6875 72.796875 \r\nQ 23.78125 62.640625 21.875 58.296875 \r\nQ 18.890625 51.5625 17.1875 44.234375 \r\nQ 15.09375 35.109375 15.09375 25.875 \r\nQ 15.09375 2.390625 29.6875 -21.046875 \r\nz\r\n\" id=\"ArialMT-40\"/>\r\n        <path d=\"M 7.625 0 \r\nL 7.625 71.578125 \r\nL 17.328125 71.578125 \r\nL 54.9375 15.375 \r\nL 54.9375 71.578125 \r\nL 64.015625 71.578125 \r\nL 64.015625 0 \r\nL 54.296875 0 \r\nL 16.703125 56.25 \r\nL 16.703125 0 \r\nz\r\n\" id=\"ArialMT-78\"/>\r\n        <path d=\"M 12.359375 -21.046875 \r\nL 6.0625 -21.046875 \r\nQ 20.65625 2.390625 20.65625 25.875 \r\nQ 20.65625 35.0625 18.5625 44.09375 \r\nQ 16.890625 51.421875 13.921875 58.15625 \r\nQ 12.015625 62.546875 6.0625 72.796875 \r\nL 12.359375 72.796875 \r\nQ 21.53125 60.546875 25.921875 48.1875 \r\nQ 29.6875 37.546875 29.6875 25.921875 \r\nQ 29.6875 12.75 24.625 0.4375 \r\nQ 19.578125 -11.859375 12.359375 -21.046875 \r\nz\r\n\" id=\"ArialMT-41\"/>\r\n       </defs>\r\n       <use xlink:href=\"#ArialMT-65\"/>\r\n       <use x=\"66.699219\" xlink:href=\"#ArialMT-109\"/>\r\n       <use x=\"150\" xlink:href=\"#ArialMT-109\"/>\r\n       <use x=\"233.300781\" xlink:href=\"#ArialMT-111\"/>\r\n       <use x=\"288.916016\" xlink:href=\"#ArialMT-110\"/>\r\n       <use x=\"344.53125\" xlink:href=\"#ArialMT-105\"/>\r\n       <use x=\"366.748047\" xlink:href=\"#ArialMT-117\"/>\r\n       <use x=\"422.363281\" xlink:href=\"#ArialMT-109\"/>\r\n       <use x=\"505.664062\" xlink:href=\"#ArialMT-32\"/>\r\n       <use x=\"533.447266\" xlink:href=\"#ArialMT-110\"/>\r\n       <use x=\"589.0625\" xlink:href=\"#ArialMT-105\"/>\r\n       <use x=\"611.279297\" xlink:href=\"#ArialMT-116\"/>\r\n       <use x=\"639.0625\" xlink:href=\"#ArialMT-114\"/>\r\n       <use x=\"672.363281\" xlink:href=\"#ArialMT-97\"/>\r\n       <use x=\"727.978516\" xlink:href=\"#ArialMT-116\"/>\r\n       <use x=\"755.761719\" xlink:href=\"#ArialMT-101\"/>\r\n       <use x=\"811.376953\" xlink:href=\"#ArialMT-32\"/>\r\n       <use x=\"839.160156\" xlink:href=\"#ArialMT-40\"/>\r\n       <use x=\"872.460938\" xlink:href=\"#ArialMT-65\"/>\r\n       <use x=\"939.160156\" xlink:href=\"#ArialMT-78\"/>\r\n       <use x=\"1011.376953\" xlink:href=\"#ArialMT-41\"/>\r\n      </g>\r\n     </g>\r\n    </g>\r\n    <g id=\"xtick_3\">\r\n     <g id=\"text_3\">\r\n      <!-- Ammonium sulphate -->\r\n      <g style=\"fill:#262626;\" transform=\"translate(171.872088 532.161562)rotate(-90)scale(0.1 -0.1)\">\r\n       <defs>\r\n        <path d=\"M 6.390625 0 \r\nL 6.390625 71.578125 \r\nL 15.1875 71.578125 \r\nL 15.1875 0 \r\nz\r\n\" id=\"ArialMT-108\"/>\r\n        <path d=\"M 6.59375 -19.875 \r\nL 6.59375 51.859375 \r\nL 14.59375 51.859375 \r\nL 14.59375 45.125 \r\nQ 17.4375 49.078125 21 51.046875 \r\nQ 24.5625 53.03125 29.640625 53.03125 \r\nQ 36.28125 53.03125 41.359375 49.609375 \r\nQ 46.4375 46.1875 49.015625 39.953125 \r\nQ 51.609375 33.734375 51.609375 26.3125 \r\nQ 51.609375 18.359375 48.75 11.984375 \r\nQ 45.90625 5.609375 40.453125 2.21875 \r\nQ 35.015625 -1.171875 29 -1.171875 \r\nQ 24.609375 -1.171875 21.109375 0.6875 \r\nQ 17.625 2.546875 15.375 5.375 \r\nL 15.375 -19.875 \r\nz\r\nM 14.546875 25.640625 \r\nQ 14.546875 15.625 18.59375 10.84375 \r\nQ 22.65625 6.0625 28.421875 6.0625 \r\nQ 34.28125 6.0625 38.453125 11.015625 \r\nQ 42.625 15.96875 42.625 26.375 \r\nQ 42.625 36.28125 38.546875 41.203125 \r\nQ 34.46875 46.140625 28.8125 46.140625 \r\nQ 23.1875 46.140625 18.859375 40.890625 \r\nQ 14.546875 35.640625 14.546875 25.640625 \r\nz\r\n\" id=\"ArialMT-112\"/>\r\n       </defs>\r\n       <use xlink:href=\"#ArialMT-65\"/>\r\n       <use x=\"66.699219\" xlink:href=\"#ArialMT-109\"/>\r\n       <use x=\"150\" xlink:href=\"#ArialMT-109\"/>\r\n       <use x=\"233.300781\" xlink:href=\"#ArialMT-111\"/>\r\n       <use x=\"288.916016\" xlink:href=\"#ArialMT-110\"/>\r\n       <use x=\"344.53125\" xlink:href=\"#ArialMT-105\"/>\r\n       <use x=\"366.748047\" xlink:href=\"#ArialMT-117\"/>\r\n       <use x=\"422.363281\" xlink:href=\"#ArialMT-109\"/>\r\n       <use x=\"505.664062\" xlink:href=\"#ArialMT-32\"/>\r\n       <use x=\"533.447266\" xlink:href=\"#ArialMT-115\"/>\r\n       <use x=\"583.447266\" xlink:href=\"#ArialMT-117\"/>\r\n       <use x=\"639.0625\" xlink:href=\"#ArialMT-108\"/>\r\n       <use x=\"661.279297\" xlink:href=\"#ArialMT-112\"/>\r\n       <use x=\"716.894531\" xlink:href=\"#ArialMT-104\"/>\r\n       <use x=\"772.509766\" xlink:href=\"#ArialMT-97\"/>\r\n       <use x=\"828.125\" xlink:href=\"#ArialMT-116\"/>\r\n       <use x=\"855.908203\" xlink:href=\"#ArialMT-101\"/>\r\n      </g>\r\n     </g>\r\n    </g>\r\n    <g id=\"xtick_4\">\r\n     <g id=\"text_4\">\r\n      <!-- Calcium ammonium nitrate (CAN) and other mixtures with calcium carbonate -->\r\n      <g style=\"fill:#262626;\" transform=\"translate(222.601705 780.56)rotate(-90)scale(0.1 -0.1)\">\r\n       <defs>\r\n        <path d=\"M 58.796875 25.09375 \r\nL 68.265625 22.703125 \r\nQ 65.28125 11.03125 57.546875 4.90625 \r\nQ 49.8125 -1.21875 38.625 -1.21875 \r\nQ 27.046875 -1.21875 19.796875 3.484375 \r\nQ 12.546875 8.203125 8.765625 17.140625 \r\nQ 4.984375 26.078125 4.984375 36.328125 \r\nQ 4.984375 47.515625 9.25 55.828125 \r\nQ 13.53125 64.15625 21.40625 68.46875 \r\nQ 29.296875 72.796875 38.765625 72.796875 \r\nQ 49.515625 72.796875 56.828125 67.328125 \r\nQ 64.15625 61.859375 67.046875 51.953125 \r\nL 57.71875 49.75 \r\nQ 55.21875 57.5625 50.484375 61.125 \r\nQ 45.75 64.703125 38.578125 64.703125 \r\nQ 30.328125 64.703125 24.78125 60.734375 \r\nQ 19.234375 56.78125 16.984375 50.109375 \r\nQ 14.75 43.453125 14.75 36.375 \r\nQ 14.75 27.25 17.40625 20.4375 \r\nQ 20.0625 13.625 25.671875 10.25 \r\nQ 31.296875 6.890625 37.84375 6.890625 \r\nQ 45.796875 6.890625 51.3125 11.46875 \r\nQ 56.84375 16.0625 58.796875 25.09375 \r\nz\r\n\" id=\"ArialMT-67\"/>\r\n        <path d=\"M 40.4375 19 \r\nL 49.078125 17.875 \r\nQ 47.65625 8.9375 41.8125 3.875 \r\nQ 35.984375 -1.171875 27.484375 -1.171875 \r\nQ 16.84375 -1.171875 10.375 5.78125 \r\nQ 3.90625 12.75 3.90625 25.734375 \r\nQ 3.90625 34.125 6.6875 40.421875 \r\nQ 9.46875 46.734375 15.15625 49.875 \r\nQ 20.84375 53.03125 27.546875 53.03125 \r\nQ 35.984375 53.03125 41.359375 48.75 \r\nQ 46.734375 44.484375 48.25 36.625 \r\nL 39.703125 35.296875 \r\nQ 38.484375 40.53125 35.375 43.15625 \r\nQ 32.28125 45.796875 27.875 45.796875 \r\nQ 21.234375 45.796875 17.078125 41.03125 \r\nQ 12.9375 36.28125 12.9375 25.984375 \r\nQ 12.9375 15.53125 16.9375 10.796875 \r\nQ 20.953125 6.0625 27.390625 6.0625 \r\nQ 32.5625 6.0625 36.03125 9.234375 \r\nQ 39.5 12.40625 40.4375 19 \r\nz\r\n\" id=\"ArialMT-99\"/>\r\n        <path d=\"M 0.734375 0 \r\nL 19.671875 26.953125 \r\nL 2.15625 51.859375 \r\nL 13.140625 51.859375 \r\nL 21.09375 39.703125 \r\nQ 23.34375 36.234375 24.703125 33.890625 \r\nQ 26.859375 37.109375 28.65625 39.59375 \r\nL 37.40625 51.859375 \r\nL 47.90625 51.859375 \r\nL 29.984375 27.4375 \r\nL 49.265625 0 \r\nL 38.484375 0 \r\nL 27.828125 16.109375 \r\nL 25 20.453125 \r\nL 11.375 0 \r\nz\r\n\" id=\"ArialMT-120\"/>\r\n        <path d=\"M 16.15625 0 \r\nL 0.296875 51.859375 \r\nL 9.375 51.859375 \r\nL 17.625 21.921875 \r\nL 20.703125 10.796875 \r\nQ 20.90625 11.625 23.390625 21.484375 \r\nL 31.640625 51.859375 \r\nL 40.671875 51.859375 \r\nL 48.4375 21.78125 \r\nL 51.03125 11.859375 \r\nL 54 21.875 \r\nL 62.890625 51.859375 \r\nL 71.4375 51.859375 \r\nL 55.21875 0 \r\nL 46.09375 0 \r\nL 37.84375 31.0625 \r\nL 35.84375 39.890625 \r\nL 25.34375 0 \r\nz\r\n\" id=\"ArialMT-119\"/>\r\n        <path d=\"M 14.703125 0 \r\nL 6.546875 0 \r\nL 6.546875 71.578125 \r\nL 15.328125 71.578125 \r\nL 15.328125 46.046875 \r\nQ 20.90625 53.03125 29.546875 53.03125 \r\nQ 34.328125 53.03125 38.59375 51.09375 \r\nQ 42.875 49.171875 45.625 45.671875 \r\nQ 48.390625 42.1875 49.953125 37.25 \r\nQ 51.515625 32.328125 51.515625 26.703125 \r\nQ 51.515625 13.375 44.921875 6.09375 \r\nQ 38.328125 -1.171875 29.109375 -1.171875 \r\nQ 19.921875 -1.171875 14.703125 6.5 \r\nz\r\nM 14.59375 26.3125 \r\nQ 14.59375 17 17.140625 12.84375 \r\nQ 21.296875 6.0625 28.375 6.0625 \r\nQ 34.125 6.0625 38.328125 11.0625 \r\nQ 42.53125 16.0625 42.53125 25.984375 \r\nQ 42.53125 36.140625 38.5 40.96875 \r\nQ 34.46875 45.796875 28.765625 45.796875 \r\nQ 23 45.796875 18.796875 40.796875 \r\nQ 14.59375 35.796875 14.59375 26.3125 \r\nz\r\n\" id=\"ArialMT-98\"/>\r\n       </defs>\r\n       <use xlink:href=\"#ArialMT-67\"/>\r\n       <use x=\"72.216797\" xlink:href=\"#ArialMT-97\"/>\r\n       <use x=\"127.832031\" xlink:href=\"#ArialMT-108\"/>\r\n       <use x=\"150.048828\" xlink:href=\"#ArialMT-99\"/>\r\n       <use x=\"200.048828\" xlink:href=\"#ArialMT-105\"/>\r\n       <use x=\"222.265625\" xlink:href=\"#ArialMT-117\"/>\r\n       <use x=\"277.880859\" xlink:href=\"#ArialMT-109\"/>\r\n       <use x=\"361.181641\" xlink:href=\"#ArialMT-32\"/>\r\n       <use x=\"388.964844\" xlink:href=\"#ArialMT-97\"/>\r\n       <use x=\"444.580078\" xlink:href=\"#ArialMT-109\"/>\r\n       <use x=\"527.880859\" xlink:href=\"#ArialMT-109\"/>\r\n       <use x=\"611.181641\" xlink:href=\"#ArialMT-111\"/>\r\n       <use x=\"666.796875\" xlink:href=\"#ArialMT-110\"/>\r\n       <use x=\"722.412109\" xlink:href=\"#ArialMT-105\"/>\r\n       <use x=\"744.628906\" xlink:href=\"#ArialMT-117\"/>\r\n       <use x=\"800.244141\" xlink:href=\"#ArialMT-109\"/>\r\n       <use x=\"883.544922\" xlink:href=\"#ArialMT-32\"/>\r\n       <use x=\"911.328125\" xlink:href=\"#ArialMT-110\"/>\r\n       <use x=\"966.943359\" xlink:href=\"#ArialMT-105\"/>\r\n       <use x=\"989.160156\" xlink:href=\"#ArialMT-116\"/>\r\n       <use x=\"1016.943359\" xlink:href=\"#ArialMT-114\"/>\r\n       <use x=\"1050.244141\" xlink:href=\"#ArialMT-97\"/>\r\n       <use x=\"1105.859375\" xlink:href=\"#ArialMT-116\"/>\r\n       <use x=\"1133.642578\" xlink:href=\"#ArialMT-101\"/>\r\n       <use x=\"1189.257812\" xlink:href=\"#ArialMT-32\"/>\r\n       <use x=\"1217.041016\" xlink:href=\"#ArialMT-40\"/>\r\n       <use x=\"1250.341797\" xlink:href=\"#ArialMT-67\"/>\r\n       <use x=\"1322.558594\" xlink:href=\"#ArialMT-65\"/>\r\n       <use x=\"1389.257812\" xlink:href=\"#ArialMT-78\"/>\r\n       <use x=\"1461.474609\" xlink:href=\"#ArialMT-41\"/>\r\n       <use x=\"1494.775391\" xlink:href=\"#ArialMT-32\"/>\r\n       <use x=\"1522.558594\" xlink:href=\"#ArialMT-97\"/>\r\n       <use x=\"1578.173828\" xlink:href=\"#ArialMT-110\"/>\r\n       <use x=\"1633.789062\" xlink:href=\"#ArialMT-100\"/>\r\n       <use x=\"1689.404297\" xlink:href=\"#ArialMT-32\"/>\r\n       <use x=\"1717.1875\" xlink:href=\"#ArialMT-111\"/>\r\n       <use x=\"1772.802734\" xlink:href=\"#ArialMT-116\"/>\r\n       <use x=\"1800.585938\" xlink:href=\"#ArialMT-104\"/>\r\n       <use x=\"1856.201172\" xlink:href=\"#ArialMT-101\"/>\r\n       <use x=\"1911.816406\" xlink:href=\"#ArialMT-114\"/>\r\n       <use x=\"1945.117188\" xlink:href=\"#ArialMT-32\"/>\r\n       <use x=\"1972.900391\" xlink:href=\"#ArialMT-109\"/>\r\n       <use x=\"2056.201172\" xlink:href=\"#ArialMT-105\"/>\r\n       <use x=\"2078.417969\" xlink:href=\"#ArialMT-120\"/>\r\n       <use x=\"2128.417969\" xlink:href=\"#ArialMT-116\"/>\r\n       <use x=\"2156.201172\" xlink:href=\"#ArialMT-117\"/>\r\n       <use x=\"2211.816406\" xlink:href=\"#ArialMT-114\"/>\r\n       <use x=\"2245.117188\" xlink:href=\"#ArialMT-101\"/>\r\n       <use x=\"2300.732422\" xlink:href=\"#ArialMT-115\"/>\r\n       <use x=\"2350.732422\" xlink:href=\"#ArialMT-32\"/>\r\n       <use x=\"2378.515625\" xlink:href=\"#ArialMT-119\"/>\r\n       <use x=\"2450.732422\" xlink:href=\"#ArialMT-105\"/>\r\n       <use x=\"2472.949219\" xlink:href=\"#ArialMT-116\"/>\r\n       <use x=\"2500.732422\" xlink:href=\"#ArialMT-104\"/>\r\n       <use x=\"2556.347656\" xlink:href=\"#ArialMT-32\"/>\r\n       <use x=\"2584.130859\" xlink:href=\"#ArialMT-99\"/>\r\n       <use x=\"2634.130859\" xlink:href=\"#ArialMT-97\"/>\r\n       <use x=\"2689.746094\" xlink:href=\"#ArialMT-108\"/>\r\n       <use x=\"2711.962891\" xlink:href=\"#ArialMT-99\"/>\r\n       <use x=\"2761.962891\" xlink:href=\"#ArialMT-105\"/>\r\n       <use x=\"2784.179688\" xlink:href=\"#ArialMT-117\"/>\r\n       <use x=\"2839.794922\" xlink:href=\"#ArialMT-109\"/>\r\n       <use x=\"2923.095703\" xlink:href=\"#ArialMT-32\"/>\r\n       <use x=\"2950.878906\" xlink:href=\"#ArialMT-99\"/>\r\n       <use x=\"3000.878906\" xlink:href=\"#ArialMT-97\"/>\r\n       <use x=\"3056.494141\" xlink:href=\"#ArialMT-114\"/>\r\n       <use x=\"3089.794922\" xlink:href=\"#ArialMT-98\"/>\r\n       <use x=\"3145.410156\" xlink:href=\"#ArialMT-111\"/>\r\n       <use x=\"3201.025391\" xlink:href=\"#ArialMT-110\"/>\r\n       <use x=\"3256.640625\" xlink:href=\"#ArialMT-97\"/>\r\n       <use x=\"3312.255859\" xlink:href=\"#ArialMT-116\"/>\r\n       <use x=\"3340.039062\" xlink:href=\"#ArialMT-101\"/>\r\n      </g>\r\n     </g>\r\n    </g>\r\n    <g id=\"xtick_5\">\r\n     <g id=\"text_5\">\r\n      <!-- Diammonium phosphate (DAP) -->\r\n      <g style=\"fill:#262626;\" transform=\"translate(273.328977 579.395937)rotate(-90)scale(0.1 -0.1)\">\r\n       <defs>\r\n        <path d=\"M 7.71875 0 \r\nL 7.71875 71.578125 \r\nL 32.375 71.578125 \r\nQ 40.71875 71.578125 45.125 70.5625 \r\nQ 51.265625 69.140625 55.609375 65.4375 \r\nQ 61.28125 60.640625 64.078125 53.1875 \r\nQ 66.890625 45.75 66.890625 36.1875 \r\nQ 66.890625 28.03125 64.984375 21.734375 \r\nQ 63.09375 15.4375 60.109375 11.296875 \r\nQ 57.125 7.171875 53.578125 4.796875 \r\nQ 50.046875 2.4375 45.046875 1.21875 \r\nQ 40.046875 0 33.546875 0 \r\nz\r\nM 17.1875 8.453125 \r\nL 32.46875 8.453125 \r\nQ 39.546875 8.453125 43.578125 9.765625 \r\nQ 47.609375 11.078125 50 13.484375 \r\nQ 53.375 16.84375 55.25 22.53125 \r\nQ 57.125 28.21875 57.125 36.328125 \r\nQ 57.125 47.5625 53.4375 53.59375 \r\nQ 49.75 59.625 44.484375 61.671875 \r\nQ 40.671875 63.140625 32.234375 63.140625 \r\nL 17.1875 63.140625 \r\nz\r\n\" id=\"ArialMT-68\"/>\r\n        <path d=\"M 7.71875 0 \r\nL 7.71875 71.578125 \r\nL 34.71875 71.578125 \r\nQ 41.84375 71.578125 45.609375 70.90625 \r\nQ 50.875 70.015625 54.4375 67.546875 \r\nQ 58.015625 65.09375 60.1875 60.640625 \r\nQ 62.359375 56.203125 62.359375 50.875 \r\nQ 62.359375 41.75 56.546875 35.421875 \r\nQ 50.734375 29.109375 35.546875 29.109375 \r\nL 17.1875 29.109375 \r\nL 17.1875 0 \r\nz\r\nM 17.1875 37.546875 \r\nL 35.6875 37.546875 \r\nQ 44.875 37.546875 48.734375 40.96875 \r\nQ 52.59375 44.390625 52.59375 50.59375 \r\nQ 52.59375 55.078125 50.3125 58.265625 \r\nQ 48.046875 61.46875 44.34375 62.5 \r\nQ 41.9375 63.140625 35.5 63.140625 \r\nL 17.1875 63.140625 \r\nz\r\n\" id=\"ArialMT-80\"/>\r\n       </defs>\r\n       <use xlink:href=\"#ArialMT-68\"/>\r\n       <use x=\"72.216797\" xlink:href=\"#ArialMT-105\"/>\r\n       <use x=\"94.433594\" xlink:href=\"#ArialMT-97\"/>\r\n       <use x=\"150.048828\" xlink:href=\"#ArialMT-109\"/>\r\n       <use x=\"233.349609\" xlink:href=\"#ArialMT-109\"/>\r\n       <use x=\"316.650391\" xlink:href=\"#ArialMT-111\"/>\r\n       <use x=\"372.265625\" xlink:href=\"#ArialMT-110\"/>\r\n       <use x=\"427.880859\" xlink:href=\"#ArialMT-105\"/>\r\n       <use x=\"450.097656\" xlink:href=\"#ArialMT-117\"/>\r\n       <use x=\"505.712891\" xlink:href=\"#ArialMT-109\"/>\r\n       <use x=\"589.013672\" xlink:href=\"#ArialMT-32\"/>\r\n       <use x=\"616.796875\" xlink:href=\"#ArialMT-112\"/>\r\n       <use x=\"672.412109\" xlink:href=\"#ArialMT-104\"/>\r\n       <use x=\"728.027344\" xlink:href=\"#ArialMT-111\"/>\r\n       <use x=\"783.642578\" xlink:href=\"#ArialMT-115\"/>\r\n       <use x=\"833.642578\" xlink:href=\"#ArialMT-112\"/>\r\n       <use x=\"889.257812\" xlink:href=\"#ArialMT-104\"/>\r\n       <use x=\"944.873047\" xlink:href=\"#ArialMT-97\"/>\r\n       <use x=\"1000.488281\" xlink:href=\"#ArialMT-116\"/>\r\n       <use x=\"1028.271484\" xlink:href=\"#ArialMT-101\"/>\r\n       <use x=\"1083.886719\" xlink:href=\"#ArialMT-32\"/>\r\n       <use x=\"1111.669922\" xlink:href=\"#ArialMT-40\"/>\r\n       <use x=\"1144.970703\" xlink:href=\"#ArialMT-68\"/>\r\n       <use x=\"1217.1875\" xlink:href=\"#ArialMT-65\"/>\r\n       <use x=\"1283.886719\" xlink:href=\"#ArialMT-80\"/>\r\n       <use x=\"1350.585938\" xlink:href=\"#ArialMT-41\"/>\r\n      </g>\r\n     </g>\r\n    </g>\r\n    <g id=\"xtick_6\">\r\n     <g id=\"text_6\">\r\n      <!-- Fertilizers n.e.c. -->\r\n      <g style=\"fill:#262626;\" transform=\"translate(324.053906 511.581875)rotate(-90)scale(0.1 -0.1)\">\r\n       <defs>\r\n        <path d=\"M 8.203125 0 \r\nL 8.203125 71.578125 \r\nL 56.5 71.578125 \r\nL 56.5 63.140625 \r\nL 17.671875 63.140625 \r\nL 17.671875 40.96875 \r\nL 51.265625 40.96875 \r\nL 51.265625 32.515625 \r\nL 17.671875 32.515625 \r\nL 17.671875 0 \r\nz\r\n\" id=\"ArialMT-70\"/>\r\n        <path d=\"M 1.953125 0 \r\nL 1.953125 7.125 \r\nL 34.96875 45.015625 \r\nQ 29.34375 44.734375 25.046875 44.734375 \r\nL 3.90625 44.734375 \r\nL 3.90625 51.859375 \r\nL 46.296875 51.859375 \r\nL 46.296875 46.046875 \r\nL 18.21875 13.140625 \r\nL 12.796875 7.125 \r\nQ 18.703125 7.5625 23.875 7.5625 \r\nL 47.859375 7.5625 \r\nL 47.859375 0 \r\nz\r\n\" id=\"ArialMT-122\"/>\r\n        <path d=\"M 9.078125 0 \r\nL 9.078125 10.015625 \r\nL 19.09375 10.015625 \r\nL 19.09375 0 \r\nz\r\n\" id=\"ArialMT-46\"/>\r\n       </defs>\r\n       <use xlink:href=\"#ArialMT-70\"/>\r\n       <use x=\"61.083984\" xlink:href=\"#ArialMT-101\"/>\r\n       <use x=\"116.699219\" xlink:href=\"#ArialMT-114\"/>\r\n       <use x=\"150\" xlink:href=\"#ArialMT-116\"/>\r\n       <use x=\"177.783203\" xlink:href=\"#ArialMT-105\"/>\r\n       <use x=\"200\" xlink:href=\"#ArialMT-108\"/>\r\n       <use x=\"222.216797\" xlink:href=\"#ArialMT-105\"/>\r\n       <use x=\"244.433594\" xlink:href=\"#ArialMT-122\"/>\r\n       <use x=\"294.433594\" xlink:href=\"#ArialMT-101\"/>\r\n       <use x=\"350.048828\" xlink:href=\"#ArialMT-114\"/>\r\n       <use x=\"383.349609\" xlink:href=\"#ArialMT-115\"/>\r\n       <use x=\"433.349609\" xlink:href=\"#ArialMT-32\"/>\r\n       <use x=\"461.132812\" xlink:href=\"#ArialMT-110\"/>\r\n       <use x=\"516.748047\" xlink:href=\"#ArialMT-46\"/>\r\n       <use x=\"544.53125\" xlink:href=\"#ArialMT-101\"/>\r\n       <use x=\"600.146484\" xlink:href=\"#ArialMT-46\"/>\r\n       <use x=\"627.929688\" xlink:href=\"#ArialMT-99\"/>\r\n       <use x=\"677.929688\" xlink:href=\"#ArialMT-46\"/>\r\n      </g>\r\n     </g>\r\n    </g>\r\n    <g id=\"xtick_7\">\r\n     <g id=\"text_7\">\r\n      <!-- Monoammonium phosphate (MAP) -->\r\n      <g style=\"fill:#262626;\" transform=\"translate(374.783523 596.0725)rotate(-90)scale(0.1 -0.1)\">\r\n       <defs>\r\n        <path d=\"M 7.421875 0 \r\nL 7.421875 71.578125 \r\nL 21.6875 71.578125 \r\nL 38.625 20.90625 \r\nQ 40.96875 13.8125 42.046875 10.296875 \r\nQ 43.265625 14.203125 45.84375 21.78125 \r\nL 62.984375 71.578125 \r\nL 75.734375 71.578125 \r\nL 75.734375 0 \r\nL 66.609375 0 \r\nL 66.609375 59.90625 \r\nL 45.796875 0 \r\nL 37.25 0 \r\nL 16.546875 60.9375 \r\nL 16.546875 0 \r\nz\r\n\" id=\"ArialMT-77\"/>\r\n       </defs>\r\n       <use xlink:href=\"#ArialMT-77\"/>\r\n       <use x=\"83.300781\" xlink:href=\"#ArialMT-111\"/>\r\n       <use x=\"138.916016\" xlink:href=\"#ArialMT-110\"/>\r\n       <use x=\"194.53125\" xlink:href=\"#ArialMT-111\"/>\r\n       <use x=\"250.146484\" xlink:href=\"#ArialMT-97\"/>\r\n       <use x=\"305.761719\" xlink:href=\"#ArialMT-109\"/>\r\n       <use x=\"389.0625\" xlink:href=\"#ArialMT-109\"/>\r\n       <use x=\"472.363281\" xlink:href=\"#ArialMT-111\"/>\r\n       <use x=\"527.978516\" xlink:href=\"#ArialMT-110\"/>\r\n       <use x=\"583.59375\" xlink:href=\"#ArialMT-105\"/>\r\n       <use x=\"605.810547\" xlink:href=\"#ArialMT-117\"/>\r\n       <use x=\"661.425781\" xlink:href=\"#ArialMT-109\"/>\r\n       <use x=\"744.726562\" xlink:href=\"#ArialMT-32\"/>\r\n       <use x=\"772.509766\" xlink:href=\"#ArialMT-112\"/>\r\n       <use x=\"828.125\" xlink:href=\"#ArialMT-104\"/>\r\n       <use x=\"883.740234\" xlink:href=\"#ArialMT-111\"/>\r\n       <use x=\"939.355469\" xlink:href=\"#ArialMT-115\"/>\r\n       <use x=\"989.355469\" xlink:href=\"#ArialMT-112\"/>\r\n       <use x=\"1044.970703\" xlink:href=\"#ArialMT-104\"/>\r\n       <use x=\"1100.585938\" xlink:href=\"#ArialMT-97\"/>\r\n       <use x=\"1156.201172\" xlink:href=\"#ArialMT-116\"/>\r\n       <use x=\"1183.984375\" xlink:href=\"#ArialMT-101\"/>\r\n       <use x=\"1239.599609\" xlink:href=\"#ArialMT-32\"/>\r\n       <use x=\"1267.382812\" xlink:href=\"#ArialMT-40\"/>\r\n       <use x=\"1300.683594\" xlink:href=\"#ArialMT-77\"/>\r\n       <use x=\"1383.984375\" xlink:href=\"#ArialMT-65\"/>\r\n       <use x=\"1450.683594\" xlink:href=\"#ArialMT-80\"/>\r\n       <use x=\"1517.382812\" xlink:href=\"#ArialMT-41\"/>\r\n      </g>\r\n     </g>\r\n    </g>\r\n    <g id=\"xtick_8\">\r\n     <g id=\"text_8\">\r\n      <!-- NPK fertilizers -->\r\n      <g style=\"fill:#262626;\" transform=\"translate(425.508452 504.358437)rotate(-90)scale(0.1 -0.1)\">\r\n       <defs>\r\n        <path d=\"M 7.328125 0 \r\nL 7.328125 71.578125 \r\nL 16.796875 71.578125 \r\nL 16.796875 36.078125 \r\nL 52.34375 71.578125 \r\nL 65.1875 71.578125 \r\nL 35.15625 42.578125 \r\nL 66.5 0 \r\nL 54 0 \r\nL 28.515625 36.234375 \r\nL 16.796875 24.8125 \r\nL 16.796875 0 \r\nz\r\n\" id=\"ArialMT-75\"/>\r\n        <path d=\"M 8.6875 0 \r\nL 8.6875 45.015625 \r\nL 0.921875 45.015625 \r\nL 0.921875 51.859375 \r\nL 8.6875 51.859375 \r\nL 8.6875 57.375 \r\nQ 8.6875 62.59375 9.625 65.140625 \r\nQ 10.890625 68.5625 14.078125 70.671875 \r\nQ 17.28125 72.796875 23.046875 72.796875 \r\nQ 26.765625 72.796875 31.25 71.921875 \r\nL 29.9375 64.265625 \r\nQ 27.203125 64.75 24.75 64.75 \r\nQ 20.75 64.75 19.09375 63.03125 \r\nQ 17.4375 61.328125 17.4375 56.640625 \r\nL 17.4375 51.859375 \r\nL 27.546875 51.859375 \r\nL 27.546875 45.015625 \r\nL 17.4375 45.015625 \r\nL 17.4375 0 \r\nz\r\n\" id=\"ArialMT-102\"/>\r\n       </defs>\r\n       <use xlink:href=\"#ArialMT-78\"/>\r\n       <use x=\"72.216797\" xlink:href=\"#ArialMT-80\"/>\r\n       <use x=\"138.916016\" xlink:href=\"#ArialMT-75\"/>\r\n       <use x=\"205.615234\" xlink:href=\"#ArialMT-32\"/>\r\n       <use x=\"233.398438\" xlink:href=\"#ArialMT-102\"/>\r\n       <use x=\"261.181641\" xlink:href=\"#ArialMT-101\"/>\r\n       <use x=\"316.796875\" xlink:href=\"#ArialMT-114\"/>\r\n       <use x=\"350.097656\" xlink:href=\"#ArialMT-116\"/>\r\n       <use x=\"377.880859\" xlink:href=\"#ArialMT-105\"/>\r\n       <use x=\"400.097656\" xlink:href=\"#ArialMT-108\"/>\r\n       <use x=\"422.314453\" xlink:href=\"#ArialMT-105\"/>\r\n       <use x=\"444.53125\" xlink:href=\"#ArialMT-122\"/>\r\n       <use x=\"494.53125\" xlink:href=\"#ArialMT-101\"/>\r\n       <use x=\"550.146484\" xlink:href=\"#ArialMT-114\"/>\r\n       <use x=\"583.447266\" xlink:href=\"#ArialMT-115\"/>\r\n      </g>\r\n     </g>\r\n    </g>\r\n    <g id=\"xtick_9\">\r\n     <g id=\"text_9\">\r\n      <!-- Other nitrogenous fertilizers, n.e.c. -->\r\n      <g style=\"fill:#262626;\" transform=\"translate(476.241193 593.850625)rotate(-90)scale(0.1 -0.1)\">\r\n       <defs>\r\n        <path d=\"M 4.828125 34.859375 \r\nQ 4.828125 52.6875 14.390625 62.765625 \r\nQ 23.96875 72.859375 39.109375 72.859375 \r\nQ 49.03125 72.859375 56.984375 68.109375 \r\nQ 64.9375 63.375 69.109375 54.90625 \r\nQ 73.296875 46.4375 73.296875 35.6875 \r\nQ 73.296875 24.8125 68.890625 16.21875 \r\nQ 64.5 7.625 56.4375 3.203125 \r\nQ 48.390625 -1.21875 39.0625 -1.21875 \r\nQ 28.953125 -1.21875 20.984375 3.65625 \r\nQ 13.03125 8.546875 8.921875 16.984375 \r\nQ 4.828125 25.4375 4.828125 34.859375 \r\nz\r\nM 14.59375 34.71875 \r\nQ 14.59375 21.78125 21.546875 14.328125 \r\nQ 28.515625 6.890625 39.015625 6.890625 \r\nQ 49.703125 6.890625 56.609375 14.40625 \r\nQ 63.53125 21.921875 63.53125 35.75 \r\nQ 63.53125 44.484375 60.578125 51 \r\nQ 57.625 57.515625 51.921875 61.109375 \r\nQ 46.234375 64.703125 39.15625 64.703125 \r\nQ 29.109375 64.703125 21.84375 57.78125 \r\nQ 14.59375 50.875 14.59375 34.71875 \r\nz\r\n\" id=\"ArialMT-79\"/>\r\n        <path d=\"M 4.984375 -4.296875 \r\nL 13.53125 -5.5625 \r\nQ 14.0625 -9.515625 16.5 -11.328125 \r\nQ 19.78125 -13.765625 25.4375 -13.765625 \r\nQ 31.546875 -13.765625 34.859375 -11.328125 \r\nQ 38.1875 -8.890625 39.359375 -4.5 \r\nQ 40.046875 -1.8125 39.984375 6.78125 \r\nQ 34.234375 0 25.640625 0 \r\nQ 14.9375 0 9.078125 7.71875 \r\nQ 3.21875 15.4375 3.21875 26.21875 \r\nQ 3.21875 33.640625 5.90625 39.90625 \r\nQ 8.59375 46.1875 13.6875 49.609375 \r\nQ 18.796875 53.03125 25.6875 53.03125 \r\nQ 34.859375 53.03125 40.828125 45.609375 \r\nL 40.828125 51.859375 \r\nL 48.921875 51.859375 \r\nL 48.921875 7.03125 \r\nQ 48.921875 -5.078125 46.453125 -10.125 \r\nQ 44 -15.1875 38.640625 -18.109375 \r\nQ 33.296875 -21.046875 25.484375 -21.046875 \r\nQ 16.21875 -21.046875 10.5 -16.875 \r\nQ 4.78125 -12.703125 4.984375 -4.296875 \r\nz\r\nM 12.25 26.859375 \r\nQ 12.25 16.65625 16.296875 11.96875 \r\nQ 20.359375 7.28125 26.46875 7.28125 \r\nQ 32.515625 7.28125 36.609375 11.9375 \r\nQ 40.71875 16.609375 40.71875 26.5625 \r\nQ 40.71875 36.078125 36.5 40.90625 \r\nQ 32.28125 45.75 26.3125 45.75 \r\nQ 20.453125 45.75 16.34375 40.984375 \r\nQ 12.25 36.234375 12.25 26.859375 \r\nz\r\n\" id=\"ArialMT-103\"/>\r\n       </defs>\r\n       <use xlink:href=\"#ArialMT-79\"/>\r\n       <use x=\"77.783203\" xlink:href=\"#ArialMT-116\"/>\r\n       <use x=\"105.566406\" xlink:href=\"#ArialMT-104\"/>\r\n       <use x=\"161.181641\" xlink:href=\"#ArialMT-101\"/>\r\n       <use x=\"216.796875\" xlink:href=\"#ArialMT-114\"/>\r\n       <use x=\"250.097656\" xlink:href=\"#ArialMT-32\"/>\r\n       <use x=\"277.880859\" xlink:href=\"#ArialMT-110\"/>\r\n       <use x=\"333.496094\" xlink:href=\"#ArialMT-105\"/>\r\n       <use x=\"355.712891\" xlink:href=\"#ArialMT-116\"/>\r\n       <use x=\"383.496094\" xlink:href=\"#ArialMT-114\"/>\r\n       <use x=\"416.796875\" xlink:href=\"#ArialMT-111\"/>\r\n       <use x=\"472.412109\" xlink:href=\"#ArialMT-103\"/>\r\n       <use x=\"528.027344\" xlink:href=\"#ArialMT-101\"/>\r\n       <use x=\"583.642578\" xlink:href=\"#ArialMT-110\"/>\r\n       <use x=\"639.257812\" xlink:href=\"#ArialMT-111\"/>\r\n       <use x=\"694.873047\" xlink:href=\"#ArialMT-117\"/>\r\n       <use x=\"750.488281\" xlink:href=\"#ArialMT-115\"/>\r\n       <use x=\"800.488281\" xlink:href=\"#ArialMT-32\"/>\r\n       <use x=\"828.271484\" xlink:href=\"#ArialMT-102\"/>\r\n       <use x=\"856.054688\" xlink:href=\"#ArialMT-101\"/>\r\n       <use x=\"911.669922\" xlink:href=\"#ArialMT-114\"/>\r\n       <use x=\"944.970703\" xlink:href=\"#ArialMT-116\"/>\r\n       <use x=\"972.753906\" xlink:href=\"#ArialMT-105\"/>\r\n       <use x=\"994.970703\" xlink:href=\"#ArialMT-108\"/>\r\n       <use x=\"1017.1875\" xlink:href=\"#ArialMT-105\"/>\r\n       <use x=\"1039.404297\" xlink:href=\"#ArialMT-122\"/>\r\n       <use x=\"1089.404297\" xlink:href=\"#ArialMT-101\"/>\r\n       <use x=\"1145.019531\" xlink:href=\"#ArialMT-114\"/>\r\n       <use x=\"1178.320312\" xlink:href=\"#ArialMT-115\"/>\r\n       <use x=\"1228.320312\" xlink:href=\"#ArialMT-44\"/>\r\n       <use x=\"1256.103516\" xlink:href=\"#ArialMT-32\"/>\r\n       <use x=\"1283.886719\" xlink:href=\"#ArialMT-110\"/>\r\n       <use x=\"1339.501953\" xlink:href=\"#ArialMT-46\"/>\r\n       <use x=\"1367.285156\" xlink:href=\"#ArialMT-101\"/>\r\n       <use x=\"1422.900391\" xlink:href=\"#ArialMT-46\"/>\r\n       <use x=\"1450.683594\" xlink:href=\"#ArialMT-99\"/>\r\n       <use x=\"1500.683594\" xlink:href=\"#ArialMT-46\"/>\r\n      </g>\r\n     </g>\r\n    </g>\r\n    <g id=\"xtick_10\">\r\n     <g id=\"text_10\">\r\n      <!-- Other NP compounds -->\r\n      <g style=\"fill:#262626;\" transform=\"translate(527.02706 536.99125)rotate(-90)scale(0.1 -0.1)\">\r\n       <use xlink:href=\"#ArialMT-79\"/>\r\n       <use x=\"77.783203\" xlink:href=\"#ArialMT-116\"/>\r\n       <use x=\"105.566406\" xlink:href=\"#ArialMT-104\"/>\r\n       <use x=\"161.181641\" xlink:href=\"#ArialMT-101\"/>\r\n       <use x=\"216.796875\" xlink:href=\"#ArialMT-114\"/>\r\n       <use x=\"250.097656\" xlink:href=\"#ArialMT-32\"/>\r\n       <use x=\"277.880859\" xlink:href=\"#ArialMT-78\"/>\r\n       <use x=\"350.097656\" xlink:href=\"#ArialMT-80\"/>\r\n       <use x=\"415.046875\" xlink:href=\"#ArialMT-32\"/>\r\n       <use x=\"442.830078\" xlink:href=\"#ArialMT-99\"/>\r\n       <use x=\"492.830078\" xlink:href=\"#ArialMT-111\"/>\r\n       <use x=\"548.445312\" xlink:href=\"#ArialMT-109\"/>\r\n       <use x=\"631.746094\" xlink:href=\"#ArialMT-112\"/>\r\n       <use x=\"687.361328\" xlink:href=\"#ArialMT-111\"/>\r\n       <use x=\"742.976562\" xlink:href=\"#ArialMT-117\"/>\r\n       <use x=\"798.591797\" xlink:href=\"#ArialMT-110\"/>\r\n       <use x=\"854.207031\" xlink:href=\"#ArialMT-100\"/>\r\n       <use x=\"909.822266\" xlink:href=\"#ArialMT-115\"/>\r\n      </g>\r\n     </g>\r\n    </g>\r\n    <g id=\"xtick_11\">\r\n     <g id=\"text_11\">\r\n      <!-- Other phosphatic fertilizers, n.e.c. -->\r\n      <g style=\"fill:#262626;\" transform=\"translate(577.754332 589.96)rotate(-90)scale(0.1 -0.1)\">\r\n       <use xlink:href=\"#ArialMT-79\"/>\r\n       <use x=\"77.783203\" xlink:href=\"#ArialMT-116\"/>\r\n       <use x=\"105.566406\" xlink:href=\"#ArialMT-104\"/>\r\n       <use x=\"161.181641\" xlink:href=\"#ArialMT-101\"/>\r\n       <use x=\"216.796875\" xlink:href=\"#ArialMT-114\"/>\r\n       <use x=\"250.097656\" xlink:href=\"#ArialMT-32\"/>\r\n       <use x=\"277.880859\" xlink:href=\"#ArialMT-112\"/>\r\n       <use x=\"333.496094\" xlink:href=\"#ArialMT-104\"/>\r\n       <use x=\"389.111328\" xlink:href=\"#ArialMT-111\"/>\r\n       <use x=\"444.726562\" xlink:href=\"#ArialMT-115\"/>\r\n       <use x=\"494.726562\" xlink:href=\"#ArialMT-112\"/>\r\n       <use x=\"550.341797\" xlink:href=\"#ArialMT-104\"/>\r\n       <use x=\"605.957031\" xlink:href=\"#ArialMT-97\"/>\r\n       <use x=\"661.572266\" xlink:href=\"#ArialMT-116\"/>\r\n       <use x=\"689.355469\" xlink:href=\"#ArialMT-105\"/>\r\n       <use x=\"711.572266\" xlink:href=\"#ArialMT-99\"/>\r\n       <use x=\"761.572266\" xlink:href=\"#ArialMT-32\"/>\r\n       <use x=\"789.355469\" xlink:href=\"#ArialMT-102\"/>\r\n       <use x=\"817.138672\" xlink:href=\"#ArialMT-101\"/>\r\n       <use x=\"872.753906\" xlink:href=\"#ArialMT-114\"/>\r\n       <use x=\"906.054688\" xlink:href=\"#ArialMT-116\"/>\r\n       <use x=\"933.837891\" xlink:href=\"#ArialMT-105\"/>\r\n       <use x=\"956.054688\" xlink:href=\"#ArialMT-108\"/>\r\n       <use x=\"978.271484\" xlink:href=\"#ArialMT-105\"/>\r\n       <use x=\"1000.488281\" xlink:href=\"#ArialMT-122\"/>\r\n       <use x=\"1050.488281\" xlink:href=\"#ArialMT-101\"/>\r\n       <use x=\"1106.103516\" xlink:href=\"#ArialMT-114\"/>\r\n       <use x=\"1139.404297\" xlink:href=\"#ArialMT-115\"/>\r\n       <use x=\"1189.404297\" xlink:href=\"#ArialMT-44\"/>\r\n       <use x=\"1217.1875\" xlink:href=\"#ArialMT-32\"/>\r\n       <use x=\"1244.970703\" xlink:href=\"#ArialMT-110\"/>\r\n       <use x=\"1300.585938\" xlink:href=\"#ArialMT-46\"/>\r\n       <use x=\"1328.369141\" xlink:href=\"#ArialMT-101\"/>\r\n       <use x=\"1383.984375\" xlink:href=\"#ArialMT-46\"/>\r\n       <use x=\"1411.767578\" xlink:href=\"#ArialMT-99\"/>\r\n       <use x=\"1461.767578\" xlink:href=\"#ArialMT-46\"/>\r\n      </g>\r\n     </g>\r\n    </g>\r\n    <g id=\"xtick_12\">\r\n     <g id=\"text_12\">\r\n      <!-- Other potassic fertilizers, n.e.c. -->\r\n      <g style=\"fill:#262626;\" transform=\"translate(628.481605 578.277187)rotate(-90)scale(0.1 -0.1)\">\r\n       <use xlink:href=\"#ArialMT-79\"/>\r\n       <use x=\"77.783203\" xlink:href=\"#ArialMT-116\"/>\r\n       <use x=\"105.566406\" xlink:href=\"#ArialMT-104\"/>\r\n       <use x=\"161.181641\" xlink:href=\"#ArialMT-101\"/>\r\n       <use x=\"216.796875\" xlink:href=\"#ArialMT-114\"/>\r\n       <use x=\"250.097656\" xlink:href=\"#ArialMT-32\"/>\r\n       <use x=\"277.880859\" xlink:href=\"#ArialMT-112\"/>\r\n       <use x=\"333.496094\" xlink:href=\"#ArialMT-111\"/>\r\n       <use x=\"389.111328\" xlink:href=\"#ArialMT-116\"/>\r\n       <use x=\"416.894531\" xlink:href=\"#ArialMT-97\"/>\r\n       <use x=\"472.509766\" xlink:href=\"#ArialMT-115\"/>\r\n       <use x=\"522.509766\" xlink:href=\"#ArialMT-115\"/>\r\n       <use x=\"572.509766\" xlink:href=\"#ArialMT-105\"/>\r\n       <use x=\"594.726562\" xlink:href=\"#ArialMT-99\"/>\r\n       <use x=\"644.726562\" xlink:href=\"#ArialMT-32\"/>\r\n       <use x=\"672.509766\" xlink:href=\"#ArialMT-102\"/>\r\n       <use x=\"700.292969\" xlink:href=\"#ArialMT-101\"/>\r\n       <use x=\"755.908203\" xlink:href=\"#ArialMT-114\"/>\r\n       <use x=\"789.208984\" xlink:href=\"#ArialMT-116\"/>\r\n       <use x=\"816.992188\" xlink:href=\"#ArialMT-105\"/>\r\n       <use x=\"839.208984\" xlink:href=\"#ArialMT-108\"/>\r\n       <use x=\"861.425781\" xlink:href=\"#ArialMT-105\"/>\r\n       <use x=\"883.642578\" xlink:href=\"#ArialMT-122\"/>\r\n       <use x=\"933.642578\" xlink:href=\"#ArialMT-101\"/>\r\n       <use x=\"989.257812\" xlink:href=\"#ArialMT-114\"/>\r\n       <use x=\"1022.558594\" xlink:href=\"#ArialMT-115\"/>\r\n       <use x=\"1072.558594\" xlink:href=\"#ArialMT-44\"/>\r\n       <use x=\"1100.341797\" xlink:href=\"#ArialMT-32\"/>\r\n       <use x=\"1128.125\" xlink:href=\"#ArialMT-110\"/>\r\n       <use x=\"1183.740234\" xlink:href=\"#ArialMT-46\"/>\r\n       <use x=\"1211.523438\" xlink:href=\"#ArialMT-101\"/>\r\n       <use x=\"1267.138672\" xlink:href=\"#ArialMT-46\"/>\r\n       <use x=\"1294.921875\" xlink:href=\"#ArialMT-99\"/>\r\n       <use x=\"1344.921875\" xlink:href=\"#ArialMT-46\"/>\r\n      </g>\r\n     </g>\r\n    </g>\r\n    <g id=\"xtick_13\">\r\n     <g id=\"text_13\">\r\n      <!-- Phosphate rock -->\r\n      <g style=\"fill:#262626;\" transform=\"translate(679.144815 510.4975)rotate(-90)scale(0.1 -0.1)\">\r\n       <defs>\r\n        <path d=\"M 6.640625 0 \r\nL 6.640625 71.578125 \r\nL 15.4375 71.578125 \r\nL 15.4375 30.765625 \r\nL 36.234375 51.859375 \r\nL 47.609375 51.859375 \r\nL 27.78125 32.625 \r\nL 49.609375 0 \r\nL 38.765625 0 \r\nL 21.625 26.515625 \r\nL 15.4375 20.5625 \r\nL 15.4375 0 \r\nz\r\n\" id=\"ArialMT-107\"/>\r\n       </defs>\r\n       <use xlink:href=\"#ArialMT-80\"/>\r\n       <use x=\"66.699219\" xlink:href=\"#ArialMT-104\"/>\r\n       <use x=\"122.314453\" xlink:href=\"#ArialMT-111\"/>\r\n       <use x=\"177.929688\" xlink:href=\"#ArialMT-115\"/>\r\n       <use x=\"227.929688\" xlink:href=\"#ArialMT-112\"/>\r\n       <use x=\"283.544922\" xlink:href=\"#ArialMT-104\"/>\r\n       <use x=\"339.160156\" xlink:href=\"#ArialMT-97\"/>\r\n       <use x=\"394.775391\" xlink:href=\"#ArialMT-116\"/>\r\n       <use x=\"422.558594\" xlink:href=\"#ArialMT-101\"/>\r\n       <use x=\"478.173828\" xlink:href=\"#ArialMT-32\"/>\r\n       <use x=\"505.957031\" xlink:href=\"#ArialMT-114\"/>\r\n       <use x=\"539.257812\" xlink:href=\"#ArialMT-111\"/>\r\n       <use x=\"594.873047\" xlink:href=\"#ArialMT-99\"/>\r\n       <use x=\"644.873047\" xlink:href=\"#ArialMT-107\"/>\r\n      </g>\r\n     </g>\r\n    </g>\r\n    <g id=\"xtick_14\">\r\n     <g id=\"text_14\">\r\n      <!-- PK compounds -->\r\n      <g style=\"fill:#262626;\" transform=\"translate(729.872088 508.82875)rotate(-90)scale(0.1 -0.1)\">\r\n       <use xlink:href=\"#ArialMT-80\"/>\r\n       <use x=\"66.699219\" xlink:href=\"#ArialMT-75\"/>\r\n       <use x=\"133.398438\" xlink:href=\"#ArialMT-32\"/>\r\n       <use x=\"161.181641\" xlink:href=\"#ArialMT-99\"/>\r\n       <use x=\"211.181641\" xlink:href=\"#ArialMT-111\"/>\r\n       <use x=\"266.796875\" xlink:href=\"#ArialMT-109\"/>\r\n       <use x=\"350.097656\" xlink:href=\"#ArialMT-112\"/>\r\n       <use x=\"405.712891\" xlink:href=\"#ArialMT-111\"/>\r\n       <use x=\"461.328125\" xlink:href=\"#ArialMT-117\"/>\r\n       <use x=\"516.943359\" xlink:href=\"#ArialMT-110\"/>\r\n       <use x=\"572.558594\" xlink:href=\"#ArialMT-100\"/>\r\n       <use x=\"628.173828\" xlink:href=\"#ArialMT-115\"/>\r\n      </g>\r\n     </g>\r\n    </g>\r\n    <g id=\"xtick_15\">\r\n     <g id=\"text_15\">\r\n      <!-- Potassium chloride (muriate of potash) (MOP) -->\r\n      <g style=\"fill:#262626;\" transform=\"translate(780.60483 644.405312)rotate(-90)scale(0.1 -0.1)\">\r\n       <use xlink:href=\"#ArialMT-80\"/>\r\n       <use x=\"66.699219\" xlink:href=\"#ArialMT-111\"/>\r\n       <use x=\"122.314453\" xlink:href=\"#ArialMT-116\"/>\r\n       <use x=\"150.097656\" xlink:href=\"#ArialMT-97\"/>\r\n       <use x=\"205.712891\" xlink:href=\"#ArialMT-115\"/>\r\n       <use x=\"255.712891\" xlink:href=\"#ArialMT-115\"/>\r\n       <use x=\"305.712891\" xlink:href=\"#ArialMT-105\"/>\r\n       <use x=\"327.929688\" xlink:href=\"#ArialMT-117\"/>\r\n       <use x=\"383.544922\" xlink:href=\"#ArialMT-109\"/>\r\n       <use x=\"466.845703\" xlink:href=\"#ArialMT-32\"/>\r\n       <use x=\"494.628906\" xlink:href=\"#ArialMT-99\"/>\r\n       <use x=\"544.628906\" xlink:href=\"#ArialMT-104\"/>\r\n       <use x=\"600.244141\" xlink:href=\"#ArialMT-108\"/>\r\n       <use x=\"622.460938\" xlink:href=\"#ArialMT-111\"/>\r\n       <use x=\"678.076172\" xlink:href=\"#ArialMT-114\"/>\r\n       <use x=\"711.376953\" xlink:href=\"#ArialMT-105\"/>\r\n       <use x=\"733.59375\" xlink:href=\"#ArialMT-100\"/>\r\n       <use x=\"789.208984\" xlink:href=\"#ArialMT-101\"/>\r\n       <use x=\"844.824219\" xlink:href=\"#ArialMT-32\"/>\r\n       <use x=\"872.607422\" xlink:href=\"#ArialMT-40\"/>\r\n       <use x=\"905.908203\" xlink:href=\"#ArialMT-109\"/>\r\n       <use x=\"989.208984\" xlink:href=\"#ArialMT-117\"/>\r\n       <use x=\"1044.824219\" xlink:href=\"#ArialMT-114\"/>\r\n       <use x=\"1078.125\" xlink:href=\"#ArialMT-105\"/>\r\n       <use x=\"1100.341797\" xlink:href=\"#ArialMT-97\"/>\r\n       <use x=\"1155.957031\" xlink:href=\"#ArialMT-116\"/>\r\n       <use x=\"1183.740234\" xlink:href=\"#ArialMT-101\"/>\r\n       <use x=\"1239.355469\" xlink:href=\"#ArialMT-32\"/>\r\n       <use x=\"1267.138672\" xlink:href=\"#ArialMT-111\"/>\r\n       <use x=\"1322.753906\" xlink:href=\"#ArialMT-102\"/>\r\n       <use x=\"1350.537109\" xlink:href=\"#ArialMT-32\"/>\r\n       <use x=\"1378.320312\" xlink:href=\"#ArialMT-112\"/>\r\n       <use x=\"1433.935547\" xlink:href=\"#ArialMT-111\"/>\r\n       <use x=\"1489.550781\" xlink:href=\"#ArialMT-116\"/>\r\n       <use x=\"1517.333984\" xlink:href=\"#ArialMT-97\"/>\r\n       <use x=\"1572.949219\" xlink:href=\"#ArialMT-115\"/>\r\n       <use x=\"1622.949219\" xlink:href=\"#ArialMT-104\"/>\r\n       <use x=\"1678.564453\" xlink:href=\"#ArialMT-41\"/>\r\n       <use x=\"1711.865234\" xlink:href=\"#ArialMT-32\"/>\r\n       <use x=\"1739.648438\" xlink:href=\"#ArialMT-40\"/>\r\n       <use x=\"1772.949219\" xlink:href=\"#ArialMT-77\"/>\r\n       <use x=\"1856.25\" xlink:href=\"#ArialMT-79\"/>\r\n       <use x=\"1934.033203\" xlink:href=\"#ArialMT-80\"/>\r\n       <use x=\"2000.732422\" xlink:href=\"#ArialMT-41\"/>\r\n      </g>\r\n     </g>\r\n    </g>\r\n    <g id=\"xtick_16\">\r\n     <g id=\"text_16\">\r\n      <!-- Potassium nitrate -->\r\n      <g style=\"fill:#262626;\" transform=\"translate(831.326634 518.26625)rotate(-90)scale(0.1 -0.1)\">\r\n       <use xlink:href=\"#ArialMT-80\"/>\r\n       <use x=\"66.699219\" xlink:href=\"#ArialMT-111\"/>\r\n       <use x=\"122.314453\" xlink:href=\"#ArialMT-116\"/>\r\n       <use x=\"150.097656\" xlink:href=\"#ArialMT-97\"/>\r\n       <use x=\"205.712891\" xlink:href=\"#ArialMT-115\"/>\r\n       <use x=\"255.712891\" xlink:href=\"#ArialMT-115\"/>\r\n       <use x=\"305.712891\" xlink:href=\"#ArialMT-105\"/>\r\n       <use x=\"327.929688\" xlink:href=\"#ArialMT-117\"/>\r\n       <use x=\"383.544922\" xlink:href=\"#ArialMT-109\"/>\r\n       <use x=\"466.845703\" xlink:href=\"#ArialMT-32\"/>\r\n       <use x=\"494.628906\" xlink:href=\"#ArialMT-110\"/>\r\n       <use x=\"550.244141\" xlink:href=\"#ArialMT-105\"/>\r\n       <use x=\"572.460938\" xlink:href=\"#ArialMT-116\"/>\r\n       <use x=\"600.244141\" xlink:href=\"#ArialMT-114\"/>\r\n       <use x=\"633.544922\" xlink:href=\"#ArialMT-97\"/>\r\n       <use x=\"689.160156\" xlink:href=\"#ArialMT-116\"/>\r\n       <use x=\"716.943359\" xlink:href=\"#ArialMT-101\"/>\r\n      </g>\r\n     </g>\r\n    </g>\r\n    <g id=\"xtick_17\">\r\n     <g id=\"text_17\">\r\n      <!-- Potassium sulphate (sulphate of potash) (SOP) -->\r\n      <g style=\"fill:#262626;\" transform=\"translate(882.059375 649.995937)rotate(-90)scale(0.1 -0.1)\">\r\n       <defs>\r\n        <path d=\"M 4.5 23 \r\nL 13.421875 23.78125 \r\nQ 14.0625 18.40625 16.375 14.96875 \r\nQ 18.703125 11.53125 23.578125 9.40625 \r\nQ 28.46875 7.28125 34.578125 7.28125 \r\nQ 39.984375 7.28125 44.140625 8.890625 \r\nQ 48.296875 10.5 50.3125 13.296875 \r\nQ 52.34375 16.109375 52.34375 19.4375 \r\nQ 52.34375 22.796875 50.390625 25.3125 \r\nQ 48.4375 27.828125 43.953125 29.546875 \r\nQ 41.0625 30.671875 31.203125 33.03125 \r\nQ 21.34375 35.40625 17.390625 37.5 \r\nQ 12.25 40.1875 9.734375 44.15625 \r\nQ 7.234375 48.140625 7.234375 53.078125 \r\nQ 7.234375 58.5 10.296875 63.203125 \r\nQ 13.375 67.921875 19.28125 70.359375 \r\nQ 25.203125 72.796875 32.421875 72.796875 \r\nQ 40.375 72.796875 46.453125 70.234375 \r\nQ 52.546875 67.671875 55.8125 62.6875 \r\nQ 59.078125 57.71875 59.328125 51.421875 \r\nL 50.25 50.734375 \r\nQ 49.515625 57.515625 45.28125 60.984375 \r\nQ 41.0625 64.453125 32.8125 64.453125 \r\nQ 24.21875 64.453125 20.28125 61.296875 \r\nQ 16.359375 58.15625 16.359375 53.71875 \r\nQ 16.359375 49.859375 19.140625 47.359375 \r\nQ 21.875 44.875 33.421875 42.265625 \r\nQ 44.96875 39.65625 49.265625 37.703125 \r\nQ 55.515625 34.8125 58.484375 30.390625 \r\nQ 61.46875 25.984375 61.46875 20.21875 \r\nQ 61.46875 14.5 58.203125 9.4375 \r\nQ 54.9375 4.390625 48.796875 1.578125 \r\nQ 42.671875 -1.21875 35.015625 -1.21875 \r\nQ 25.296875 -1.21875 18.71875 1.609375 \r\nQ 12.15625 4.4375 8.421875 10.125 \r\nQ 4.6875 15.828125 4.5 23 \r\nz\r\n\" id=\"ArialMT-83\"/>\r\n       </defs>\r\n       <use xlink:href=\"#ArialMT-80\"/>\r\n       <use x=\"66.699219\" xlink:href=\"#ArialMT-111\"/>\r\n       <use x=\"122.314453\" xlink:href=\"#ArialMT-116\"/>\r\n       <use x=\"150.097656\" xlink:href=\"#ArialMT-97\"/>\r\n       <use x=\"205.712891\" xlink:href=\"#ArialMT-115\"/>\r\n       <use x=\"255.712891\" xlink:href=\"#ArialMT-115\"/>\r\n       <use x=\"305.712891\" xlink:href=\"#ArialMT-105\"/>\r\n       <use x=\"327.929688\" xlink:href=\"#ArialMT-117\"/>\r\n       <use x=\"383.544922\" xlink:href=\"#ArialMT-109\"/>\r\n       <use x=\"466.845703\" xlink:href=\"#ArialMT-32\"/>\r\n       <use x=\"494.628906\" xlink:href=\"#ArialMT-115\"/>\r\n       <use x=\"544.628906\" xlink:href=\"#ArialMT-117\"/>\r\n       <use x=\"600.244141\" xlink:href=\"#ArialMT-108\"/>\r\n       <use x=\"622.460938\" xlink:href=\"#ArialMT-112\"/>\r\n       <use x=\"678.076172\" xlink:href=\"#ArialMT-104\"/>\r\n       <use x=\"733.691406\" xlink:href=\"#ArialMT-97\"/>\r\n       <use x=\"789.306641\" xlink:href=\"#ArialMT-116\"/>\r\n       <use x=\"817.089844\" xlink:href=\"#ArialMT-101\"/>\r\n       <use x=\"872.705078\" xlink:href=\"#ArialMT-32\"/>\r\n       <use x=\"900.488281\" xlink:href=\"#ArialMT-40\"/>\r\n       <use x=\"933.789062\" xlink:href=\"#ArialMT-115\"/>\r\n       <use x=\"983.789062\" xlink:href=\"#ArialMT-117\"/>\r\n       <use x=\"1039.404297\" xlink:href=\"#ArialMT-108\"/>\r\n       <use x=\"1061.621094\" xlink:href=\"#ArialMT-112\"/>\r\n       <use x=\"1117.236328\" xlink:href=\"#ArialMT-104\"/>\r\n       <use x=\"1172.851562\" xlink:href=\"#ArialMT-97\"/>\r\n       <use x=\"1228.466797\" xlink:href=\"#ArialMT-116\"/>\r\n       <use x=\"1256.25\" xlink:href=\"#ArialMT-101\"/>\r\n       <use x=\"1311.865234\" xlink:href=\"#ArialMT-32\"/>\r\n       <use x=\"1339.648438\" xlink:href=\"#ArialMT-111\"/>\r\n       <use x=\"1395.263672\" xlink:href=\"#ArialMT-102\"/>\r\n       <use x=\"1423.046875\" xlink:href=\"#ArialMT-32\"/>\r\n       <use x=\"1450.830078\" xlink:href=\"#ArialMT-112\"/>\r\n       <use x=\"1506.445312\" xlink:href=\"#ArialMT-111\"/>\r\n       <use x=\"1562.060547\" xlink:href=\"#ArialMT-116\"/>\r\n       <use x=\"1589.84375\" xlink:href=\"#ArialMT-97\"/>\r\n       <use x=\"1645.458984\" xlink:href=\"#ArialMT-115\"/>\r\n       <use x=\"1695.458984\" xlink:href=\"#ArialMT-104\"/>\r\n       <use x=\"1751.074219\" xlink:href=\"#ArialMT-41\"/>\r\n       <use x=\"1784.375\" xlink:href=\"#ArialMT-32\"/>\r\n       <use x=\"1812.158203\" xlink:href=\"#ArialMT-40\"/>\r\n       <use x=\"1845.458984\" xlink:href=\"#ArialMT-83\"/>\r\n       <use x=\"1912.158203\" xlink:href=\"#ArialMT-79\"/>\r\n       <use x=\"1989.941406\" xlink:href=\"#ArialMT-80\"/>\r\n       <use x=\"2056.640625\" xlink:href=\"#ArialMT-41\"/>\r\n      </g>\r\n     </g>\r\n    </g>\r\n    <g id=\"xtick_18\">\r\n     <g id=\"text_18\">\r\n      <!-- Sodium nitrate -->\r\n      <g style=\"fill:#262626;\" transform=\"translate(932.781179 505.488125)rotate(-90)scale(0.1 -0.1)\">\r\n       <use xlink:href=\"#ArialMT-83\"/>\r\n       <use x=\"66.699219\" xlink:href=\"#ArialMT-111\"/>\r\n       <use x=\"122.314453\" xlink:href=\"#ArialMT-100\"/>\r\n       <use x=\"177.929688\" xlink:href=\"#ArialMT-105\"/>\r\n       <use x=\"200.146484\" xlink:href=\"#ArialMT-117\"/>\r\n       <use x=\"255.761719\" xlink:href=\"#ArialMT-109\"/>\r\n       <use x=\"339.0625\" xlink:href=\"#ArialMT-32\"/>\r\n       <use x=\"366.845703\" xlink:href=\"#ArialMT-110\"/>\r\n       <use x=\"422.460938\" xlink:href=\"#ArialMT-105\"/>\r\n       <use x=\"444.677734\" xlink:href=\"#ArialMT-116\"/>\r\n       <use x=\"472.460938\" xlink:href=\"#ArialMT-114\"/>\r\n       <use x=\"505.761719\" xlink:href=\"#ArialMT-97\"/>\r\n       <use x=\"561.376953\" xlink:href=\"#ArialMT-116\"/>\r\n       <use x=\"589.160156\" xlink:href=\"#ArialMT-101\"/>\r\n      </g>\r\n     </g>\r\n    </g>\r\n    <g id=\"xtick_19\">\r\n     <g id=\"text_19\">\r\n      <!-- Superphosphates above 35% -->\r\n      <g style=\"fill:#262626;\" transform=\"translate(983.569389 572.21625)rotate(-90)scale(0.1 -0.1)\">\r\n       <defs>\r\n        <path d=\"M 21 0 \r\nL 1.265625 51.859375 \r\nL 10.546875 51.859375 \r\nL 21.6875 20.796875 \r\nQ 23.484375 15.765625 25 10.359375 \r\nQ 26.171875 14.453125 28.265625 20.21875 \r\nL 39.796875 51.859375 \r\nL 48.828125 51.859375 \r\nL 29.203125 0 \r\nz\r\n\" id=\"ArialMT-118\"/>\r\n        <path d=\"M 4.203125 18.890625 \r\nL 12.984375 20.0625 \r\nQ 14.5 12.59375 18.140625 9.296875 \r\nQ 21.78125 6 27 6 \r\nQ 33.203125 6 37.46875 10.296875 \r\nQ 41.75 14.59375 41.75 20.953125 \r\nQ 41.75 27 37.796875 30.921875 \r\nQ 33.84375 34.859375 27.734375 34.859375 \r\nQ 25.25 34.859375 21.53125 33.890625 \r\nL 22.515625 41.609375 \r\nQ 23.390625 41.5 23.921875 41.5 \r\nQ 29.546875 41.5 34.03125 44.421875 \r\nQ 38.53125 47.359375 38.53125 53.46875 \r\nQ 38.53125 58.296875 35.25 61.46875 \r\nQ 31.984375 64.65625 26.8125 64.65625 \r\nQ 21.6875 64.65625 18.265625 61.421875 \r\nQ 14.84375 58.203125 13.875 51.765625 \r\nL 5.078125 53.328125 \r\nQ 6.6875 62.15625 12.390625 67.015625 \r\nQ 18.109375 71.875 26.609375 71.875 \r\nQ 32.46875 71.875 37.390625 69.359375 \r\nQ 42.328125 66.84375 44.9375 62.5 \r\nQ 47.5625 58.15625 47.5625 53.265625 \r\nQ 47.5625 48.640625 45.0625 44.828125 \r\nQ 42.578125 41.015625 37.703125 38.765625 \r\nQ 44.046875 37.3125 47.5625 32.6875 \r\nQ 51.078125 28.078125 51.078125 21.140625 \r\nQ 51.078125 11.765625 44.234375 5.25 \r\nQ 37.40625 -1.265625 26.953125 -1.265625 \r\nQ 17.53125 -1.265625 11.296875 4.34375 \r\nQ 5.078125 9.96875 4.203125 18.890625 \r\nz\r\n\" id=\"ArialMT-51\"/>\r\n        <path d=\"M 4.15625 18.75 \r\nL 13.375 19.53125 \r\nQ 14.40625 12.796875 18.140625 9.390625 \r\nQ 21.875 6 27.15625 6 \r\nQ 33.5 6 37.890625 10.78125 \r\nQ 42.28125 15.578125 42.28125 23.484375 \r\nQ 42.28125 31 38.0625 35.34375 \r\nQ 33.84375 39.703125 27 39.703125 \r\nQ 22.75 39.703125 19.328125 37.765625 \r\nQ 15.921875 35.84375 13.96875 32.765625 \r\nL 5.71875 33.84375 \r\nL 12.640625 70.609375 \r\nL 48.25 70.609375 \r\nL 48.25 62.203125 \r\nL 19.671875 62.203125 \r\nL 15.828125 42.96875 \r\nQ 22.265625 47.46875 29.34375 47.46875 \r\nQ 38.71875 47.46875 45.15625 40.96875 \r\nQ 51.609375 34.46875 51.609375 24.265625 \r\nQ 51.609375 14.546875 45.953125 7.46875 \r\nQ 39.0625 -1.21875 27.15625 -1.21875 \r\nQ 17.390625 -1.21875 11.203125 4.25 \r\nQ 5.03125 9.71875 4.15625 18.75 \r\nz\r\n\" id=\"ArialMT-53\"/>\r\n        <path d=\"M 5.8125 54.390625 \r\nQ 5.8125 62.0625 9.671875 67.421875 \r\nQ 13.53125 72.796875 20.84375 72.796875 \r\nQ 27.59375 72.796875 32 67.984375 \r\nQ 36.421875 63.1875 36.421875 53.859375 \r\nQ 36.421875 44.78125 31.953125 39.875 \r\nQ 27.484375 34.96875 20.953125 34.96875 \r\nQ 14.453125 34.96875 10.125 39.796875 \r\nQ 5.8125 44.625 5.8125 54.390625 \r\nz\r\nM 21.09375 66.75 \r\nQ 17.828125 66.75 15.65625 63.90625 \r\nQ 13.484375 61.078125 13.484375 53.515625 \r\nQ 13.484375 46.625 15.671875 43.8125 \r\nQ 17.875 41.015625 21.09375 41.015625 \r\nQ 24.421875 41.015625 26.59375 43.84375 \r\nQ 28.765625 46.6875 28.765625 54.203125 \r\nQ 28.765625 61.140625 26.5625 63.9375 \r\nQ 24.359375 66.75 21.09375 66.75 \r\nz\r\nM 21.140625 -2.640625 \r\nL 60.296875 72.796875 \r\nL 67.4375 72.796875 \r\nL 28.421875 -2.640625 \r\nz\r\nM 52.09375 16.796875 \r\nQ 52.09375 24.515625 55.953125 29.859375 \r\nQ 59.8125 35.203125 67.1875 35.203125 \r\nQ 73.921875 35.203125 78.34375 30.390625 \r\nQ 82.765625 25.59375 82.765625 16.265625 \r\nQ 82.765625 7.171875 78.296875 2.265625 \r\nQ 73.828125 -2.640625 67.234375 -2.640625 \r\nQ 60.75 -2.640625 56.421875 2.21875 \r\nQ 52.09375 7.078125 52.09375 16.796875 \r\nz\r\nM 67.4375 29.15625 \r\nQ 64.109375 29.15625 61.9375 26.3125 \r\nQ 59.765625 23.484375 59.765625 15.921875 \r\nQ 59.765625 9.078125 61.953125 6.25 \r\nQ 64.15625 3.421875 67.390625 3.421875 \r\nQ 70.75 3.421875 72.921875 6.25 \r\nQ 75.09375 9.078125 75.09375 16.609375 \r\nQ 75.09375 23.53125 72.890625 26.34375 \r\nQ 70.703125 29.15625 67.4375 29.15625 \r\nz\r\n\" id=\"ArialMT-37\"/>\r\n       </defs>\r\n       <use xlink:href=\"#ArialMT-83\"/>\r\n       <use x=\"66.699219\" xlink:href=\"#ArialMT-117\"/>\r\n       <use x=\"122.314453\" xlink:href=\"#ArialMT-112\"/>\r\n       <use x=\"177.929688\" xlink:href=\"#ArialMT-101\"/>\r\n       <use x=\"233.544922\" xlink:href=\"#ArialMT-114\"/>\r\n       <use x=\"266.845703\" xlink:href=\"#ArialMT-112\"/>\r\n       <use x=\"322.460938\" xlink:href=\"#ArialMT-104\"/>\r\n       <use x=\"378.076172\" xlink:href=\"#ArialMT-111\"/>\r\n       <use x=\"433.691406\" xlink:href=\"#ArialMT-115\"/>\r\n       <use x=\"483.691406\" xlink:href=\"#ArialMT-112\"/>\r\n       <use x=\"539.306641\" xlink:href=\"#ArialMT-104\"/>\r\n       <use x=\"594.921875\" xlink:href=\"#ArialMT-97\"/>\r\n       <use x=\"650.537109\" xlink:href=\"#ArialMT-116\"/>\r\n       <use x=\"678.320312\" xlink:href=\"#ArialMT-101\"/>\r\n       <use x=\"733.935547\" xlink:href=\"#ArialMT-115\"/>\r\n       <use x=\"783.935547\" xlink:href=\"#ArialMT-32\"/>\r\n       <use x=\"811.71875\" xlink:href=\"#ArialMT-97\"/>\r\n       <use x=\"867.333984\" xlink:href=\"#ArialMT-98\"/>\r\n       <use x=\"922.949219\" xlink:href=\"#ArialMT-111\"/>\r\n       <use x=\"978.564453\" xlink:href=\"#ArialMT-118\"/>\r\n       <use x=\"1028.564453\" xlink:href=\"#ArialMT-101\"/>\r\n       <use x=\"1084.179688\" xlink:href=\"#ArialMT-32\"/>\r\n       <use x=\"1111.962891\" xlink:href=\"#ArialMT-51\"/>\r\n       <use x=\"1167.578125\" xlink:href=\"#ArialMT-53\"/>\r\n       <use x=\"1223.193359\" xlink:href=\"#ArialMT-37\"/>\r\n      </g>\r\n     </g>\r\n    </g>\r\n    <g id=\"xtick_20\">\r\n     <g id=\"text_20\">\r\n      <!-- Superphosphates, other -->\r\n      <g style=\"fill:#262626;\" transform=\"translate(1034.296662 547.749062)rotate(-90)scale(0.1 -0.1)\">\r\n       <use xlink:href=\"#ArialMT-83\"/>\r\n       <use x=\"66.699219\" xlink:href=\"#ArialMT-117\"/>\r\n       <use x=\"122.314453\" xlink:href=\"#ArialMT-112\"/>\r\n       <use x=\"177.929688\" xlink:href=\"#ArialMT-101\"/>\r\n       <use x=\"233.544922\" xlink:href=\"#ArialMT-114\"/>\r\n       <use x=\"266.845703\" xlink:href=\"#ArialMT-112\"/>\r\n       <use x=\"322.460938\" xlink:href=\"#ArialMT-104\"/>\r\n       <use x=\"378.076172\" xlink:href=\"#ArialMT-111\"/>\r\n       <use x=\"433.691406\" xlink:href=\"#ArialMT-115\"/>\r\n       <use x=\"483.691406\" xlink:href=\"#ArialMT-112\"/>\r\n       <use x=\"539.306641\" xlink:href=\"#ArialMT-104\"/>\r\n       <use x=\"594.921875\" xlink:href=\"#ArialMT-97\"/>\r\n       <use x=\"650.537109\" xlink:href=\"#ArialMT-116\"/>\r\n       <use x=\"678.320312\" xlink:href=\"#ArialMT-101\"/>\r\n       <use x=\"733.935547\" xlink:href=\"#ArialMT-115\"/>\r\n       <use x=\"783.935547\" xlink:href=\"#ArialMT-44\"/>\r\n       <use x=\"811.71875\" xlink:href=\"#ArialMT-32\"/>\r\n       <use x=\"839.501953\" xlink:href=\"#ArialMT-111\"/>\r\n       <use x=\"895.117188\" xlink:href=\"#ArialMT-116\"/>\r\n       <use x=\"922.900391\" xlink:href=\"#ArialMT-104\"/>\r\n       <use x=\"978.515625\" xlink:href=\"#ArialMT-101\"/>\r\n       <use x=\"1034.130859\" xlink:href=\"#ArialMT-114\"/>\r\n      </g>\r\n     </g>\r\n    </g>\r\n    <g id=\"xtick_21\">\r\n     <g id=\"text_21\">\r\n      <!-- Urea -->\r\n      <g style=\"fill:#262626;\" transform=\"translate(1084.962997 462.688125)rotate(-90)scale(0.1 -0.1)\">\r\n       <defs>\r\n        <path d=\"M 54.6875 71.578125 \r\nL 64.15625 71.578125 \r\nL 64.15625 30.21875 \r\nQ 64.15625 19.4375 61.71875 13.078125 \r\nQ 59.28125 6.734375 52.90625 2.75 \r\nQ 46.53125 -1.21875 36.1875 -1.21875 \r\nQ 26.125 -1.21875 19.71875 2.25 \r\nQ 13.328125 5.71875 10.59375 12.28125 \r\nQ 7.859375 18.84375 7.859375 30.21875 \r\nL 7.859375 71.578125 \r\nL 17.328125 71.578125 \r\nL 17.328125 30.28125 \r\nQ 17.328125 20.953125 19.0625 16.53125 \r\nQ 20.796875 12.109375 25.015625 9.71875 \r\nQ 29.25 7.328125 35.359375 7.328125 \r\nQ 45.796875 7.328125 50.234375 12.0625 \r\nQ 54.6875 16.796875 54.6875 30.28125 \r\nz\r\n\" id=\"ArialMT-85\"/>\r\n       </defs>\r\n       <use xlink:href=\"#ArialMT-85\"/>\r\n       <use x=\"72.216797\" xlink:href=\"#ArialMT-114\"/>\r\n       <use x=\"105.517578\" xlink:href=\"#ArialMT-101\"/>\r\n       <use x=\"161.132812\" xlink:href=\"#ArialMT-97\"/>\r\n      </g>\r\n     </g>\r\n    </g>\r\n    <g id=\"xtick_22\">\r\n     <g id=\"text_22\">\r\n      <!-- Urea and ammonium nitrate solutions (UAN) -->\r\n      <g style=\"fill:#262626;\" transform=\"translate(1135.692614 637.745937)rotate(-90)scale(0.1 -0.1)\">\r\n       <use xlink:href=\"#ArialMT-85\"/>\r\n       <use x=\"72.216797\" xlink:href=\"#ArialMT-114\"/>\r\n       <use x=\"105.517578\" xlink:href=\"#ArialMT-101\"/>\r\n       <use x=\"161.132812\" xlink:href=\"#ArialMT-97\"/>\r\n       <use x=\"216.748047\" xlink:href=\"#ArialMT-32\"/>\r\n       <use x=\"244.53125\" xlink:href=\"#ArialMT-97\"/>\r\n       <use x=\"300.146484\" xlink:href=\"#ArialMT-110\"/>\r\n       <use x=\"355.761719\" xlink:href=\"#ArialMT-100\"/>\r\n       <use x=\"411.376953\" xlink:href=\"#ArialMT-32\"/>\r\n       <use x=\"439.160156\" xlink:href=\"#ArialMT-97\"/>\r\n       <use x=\"494.775391\" xlink:href=\"#ArialMT-109\"/>\r\n       <use x=\"578.076172\" xlink:href=\"#ArialMT-109\"/>\r\n       <use x=\"661.376953\" xlink:href=\"#ArialMT-111\"/>\r\n       <use x=\"716.992188\" xlink:href=\"#ArialMT-110\"/>\r\n       <use x=\"772.607422\" xlink:href=\"#ArialMT-105\"/>\r\n       <use x=\"794.824219\" xlink:href=\"#ArialMT-117\"/>\r\n       <use x=\"850.439453\" xlink:href=\"#ArialMT-109\"/>\r\n       <use x=\"933.740234\" xlink:href=\"#ArialMT-32\"/>\r\n       <use x=\"961.523438\" xlink:href=\"#ArialMT-110\"/>\r\n       <use x=\"1017.138672\" xlink:href=\"#ArialMT-105\"/>\r\n       <use x=\"1039.355469\" xlink:href=\"#ArialMT-116\"/>\r\n       <use x=\"1067.138672\" xlink:href=\"#ArialMT-114\"/>\r\n       <use x=\"1100.439453\" xlink:href=\"#ArialMT-97\"/>\r\n       <use x=\"1156.054688\" xlink:href=\"#ArialMT-116\"/>\r\n       <use x=\"1183.837891\" xlink:href=\"#ArialMT-101\"/>\r\n       <use x=\"1239.453125\" xlink:href=\"#ArialMT-32\"/>\r\n       <use x=\"1267.236328\" xlink:href=\"#ArialMT-115\"/>\r\n       <use x=\"1317.236328\" xlink:href=\"#ArialMT-111\"/>\r\n       <use x=\"1372.851562\" xlink:href=\"#ArialMT-108\"/>\r\n       <use x=\"1395.068359\" xlink:href=\"#ArialMT-117\"/>\r\n       <use x=\"1450.683594\" xlink:href=\"#ArialMT-116\"/>\r\n       <use x=\"1478.466797\" xlink:href=\"#ArialMT-105\"/>\r\n       <use x=\"1500.683594\" xlink:href=\"#ArialMT-111\"/>\r\n       <use x=\"1556.298828\" xlink:href=\"#ArialMT-110\"/>\r\n       <use x=\"1611.914062\" xlink:href=\"#ArialMT-115\"/>\r\n       <use x=\"1661.914062\" xlink:href=\"#ArialMT-32\"/>\r\n       <use x=\"1689.697266\" xlink:href=\"#ArialMT-40\"/>\r\n       <use x=\"1722.998047\" xlink:href=\"#ArialMT-85\"/>\r\n       <use x=\"1795.214844\" xlink:href=\"#ArialMT-65\"/>\r\n       <use x=\"1861.914062\" xlink:href=\"#ArialMT-78\"/>\r\n       <use x=\"1934.130859\" xlink:href=\"#ArialMT-41\"/>\r\n      </g>\r\n     </g>\r\n    </g>\r\n    <g id=\"text_23\">\r\n     <!-- Fertilizers -->\r\n     <g style=\"fill:#262626;\" transform=\"translate(570.135781 794.580937)scale(0.14 -0.14)\">\r\n      <use xlink:href=\"#ArialMT-70\"/>\r\n      <use x=\"61.083984\" xlink:href=\"#ArialMT-101\"/>\r\n      <use x=\"116.699219\" xlink:href=\"#ArialMT-114\"/>\r\n      <use x=\"150\" xlink:href=\"#ArialMT-116\"/>\r\n      <use x=\"177.783203\" xlink:href=\"#ArialMT-105\"/>\r\n      <use x=\"200\" xlink:href=\"#ArialMT-108\"/>\r\n      <use x=\"222.216797\" xlink:href=\"#ArialMT-105\"/>\r\n      <use x=\"244.433594\" xlink:href=\"#ArialMT-122\"/>\r\n      <use x=\"294.433594\" xlink:href=\"#ArialMT-101\"/>\r\n      <use x=\"350.048828\" xlink:href=\"#ArialMT-114\"/>\r\n      <use x=\"383.349609\" xlink:href=\"#ArialMT-115\"/>\r\n     </g>\r\n    </g>\r\n   </g>\r\n   <g id=\"matplotlib.axis_2\">\r\n    <g id=\"ytick_1\">\r\n     <g id=\"line2d_1\">\r\n      <path clip-path=\"url(#p620a9d9f7a)\" d=\"M 42.46875 434.014687 \r\nL 1158.46875 434.014687 \r\n\" style=\"fill:none;stroke:#ffffff;stroke-linecap:round;stroke-width:0.8;\"/>\r\n     </g>\r\n     <g id=\"text_24\">\r\n      <!-- 0 -->\r\n      <g style=\"fill:#262626;\" transform=\"translate(29.907812 437.593594)scale(0.1 -0.1)\">\r\n       <defs>\r\n        <path d=\"M 4.15625 35.296875 \r\nQ 4.15625 48 6.765625 55.734375 \r\nQ 9.375 63.484375 14.515625 67.671875 \r\nQ 19.671875 71.875 27.484375 71.875 \r\nQ 33.25 71.875 37.59375 69.546875 \r\nQ 41.9375 67.234375 44.765625 62.859375 \r\nQ 47.609375 58.5 49.21875 52.21875 \r\nQ 50.828125 45.953125 50.828125 35.296875 \r\nQ 50.828125 22.703125 48.234375 14.96875 \r\nQ 45.65625 7.234375 40.5 3 \r\nQ 35.359375 -1.21875 27.484375 -1.21875 \r\nQ 17.140625 -1.21875 11.234375 6.203125 \r\nQ 4.15625 15.140625 4.15625 35.296875 \r\nz\r\nM 13.1875 35.296875 \r\nQ 13.1875 17.671875 17.3125 11.828125 \r\nQ 21.4375 6 27.484375 6 \r\nQ 33.546875 6 37.671875 11.859375 \r\nQ 41.796875 17.71875 41.796875 35.296875 \r\nQ 41.796875 52.984375 37.671875 58.78125 \r\nQ 33.546875 64.59375 27.390625 64.59375 \r\nQ 21.34375 64.59375 17.71875 59.46875 \r\nQ 13.1875 52.9375 13.1875 35.296875 \r\nz\r\n\" id=\"ArialMT-48\"/>\r\n       </defs>\r\n       <use xlink:href=\"#ArialMT-48\"/>\r\n      </g>\r\n     </g>\r\n    </g>\r\n    <g id=\"ytick_2\">\r\n     <g id=\"line2d_2\">\r\n      <path clip-path=\"url(#p620a9d9f7a)\" d=\"M 42.46875 385.478973 \r\nL 1158.46875 385.478973 \r\n\" style=\"fill:none;stroke:#ffffff;stroke-linecap:round;stroke-width:0.8;\"/>\r\n     </g>\r\n     <g id=\"text_25\">\r\n      <!-- 2 -->\r\n      <g style=\"fill:#262626;\" transform=\"translate(29.907812 389.057879)scale(0.1 -0.1)\">\r\n       <defs>\r\n        <path d=\"M 50.34375 8.453125 \r\nL 50.34375 0 \r\nL 3.03125 0 \r\nQ 2.9375 3.171875 4.046875 6.109375 \r\nQ 5.859375 10.9375 9.828125 15.625 \r\nQ 13.8125 20.3125 21.34375 26.46875 \r\nQ 33.015625 36.03125 37.109375 41.625 \r\nQ 41.21875 47.21875 41.21875 52.203125 \r\nQ 41.21875 57.421875 37.46875 61 \r\nQ 33.734375 64.59375 27.734375 64.59375 \r\nQ 21.390625 64.59375 17.578125 60.78125 \r\nQ 13.765625 56.984375 13.71875 50.25 \r\nL 4.6875 51.171875 \r\nQ 5.609375 61.28125 11.65625 66.578125 \r\nQ 17.71875 71.875 27.9375 71.875 \r\nQ 38.234375 71.875 44.234375 66.15625 \r\nQ 50.25 60.453125 50.25 52 \r\nQ 50.25 47.703125 48.484375 43.546875 \r\nQ 46.734375 39.40625 42.65625 34.8125 \r\nQ 38.578125 30.21875 29.109375 22.21875 \r\nQ 21.1875 15.578125 18.9375 13.203125 \r\nQ 16.703125 10.84375 15.234375 8.453125 \r\nz\r\n\" id=\"ArialMT-50\"/>\r\n       </defs>\r\n       <use xlink:href=\"#ArialMT-50\"/>\r\n      </g>\r\n     </g>\r\n    </g>\r\n    <g id=\"ytick_3\">\r\n     <g id=\"line2d_3\">\r\n      <path clip-path=\"url(#p620a9d9f7a)\" d=\"M 42.46875 336.943259 \r\nL 1158.46875 336.943259 \r\n\" style=\"fill:none;stroke:#ffffff;stroke-linecap:round;stroke-width:0.8;\"/>\r\n     </g>\r\n     <g id=\"text_26\">\r\n      <!-- 4 -->\r\n      <g style=\"fill:#262626;\" transform=\"translate(29.907812 340.522165)scale(0.1 -0.1)\">\r\n       <defs>\r\n        <path d=\"M 32.328125 0 \r\nL 32.328125 17.140625 \r\nL 1.265625 17.140625 \r\nL 1.265625 25.203125 \r\nL 33.9375 71.578125 \r\nL 41.109375 71.578125 \r\nL 41.109375 25.203125 \r\nL 50.78125 25.203125 \r\nL 50.78125 17.140625 \r\nL 41.109375 17.140625 \r\nL 41.109375 0 \r\nz\r\nM 32.328125 25.203125 \r\nL 32.328125 57.46875 \r\nL 9.90625 25.203125 \r\nz\r\n\" id=\"ArialMT-52\"/>\r\n       </defs>\r\n       <use xlink:href=\"#ArialMT-52\"/>\r\n      </g>\r\n     </g>\r\n    </g>\r\n    <g id=\"ytick_4\">\r\n     <g id=\"line2d_4\">\r\n      <path clip-path=\"url(#p620a9d9f7a)\" d=\"M 42.46875 288.407545 \r\nL 1158.46875 288.407545 \r\n\" style=\"fill:none;stroke:#ffffff;stroke-linecap:round;stroke-width:0.8;\"/>\r\n     </g>\r\n     <g id=\"text_27\">\r\n      <!-- 6 -->\r\n      <g style=\"fill:#262626;\" transform=\"translate(29.907812 291.986451)scale(0.1 -0.1)\">\r\n       <defs>\r\n        <path d=\"M 49.75 54.046875 \r\nL 41.015625 53.375 \r\nQ 39.84375 58.546875 37.703125 60.890625 \r\nQ 34.125 64.65625 28.90625 64.65625 \r\nQ 24.703125 64.65625 21.53125 62.3125 \r\nQ 17.390625 59.28125 14.984375 53.46875 \r\nQ 12.59375 47.65625 12.5 36.921875 \r\nQ 15.671875 41.75 20.265625 44.09375 \r\nQ 24.859375 46.4375 29.890625 46.4375 \r\nQ 38.671875 46.4375 44.84375 39.96875 \r\nQ 51.03125 33.5 51.03125 23.25 \r\nQ 51.03125 16.5 48.125 10.71875 \r\nQ 45.21875 4.9375 40.140625 1.859375 \r\nQ 35.0625 -1.21875 28.609375 -1.21875 \r\nQ 17.625 -1.21875 10.6875 6.859375 \r\nQ 3.765625 14.9375 3.765625 33.5 \r\nQ 3.765625 54.25 11.421875 63.671875 \r\nQ 18.109375 71.875 29.4375 71.875 \r\nQ 37.890625 71.875 43.28125 67.140625 \r\nQ 48.6875 62.40625 49.75 54.046875 \r\nz\r\nM 13.875 23.1875 \r\nQ 13.875 18.65625 15.796875 14.5 \r\nQ 17.71875 10.359375 21.1875 8.171875 \r\nQ 24.65625 6 28.46875 6 \r\nQ 34.03125 6 38.03125 10.484375 \r\nQ 42.046875 14.984375 42.046875 22.703125 \r\nQ 42.046875 30.125 38.078125 34.390625 \r\nQ 34.125 38.671875 28.125 38.671875 \r\nQ 22.171875 38.671875 18.015625 34.390625 \r\nQ 13.875 30.125 13.875 23.1875 \r\nz\r\n\" id=\"ArialMT-54\"/>\r\n       </defs>\r\n       <use xlink:href=\"#ArialMT-54\"/>\r\n      </g>\r\n     </g>\r\n    </g>\r\n    <g id=\"ytick_5\">\r\n     <g id=\"line2d_5\">\r\n      <path clip-path=\"url(#p620a9d9f7a)\" d=\"M 42.46875 239.87183 \r\nL 1158.46875 239.87183 \r\n\" style=\"fill:none;stroke:#ffffff;stroke-linecap:round;stroke-width:0.8;\"/>\r\n     </g>\r\n     <g id=\"text_28\">\r\n      <!-- 8 -->\r\n      <g style=\"fill:#262626;\" transform=\"translate(29.907812 243.450737)scale(0.1 -0.1)\">\r\n       <defs>\r\n        <path d=\"M 17.671875 38.8125 \r\nQ 12.203125 40.828125 9.5625 44.53125 \r\nQ 6.9375 48.25 6.9375 53.421875 \r\nQ 6.9375 61.234375 12.546875 66.546875 \r\nQ 18.171875 71.875 27.484375 71.875 \r\nQ 36.859375 71.875 42.578125 66.421875 \r\nQ 48.296875 60.984375 48.296875 53.171875 \r\nQ 48.296875 48.1875 45.671875 44.5 \r\nQ 43.0625 40.828125 37.75 38.8125 \r\nQ 44.34375 36.671875 47.78125 31.875 \r\nQ 51.21875 27.09375 51.21875 20.453125 \r\nQ 51.21875 11.28125 44.71875 5.03125 \r\nQ 38.234375 -1.21875 27.640625 -1.21875 \r\nQ 17.046875 -1.21875 10.546875 5.046875 \r\nQ 4.046875 11.328125 4.046875 20.703125 \r\nQ 4.046875 27.6875 7.59375 32.390625 \r\nQ 11.140625 37.109375 17.671875 38.8125 \r\nz\r\nM 15.921875 53.71875 \r\nQ 15.921875 48.640625 19.1875 45.40625 \r\nQ 22.46875 42.1875 27.6875 42.1875 \r\nQ 32.765625 42.1875 36.015625 45.375 \r\nQ 39.265625 48.578125 39.265625 53.21875 \r\nQ 39.265625 58.0625 35.90625 61.359375 \r\nQ 32.5625 64.65625 27.59375 64.65625 \r\nQ 22.5625 64.65625 19.234375 61.421875 \r\nQ 15.921875 58.203125 15.921875 53.71875 \r\nz\r\nM 13.09375 20.65625 \r\nQ 13.09375 16.890625 14.875 13.375 \r\nQ 16.65625 9.859375 20.171875 7.921875 \r\nQ 23.6875 6 27.734375 6 \r\nQ 34.03125 6 38.125 10.046875 \r\nQ 42.234375 14.109375 42.234375 20.359375 \r\nQ 42.234375 26.703125 38.015625 30.859375 \r\nQ 33.796875 35.015625 27.4375 35.015625 \r\nQ 21.234375 35.015625 17.15625 30.90625 \r\nQ 13.09375 26.8125 13.09375 20.65625 \r\nz\r\n\" id=\"ArialMT-56\"/>\r\n       </defs>\r\n       <use xlink:href=\"#ArialMT-56\"/>\r\n      </g>\r\n     </g>\r\n    </g>\r\n    <g id=\"ytick_6\">\r\n     <g id=\"line2d_6\">\r\n      <path clip-path=\"url(#p620a9d9f7a)\" d=\"M 42.46875 191.336116 \r\nL 1158.46875 191.336116 \r\n\" style=\"fill:none;stroke:#ffffff;stroke-linecap:round;stroke-width:0.8;\"/>\r\n     </g>\r\n     <g id=\"text_29\">\r\n      <!-- 10 -->\r\n      <g style=\"fill:#262626;\" transform=\"translate(24.346875 194.915022)scale(0.1 -0.1)\">\r\n       <defs>\r\n        <path d=\"M 37.25 0 \r\nL 28.46875 0 \r\nL 28.46875 56 \r\nQ 25.296875 52.984375 20.140625 49.953125 \r\nQ 14.984375 46.921875 10.890625 45.40625 \r\nL 10.890625 53.90625 \r\nQ 18.265625 57.375 23.78125 62.296875 \r\nQ 29.296875 67.234375 31.59375 71.875 \r\nL 37.25 71.875 \r\nz\r\n\" id=\"ArialMT-49\"/>\r\n       </defs>\r\n       <use xlink:href=\"#ArialMT-49\"/>\r\n       <use x=\"55.615234\" xlink:href=\"#ArialMT-48\"/>\r\n      </g>\r\n     </g>\r\n    </g>\r\n    <g id=\"ytick_7\">\r\n     <g id=\"line2d_7\">\r\n      <path clip-path=\"url(#p620a9d9f7a)\" d=\"M 42.46875 142.800402 \r\nL 1158.46875 142.800402 \r\n\" style=\"fill:none;stroke:#ffffff;stroke-linecap:round;stroke-width:0.8;\"/>\r\n     </g>\r\n     <g id=\"text_30\">\r\n      <!-- 12 -->\r\n      <g style=\"fill:#262626;\" transform=\"translate(24.346875 146.379308)scale(0.1 -0.1)\">\r\n       <use xlink:href=\"#ArialMT-49\"/>\r\n       <use x=\"55.615234\" xlink:href=\"#ArialMT-50\"/>\r\n      </g>\r\n     </g>\r\n    </g>\r\n    <g id=\"ytick_8\">\r\n     <g id=\"line2d_8\">\r\n      <path clip-path=\"url(#p620a9d9f7a)\" d=\"M 42.46875 94.264687 \r\nL 1158.46875 94.264687 \r\n\" style=\"fill:none;stroke:#ffffff;stroke-linecap:round;stroke-width:0.8;\"/>\r\n     </g>\r\n     <g id=\"text_31\">\r\n      <!-- 14 -->\r\n      <g style=\"fill:#262626;\" transform=\"translate(24.346875 97.843594)scale(0.1 -0.1)\">\r\n       <use xlink:href=\"#ArialMT-49\"/>\r\n       <use x=\"55.615234\" xlink:href=\"#ArialMT-52\"/>\r\n      </g>\r\n     </g>\r\n    </g>\r\n    <g id=\"ytick_9\">\r\n     <g id=\"line2d_9\">\r\n      <path clip-path=\"url(#p620a9d9f7a)\" d=\"M 42.46875 45.728973 \r\nL 1158.46875 45.728973 \r\n\" style=\"fill:none;stroke:#ffffff;stroke-linecap:round;stroke-width:0.8;\"/>\r\n     </g>\r\n     <g id=\"text_32\">\r\n      <!-- 16 -->\r\n      <g style=\"fill:#262626;\" transform=\"translate(24.346875 49.307879)scale(0.1 -0.1)\">\r\n       <use xlink:href=\"#ArialMT-49\"/>\r\n       <use x=\"55.615234\" xlink:href=\"#ArialMT-54\"/>\r\n      </g>\r\n     </g>\r\n    </g>\r\n    <g id=\"text_33\">\r\n     <!-- Quantity of Fertilizers -->\r\n     <g style=\"fill:#262626;\" transform=\"translate(17.400312 296.291719)rotate(-90)scale(0.14 -0.14)\">\r\n      <defs>\r\n       <path d=\"M 61.96875 7.671875 \r\nQ 68.5625 3.125 74.125 1.03125 \r\nL 71.34375 -5.5625 \r\nQ 63.625 -2.78125 55.953125 3.21875 \r\nQ 48 -1.21875 38.375 -1.21875 \r\nQ 28.65625 -1.21875 20.75 3.46875 \r\nQ 12.84375 8.15625 8.5625 16.640625 \r\nQ 4.296875 25.140625 4.296875 35.796875 \r\nQ 4.296875 46.390625 8.59375 55.078125 \r\nQ 12.890625 63.765625 20.828125 68.3125 \r\nQ 28.765625 72.859375 38.578125 72.859375 \r\nQ 48.484375 72.859375 56.4375 68.140625 \r\nQ 64.40625 63.421875 68.578125 54.953125 \r\nQ 72.75 46.484375 72.75 35.84375 \r\nQ 72.75 27 70.0625 19.9375 \r\nQ 67.390625 12.890625 61.96875 7.671875 \r\nz\r\nM 41.109375 19.78125 \r\nQ 49.3125 17.484375 54.640625 12.9375 \r\nQ 62.984375 20.5625 62.984375 35.84375 \r\nQ 62.984375 44.53125 60.03125 51.015625 \r\nQ 57.078125 57.515625 51.390625 61.109375 \r\nQ 45.703125 64.703125 38.625 64.703125 \r\nQ 28.03125 64.703125 21.046875 57.453125 \r\nQ 14.0625 50.203125 14.0625 35.796875 \r\nQ 14.0625 21.828125 20.96875 14.359375 \r\nQ 27.875 6.890625 38.625 6.890625 \r\nQ 43.703125 6.890625 48.1875 8.796875 \r\nQ 43.75 11.671875 38.8125 12.890625 \r\nz\r\n\" id=\"ArialMT-81\"/>\r\n      </defs>\r\n      <use xlink:href=\"#ArialMT-81\"/>\r\n      <use x=\"77.783203\" xlink:href=\"#ArialMT-117\"/>\r\n      <use x=\"133.398438\" xlink:href=\"#ArialMT-97\"/>\r\n      <use x=\"189.013672\" xlink:href=\"#ArialMT-110\"/>\r\n      <use x=\"244.628906\" xlink:href=\"#ArialMT-116\"/>\r\n      <use x=\"272.412109\" xlink:href=\"#ArialMT-105\"/>\r\n      <use x=\"294.628906\" xlink:href=\"#ArialMT-116\"/>\r\n      <use x=\"322.412109\" xlink:href=\"#ArialMT-121\"/>\r\n      <use x=\"372.412109\" xlink:href=\"#ArialMT-32\"/>\r\n      <use x=\"400.195312\" xlink:href=\"#ArialMT-111\"/>\r\n      <use x=\"455.810547\" xlink:href=\"#ArialMT-102\"/>\r\n      <use x=\"483.59375\" xlink:href=\"#ArialMT-32\"/>\r\n      <use x=\"511.376953\" xlink:href=\"#ArialMT-70\"/>\r\n      <use x=\"572.460938\" xlink:href=\"#ArialMT-101\"/>\r\n      <use x=\"628.076172\" xlink:href=\"#ArialMT-114\"/>\r\n      <use x=\"661.376953\" xlink:href=\"#ArialMT-116\"/>\r\n      <use x=\"689.160156\" xlink:href=\"#ArialMT-105\"/>\r\n      <use x=\"711.376953\" xlink:href=\"#ArialMT-108\"/>\r\n      <use x=\"733.59375\" xlink:href=\"#ArialMT-105\"/>\r\n      <use x=\"755.810547\" xlink:href=\"#ArialMT-122\"/>\r\n      <use x=\"805.810547\" xlink:href=\"#ArialMT-101\"/>\r\n      <use x=\"861.425781\" xlink:href=\"#ArialMT-114\"/>\r\n      <use x=\"894.726562\" xlink:href=\"#ArialMT-115\"/>\r\n     </g>\r\n    </g>\r\n   </g>\r\n   <g id=\"patch_3\">\r\n    <path clip-path=\"url(#p620a9d9f7a)\" d=\"M 47.541477 434.014687 \r\nL 54.305114 434.014687 \r\nL 54.305114 45.728973 \r\nL 47.541477 45.728973 \r\nz\r\n\" style=\"fill:#3274a1;stroke:#ffffff;stroke-linejoin:miter;\"/>\r\n   </g>\r\n   <g id=\"patch_4\">\r\n    <path clip-path=\"url(#p620a9d9f7a)\" d=\"M 98.26875 434.014687 \r\nL 105.032386 434.014687 \r\nL 105.032386 45.728973 \r\nL 98.26875 45.728973 \r\nz\r\n\" style=\"fill:#3274a1;stroke:#ffffff;stroke-linejoin:miter;\"/>\r\n   </g>\r\n   <g id=\"patch_5\">\r\n    <path clip-path=\"url(#p620a9d9f7a)\" d=\"M 148.996023 434.014687 \r\nL 155.759659 434.014687 \r\nL 155.759659 69.99683 \r\nL 148.996023 69.99683 \r\nz\r\n\" style=\"fill:#3274a1;stroke:#ffffff;stroke-linejoin:miter;\"/>\r\n   </g>\r\n   <g id=\"patch_6\">\r\n    <path clip-path=\"url(#p620a9d9f7a)\" d=\"M 199.723295 434.014687 \r\nL 206.486932 434.014687 \r\nL 206.486932 288.407545 \r\nL 199.723295 288.407545 \r\nz\r\n\" style=\"fill:#3274a1;stroke:#ffffff;stroke-linejoin:miter;\"/>\r\n   </g>\r\n   <g id=\"patch_7\">\r\n    <path clip-path=\"url(#p620a9d9f7a)\" d=\"M 250.450568 434.014687 \r\nL 257.214205 434.014687 \r\nL 257.214205 45.728973 \r\nL 250.450568 45.728973 \r\nz\r\n\" style=\"fill:#3274a1;stroke:#ffffff;stroke-linejoin:miter;\"/>\r\n   </g>\r\n   <g id=\"patch_8\">\r\n    <path clip-path=\"url(#p620a9d9f7a)\" d=\"M 301.177841 434.014687 \r\nL 307.941477 434.014687 \r\nL 307.941477 45.728973 \r\nL 301.177841 45.728973 \r\nz\r\n\" style=\"fill:#3274a1;stroke:#ffffff;stroke-linejoin:miter;\"/>\r\n   </g>\r\n   <g id=\"patch_9\">\r\n    <path clip-path=\"url(#p620a9d9f7a)\" d=\"M 351.905114 434.014687 \r\nL 358.66875 434.014687 \r\nL 358.66875 45.728973 \r\nL 351.905114 45.728973 \r\nz\r\n\" style=\"fill:#3274a1;stroke:#ffffff;stroke-linejoin:miter;\"/>\r\n   </g>\r\n   <g id=\"patch_10\">\r\n    <path clip-path=\"url(#p620a9d9f7a)\" d=\"M 402.632386 434.014687 \r\nL 409.396023 434.014687 \r\nL 409.396023 45.728973 \r\nL 402.632386 45.728973 \r\nz\r\n\" style=\"fill:#3274a1;stroke:#ffffff;stroke-linejoin:miter;\"/>\r\n   </g>\r\n   <g id=\"patch_11\">\r\n    <path clip-path=\"url(#p620a9d9f7a)\" d=\"M 453.359659 434.014687 \r\nL 460.123295 434.014687 \r\nL 460.123295 45.728973 \r\nL 453.359659 45.728973 \r\nz\r\n\" style=\"fill:#3274a1;stroke:#ffffff;stroke-linejoin:miter;\"/>\r\n   </g>\r\n   <g id=\"patch_12\">\r\n    <path clip-path=\"url(#p620a9d9f7a)\" d=\"M 504.086932 434.014687 \r\nL 510.850568 434.014687 \r\nL 510.850568 45.728973 \r\nL 504.086932 45.728973 \r\nz\r\n\" style=\"fill:#3274a1;stroke:#ffffff;stroke-linejoin:miter;\"/>\r\n   </g>\r\n   <g id=\"patch_13\">\r\n    <path clip-path=\"url(#p620a9d9f7a)\" d=\"M 554.814205 434.014687 \r\nL 561.577841 434.014687 \r\nL 561.577841 45.728973 \r\nL 554.814205 45.728973 \r\nz\r\n\" style=\"fill:#3274a1;stroke:#ffffff;stroke-linejoin:miter;\"/>\r\n   </g>\r\n   <g id=\"patch_14\">\r\n    <path clip-path=\"url(#p620a9d9f7a)\" d=\"M 605.541477 434.014687 \r\nL 612.305114 434.014687 \r\nL 612.305114 45.728973 \r\nL 605.541477 45.728973 \r\nz\r\n\" style=\"fill:#3274a1;stroke:#ffffff;stroke-linejoin:miter;\"/>\r\n   </g>\r\n   <g id=\"patch_15\">\r\n    <path clip-path=\"url(#p620a9d9f7a)\" d=\"M 656.26875 434.014687 \r\nL 663.032386 434.014687 \r\nL 663.032386 45.728973 \r\nL 656.26875 45.728973 \r\nz\r\n\" style=\"fill:#3274a1;stroke:#ffffff;stroke-linejoin:miter;\"/>\r\n   </g>\r\n   <g id=\"patch_16\">\r\n    <path clip-path=\"url(#p620a9d9f7a)\" d=\"M 706.996023 434.014687 \r\nL 713.759659 434.014687 \r\nL 713.759659 45.728973 \r\nL 706.996023 45.728973 \r\nz\r\n\" style=\"fill:#3274a1;stroke:#ffffff;stroke-linejoin:miter;\"/>\r\n   </g>\r\n   <g id=\"patch_17\">\r\n    <path clip-path=\"url(#p620a9d9f7a)\" d=\"M 757.723295 434.014687 \r\nL 764.486932 434.014687 \r\nL 764.486932 45.728973 \r\nL 757.723295 45.728973 \r\nz\r\n\" style=\"fill:#3274a1;stroke:#ffffff;stroke-linejoin:miter;\"/>\r\n   </g>\r\n   <g id=\"patch_18\">\r\n    <path clip-path=\"url(#p620a9d9f7a)\" d=\"M 808.450568 434.014687 \r\nL 815.214205 434.014687 \r\nL 815.214205 45.728973 \r\nL 808.450568 45.728973 \r\nz\r\n\" style=\"fill:#3274a1;stroke:#ffffff;stroke-linejoin:miter;\"/>\r\n   </g>\r\n   <g id=\"patch_19\">\r\n    <path clip-path=\"url(#p620a9d9f7a)\" d=\"M 859.177841 434.014687 \r\nL 865.941477 434.014687 \r\nL 865.941477 45.728973 \r\nL 859.177841 45.728973 \r\nz\r\n\" style=\"fill:#3274a1;stroke:#ffffff;stroke-linejoin:miter;\"/>\r\n   </g>\r\n   <g id=\"patch_20\">\r\n    <path clip-path=\"url(#p620a9d9f7a)\" d=\"M 909.905114 434.014687 \r\nL 916.66875 434.014687 \r\nL 916.66875 45.728973 \r\nL 909.905114 45.728973 \r\nz\r\n\" style=\"fill:#3274a1;stroke:#ffffff;stroke-linejoin:miter;\"/>\r\n   </g>\r\n   <g id=\"patch_21\">\r\n    <path clip-path=\"url(#p620a9d9f7a)\" d=\"M 960.632386 434.014687 \r\nL 967.396023 434.014687 \r\nL 967.396023 288.407545 \r\nL 960.632386 288.407545 \r\nz\r\n\" style=\"fill:#3274a1;stroke:#ffffff;stroke-linejoin:miter;\"/>\r\n   </g>\r\n   <g id=\"patch_22\">\r\n    <path clip-path=\"url(#p620a9d9f7a)\" d=\"M 0 0 \r\nz\r\n\" style=\"fill:#3274a1;stroke:#ffffff;stroke-linejoin:miter;\"/>\r\n   </g>\r\n   <g id=\"patch_23\">\r\n    <path clip-path=\"url(#p620a9d9f7a)\" d=\"M 1062.086932 434.014687 \r\nL 1068.850568 434.014687 \r\nL 1068.850568 45.728973 \r\nL 1062.086932 45.728973 \r\nz\r\n\" style=\"fill:#3274a1;stroke:#ffffff;stroke-linejoin:miter;\"/>\r\n   </g>\r\n   <g id=\"patch_24\">\r\n    <path clip-path=\"url(#p620a9d9f7a)\" d=\"M 1112.814205 434.014687 \r\nL 1119.577841 434.014687 \r\nL 1119.577841 361.211116 \r\nL 1112.814205 361.211116 \r\nz\r\n\" style=\"fill:#3274a1;stroke:#ffffff;stroke-linejoin:miter;\"/>\r\n   </g>\r\n   <g id=\"patch_25\">\r\n    <path clip-path=\"url(#p620a9d9f7a)\" d=\"M 54.305114 434.014687 \r\nL 61.06875 434.014687 \r\nL 61.06875 45.728973 \r\nL 54.305114 45.728973 \r\nz\r\n\" style=\"fill:#e1812c;stroke:#ffffff;stroke-linejoin:miter;\"/>\r\n   </g>\r\n   <g id=\"patch_26\">\r\n    <path clip-path=\"url(#p620a9d9f7a)\" d=\"M 105.032386 434.014687 \r\nL 111.796023 434.014687 \r\nL 111.796023 45.728973 \r\nL 105.032386 45.728973 \r\nz\r\n\" style=\"fill:#e1812c;stroke:#ffffff;stroke-linejoin:miter;\"/>\r\n   </g>\r\n   <g id=\"patch_27\">\r\n    <path clip-path=\"url(#p620a9d9f7a)\" d=\"M 155.759659 434.014687 \r\nL 162.523295 434.014687 \r\nL 162.523295 69.99683 \r\nL 155.759659 69.99683 \r\nz\r\n\" style=\"fill:#e1812c;stroke:#ffffff;stroke-linejoin:miter;\"/>\r\n   </g>\r\n   <g id=\"patch_28\">\r\n    <path clip-path=\"url(#p620a9d9f7a)\" d=\"M 206.486932 434.014687 \r\nL 213.250568 434.014687 \r\nL 213.250568 288.407545 \r\nL 206.486932 288.407545 \r\nz\r\n\" style=\"fill:#e1812c;stroke:#ffffff;stroke-linejoin:miter;\"/>\r\n   </g>\r\n   <g id=\"patch_29\">\r\n    <path clip-path=\"url(#p620a9d9f7a)\" d=\"M 257.214205 434.014687 \r\nL 263.977841 434.014687 \r\nL 263.977841 45.728973 \r\nL 257.214205 45.728973 \r\nz\r\n\" style=\"fill:#e1812c;stroke:#ffffff;stroke-linejoin:miter;\"/>\r\n   </g>\r\n   <g id=\"patch_30\">\r\n    <path clip-path=\"url(#p620a9d9f7a)\" d=\"M 307.941477 434.014687 \r\nL 314.705114 434.014687 \r\nL 314.705114 45.728973 \r\nL 307.941477 45.728973 \r\nz\r\n\" style=\"fill:#e1812c;stroke:#ffffff;stroke-linejoin:miter;\"/>\r\n   </g>\r\n   <g id=\"patch_31\">\r\n    <path clip-path=\"url(#p620a9d9f7a)\" d=\"M 358.66875 434.014687 \r\nL 365.432386 434.014687 \r\nL 365.432386 45.728973 \r\nL 358.66875 45.728973 \r\nz\r\n\" style=\"fill:#e1812c;stroke:#ffffff;stroke-linejoin:miter;\"/>\r\n   </g>\r\n   <g id=\"patch_32\">\r\n    <path clip-path=\"url(#p620a9d9f7a)\" d=\"M 409.396023 434.014687 \r\nL 416.159659 434.014687 \r\nL 416.159659 45.728973 \r\nL 409.396023 45.728973 \r\nz\r\n\" style=\"fill:#e1812c;stroke:#ffffff;stroke-linejoin:miter;\"/>\r\n   </g>\r\n   <g id=\"patch_33\">\r\n    <path clip-path=\"url(#p620a9d9f7a)\" d=\"M 460.123295 434.014687 \r\nL 466.886932 434.014687 \r\nL 466.886932 45.728973 \r\nL 460.123295 45.728973 \r\nz\r\n\" style=\"fill:#e1812c;stroke:#ffffff;stroke-linejoin:miter;\"/>\r\n   </g>\r\n   <g id=\"patch_34\">\r\n    <path clip-path=\"url(#p620a9d9f7a)\" d=\"M 510.850568 434.014687 \r\nL 517.614205 434.014687 \r\nL 517.614205 45.728973 \r\nL 510.850568 45.728973 \r\nz\r\n\" style=\"fill:#e1812c;stroke:#ffffff;stroke-linejoin:miter;\"/>\r\n   </g>\r\n   <g id=\"patch_35\">\r\n    <path clip-path=\"url(#p620a9d9f7a)\" d=\"M 561.577841 434.014687 \r\nL 568.341477 434.014687 \r\nL 568.341477 45.728973 \r\nL 561.577841 45.728973 \r\nz\r\n\" style=\"fill:#e1812c;stroke:#ffffff;stroke-linejoin:miter;\"/>\r\n   </g>\r\n   <g id=\"patch_36\">\r\n    <path clip-path=\"url(#p620a9d9f7a)\" d=\"M 612.305114 434.014687 \r\nL 619.06875 434.014687 \r\nL 619.06875 45.728973 \r\nL 612.305114 45.728973 \r\nz\r\n\" style=\"fill:#e1812c;stroke:#ffffff;stroke-linejoin:miter;\"/>\r\n   </g>\r\n   <g id=\"patch_37\">\r\n    <path clip-path=\"url(#p620a9d9f7a)\" d=\"M 663.032386 434.014687 \r\nL 669.796023 434.014687 \r\nL 669.796023 45.728973 \r\nL 663.032386 45.728973 \r\nz\r\n\" style=\"fill:#e1812c;stroke:#ffffff;stroke-linejoin:miter;\"/>\r\n   </g>\r\n   <g id=\"patch_38\">\r\n    <path clip-path=\"url(#p620a9d9f7a)\" d=\"M 713.759659 434.014687 \r\nL 720.523295 434.014687 \r\nL 720.523295 45.728973 \r\nL 713.759659 45.728973 \r\nz\r\n\" style=\"fill:#e1812c;stroke:#ffffff;stroke-linejoin:miter;\"/>\r\n   </g>\r\n   <g id=\"patch_39\">\r\n    <path clip-path=\"url(#p620a9d9f7a)\" d=\"M 764.486932 434.014687 \r\nL 771.250568 434.014687 \r\nL 771.250568 45.728973 \r\nL 764.486932 45.728973 \r\nz\r\n\" style=\"fill:#e1812c;stroke:#ffffff;stroke-linejoin:miter;\"/>\r\n   </g>\r\n   <g id=\"patch_40\">\r\n    <path clip-path=\"url(#p620a9d9f7a)\" d=\"M 815.214205 434.014687 \r\nL 821.977841 434.014687 \r\nL 821.977841 45.728973 \r\nL 815.214205 45.728973 \r\nz\r\n\" style=\"fill:#e1812c;stroke:#ffffff;stroke-linejoin:miter;\"/>\r\n   </g>\r\n   <g id=\"patch_41\">\r\n    <path clip-path=\"url(#p620a9d9f7a)\" d=\"M 865.941477 434.014687 \r\nL 872.705114 434.014687 \r\nL 872.705114 45.728973 \r\nL 865.941477 45.728973 \r\nz\r\n\" style=\"fill:#e1812c;stroke:#ffffff;stroke-linejoin:miter;\"/>\r\n   </g>\r\n   <g id=\"patch_42\">\r\n    <path clip-path=\"url(#p620a9d9f7a)\" d=\"M 916.66875 434.014687 \r\nL 923.432386 434.014687 \r\nL 923.432386 45.728973 \r\nL 916.66875 45.728973 \r\nz\r\n\" style=\"fill:#e1812c;stroke:#ffffff;stroke-linejoin:miter;\"/>\r\n   </g>\r\n   <g id=\"patch_43\">\r\n    <path clip-path=\"url(#p620a9d9f7a)\" d=\"M 967.396023 434.014687 \r\nL 974.159659 434.014687 \r\nL 974.159659 288.407545 \r\nL 967.396023 288.407545 \r\nz\r\n\" style=\"fill:#e1812c;stroke:#ffffff;stroke-linejoin:miter;\"/>\r\n   </g>\r\n   <g id=\"patch_44\">\r\n    <path clip-path=\"url(#p620a9d9f7a)\" d=\"M 0 0 \r\nz\r\n\" style=\"fill:#e1812c;stroke:#ffffff;stroke-linejoin:miter;\"/>\r\n   </g>\r\n   <g id=\"patch_45\">\r\n    <path clip-path=\"url(#p620a9d9f7a)\" d=\"M 1068.850568 434.014687 \r\nL 1075.614205 434.014687 \r\nL 1075.614205 45.728973 \r\nL 1068.850568 45.728973 \r\nz\r\n\" style=\"fill:#e1812c;stroke:#ffffff;stroke-linejoin:miter;\"/>\r\n   </g>\r\n   <g id=\"patch_46\">\r\n    <path clip-path=\"url(#p620a9d9f7a)\" d=\"M 1119.577841 434.014687 \r\nL 1126.341477 434.014687 \r\nL 1126.341477 361.211116 \r\nL 1119.577841 361.211116 \r\nz\r\n\" style=\"fill:#e1812c;stroke:#ffffff;stroke-linejoin:miter;\"/>\r\n   </g>\r\n   <g id=\"patch_47\">\r\n    <path clip-path=\"url(#p620a9d9f7a)\" d=\"M 61.06875 434.014687 \r\nL 67.832386 434.014687 \r\nL 67.832386 45.728973 \r\nL 61.06875 45.728973 \r\nz\r\n\" style=\"fill:#3a923a;stroke:#ffffff;stroke-linejoin:miter;\"/>\r\n   </g>\r\n   <g id=\"patch_48\">\r\n    <path clip-path=\"url(#p620a9d9f7a)\" d=\"M 111.796023 434.014687 \r\nL 118.559659 434.014687 \r\nL 118.559659 45.728973 \r\nL 111.796023 45.728973 \r\nz\r\n\" style=\"fill:#3a923a;stroke:#ffffff;stroke-linejoin:miter;\"/>\r\n   </g>\r\n   <g id=\"patch_49\">\r\n    <path clip-path=\"url(#p620a9d9f7a)\" d=\"M 162.523295 434.014687 \r\nL 169.286932 434.014687 \r\nL 169.286932 45.728973 \r\nL 162.523295 45.728973 \r\nz\r\n\" style=\"fill:#3a923a;stroke:#ffffff;stroke-linejoin:miter;\"/>\r\n   </g>\r\n   <g id=\"patch_50\">\r\n    <path clip-path=\"url(#p620a9d9f7a)\" d=\"M 213.250568 434.014687 \r\nL 220.014205 434.014687 \r\nL 220.014205 118.532545 \r\nL 213.250568 118.532545 \r\nz\r\n\" style=\"fill:#3a923a;stroke:#ffffff;stroke-linejoin:miter;\"/>\r\n   </g>\r\n   <g id=\"patch_51\">\r\n    <path clip-path=\"url(#p620a9d9f7a)\" d=\"M 263.977841 434.014687 \r\nL 270.741477 434.014687 \r\nL 270.741477 94.264687 \r\nL 263.977841 94.264687 \r\nz\r\n\" style=\"fill:#3a923a;stroke:#ffffff;stroke-linejoin:miter;\"/>\r\n   </g>\r\n   <g id=\"patch_52\">\r\n    <path clip-path=\"url(#p620a9d9f7a)\" d=\"M 314.705114 434.014687 \r\nL 321.46875 434.014687 \r\nL 321.46875 45.728973 \r\nL 314.705114 45.728973 \r\nz\r\n\" style=\"fill:#3a923a;stroke:#ffffff;stroke-linejoin:miter;\"/>\r\n   </g>\r\n   <g id=\"patch_53\">\r\n    <path clip-path=\"url(#p620a9d9f7a)\" d=\"M 365.432386 434.014687 \r\nL 372.196023 434.014687 \r\nL 372.196023 69.99683 \r\nL 365.432386 69.99683 \r\nz\r\n\" style=\"fill:#3a923a;stroke:#ffffff;stroke-linejoin:miter;\"/>\r\n   </g>\r\n   <g id=\"patch_54\">\r\n    <path clip-path=\"url(#p620a9d9f7a)\" d=\"M 416.159659 434.014687 \r\nL 422.923295 434.014687 \r\nL 422.923295 69.99683 \r\nL 416.159659 69.99683 \r\nz\r\n\" style=\"fill:#3a923a;stroke:#ffffff;stroke-linejoin:miter;\"/>\r\n   </g>\r\n   <g id=\"patch_55\">\r\n    <path clip-path=\"url(#p620a9d9f7a)\" d=\"M 466.886932 434.014687 \r\nL 473.650568 434.014687 \r\nL 473.650568 45.728973 \r\nL 466.886932 45.728973 \r\nz\r\n\" style=\"fill:#3a923a;stroke:#ffffff;stroke-linejoin:miter;\"/>\r\n   </g>\r\n   <g id=\"patch_56\">\r\n    <path clip-path=\"url(#p620a9d9f7a)\" d=\"M 517.614205 434.014687 \r\nL 524.377841 434.014687 \r\nL 524.377841 45.728973 \r\nL 517.614205 45.728973 \r\nz\r\n\" style=\"fill:#3a923a;stroke:#ffffff;stroke-linejoin:miter;\"/>\r\n   </g>\r\n   <g id=\"patch_57\">\r\n    <path clip-path=\"url(#p620a9d9f7a)\" d=\"M 568.341477 434.014687 \r\nL 575.105114 434.014687 \r\nL 575.105114 69.99683 \r\nL 568.341477 69.99683 \r\nz\r\n\" style=\"fill:#3a923a;stroke:#ffffff;stroke-linejoin:miter;\"/>\r\n   </g>\r\n   <g id=\"patch_58\">\r\n    <path clip-path=\"url(#p620a9d9f7a)\" d=\"M 619.06875 434.014687 \r\nL 625.832386 434.014687 \r\nL 625.832386 45.728973 \r\nL 619.06875 45.728973 \r\nz\r\n\" style=\"fill:#3a923a;stroke:#ffffff;stroke-linejoin:miter;\"/>\r\n   </g>\r\n   <g id=\"patch_59\">\r\n    <path clip-path=\"url(#p620a9d9f7a)\" d=\"M 669.796023 434.014687 \r\nL 676.559659 434.014687 \r\nL 676.559659 45.728973 \r\nL 669.796023 45.728973 \r\nz\r\n\" style=\"fill:#3a923a;stroke:#ffffff;stroke-linejoin:miter;\"/>\r\n   </g>\r\n   <g id=\"patch_60\">\r\n    <path clip-path=\"url(#p620a9d9f7a)\" d=\"M 720.523295 434.014687 \r\nL 727.286932 434.014687 \r\nL 727.286932 167.068259 \r\nL 720.523295 167.068259 \r\nz\r\n\" style=\"fill:#3a923a;stroke:#ffffff;stroke-linejoin:miter;\"/>\r\n   </g>\r\n   <g id=\"patch_61\">\r\n    <path clip-path=\"url(#p620a9d9f7a)\" d=\"M 771.250568 434.014687 \r\nL 778.014205 434.014687 \r\nL 778.014205 45.728973 \r\nL 771.250568 45.728973 \r\nz\r\n\" style=\"fill:#3a923a;stroke:#ffffff;stroke-linejoin:miter;\"/>\r\n   </g>\r\n   <g id=\"patch_62\">\r\n    <path clip-path=\"url(#p620a9d9f7a)\" d=\"M 821.977841 434.014687 \r\nL 828.741477 434.014687 \r\nL 828.741477 45.728973 \r\nL 821.977841 45.728973 \r\nz\r\n\" style=\"fill:#3a923a;stroke:#ffffff;stroke-linejoin:miter;\"/>\r\n   </g>\r\n   <g id=\"patch_63\">\r\n    <path clip-path=\"url(#p620a9d9f7a)\" d=\"M 872.705114 434.014687 \r\nL 879.46875 434.014687 \r\nL 879.46875 45.728973 \r\nL 872.705114 45.728973 \r\nz\r\n\" style=\"fill:#3a923a;stroke:#ffffff;stroke-linejoin:miter;\"/>\r\n   </g>\r\n   <g id=\"patch_64\">\r\n    <path clip-path=\"url(#p620a9d9f7a)\" d=\"M 923.432386 434.014687 \r\nL 930.196023 434.014687 \r\nL 930.196023 45.728973 \r\nL 923.432386 45.728973 \r\nz\r\n\" style=\"fill:#3a923a;stroke:#ffffff;stroke-linejoin:miter;\"/>\r\n   </g>\r\n   <g id=\"patch_65\">\r\n    <path clip-path=\"url(#p620a9d9f7a)\" d=\"M 974.159659 434.014687 \r\nL 980.923295 434.014687 \r\nL 980.923295 45.728973 \r\nL 974.159659 45.728973 \r\nz\r\n\" style=\"fill:#3a923a;stroke:#ffffff;stroke-linejoin:miter;\"/>\r\n   </g>\r\n   <g id=\"patch_66\">\r\n    <path clip-path=\"url(#p620a9d9f7a)\" d=\"M 1024.886932 434.014687 \r\nL 1031.650568 434.014687 \r\nL 1031.650568 409.74683 \r\nL 1024.886932 409.74683 \r\nz\r\n\" style=\"fill:#3a923a;stroke:#ffffff;stroke-linejoin:miter;\"/>\r\n   </g>\r\n   <g id=\"patch_67\">\r\n    <path clip-path=\"url(#p620a9d9f7a)\" d=\"M 1075.614205 434.014687 \r\nL 1082.377841 434.014687 \r\nL 1082.377841 45.728973 \r\nL 1075.614205 45.728973 \r\nz\r\n\" style=\"fill:#3a923a;stroke:#ffffff;stroke-linejoin:miter;\"/>\r\n   </g>\r\n   <g id=\"patch_68\">\r\n    <path clip-path=\"url(#p620a9d9f7a)\" d=\"M 1126.341477 434.014687 \r\nL 1133.105114 434.014687 \r\nL 1133.105114 191.336116 \r\nL 1126.341477 191.336116 \r\nz\r\n\" style=\"fill:#3a923a;stroke:#ffffff;stroke-linejoin:miter;\"/>\r\n   </g>\r\n   <g id=\"patch_69\">\r\n    <path clip-path=\"url(#p620a9d9f7a)\" d=\"M 67.832386 434.014687 \r\nL 74.596023 434.014687 \r\nL 74.596023 45.728973 \r\nL 67.832386 45.728973 \r\nz\r\n\" style=\"fill:#c03d3e;stroke:#ffffff;stroke-linejoin:miter;\"/>\r\n   </g>\r\n   <g id=\"patch_70\">\r\n    <path clip-path=\"url(#p620a9d9f7a)\" d=\"M 118.559659 434.014687 \r\nL 125.323295 434.014687 \r\nL 125.323295 45.728973 \r\nL 118.559659 45.728973 \r\nz\r\n\" style=\"fill:#c03d3e;stroke:#ffffff;stroke-linejoin:miter;\"/>\r\n   </g>\r\n   <g id=\"patch_71\">\r\n    <path clip-path=\"url(#p620a9d9f7a)\" d=\"M 169.286932 434.014687 \r\nL 176.050568 434.014687 \r\nL 176.050568 45.728973 \r\nL 169.286932 45.728973 \r\nz\r\n\" style=\"fill:#c03d3e;stroke:#ffffff;stroke-linejoin:miter;\"/>\r\n   </g>\r\n   <g id=\"patch_72\">\r\n    <path clip-path=\"url(#p620a9d9f7a)\" d=\"M 220.014205 434.014687 \r\nL 226.777841 434.014687 \r\nL 226.777841 118.532545 \r\nL 220.014205 118.532545 \r\nz\r\n\" style=\"fill:#c03d3e;stroke:#ffffff;stroke-linejoin:miter;\"/>\r\n   </g>\r\n   <g id=\"patch_73\">\r\n    <path clip-path=\"url(#p620a9d9f7a)\" d=\"M 270.741477 434.014687 \r\nL 277.505114 434.014687 \r\nL 277.505114 94.264687 \r\nL 270.741477 94.264687 \r\nz\r\n\" style=\"fill:#c03d3e;stroke:#ffffff;stroke-linejoin:miter;\"/>\r\n   </g>\r\n   <g id=\"patch_74\">\r\n    <path clip-path=\"url(#p620a9d9f7a)\" d=\"M 321.46875 434.014687 \r\nL 328.232386 434.014687 \r\nL 328.232386 45.728973 \r\nL 321.46875 45.728973 \r\nz\r\n\" style=\"fill:#c03d3e;stroke:#ffffff;stroke-linejoin:miter;\"/>\r\n   </g>\r\n   <g id=\"patch_75\">\r\n    <path clip-path=\"url(#p620a9d9f7a)\" d=\"M 372.196023 434.014687 \r\nL 378.959659 434.014687 \r\nL 378.959659 69.99683 \r\nL 372.196023 69.99683 \r\nz\r\n\" style=\"fill:#c03d3e;stroke:#ffffff;stroke-linejoin:miter;\"/>\r\n   </g>\r\n   <g id=\"patch_76\">\r\n    <path clip-path=\"url(#p620a9d9f7a)\" d=\"M 422.923295 434.014687 \r\nL 429.686932 434.014687 \r\nL 429.686932 69.99683 \r\nL 422.923295 69.99683 \r\nz\r\n\" style=\"fill:#c03d3e;stroke:#ffffff;stroke-linejoin:miter;\"/>\r\n   </g>\r\n   <g id=\"patch_77\">\r\n    <path clip-path=\"url(#p620a9d9f7a)\" d=\"M 473.650568 434.014687 \r\nL 480.414205 434.014687 \r\nL 480.414205 45.728973 \r\nL 473.650568 45.728973 \r\nz\r\n\" style=\"fill:#c03d3e;stroke:#ffffff;stroke-linejoin:miter;\"/>\r\n   </g>\r\n   <g id=\"patch_78\">\r\n    <path clip-path=\"url(#p620a9d9f7a)\" d=\"M 524.377841 434.014687 \r\nL 531.141477 434.014687 \r\nL 531.141477 45.728973 \r\nL 524.377841 45.728973 \r\nz\r\n\" style=\"fill:#c03d3e;stroke:#ffffff;stroke-linejoin:miter;\"/>\r\n   </g>\r\n   <g id=\"patch_79\">\r\n    <path clip-path=\"url(#p620a9d9f7a)\" d=\"M 575.105114 434.014687 \r\nL 581.86875 434.014687 \r\nL 581.86875 69.99683 \r\nL 575.105114 69.99683 \r\nz\r\n\" style=\"fill:#c03d3e;stroke:#ffffff;stroke-linejoin:miter;\"/>\r\n   </g>\r\n   <g id=\"patch_80\">\r\n    <path clip-path=\"url(#p620a9d9f7a)\" d=\"M 625.832386 434.014687 \r\nL 632.596023 434.014687 \r\nL 632.596023 45.728973 \r\nL 625.832386 45.728973 \r\nz\r\n\" style=\"fill:#c03d3e;stroke:#ffffff;stroke-linejoin:miter;\"/>\r\n   </g>\r\n   <g id=\"patch_81\">\r\n    <path clip-path=\"url(#p620a9d9f7a)\" d=\"M 676.559659 434.014687 \r\nL 683.323295 434.014687 \r\nL 683.323295 45.728973 \r\nL 676.559659 45.728973 \r\nz\r\n\" style=\"fill:#c03d3e;stroke:#ffffff;stroke-linejoin:miter;\"/>\r\n   </g>\r\n   <g id=\"patch_82\">\r\n    <path clip-path=\"url(#p620a9d9f7a)\" d=\"M 727.286932 434.014687 \r\nL 734.050568 434.014687 \r\nL 734.050568 167.068259 \r\nL 727.286932 167.068259 \r\nz\r\n\" style=\"fill:#c03d3e;stroke:#ffffff;stroke-linejoin:miter;\"/>\r\n   </g>\r\n   <g id=\"patch_83\">\r\n    <path clip-path=\"url(#p620a9d9f7a)\" d=\"M 778.014205 434.014687 \r\nL 784.777841 434.014687 \r\nL 784.777841 45.728973 \r\nL 778.014205 45.728973 \r\nz\r\n\" style=\"fill:#c03d3e;stroke:#ffffff;stroke-linejoin:miter;\"/>\r\n   </g>\r\n   <g id=\"patch_84\">\r\n    <path clip-path=\"url(#p620a9d9f7a)\" d=\"M 828.741477 434.014687 \r\nL 835.505114 434.014687 \r\nL 835.505114 45.728973 \r\nL 828.741477 45.728973 \r\nz\r\n\" style=\"fill:#c03d3e;stroke:#ffffff;stroke-linejoin:miter;\"/>\r\n   </g>\r\n   <g id=\"patch_85\">\r\n    <path clip-path=\"url(#p620a9d9f7a)\" d=\"M 879.46875 434.014687 \r\nL 886.232386 434.014687 \r\nL 886.232386 45.728973 \r\nL 879.46875 45.728973 \r\nz\r\n\" style=\"fill:#c03d3e;stroke:#ffffff;stroke-linejoin:miter;\"/>\r\n   </g>\r\n   <g id=\"patch_86\">\r\n    <path clip-path=\"url(#p620a9d9f7a)\" d=\"M 930.196023 434.014687 \r\nL 936.959659 434.014687 \r\nL 936.959659 45.728973 \r\nL 930.196023 45.728973 \r\nz\r\n\" style=\"fill:#c03d3e;stroke:#ffffff;stroke-linejoin:miter;\"/>\r\n   </g>\r\n   <g id=\"patch_87\">\r\n    <path clip-path=\"url(#p620a9d9f7a)\" d=\"M 980.923295 434.014687 \r\nL 987.686932 434.014687 \r\nL 987.686932 45.728973 \r\nL 980.923295 45.728973 \r\nz\r\n\" style=\"fill:#c03d3e;stroke:#ffffff;stroke-linejoin:miter;\"/>\r\n   </g>\r\n   <g id=\"patch_88\">\r\n    <path clip-path=\"url(#p620a9d9f7a)\" d=\"M 1031.650568 434.014687 \r\nL 1038.414205 434.014687 \r\nL 1038.414205 409.74683 \r\nL 1031.650568 409.74683 \r\nz\r\n\" style=\"fill:#c03d3e;stroke:#ffffff;stroke-linejoin:miter;\"/>\r\n   </g>\r\n   <g id=\"patch_89\">\r\n    <path clip-path=\"url(#p620a9d9f7a)\" d=\"M 1082.377841 434.014687 \r\nL 1089.141477 434.014687 \r\nL 1089.141477 45.728973 \r\nL 1082.377841 45.728973 \r\nz\r\n\" style=\"fill:#c03d3e;stroke:#ffffff;stroke-linejoin:miter;\"/>\r\n   </g>\r\n   <g id=\"patch_90\">\r\n    <path clip-path=\"url(#p620a9d9f7a)\" d=\"M 1133.105114 434.014687 \r\nL 1139.86875 434.014687 \r\nL 1139.86875 191.336116 \r\nL 1133.105114 191.336116 \r\nz\r\n\" style=\"fill:#c03d3e;stroke:#ffffff;stroke-linejoin:miter;\"/>\r\n   </g>\r\n   <g id=\"patch_91\">\r\n    <path clip-path=\"url(#p620a9d9f7a)\" d=\"M 0 0 \r\nz\r\n\" style=\"fill:#9372b2;stroke:#ffffff;stroke-linejoin:miter;\"/>\r\n   </g>\r\n   <g id=\"patch_92\">\r\n    <path clip-path=\"url(#p620a9d9f7a)\" d=\"M 0 0 \r\nz\r\n\" style=\"fill:#9372b2;stroke:#ffffff;stroke-linejoin:miter;\"/>\r\n   </g>\r\n   <g id=\"patch_93\">\r\n    <path clip-path=\"url(#p620a9d9f7a)\" d=\"M 176.050568 434.014687 \r\nL 182.814205 434.014687 \r\nL 182.814205 45.728973 \r\nL 176.050568 45.728973 \r\nz\r\n\" style=\"fill:#9372b2;stroke:#ffffff;stroke-linejoin:miter;\"/>\r\n   </g>\r\n   <g id=\"patch_94\">\r\n    <path clip-path=\"url(#p620a9d9f7a)\" d=\"M 226.777841 434.014687 \r\nL 233.541477 434.014687 \r\nL 233.541477 69.99683 \r\nL 226.777841 69.99683 \r\nz\r\n\" style=\"fill:#9372b2;stroke:#ffffff;stroke-linejoin:miter;\"/>\r\n   </g>\r\n   <g id=\"patch_95\">\r\n    <path clip-path=\"url(#p620a9d9f7a)\" d=\"M 277.505114 434.014687 \r\nL 284.26875 434.014687 \r\nL 284.26875 45.728973 \r\nL 277.505114 45.728973 \r\nz\r\n\" style=\"fill:#9372b2;stroke:#ffffff;stroke-linejoin:miter;\"/>\r\n   </g>\r\n   <g id=\"patch_96\">\r\n    <path clip-path=\"url(#p620a9d9f7a)\" d=\"M 0 0 \r\nz\r\n\" style=\"fill:#9372b2;stroke:#ffffff;stroke-linejoin:miter;\"/>\r\n   </g>\r\n   <g id=\"patch_97\">\r\n    <path clip-path=\"url(#p620a9d9f7a)\" d=\"M 0 0 \r\nz\r\n\" style=\"fill:#9372b2;stroke:#ffffff;stroke-linejoin:miter;\"/>\r\n   </g>\r\n   <g id=\"patch_98\">\r\n    <path clip-path=\"url(#p620a9d9f7a)\" d=\"M 429.686932 434.014687 \r\nL 436.450568 434.014687 \r\nL 436.450568 142.800402 \r\nL 429.686932 142.800402 \r\nz\r\n\" style=\"fill:#9372b2;stroke:#ffffff;stroke-linejoin:miter;\"/>\r\n   </g>\r\n   <g id=\"patch_99\">\r\n    <path clip-path=\"url(#p620a9d9f7a)\" d=\"M 0 0 \r\nz\r\n\" style=\"fill:#9372b2;stroke:#ffffff;stroke-linejoin:miter;\"/>\r\n   </g>\r\n   <g id=\"patch_100\">\r\n    <path clip-path=\"url(#p620a9d9f7a)\" d=\"M 531.141477 434.014687 \r\nL 537.905114 434.014687 \r\nL 537.905114 312.675402 \r\nL 531.141477 312.675402 \r\nz\r\n\" style=\"fill:#9372b2;stroke:#ffffff;stroke-linejoin:miter;\"/>\r\n   </g>\r\n   <g id=\"patch_101\">\r\n    <path clip-path=\"url(#p620a9d9f7a)\" d=\"M 0 0 \r\nz\r\n\" style=\"fill:#9372b2;stroke:#ffffff;stroke-linejoin:miter;\"/>\r\n   </g>\r\n   <g id=\"patch_102\">\r\n    <path clip-path=\"url(#p620a9d9f7a)\" d=\"M 0 0 \r\nz\r\n\" style=\"fill:#9372b2;stroke:#ffffff;stroke-linejoin:miter;\"/>\r\n   </g>\r\n   <g id=\"patch_103\">\r\n    <path clip-path=\"url(#p620a9d9f7a)\" d=\"M 683.323295 434.014687 \r\nL 690.086932 434.014687 \r\nL 690.086932 191.336116 \r\nL 683.323295 191.336116 \r\nz\r\n\" style=\"fill:#9372b2;stroke:#ffffff;stroke-linejoin:miter;\"/>\r\n   </g>\r\n   <g id=\"patch_104\">\r\n    <path clip-path=\"url(#p620a9d9f7a)\" d=\"M 0 0 \r\nz\r\n\" style=\"fill:#9372b2;stroke:#ffffff;stroke-linejoin:miter;\"/>\r\n   </g>\r\n   <g id=\"patch_105\">\r\n    <path clip-path=\"url(#p620a9d9f7a)\" d=\"M 784.777841 434.014687 \r\nL 791.541477 434.014687 \r\nL 791.541477 361.211116 \r\nL 784.777841 361.211116 \r\nz\r\n\" style=\"fill:#9372b2;stroke:#ffffff;stroke-linejoin:miter;\"/>\r\n   </g>\r\n   <g id=\"patch_106\">\r\n    <path clip-path=\"url(#p620a9d9f7a)\" d=\"M 0 0 \r\nz\r\n\" style=\"fill:#9372b2;stroke:#ffffff;stroke-linejoin:miter;\"/>\r\n   </g>\r\n   <g id=\"patch_107\">\r\n    <path clip-path=\"url(#p620a9d9f7a)\" d=\"M 886.232386 434.014687 \r\nL 892.996023 434.014687 \r\nL 892.996023 361.211116 \r\nL 886.232386 361.211116 \r\nz\r\n\" style=\"fill:#9372b2;stroke:#ffffff;stroke-linejoin:miter;\"/>\r\n   </g>\r\n   <g id=\"patch_108\">\r\n    <path clip-path=\"url(#p620a9d9f7a)\" d=\"M 0 0 \r\nz\r\n\" style=\"fill:#9372b2;stroke:#ffffff;stroke-linejoin:miter;\"/>\r\n   </g>\r\n   <g id=\"patch_109\">\r\n    <path clip-path=\"url(#p620a9d9f7a)\" d=\"M 987.686932 434.014687 \r\nL 994.450568 434.014687 \r\nL 994.450568 336.943259 \r\nL 987.686932 336.943259 \r\nz\r\n\" style=\"fill:#9372b2;stroke:#ffffff;stroke-linejoin:miter;\"/>\r\n   </g>\r\n   <g id=\"patch_110\">\r\n    <path clip-path=\"url(#p620a9d9f7a)\" d=\"M 1038.414205 434.014687 \r\nL 1045.177841 434.014687 \r\nL 1045.177841 142.800402 \r\nL 1038.414205 142.800402 \r\nz\r\n\" style=\"fill:#9372b2;stroke:#ffffff;stroke-linejoin:miter;\"/>\r\n   </g>\r\n   <g id=\"patch_111\">\r\n    <path clip-path=\"url(#p620a9d9f7a)\" d=\"M 1089.141477 434.014687 \r\nL 1095.905114 434.014687 \r\nL 1095.905114 45.728973 \r\nL 1089.141477 45.728973 \r\nz\r\n\" style=\"fill:#9372b2;stroke:#ffffff;stroke-linejoin:miter;\"/>\r\n   </g>\r\n   <g id=\"patch_112\">\r\n    <path clip-path=\"url(#p620a9d9f7a)\" d=\"M 0 0 \r\nz\r\n\" style=\"fill:#9372b2;stroke:#ffffff;stroke-linejoin:miter;\"/>\r\n   </g>\r\n   <g id=\"patch_113\">\r\n    <path clip-path=\"url(#p620a9d9f7a)\" d=\"M 0 0 \r\nz\r\n\" style=\"fill:#845b53;stroke:#ffffff;stroke-linejoin:miter;\"/>\r\n   </g>\r\n   <g id=\"patch_114\">\r\n    <path clip-path=\"url(#p620a9d9f7a)\" d=\"M 0 0 \r\nz\r\n\" style=\"fill:#845b53;stroke:#ffffff;stroke-linejoin:miter;\"/>\r\n   </g>\r\n   <g id=\"patch_115\">\r\n    <path clip-path=\"url(#p620a9d9f7a)\" d=\"M 182.814205 434.014687 \r\nL 189.577841 434.014687 \r\nL 189.577841 45.728973 \r\nL 182.814205 45.728973 \r\nz\r\n\" style=\"fill:#845b53;stroke:#ffffff;stroke-linejoin:miter;\"/>\r\n   </g>\r\n   <g id=\"patch_116\">\r\n    <path clip-path=\"url(#p620a9d9f7a)\" d=\"M 233.541477 434.014687 \r\nL 240.305114 434.014687 \r\nL 240.305114 45.728973 \r\nL 233.541477 45.728973 \r\nz\r\n\" style=\"fill:#845b53;stroke:#ffffff;stroke-linejoin:miter;\"/>\r\n   </g>\r\n   <g id=\"patch_117\">\r\n    <path clip-path=\"url(#p620a9d9f7a)\" d=\"M 284.26875 434.014687 \r\nL 291.032386 434.014687 \r\nL 291.032386 45.728973 \r\nL 284.26875 45.728973 \r\nz\r\n\" style=\"fill:#845b53;stroke:#ffffff;stroke-linejoin:miter;\"/>\r\n   </g>\r\n   <g id=\"patch_118\">\r\n    <path clip-path=\"url(#p620a9d9f7a)\" d=\"M 0 0 \r\nz\r\n\" style=\"fill:#845b53;stroke:#ffffff;stroke-linejoin:miter;\"/>\r\n   </g>\r\n   <g id=\"patch_119\">\r\n    <path clip-path=\"url(#p620a9d9f7a)\" d=\"M 385.723295 434.014687 \r\nL 392.486932 434.014687 \r\nL 392.486932 167.068259 \r\nL 385.723295 167.068259 \r\nz\r\n\" style=\"fill:#845b53;stroke:#ffffff;stroke-linejoin:miter;\"/>\r\n   </g>\r\n   <g id=\"patch_120\">\r\n    <path clip-path=\"url(#p620a9d9f7a)\" d=\"M 436.450568 434.014687 \r\nL 443.214205 434.014687 \r\nL 443.214205 142.800402 \r\nL 436.450568 142.800402 \r\nz\r\n\" style=\"fill:#845b53;stroke:#ffffff;stroke-linejoin:miter;\"/>\r\n   </g>\r\n   <g id=\"patch_121\">\r\n    <path clip-path=\"url(#p620a9d9f7a)\" d=\"M 0 0 \r\nz\r\n\" style=\"fill:#845b53;stroke:#ffffff;stroke-linejoin:miter;\"/>\r\n   </g>\r\n   <g id=\"patch_122\">\r\n    <path clip-path=\"url(#p620a9d9f7a)\" d=\"M 537.905114 434.014687 \r\nL 544.66875 434.014687 \r\nL 544.66875 142.800402 \r\nL 537.905114 142.800402 \r\nz\r\n\" style=\"fill:#845b53;stroke:#ffffff;stroke-linejoin:miter;\"/>\r\n   </g>\r\n   <g id=\"patch_123\">\r\n    <path clip-path=\"url(#p620a9d9f7a)\" d=\"M 0 0 \r\nz\r\n\" style=\"fill:#845b53;stroke:#ffffff;stroke-linejoin:miter;\"/>\r\n   </g>\r\n   <g id=\"patch_124\">\r\n    <path clip-path=\"url(#p620a9d9f7a)\" d=\"M 0 0 \r\nz\r\n\" style=\"fill:#845b53;stroke:#ffffff;stroke-linejoin:miter;\"/>\r\n   </g>\r\n   <g id=\"patch_125\">\r\n    <path clip-path=\"url(#p620a9d9f7a)\" d=\"M 690.086932 434.014687 \r\nL 696.850568 434.014687 \r\nL 696.850568 167.068259 \r\nL 690.086932 167.068259 \r\nz\r\n\" style=\"fill:#845b53;stroke:#ffffff;stroke-linejoin:miter;\"/>\r\n   </g>\r\n   <g id=\"patch_126\">\r\n    <path clip-path=\"url(#p620a9d9f7a)\" d=\"M 0 0 \r\nz\r\n\" style=\"fill:#845b53;stroke:#ffffff;stroke-linejoin:miter;\"/>\r\n   </g>\r\n   <g id=\"patch_127\">\r\n    <path clip-path=\"url(#p620a9d9f7a)\" d=\"M 791.541477 434.014687 \r\nL 798.305114 434.014687 \r\nL 798.305114 94.264687 \r\nL 791.541477 94.264687 \r\nz\r\n\" style=\"fill:#845b53;stroke:#ffffff;stroke-linejoin:miter;\"/>\r\n   </g>\r\n   <g id=\"patch_128\">\r\n    <path clip-path=\"url(#p620a9d9f7a)\" d=\"M 0 0 \r\nz\r\n\" style=\"fill:#845b53;stroke:#ffffff;stroke-linejoin:miter;\"/>\r\n   </g>\r\n   <g id=\"patch_129\">\r\n    <path clip-path=\"url(#p620a9d9f7a)\" d=\"M 892.996023 434.014687 \r\nL 899.759659 434.014687 \r\nL 899.759659 45.728973 \r\nL 892.996023 45.728973 \r\nz\r\n\" style=\"fill:#845b53;stroke:#ffffff;stroke-linejoin:miter;\"/>\r\n   </g>\r\n   <g id=\"patch_130\">\r\n    <path clip-path=\"url(#p620a9d9f7a)\" d=\"M 0 0 \r\nz\r\n\" style=\"fill:#845b53;stroke:#ffffff;stroke-linejoin:miter;\"/>\r\n   </g>\r\n   <g id=\"patch_131\">\r\n    <path clip-path=\"url(#p620a9d9f7a)\" d=\"M 994.450568 434.014687 \r\nL 1001.214205 434.014687 \r\nL 1001.214205 239.87183 \r\nL 994.450568 239.87183 \r\nz\r\n\" style=\"fill:#845b53;stroke:#ffffff;stroke-linejoin:miter;\"/>\r\n   </g>\r\n   <g id=\"patch_132\">\r\n    <path clip-path=\"url(#p620a9d9f7a)\" d=\"M 1045.177841 434.014687 \r\nL 1051.941477 434.014687 \r\nL 1051.941477 94.264687 \r\nL 1045.177841 94.264687 \r\nz\r\n\" style=\"fill:#845b53;stroke:#ffffff;stroke-linejoin:miter;\"/>\r\n   </g>\r\n   <g id=\"patch_133\">\r\n    <path clip-path=\"url(#p620a9d9f7a)\" d=\"M 1095.905114 434.014687 \r\nL 1102.66875 434.014687 \r\nL 1102.66875 45.728973 \r\nL 1095.905114 45.728973 \r\nz\r\n\" style=\"fill:#845b53;stroke:#ffffff;stroke-linejoin:miter;\"/>\r\n   </g>\r\n   <g id=\"patch_134\">\r\n    <path clip-path=\"url(#p620a9d9f7a)\" d=\"M 0 0 \r\nz\r\n\" style=\"fill:#845b53;stroke:#ffffff;stroke-linejoin:miter;\"/>\r\n   </g>\r\n   <g id=\"patch_135\">\r\n    <path d=\"M 42.46875 434.014687 \r\nL 42.46875 26.314687 \r\n\" style=\"fill:none;stroke:#ffffff;stroke-linecap:square;stroke-linejoin:miter;stroke-width:0.8;\"/>\r\n   </g>\r\n   <g id=\"patch_136\">\r\n    <path d=\"M 1158.46875 434.014687 \r\nL 1158.46875 26.314687 \r\n\" style=\"fill:none;stroke:#ffffff;stroke-linecap:square;stroke-linejoin:miter;stroke-width:0.8;\"/>\r\n   </g>\r\n   <g id=\"patch_137\">\r\n    <path d=\"M 42.46875 434.014687 \r\nL 1158.46875 434.014687 \r\n\" style=\"fill:none;stroke:#ffffff;stroke-linecap:square;stroke-linejoin:miter;stroke-width:0.8;\"/>\r\n   </g>\r\n   <g id=\"patch_138\">\r\n    <path d=\"M 42.46875 26.314687 \r\nL 1158.46875 26.314687 \r\n\" style=\"fill:none;stroke:#ffffff;stroke-linecap:square;stroke-linejoin:miter;stroke-width:0.8;\"/>\r\n   </g>\r\n   <g id=\"text_34\">\r\n    <!-- Quantity of Fertilizers used for different purposes -->\r\n    <g style=\"fill:#262626;\" transform=\"translate(406.050469 20.314687)scale(0.18 -0.18)\">\r\n     <use xlink:href=\"#ArialMT-81\"/>\r\n     <use x=\"77.783203\" xlink:href=\"#ArialMT-117\"/>\r\n     <use x=\"133.398438\" xlink:href=\"#ArialMT-97\"/>\r\n     <use x=\"189.013672\" xlink:href=\"#ArialMT-110\"/>\r\n     <use x=\"244.628906\" xlink:href=\"#ArialMT-116\"/>\r\n     <use x=\"272.412109\" xlink:href=\"#ArialMT-105\"/>\r\n     <use x=\"294.628906\" xlink:href=\"#ArialMT-116\"/>\r\n     <use x=\"322.412109\" xlink:href=\"#ArialMT-121\"/>\r\n     <use x=\"372.412109\" xlink:href=\"#ArialMT-32\"/>\r\n     <use x=\"400.195312\" xlink:href=\"#ArialMT-111\"/>\r\n     <use x=\"455.810547\" xlink:href=\"#ArialMT-102\"/>\r\n     <use x=\"483.59375\" xlink:href=\"#ArialMT-32\"/>\r\n     <use x=\"511.376953\" xlink:href=\"#ArialMT-70\"/>\r\n     <use x=\"572.460938\" xlink:href=\"#ArialMT-101\"/>\r\n     <use x=\"628.076172\" xlink:href=\"#ArialMT-114\"/>\r\n     <use x=\"661.376953\" xlink:href=\"#ArialMT-116\"/>\r\n     <use x=\"689.160156\" xlink:href=\"#ArialMT-105\"/>\r\n     <use x=\"711.376953\" xlink:href=\"#ArialMT-108\"/>\r\n     <use x=\"733.59375\" xlink:href=\"#ArialMT-105\"/>\r\n     <use x=\"755.810547\" xlink:href=\"#ArialMT-122\"/>\r\n     <use x=\"805.810547\" xlink:href=\"#ArialMT-101\"/>\r\n     <use x=\"861.425781\" xlink:href=\"#ArialMT-114\"/>\r\n     <use x=\"894.726562\" xlink:href=\"#ArialMT-115\"/>\r\n     <use x=\"944.726562\" xlink:href=\"#ArialMT-32\"/>\r\n     <use x=\"972.509766\" xlink:href=\"#ArialMT-117\"/>\r\n     <use x=\"1028.125\" xlink:href=\"#ArialMT-115\"/>\r\n     <use x=\"1078.125\" xlink:href=\"#ArialMT-101\"/>\r\n     <use x=\"1133.740234\" xlink:href=\"#ArialMT-100\"/>\r\n     <use x=\"1189.355469\" xlink:href=\"#ArialMT-32\"/>\r\n     <use x=\"1217.138672\" xlink:href=\"#ArialMT-102\"/>\r\n     <use x=\"1244.921875\" xlink:href=\"#ArialMT-111\"/>\r\n     <use x=\"1300.537109\" xlink:href=\"#ArialMT-114\"/>\r\n     <use x=\"1333.837891\" xlink:href=\"#ArialMT-32\"/>\r\n     <use x=\"1361.621094\" xlink:href=\"#ArialMT-100\"/>\r\n     <use x=\"1417.236328\" xlink:href=\"#ArialMT-105\"/>\r\n     <use x=\"1439.453125\" xlink:href=\"#ArialMT-102\"/>\r\n     <use x=\"1465.486328\" xlink:href=\"#ArialMT-102\"/>\r\n     <use x=\"1493.269531\" xlink:href=\"#ArialMT-101\"/>\r\n     <use x=\"1548.884766\" xlink:href=\"#ArialMT-114\"/>\r\n     <use x=\"1582.185547\" xlink:href=\"#ArialMT-101\"/>\r\n     <use x=\"1637.800781\" xlink:href=\"#ArialMT-110\"/>\r\n     <use x=\"1693.416016\" xlink:href=\"#ArialMT-116\"/>\r\n     <use x=\"1721.199219\" xlink:href=\"#ArialMT-32\"/>\r\n     <use x=\"1748.982422\" xlink:href=\"#ArialMT-112\"/>\r\n     <use x=\"1804.597656\" xlink:href=\"#ArialMT-117\"/>\r\n     <use x=\"1860.212891\" xlink:href=\"#ArialMT-114\"/>\r\n     <use x=\"1893.513672\" xlink:href=\"#ArialMT-112\"/>\r\n     <use x=\"1949.128906\" xlink:href=\"#ArialMT-111\"/>\r\n     <use x=\"2004.744141\" xlink:href=\"#ArialMT-115\"/>\r\n     <use x=\"2054.744141\" xlink:href=\"#ArialMT-101\"/>\r\n     <use x=\"2110.359375\" xlink:href=\"#ArialMT-115\"/>\r\n    </g>\r\n   </g>\r\n   <g id=\"legend_1\">\r\n    <g id=\"patch_139\">\r\n     <path d=\"M 1048.890625 133.939687 \r\nL 1151.46875 133.939687 \r\nQ 1153.46875 133.939687 1153.46875 131.939687 \r\nL 1153.46875 33.314687 \r\nQ 1153.46875 31.314687 1151.46875 31.314687 \r\nL 1048.890625 31.314687 \r\nQ 1046.890625 31.314687 1046.890625 33.314687 \r\nL 1046.890625 131.939687 \r\nQ 1046.890625 133.939687 1048.890625 133.939687 \r\nz\r\n\" style=\"fill:#eaeaf2;opacity:0.8;stroke:#cccccc;stroke-linejoin:miter;\"/>\r\n    </g>\r\n    <g id=\"text_35\">\r\n     <!-- element -->\r\n     <g style=\"fill:#262626;\" transform=\"translate(1082.392969 42.4725)scale(0.1 -0.1)\">\r\n      <use xlink:href=\"#ArialMT-101\"/>\r\n      <use x=\"55.615234\" xlink:href=\"#ArialMT-108\"/>\r\n      <use x=\"77.832031\" xlink:href=\"#ArialMT-101\"/>\r\n      <use x=\"133.447266\" xlink:href=\"#ArialMT-109\"/>\r\n      <use x=\"216.748047\" xlink:href=\"#ArialMT-101\"/>\r\n      <use x=\"272.363281\" xlink:href=\"#ArialMT-110\"/>\r\n      <use x=\"327.978516\" xlink:href=\"#ArialMT-116\"/>\r\n     </g>\r\n    </g>\r\n    <g id=\"patch_140\">\r\n     <path d=\"M 1050.890625 56.745937 \r\nL 1070.890625 56.745937 \r\nL 1070.890625 49.745937 \r\nL 1050.890625 49.745937 \r\nz\r\n\" style=\"fill:#3274a1;stroke:#ffffff;stroke-linejoin:miter;\"/>\r\n    </g>\r\n    <g id=\"text_36\">\r\n     <!-- Import Quantity -->\r\n     <g style=\"fill:#262626;\" transform=\"translate(1078.890625 56.745937)scale(0.1 -0.1)\">\r\n      <defs>\r\n       <path d=\"M 9.328125 0 \r\nL 9.328125 71.578125 \r\nL 18.796875 71.578125 \r\nL 18.796875 0 \r\nz\r\n\" id=\"ArialMT-73\"/>\r\n      </defs>\r\n      <use xlink:href=\"#ArialMT-73\"/>\r\n      <use x=\"27.783203\" xlink:href=\"#ArialMT-109\"/>\r\n      <use x=\"111.083984\" xlink:href=\"#ArialMT-112\"/>\r\n      <use x=\"166.699219\" xlink:href=\"#ArialMT-111\"/>\r\n      <use x=\"222.314453\" xlink:href=\"#ArialMT-114\"/>\r\n      <use x=\"255.615234\" xlink:href=\"#ArialMT-116\"/>\r\n      <use x=\"283.398438\" xlink:href=\"#ArialMT-32\"/>\r\n      <use x=\"311.181641\" xlink:href=\"#ArialMT-81\"/>\r\n      <use x=\"388.964844\" xlink:href=\"#ArialMT-117\"/>\r\n      <use x=\"444.580078\" xlink:href=\"#ArialMT-97\"/>\r\n      <use x=\"500.195312\" xlink:href=\"#ArialMT-110\"/>\r\n      <use x=\"555.810547\" xlink:href=\"#ArialMT-116\"/>\r\n      <use x=\"583.59375\" xlink:href=\"#ArialMT-105\"/>\r\n      <use x=\"605.810547\" xlink:href=\"#ArialMT-116\"/>\r\n      <use x=\"633.59375\" xlink:href=\"#ArialMT-121\"/>\r\n     </g>\r\n    </g>\r\n    <g id=\"patch_141\">\r\n     <path d=\"M 1050.890625 71.008437 \r\nL 1070.890625 71.008437 \r\nL 1070.890625 64.008437 \r\nL 1050.890625 64.008437 \r\nz\r\n\" style=\"fill:#e1812c;stroke:#ffffff;stroke-linejoin:miter;\"/>\r\n    </g>\r\n    <g id=\"text_37\">\r\n     <!-- Import Value -->\r\n     <g style=\"fill:#262626;\" transform=\"translate(1078.890625 71.008437)scale(0.1 -0.1)\">\r\n      <defs>\r\n       <path d=\"M 28.171875 0 \r\nL 0.4375 71.578125 \r\nL 10.6875 71.578125 \r\nL 29.296875 19.578125 \r\nQ 31.546875 13.328125 33.0625 7.859375 \r\nQ 34.71875 13.71875 36.921875 19.578125 \r\nL 56.25 71.578125 \r\nL 65.921875 71.578125 \r\nL 37.890625 0 \r\nz\r\n\" id=\"ArialMT-86\"/>\r\n      </defs>\r\n      <use xlink:href=\"#ArialMT-73\"/>\r\n      <use x=\"27.783203\" xlink:href=\"#ArialMT-109\"/>\r\n      <use x=\"111.083984\" xlink:href=\"#ArialMT-112\"/>\r\n      <use x=\"166.699219\" xlink:href=\"#ArialMT-111\"/>\r\n      <use x=\"222.314453\" xlink:href=\"#ArialMT-114\"/>\r\n      <use x=\"255.615234\" xlink:href=\"#ArialMT-116\"/>\r\n      <use x=\"283.398438\" xlink:href=\"#ArialMT-32\"/>\r\n      <use x=\"311.181641\" xlink:href=\"#ArialMT-86\"/>\r\n      <use x=\"370.505859\" xlink:href=\"#ArialMT-97\"/>\r\n      <use x=\"426.121094\" xlink:href=\"#ArialMT-108\"/>\r\n      <use x=\"448.337891\" xlink:href=\"#ArialMT-117\"/>\r\n      <use x=\"503.953125\" xlink:href=\"#ArialMT-101\"/>\r\n     </g>\r\n    </g>\r\n    <g id=\"patch_142\">\r\n     <path d=\"M 1050.890625 85.281875 \r\nL 1070.890625 85.281875 \r\nL 1070.890625 78.281875 \r\nL 1050.890625 78.281875 \r\nz\r\n\" style=\"fill:#3a923a;stroke:#ffffff;stroke-linejoin:miter;\"/>\r\n    </g>\r\n    <g id=\"text_38\">\r\n     <!-- Export Quantity -->\r\n     <g style=\"fill:#262626;\" transform=\"translate(1078.890625 85.281875)scale(0.1 -0.1)\">\r\n      <defs>\r\n       <path d=\"M 7.90625 0 \r\nL 7.90625 71.578125 \r\nL 59.671875 71.578125 \r\nL 59.671875 63.140625 \r\nL 17.390625 63.140625 \r\nL 17.390625 41.21875 \r\nL 56.984375 41.21875 \r\nL 56.984375 32.8125 \r\nL 17.390625 32.8125 \r\nL 17.390625 8.453125 \r\nL 61.328125 8.453125 \r\nL 61.328125 0 \r\nz\r\n\" id=\"ArialMT-69\"/>\r\n      </defs>\r\n      <use xlink:href=\"#ArialMT-69\"/>\r\n      <use x=\"66.699219\" xlink:href=\"#ArialMT-120\"/>\r\n      <use x=\"116.699219\" xlink:href=\"#ArialMT-112\"/>\r\n      <use x=\"172.314453\" xlink:href=\"#ArialMT-111\"/>\r\n      <use x=\"227.929688\" xlink:href=\"#ArialMT-114\"/>\r\n      <use x=\"261.230469\" xlink:href=\"#ArialMT-116\"/>\r\n      <use x=\"289.013672\" xlink:href=\"#ArialMT-32\"/>\r\n      <use x=\"316.796875\" xlink:href=\"#ArialMT-81\"/>\r\n      <use x=\"394.580078\" xlink:href=\"#ArialMT-117\"/>\r\n      <use x=\"450.195312\" xlink:href=\"#ArialMT-97\"/>\r\n      <use x=\"505.810547\" xlink:href=\"#ArialMT-110\"/>\r\n      <use x=\"561.425781\" xlink:href=\"#ArialMT-116\"/>\r\n      <use x=\"589.208984\" xlink:href=\"#ArialMT-105\"/>\r\n      <use x=\"611.425781\" xlink:href=\"#ArialMT-116\"/>\r\n      <use x=\"639.208984\" xlink:href=\"#ArialMT-121\"/>\r\n     </g>\r\n    </g>\r\n    <g id=\"patch_143\">\r\n     <path d=\"M 1050.890625 99.544375 \r\nL 1070.890625 99.544375 \r\nL 1070.890625 92.544375 \r\nL 1050.890625 92.544375 \r\nz\r\n\" style=\"fill:#c03d3e;stroke:#ffffff;stroke-linejoin:miter;\"/>\r\n    </g>\r\n    <g id=\"text_39\">\r\n     <!-- Export Value -->\r\n     <g style=\"fill:#262626;\" transform=\"translate(1078.890625 99.544375)scale(0.1 -0.1)\">\r\n      <use xlink:href=\"#ArialMT-69\"/>\r\n      <use x=\"66.699219\" xlink:href=\"#ArialMT-120\"/>\r\n      <use x=\"116.699219\" xlink:href=\"#ArialMT-112\"/>\r\n      <use x=\"172.314453\" xlink:href=\"#ArialMT-111\"/>\r\n      <use x=\"227.929688\" xlink:href=\"#ArialMT-114\"/>\r\n      <use x=\"261.230469\" xlink:href=\"#ArialMT-116\"/>\r\n      <use x=\"289.013672\" xlink:href=\"#ArialMT-32\"/>\r\n      <use x=\"316.796875\" xlink:href=\"#ArialMT-86\"/>\r\n      <use x=\"376.121094\" xlink:href=\"#ArialMT-97\"/>\r\n      <use x=\"431.736328\" xlink:href=\"#ArialMT-108\"/>\r\n      <use x=\"453.953125\" xlink:href=\"#ArialMT-117\"/>\r\n      <use x=\"509.568359\" xlink:href=\"#ArialMT-101\"/>\r\n     </g>\r\n    </g>\r\n    <g id=\"patch_144\">\r\n     <path d=\"M 1050.890625 113.689687 \r\nL 1070.890625 113.689687 \r\nL 1070.890625 106.689687 \r\nL 1050.890625 106.689687 \r\nz\r\n\" style=\"fill:#9372b2;stroke:#ffffff;stroke-linejoin:miter;\"/>\r\n    </g>\r\n    <g id=\"text_40\">\r\n     <!-- Production -->\r\n     <g style=\"fill:#262626;\" transform=\"translate(1078.890625 113.689687)scale(0.1 -0.1)\">\r\n      <use xlink:href=\"#ArialMT-80\"/>\r\n      <use x=\"66.699219\" xlink:href=\"#ArialMT-114\"/>\r\n      <use x=\"100\" xlink:href=\"#ArialMT-111\"/>\r\n      <use x=\"155.615234\" xlink:href=\"#ArialMT-100\"/>\r\n      <use x=\"211.230469\" xlink:href=\"#ArialMT-117\"/>\r\n      <use x=\"266.845703\" xlink:href=\"#ArialMT-99\"/>\r\n      <use x=\"316.845703\" xlink:href=\"#ArialMT-116\"/>\r\n      <use x=\"344.628906\" xlink:href=\"#ArialMT-105\"/>\r\n      <use x=\"366.845703\" xlink:href=\"#ArialMT-111\"/>\r\n      <use x=\"422.460938\" xlink:href=\"#ArialMT-110\"/>\r\n     </g>\r\n    </g>\r\n    <g id=\"patch_145\">\r\n     <path d=\"M 1050.890625 127.835 \r\nL 1070.890625 127.835 \r\nL 1070.890625 120.835 \r\nL 1050.890625 120.835 \r\nz\r\n\" style=\"fill:#845b53;stroke:#ffffff;stroke-linejoin:miter;\"/>\r\n    </g>\r\n    <g id=\"text_41\">\r\n     <!-- Agricultural Use -->\r\n     <g style=\"fill:#262626;\" transform=\"translate(1078.890625 127.835)scale(0.1 -0.1)\">\r\n      <use xlink:href=\"#ArialMT-65\"/>\r\n      <use x=\"66.699219\" xlink:href=\"#ArialMT-103\"/>\r\n      <use x=\"122.314453\" xlink:href=\"#ArialMT-114\"/>\r\n      <use x=\"155.615234\" xlink:href=\"#ArialMT-105\"/>\r\n      <use x=\"177.832031\" xlink:href=\"#ArialMT-99\"/>\r\n      <use x=\"227.832031\" xlink:href=\"#ArialMT-117\"/>\r\n      <use x=\"283.447266\" xlink:href=\"#ArialMT-108\"/>\r\n      <use x=\"305.664062\" xlink:href=\"#ArialMT-116\"/>\r\n      <use x=\"333.447266\" xlink:href=\"#ArialMT-117\"/>\r\n      <use x=\"389.0625\" xlink:href=\"#ArialMT-114\"/>\r\n      <use x=\"422.363281\" xlink:href=\"#ArialMT-97\"/>\r\n      <use x=\"477.978516\" xlink:href=\"#ArialMT-108\"/>\r\n      <use x=\"500.195312\" xlink:href=\"#ArialMT-32\"/>\r\n      <use x=\"527.978516\" xlink:href=\"#ArialMT-85\"/>\r\n      <use x=\"600.195312\" xlink:href=\"#ArialMT-115\"/>\r\n      <use x=\"650.195312\" xlink:href=\"#ArialMT-101\"/>\r\n     </g>\r\n    </g>\r\n   </g>\r\n  </g>\r\n </g>\r\n <defs>\r\n  <clipPath id=\"p620a9d9f7a\">\r\n   <rect height=\"407.7\" width=\"1116\" x=\"42.46875\" y=\"26.314687\"/>\r\n  </clipPath>\r\n </defs>\r\n</svg>\r\n",
      "image/png": "[encoded data removed]"
     },
     "metadata": {}
    }
   ],
   "source": [
    "plt.figure(figsize=(20,7.5))\n",
    "sns.countplot(x = 'item', data=India, hue = 'element')\n",
    "plt.title(\"Quantity of Fertilizers used for different purposes\", size = 18)\n",
    "plt.xlabel(\"Fertilizers\", size = 14)\n",
    "plt.ylabel(\"Quantity of Fertilizers\", size = 14)\n",
    "\n",
    "plt.xticks(rotation = 90)\n",
    "plt.show()\n"
   ]
  },
  {
   "cell_type": "markdown",
   "metadata": {
    "papermill": {
     "duration": 0.043767,
     "end_time": "2021-02-15T19:09:32.833637",
     "exception": false,
     "start_time": "2021-02-15T19:09:32.789870",
     "status": "completed"
    },
    "tags": []
   },
   "source": [
    "As we can see from the above graph, majority of our fertilizers are being used for export and import, more for export purposes.\n",
    "\n",
    "\n",
    "**Now we will analyse Production, Trade (export and import) and Aglicuture use of Fertilizers in India in detail**"
   ]
  },
  {
   "cell_type": "markdown",
   "metadata": {
    "papermill": {
     "duration": 0.042772,
     "end_time": "2021-02-15T19:09:32.919466",
     "exception": false,
     "start_time": "2021-02-15T19:09:32.876694",
     "status": "completed"
    },
    "tags": []
   },
   "source": [
    "### Fertilizers in India for Production Use over the years"
   ]
  },
  {
   "cell_type": "code",
   "execution_count": 18,
   "metadata": {
    "execution": {
     "iopub.execute_input": "2021-02-15T19:09:33.021305Z",
     "iopub.status.busy": "2021-02-15T19:09:33.020340Z",
     "iopub.status.idle": "2021-02-15T19:09:33.301961Z",
     "shell.execute_reply": "2021-02-15T19:09:33.301307Z"
    },
    "papermill": {
     "duration": 0.339674,
     "end_time": "2021-02-15T19:09:33.302101",
     "exception": false,
     "start_time": "2021-02-15T19:09:32.962427",
     "status": "completed"
    },
    "tags": []
   },
   "outputs": [
    {
     "output_type": "display_data",
     "data": {
      "application/vnd.plotly.v1+json": {
       "config": {
        "plotlyServerURL": "https://plot.ly"
       },
       "data": [
        {
         "hovertemplate": "item=Ammonium sulphate<br>year=%{x}<br>value=%{y}<extra></extra>",
         "legendgroup": "Ammonium sulphate",
         "line": {
          "color": "#636efa"
         },
         "mode": "lines",
         "name": "Ammonium sulphate",
         "orientation": "v",
         "showlegend": true,
         "stackgroup": "1",
         "type": "scatter",
         "x": [
          2002,
          2003,
          2004,
          2005,
          2006,
          2007,
          2008,
          2009,
          2010,
          2011,
          2012,
          2013,
          2014,
          2015,
          2016,
          2017
         ],
         "xaxis": "x",
         "y": [
          544400,
          600700,
          615900,
          616900,
          634800,
          483100,
          554800,
          620800,
          637000,
          595400,
          573200,
          624100,
          581500,
          560100,
          632300,
          688700
         ],
         "yaxis": "y"
        },
        {
         "hovertemplate": "item=Calcium ammonium nitrate (CAN) and other mixtures with calcium carbonate<br>year=%{x}<br>value=%{y}<extra></extra>",
         "legendgroup": "Calcium ammonium nitrate (CAN) and other mixtures with calcium carbonate",
         "line": {
          "color": "#EF553B"
         },
         "mode": "lines",
         "name": "Calcium ammonium nitrate (CAN) and other mixtures with calcium carbonate",
         "orientation": "v",
         "showlegend": true,
         "stackgroup": "1",
         "type": "scatter",
         "x": [
          2002,
          2003,
          2004,
          2005,
          2006,
          2007,
          2008,
          2009,
          2010,
          2011,
          2012,
          2013,
          2014,
          2015,
          2016
         ],
         "xaxis": "x",
         "y": [
          173300,
          141200,
          184400,
          172800,
          144300,
          134600,
          138500,
          102700,
          98700,
          115000,
          106900,
          44400,
          0,
          0,
          0
         ],
         "yaxis": "y"
        },
        {
         "hovertemplate": "item=Diammonium phosphate (DAP)<br>year=%{x}<br>value=%{y}<extra></extra>",
         "legendgroup": "Diammonium phosphate (DAP)",
         "line": {
          "color": "#00cc96"
         },
         "mode": "lines",
         "name": "Diammonium phosphate (DAP)",
         "orientation": "v",
         "showlegend": true,
         "stackgroup": "1",
         "type": "scatter",
         "x": [
          2002,
          2003,
          2004,
          2005,
          2006,
          2007,
          2008,
          2009,
          2010,
          2011,
          2012,
          2013,
          2014,
          2015,
          2016,
          2017
         ],
         "xaxis": "x",
         "y": [
          5235600,
          4708700,
          5172300,
          4554300,
          4713100,
          4211000,
          2992500,
          4246100,
          3541200,
          3951300,
          3646800,
          3628200,
          3445400,
          3821800,
          4333400,
          4654000
         ],
         "yaxis": "y"
        },
        {
         "hovertemplate": "item=NPK fertilizers<br>year=%{x}<br>value=%{y}<extra></extra>",
         "legendgroup": "NPK fertilizers",
         "line": {
          "color": "#ab63fa"
         },
         "mode": "lines",
         "name": "NPK fertilizers",
         "orientation": "v",
         "showlegend": true,
         "stackgroup": "1",
         "type": "scatter",
         "x": [
          2006,
          2007,
          2008,
          2009,
          2010,
          2011,
          2012,
          2013,
          2014,
          2015,
          2016,
          2017
         ],
         "xaxis": "x",
         "y": [
          482800,
          468200,
          471000,
          490000,
          494000,
          506000,
          480300,
          3104500,
          3754100,
          3744700,
          3655000,
          3846100
         ],
         "yaxis": "y"
        },
        {
         "hovertemplate": "item=Other NP compounds<br>year=%{x}<br>value=%{y}<extra></extra>",
         "legendgroup": "Other NP compounds",
         "line": {
          "color": "#FFA15A"
         },
         "mode": "lines",
         "name": "Other NP compounds",
         "orientation": "v",
         "showlegend": true,
         "stackgroup": "1",
         "type": "scatter",
         "x": [
          2013,
          2014,
          2015,
          2016,
          2017
         ],
         "xaxis": "x",
         "y": [
          3465800,
          3578000,
          4238100,
          4039400,
          4147000
         ],
         "yaxis": "y"
        },
        {
         "hovertemplate": "item=Phosphate rock<br>year=%{x}<br>value=%{y}<extra></extra>",
         "legendgroup": "Phosphate rock",
         "line": {
          "color": "#19d3f3"
         },
         "mode": "lines",
         "name": "Phosphate rock",
         "orientation": "v",
         "showlegend": true,
         "stackgroup": "1",
         "type": "scatter",
         "x": [
          2002,
          2003,
          2004,
          2005,
          2006,
          2007,
          2013,
          2014,
          2015,
          2016
         ],
         "xaxis": "x",
         "y": [
          60100,
          26000,
          37600,
          59000,
          45000,
          83000,
          1213500,
          1496600,
          1355900,
          860300
         ],
         "yaxis": "y"
        },
        {
         "hovertemplate": "item=Potassium chloride (muriate of potash) (MOP)<br>year=%{x}<br>value=%{y}<extra></extra>",
         "legendgroup": "Potassium chloride (muriate of potash) (MOP)",
         "line": {
          "color": "#FF6692"
         },
         "mode": "lines",
         "name": "Potassium chloride (muriate of potash) (MOP)",
         "orientation": "v",
         "showlegend": true,
         "stackgroup": "1",
         "type": "scatter",
         "x": [
          2006,
          2007,
          2008
         ],
         "xaxis": "x",
         "y": [
          0,
          0,
          0
         ],
         "yaxis": "y"
        },
        {
         "hovertemplate": "item=Potassium sulphate (sulphate of potash) (SOP)<br>year=%{x}<br>value=%{y}<extra></extra>",
         "legendgroup": "Potassium sulphate (sulphate of potash) (SOP)",
         "line": {
          "color": "#B6E880"
         },
         "mode": "lines",
         "name": "Potassium sulphate (sulphate of potash) (SOP)",
         "orientation": "v",
         "showlegend": true,
         "stackgroup": "1",
         "type": "scatter",
         "x": [
          2006,
          2007,
          2008
         ],
         "xaxis": "x",
         "y": [
          0,
          0,
          0
         ],
         "yaxis": "y"
        },
        {
         "hovertemplate": "item=Superphosphates above 35%<br>year=%{x}<br>value=%{y}<extra></extra>",
         "legendgroup": "Superphosphates above 35%",
         "line": {
          "color": "#FF97FF"
         },
         "mode": "lines",
         "name": "Superphosphates above 35%",
         "orientation": "v",
         "showlegend": true,
         "stackgroup": "1",
         "type": "scatter",
         "x": [
          2013,
          2014,
          2015,
          2016
         ],
         "xaxis": "x",
         "y": [
          0,
          0,
          0,
          0
         ],
         "yaxis": "y"
        },
        {
         "hovertemplate": "item=Superphosphates, other<br>year=%{x}<br>value=%{y}<extra></extra>",
         "legendgroup": "Superphosphates, other",
         "line": {
          "color": "#FECB52"
         },
         "mode": "lines",
         "name": "Superphosphates, other",
         "orientation": "v",
         "showlegend": true,
         "stackgroup": "1",
         "type": "scatter",
         "x": [
          2006,
          2007,
          2008,
          2009,
          2010,
          2011,
          2012,
          2013,
          2014,
          2015,
          2016,
          2017
         ],
         "xaxis": "x",
         "y": [
          2972000,
          2246300,
          2533600,
          3093000,
          3712800,
          4324000,
          4434900,
          4211500,
          4229600,
          4329600,
          4296800,
          3905900
         ],
         "yaxis": "y"
        },
        {
         "hovertemplate": "item=Urea<br>year=%{x}<br>value=%{y}<extra></extra>",
         "legendgroup": "Urea",
         "line": {
          "color": "#636efa"
         },
         "mode": "lines",
         "name": "Urea",
         "orientation": "v",
         "showlegend": true,
         "stackgroup": "1",
         "type": "scatter",
         "x": [
          2002,
          2003,
          2004,
          2005,
          2006,
          2007,
          2008,
          2009,
          2010,
          2011,
          2012,
          2013,
          2014,
          2015,
          2016,
          2017
         ],
         "xaxis": "x",
         "y": [
          18621200,
          19038300,
          20239200,
          20085100,
          20271200,
          19838800,
          19923200,
          21120700,
          21872500,
          21992300,
          22586600,
          22718700,
          22592900,
          24461300,
          24200800,
          24026
         ],
         "yaxis": "y"
        }
       ],
       "layout": {
        "height": 600,
        "legend": {
         "orientation": "h",
         "title": {
          "text": "item"
         },
         "tracegroupgap": 0
        },
        "template": {
         "data": {
          "bar": [
           {
            "error_x": {
             "color": "#2a3f5f"
            },
            "error_y": {
             "color": "#2a3f5f"
            },
            "marker": {
             "line": {
              "color": "#E5ECF6",
              "width": 0.5
             }
            },
            "type": "bar"
           }
          ],
          "barpolar": [
           {
            "marker": {
             "line": {
              "color": "#E5ECF6",
              "width": 0.5
             }
            },
            "type": "barpolar"
           }
          ],
          "carpet": [
           {
            "aaxis": {
             "endlinecolor": "#2a3f5f",
             "gridcolor": "white",
             "linecolor": "white",
             "minorgridcolor": "white",
             "startlinecolor": "#2a3f5f"
            },
            "baxis": {
             "endlinecolor": "#2a3f5f",
             "gridcolor": "white",
             "linecolor": "white",
             "minorgridcolor": "white",
             "startlinecolor": "#2a3f5f"
            },
            "type": "carpet"
           }
          ],
          "choropleth": [
           {
            "colorbar": {
             "outlinewidth": 0,
             "ticks": ""
            },
            "type": "choropleth"
           }
          ],
          "contour": [
           {
            "colorbar": {
             "outlinewidth": 0,
             "ticks": ""
            },
            "colorscale": [
             [
              0,
              "#0d0887"
             ],
             [
              0.1111111111111111,
              "#46039f"
             ],
             [
              0.2222222222222222,
              "#7201a8"
             ],
             [
              0.3333333333333333,
              "#9c179e"
             ],
             [
              0.4444444444444444,
              "#bd3786"
             ],
             [
              0.5555555555555556,
              "#d8576b"
             ],
             [
              0.6666666666666666,
              "#ed7953"
             ],
             [
              0.7777777777777778,
              "#fb9f3a"
             ],
             [
              0.8888888888888888,
              "#fdca26"
             ],
             [
              1,
              "#f0f921"
             ]
            ],
            "type": "contour"
           }
          ],
          "contourcarpet": [
           {
            "colorbar": {
             "outlinewidth": 0,
             "ticks": ""
            },
            "type": "contourcarpet"
           }
          ],
          "heatmap": [
           {
            "colorbar": {
             "outlinewidth": 0,
             "ticks": ""
            },
            "colorscale": [
             [
              0,
              "#0d0887"
             ],
             [
              0.1111111111111111,
              "#46039f"
             ],
             [
              0.2222222222222222,
              "#7201a8"
             ],
             [
              0.3333333333333333,
              "#9c179e"
             ],
             [
              0.4444444444444444,
              "#bd3786"
             ],
             [
              0.5555555555555556,
              "#d8576b"
             ],
             [
              0.6666666666666666,
              "#ed7953"
             ],
             [
              0.7777777777777778,
              "#fb9f3a"
             ],
             [
              0.8888888888888888,
              "#fdca26"
             ],
             [
              1,
              "#f0f921"
             ]
            ],
            "type": "heatmap"
           }
          ],
          "heatmapgl": [
           {
            "colorbar": {
             "outlinewidth": 0,
             "ticks": ""
            },
            "colorscale": [
             [
              0,
              "#0d0887"
             ],
             [
              0.1111111111111111,
              "#46039f"
             ],
             [
              0.2222222222222222,
              "#7201a8"
             ],
             [
              0.3333333333333333,
              "#9c179e"
             ],
             [
              0.4444444444444444,
              "#bd3786"
             ],
             [
              0.5555555555555556,
              "#d8576b"
             ],
             [
              0.6666666666666666,
              "#ed7953"
             ],
             [
              0.7777777777777778,
              "#fb9f3a"
             ],
             [
              0.8888888888888888,
              "#fdca26"
             ],
             [
              1,
              "#f0f921"
             ]
            ],
            "type": "heatmapgl"
           }
          ],
          "histogram": [
           {
            "marker": {
             "colorbar": {
              "outlinewidth": 0,
              "ticks": ""
             }
            },
            "type": "histogram"
           }
          ],
          "histogram2d": [
           {
            "colorbar": {
             "outlinewidth": 0,
             "ticks": ""
            },
            "colorscale": [
             [
              0,
              "#0d0887"
             ],
             [
              0.1111111111111111,
              "#46039f"
             ],
             [
              0.2222222222222222,
              "#7201a8"
             ],
             [
              0.3333333333333333,
              "#9c179e"
             ],
             [
              0.4444444444444444,
              "#bd3786"
             ],
             [
              0.5555555555555556,
              "#d8576b"
             ],
             [
              0.6666666666666666,
              "#ed7953"
             ],
             [
              0.7777777777777778,
              "#fb9f3a"
             ],
             [
              0.8888888888888888,
              "#fdca26"
             ],
             [
              1,
              "#f0f921"
             ]
            ],
            "type": "histogram2d"
           }
          ],
          "histogram2dcontour": [
           {
            "colorbar": {
             "outlinewidth": 0,
             "ticks": ""
            },
            "colorscale": [
             [
              0,
              "#0d0887"
             ],
             [
              0.1111111111111111,
              "#46039f"
             ],
             [
              0.2222222222222222,
              "#7201a8"
             ],
             [
              0.3333333333333333,
              "#9c179e"
             ],
             [
              0.4444444444444444,
              "#bd3786"
             ],
             [
              0.5555555555555556,
              "#d8576b"
             ],
             [
              0.6666666666666666,
              "#ed7953"
             ],
             [
              0.7777777777777778,
              "#fb9f3a"
             ],
             [
              0.8888888888888888,
              "#fdca26"
             ],
             [
              1,
              "#f0f921"
             ]
            ],
            "type": "histogram2dcontour"
           }
          ],
          "mesh3d": [
           {
            "colorbar": {
             "outlinewidth": 0,
             "ticks": ""
            },
            "type": "mesh3d"
           }
          ],
          "parcoords": [
           {
            "line": {
             "colorbar": {
              "outlinewidth": 0,
              "ticks": ""
             }
            },
            "type": "parcoords"
           }
          ],
          "pie": [
           {
            "automargin": true,
            "type": "pie"
           }
          ],
          "scatter": [
           {
            "marker": {
             "colorbar": {
              "outlinewidth": 0,
              "ticks": ""
             }
            },
            "type": "scatter"
           }
          ],
          "scatter3d": [
           {
            "line": {
             "colorbar": {
              "outlinewidth": 0,
              "ticks": ""
             }
            },
            "marker": {
             "colorbar": {
              "outlinewidth": 0,
              "ticks": ""
             }
            },
            "type": "scatter3d"
           }
          ],
          "scattercarpet": [
           {
            "marker": {
             "colorbar": {
              "outlinewidth": 0,
              "ticks": ""
             }
            },
            "type": "scattercarpet"
           }
          ],
          "scattergeo": [
           {
            "marker": {
             "colorbar": {
              "outlinewidth": 0,
              "ticks": ""
             }
            },
            "type": "scattergeo"
           }
          ],
          "scattergl": [
           {
            "marker": {
             "colorbar": {
              "outlinewidth": 0,
              "ticks": ""
             }
            },
            "type": "scattergl"
           }
          ],
          "scattermapbox": [
           {
            "marker": {
             "colorbar": {
              "outlinewidth": 0,
              "ticks": ""
             }
            },
            "type": "scattermapbox"
           }
          ],
          "scatterpolar": [
           {
            "marker": {
             "colorbar": {
              "outlinewidth": 0,
              "ticks": ""
             }
            },
            "type": "scatterpolar"
           }
          ],
          "scatterpolargl": [
           {
            "marker": {
             "colorbar": {
              "outlinewidth": 0,
              "ticks": ""
             }
            },
            "type": "scatterpolargl"
           }
          ],
          "scatterternary": [
           {
            "marker": {
             "colorbar": {
              "outlinewidth": 0,
              "ticks": ""
             }
            },
            "type": "scatterternary"
           }
          ],
          "surface": [
           {
            "colorbar": {
             "outlinewidth": 0,
             "ticks": ""
            },
            "colorscale": [
             [
              0,
              "#0d0887"
             ],
             [
              0.1111111111111111,
              "#46039f"
             ],
             [
              0.2222222222222222,
              "#7201a8"
             ],
             [
              0.3333333333333333,
              "#9c179e"
             ],
             [
              0.4444444444444444,
              "#bd3786"
             ],
             [
              0.5555555555555556,
              "#d8576b"
             ],
             [
              0.6666666666666666,
              "#ed7953"
             ],
             [
              0.7777777777777778,
              "#fb9f3a"
             ],
             [
              0.8888888888888888,
              "#fdca26"
             ],
             [
              1,
              "#f0f921"
             ]
            ],
            "type": "surface"
           }
          ],
          "table": [
           {
            "cells": {
             "fill": {
              "color": "#EBF0F8"
             },
             "line": {
              "color": "white"
             }
            },
            "header": {
             "fill": {
              "color": "#C8D4E3"
             },
             "line": {
              "color": "white"
             }
            },
            "type": "table"
           }
          ]
         },
         "layout": {
          "annotationdefaults": {
           "arrowcolor": "#2a3f5f",
           "arrowhead": 0,
           "arrowwidth": 1
          },
          "autotypenumbers": "strict",
          "coloraxis": {
           "colorbar": {
            "outlinewidth": 0,
            "ticks": ""
           }
          },
          "colorscale": {
           "diverging": [
            [
             0,
             "#8e0152"
            ],
            [
             0.1,
             "#c51b7d"
            ],
            [
             0.2,
             "#de77ae"
            ],
            [
             0.3,
             "#f1b6da"
            ],
            [
             0.4,
             "#fde0ef"
            ],
            [
             0.5,
             "#f7f7f7"
            ],
            [
             0.6,
             "#e6f5d0"
            ],
            [
             0.7,
             "#b8e186"
            ],
            [
             0.8,
             "#7fbc41"
            ],
            [
             0.9,
             "#4d9221"
            ],
            [
             1,
             "#276419"
            ]
           ],
           "sequential": [
            [
             0,
             "#0d0887"
            ],
            [
             0.1111111111111111,
             "#46039f"
            ],
            [
             0.2222222222222222,
             "#7201a8"
            ],
            [
             0.3333333333333333,
             "#9c179e"
            ],
            [
             0.4444444444444444,
             "#bd3786"
            ],
            [
             0.5555555555555556,
             "#d8576b"
            ],
            [
             0.6666666666666666,
             "#ed7953"
            ],
            [
             0.7777777777777778,
             "#fb9f3a"
            ],
            [
             0.8888888888888888,
             "#fdca26"
            ],
            [
             1,
             "#f0f921"
            ]
           ],
           "sequentialminus": [
            [
             0,
             "#0d0887"
            ],
            [
             0.1111111111111111,
             "#46039f"
            ],
            [
             0.2222222222222222,
             "#7201a8"
            ],
            [
             0.3333333333333333,
             "#9c179e"
            ],
            [
             0.4444444444444444,
             "#bd3786"
            ],
            [
             0.5555555555555556,
             "#d8576b"
            ],
            [
             0.6666666666666666,
             "#ed7953"
            ],
            [
             0.7777777777777778,
             "#fb9f3a"
            ],
            [
             0.8888888888888888,
             "#fdca26"
            ],
            [
             1,
             "#f0f921"
            ]
           ]
          },
          "colorway": [
           "#636efa",
           "#EF553B",
           "#00cc96",
           "#ab63fa",
           "#FFA15A",
           "#19d3f3",
           "#FF6692",
           "#B6E880",
           "#FF97FF",
           "#FECB52"
          ],
          "font": {
           "color": "#2a3f5f"
          },
          "geo": {
           "bgcolor": "white",
           "lakecolor": "white",
           "landcolor": "#E5ECF6",
           "showlakes": true,
           "showland": true,
           "subunitcolor": "white"
          },
          "hoverlabel": {
           "align": "left"
          },
          "hovermode": "closest",
          "mapbox": {
           "style": "light"
          },
          "paper_bgcolor": "white",
          "plot_bgcolor": "#E5ECF6",
          "polar": {
           "angularaxis": {
            "gridcolor": "white",
            "linecolor": "white",
            "ticks": ""
           },
           "bgcolor": "#E5ECF6",
           "radialaxis": {
            "gridcolor": "white",
            "linecolor": "white",
            "ticks": ""
           }
          },
          "scene": {
           "xaxis": {
            "backgroundcolor": "#E5ECF6",
            "gridcolor": "white",
            "gridwidth": 2,
            "linecolor": "white",
            "showbackground": true,
            "ticks": "",
            "zerolinecolor": "white"
           },
           "yaxis": {
            "backgroundcolor": "#E5ECF6",
            "gridcolor": "white",
            "gridwidth": 2,
            "linecolor": "white",
            "showbackground": true,
            "ticks": "",
            "zerolinecolor": "white"
           },
           "zaxis": {
            "backgroundcolor": "#E5ECF6",
            "gridcolor": "white",
            "gridwidth": 2,
            "linecolor": "white",
            "showbackground": true,
            "ticks": "",
            "zerolinecolor": "white"
           }
          },
          "shapedefaults": {
           "line": {
            "color": "#2a3f5f"
           }
          },
          "ternary": {
           "aaxis": {
            "gridcolor": "white",
            "linecolor": "white",
            "ticks": ""
           },
           "baxis": {
            "gridcolor": "white",
            "linecolor": "white",
            "ticks": ""
           },
           "bgcolor": "#E5ECF6",
           "caxis": {
            "gridcolor": "white",
            "linecolor": "white",
            "ticks": ""
           }
          },
          "title": {
           "x": 0.05
          },
          "xaxis": {
           "automargin": true,
           "gridcolor": "white",
           "linecolor": "white",
           "ticks": "",
           "title": {
            "standoff": 15
           },
           "zerolinecolor": "white",
           "zerolinewidth": 2
          },
          "yaxis": {
           "automargin": true,
           "gridcolor": "white",
           "linecolor": "white",
           "ticks": "",
           "title": {
            "standoff": 15
           },
           "zerolinecolor": "white",
           "zerolinewidth": 2
          }
         }
        },
        "title": {
         "text": "Fertilizers produced over the years 2002-2017 in India"
        },
        "xaxis": {
         "anchor": "y",
         "domain": [
          0,
          1
         ],
         "title": {
          "text": "year"
         }
        },
        "yaxis": {
         "anchor": "x",
         "domain": [
          0,
          1
         ],
         "title": {
          "text": "value"
         }
        }
       }
      }
     },
     "metadata": {}
    }
   ],
   "source": [
    "df_prod = India[India.element == 'Production'] # creating a new dataframe which contains data of only Production use in India\n",
    "\n",
    "\n",
    "fig = px.area(df_prod, x = 'year', y = 'value', color = 'item',title = 'Fertilizers produced over the years 2002-2017 in India', line_group = 'item')\n",
    "fig.update_layout(legend_orientation = 'h',height = 600)\n",
    "fig.show()"
   ]
  },
  {
   "cell_type": "markdown",
   "metadata": {
    "papermill": {
     "duration": 0.044596,
     "end_time": "2021-02-15T19:09:33.391312",
     "exception": false,
     "start_time": "2021-02-15T19:09:33.346716",
     "status": "completed"
    },
    "tags": []
   },
   "source": [
    "From the above graph we can see that Urea's production in India was the highest but only until 2016. It dropped drastically after 2016.\n"
   ]
  },
  {
   "cell_type": "markdown",
   "metadata": {
    "papermill": {
     "duration": 0.044356,
     "end_time": "2021-02-15T19:09:33.480911",
     "exception": false,
     "start_time": "2021-02-15T19:09:33.436555",
     "status": "completed"
    },
    "tags": []
   },
   "source": [
    "### Fertilizers in India for Agriculural Use over the years"
   ]
  },
  {
   "cell_type": "code",
   "execution_count": 19,
   "metadata": {
    "execution": {
     "iopub.execute_input": "2021-02-15T19:09:33.584891Z",
     "iopub.status.busy": "2021-02-15T19:09:33.580569Z",
     "iopub.status.idle": "2021-02-15T19:09:33.674867Z",
     "shell.execute_reply": "2021-02-15T19:09:33.674155Z"
    },
    "papermill": {
     "duration": 0.149312,
     "end_time": "2021-02-15T19:09:33.674994",
     "exception": false,
     "start_time": "2021-02-15T19:09:33.525682",
     "status": "completed"
    },
    "tags": []
   },
   "outputs": [
    {
     "output_type": "display_data",
     "data": {
      "application/vnd.plotly.v1+json": {
       "config": {
        "plotlyServerURL": "https://plot.ly"
       },
       "data": [
        {
         "hovertemplate": "item=Ammonium sulphate<br>year=%{x}<br>value=%{y}<extra></extra>",
         "legendgroup": "Ammonium sulphate",
         "line": {
          "color": "#636efa"
         },
         "mode": "lines",
         "name": "Ammonium sulphate",
         "orientation": "v",
         "showlegend": true,
         "stackgroup": "1",
         "type": "scatter",
         "x": [
          2002,
          2003,
          2004,
          2005,
          2006,
          2007,
          2008,
          2009,
          2010,
          2011,
          2012,
          2013,
          2014,
          2015,
          2016,
          2017
         ],
         "xaxis": "x",
         "y": [
          472840,
          538820,
          528570,
          574130,
          557910,
          384020,
          384780,
          489960,
          615950,
          509390,
          529710,
          480660,
          508550,
          30634800,
          426100,
          573600
         ],
         "yaxis": "y"
        },
        {
         "hovertemplate": "item=Calcium ammonium nitrate (CAN) and other mixtures with calcium carbonate<br>year=%{x}<br>value=%{y}<extra></extra>",
         "legendgroup": "Calcium ammonium nitrate (CAN) and other mixtures with calcium carbonate",
         "line": {
          "color": "#EF553B"
         },
         "mode": "lines",
         "name": "Calcium ammonium nitrate (CAN) and other mixtures with calcium carbonate",
         "orientation": "v",
         "showlegend": true,
         "stackgroup": "1",
         "type": "scatter",
         "x": [
          2002,
          2003,
          2004,
          2005,
          2006,
          2007,
          2008,
          2009,
          2010,
          2011,
          2012,
          2013,
          2014,
          2015,
          2016,
          2017
         ],
         "xaxis": "x",
         "y": [
          160600,
          143000,
          184370,
          171830,
          145200,
          137570,
          124000,
          114000,
          103980,
          109200,
          89990,
          51900,
          7680,
          12330,
          7100,
          100
         ],
         "yaxis": "y"
        },
        {
         "hovertemplate": "item=Diammonium phosphate (DAP)<br>year=%{x}<br>value=%{y}<extra></extra>",
         "legendgroup": "Diammonium phosphate (DAP)",
         "line": {
          "color": "#00cc96"
         },
         "mode": "lines",
         "name": "Diammonium phosphate (DAP)",
         "orientation": "v",
         "showlegend": true,
         "stackgroup": "1",
         "type": "scatter",
         "x": [
          2002,
          2003,
          2004,
          2005,
          2006,
          2007,
          2008,
          2009,
          2010,
          2011,
          2012,
          2013,
          2014,
          2015,
          2016,
          2017
         ],
         "xaxis": "x",
         "y": [
          5473050,
          5624890,
          6255780,
          6763920,
          7381000,
          7496610,
          8231210,
          10491830,
          10869900,
          10191190,
          9154080,
          7357420,
          7625560,
          9107220,
          8963500,
          9294100
         ],
         "yaxis": "y"
        },
        {
         "hovertemplate": "item=Monoammonium phosphate (MAP)<br>year=%{x}<br>value=%{y}<extra></extra>",
         "legendgroup": "Monoammonium phosphate (MAP)",
         "line": {
          "color": "#ab63fa"
         },
         "mode": "lines",
         "name": "Monoammonium phosphate (MAP)",
         "orientation": "v",
         "showlegend": true,
         "stackgroup": "1",
         "type": "scatter",
         "x": [
          2007,
          2008,
          2009,
          2010,
          2011,
          2012,
          2013,
          2014,
          2015,
          2016,
          2017
         ],
         "xaxis": "x",
         "y": [
          150430,
          223870,
          131270,
          96020,
          281430,
          150550,
          1410,
          940,
          60,
          0,
          0
         ],
         "yaxis": "y"
        },
        {
         "hovertemplate": "item=NPK fertilizers<br>year=%{x}<br>value=%{y}<extra></extra>",
         "legendgroup": "NPK fertilizers",
         "line": {
          "color": "#FFA15A"
         },
         "mode": "lines",
         "name": "NPK fertilizers",
         "orientation": "v",
         "showlegend": true,
         "stackgroup": "1",
         "type": "scatter",
         "x": [
          2006,
          2007,
          2008,
          2009,
          2010,
          2011,
          2012,
          2013,
          2014,
          2015,
          2016,
          2017
         ],
         "xaxis": "x",
         "y": [
          461510,
          490200,
          502810,
          484570,
          532300,
          500270,
          3113120,
          3203120,
          3847510,
          4261240,
          4010500,
          4229800
         ],
         "yaxis": "y"
        },
        {
         "hovertemplate": "item=Other NP compounds<br>year=%{x}<br>value=%{y}<extra></extra>",
         "legendgroup": "Other NP compounds",
         "line": {
          "color": "#19d3f3"
         },
         "mode": "lines",
         "name": "Other NP compounds",
         "orientation": "v",
         "showlegend": true,
         "stackgroup": "1",
         "type": "scatter",
         "x": [
          2006,
          2007,
          2008,
          2009,
          2010,
          2011,
          2012,
          2013,
          2014,
          2015,
          2016,
          2017
         ],
         "xaxis": "x",
         "y": [
          2210110,
          1723370,
          2492750,
          3466520,
          3576430,
          5416950,
          4414060,
          4060400,
          4430000,
          4559810,
          4403900,
          4366600
         ],
         "yaxis": "y"
        },
        {
         "hovertemplate": "item=Phosphate rock<br>year=%{x}<br>value=%{y}<extra></extra>",
         "legendgroup": "Phosphate rock",
         "line": {
          "color": "#FF6692"
         },
         "mode": "lines",
         "name": "Phosphate rock",
         "orientation": "v",
         "showlegend": true,
         "stackgroup": "1",
         "type": "scatter",
         "x": [
          2002,
          2003,
          2004,
          2005,
          2006,
          2012,
          2013,
          2014,
          2015,
          2016,
          2017
         ],
         "xaxis": "x",
         "y": [
          77790,
          74820,
          62650,
          60370,
          42980,
          12380,
          16390,
          31750,
          16720,
          36200,
          31000
         ],
         "yaxis": "y"
        },
        {
         "hovertemplate": "item=Potassium chloride (muriate of potash) (MOP)<br>year=%{x}<br>value=%{y}<extra></extra>",
         "legendgroup": "Potassium chloride (muriate of potash) (MOP)",
         "line": {
          "color": "#B6E880"
         },
         "mode": "lines",
         "name": "Potassium chloride (muriate of potash) (MOP)",
         "orientation": "v",
         "showlegend": true,
         "stackgroup": "1",
         "type": "scatter",
         "x": [
          2004,
          2005,
          2006,
          2007,
          2008,
          2009,
          2010,
          2011,
          2012,
          2013,
          2014,
          2015,
          2016,
          2017
         ],
         "xaxis": "x",
         "y": [
          2406200,
          2731260,
          2585610,
          2880690,
          4077330,
          4634060,
          3931620,
          3028930,
          2211020,
          2280410,
          2853350,
          2466930,
          2863200,
          3158200
         ],
         "yaxis": "y"
        },
        {
         "hovertemplate": "item=Potassium sulphate (sulphate of potash) (SOP)<br>year=%{x}<br>value=%{y}<extra></extra>",
         "legendgroup": "Potassium sulphate (sulphate of potash) (SOP)",
         "line": {
          "color": "#FF97FF"
         },
         "mode": "lines",
         "name": "Potassium sulphate (sulphate of potash) (SOP)",
         "orientation": "v",
         "showlegend": true,
         "stackgroup": "1",
         "type": "scatter",
         "x": [
          2002,
          2003,
          2004,
          2005,
          2006,
          2007,
          2008,
          2009,
          2010,
          2011,
          2012,
          2013,
          2014,
          2015,
          2016,
          2017
         ],
         "xaxis": "x",
         "y": [
          1912020,
          1841170,
          25620,
          27870,
          27260,
          30090,
          30130,
          29970,
          19270,
          30790,
          34460,
          30530,
          18950,
          16830,
          5700,
          5200
         ],
         "yaxis": "y"
        },
        {
         "hovertemplate": "item=Superphosphates above 35%<br>year=%{x}<br>value=%{y}<extra></extra>",
         "legendgroup": "Superphosphates above 35%",
         "line": {
          "color": "#FECB52"
         },
         "mode": "lines",
         "name": "Superphosphates above 35%",
         "orientation": "v",
         "showlegend": true,
         "stackgroup": "1",
         "type": "scatter",
         "x": [
          2010,
          2011,
          2012,
          2013,
          2014,
          2015,
          2016,
          2017
         ],
         "xaxis": "x",
         "y": [
          86650,
          78130,
          39560,
          3590,
          1840,
          5860,
          4830,
          3800
         ],
         "yaxis": "y"
        },
        {
         "hovertemplate": "item=Superphosphates, other<br>year=%{x}<br>value=%{y}<extra></extra>",
         "legendgroup": "Superphosphates, other",
         "line": {
          "color": "#636efa"
         },
         "mode": "lines",
         "name": "Superphosphates, other",
         "orientation": "v",
         "showlegend": true,
         "stackgroup": "1",
         "type": "scatter",
         "x": [
          2004,
          2005,
          2006,
          2007,
          2008,
          2009,
          2010,
          2011,
          2012,
          2013,
          2014,
          2015,
          2016,
          2017
         ],
         "xaxis": "x",
         "y": [
          2549350,
          2755950,
          2910470,
          2287760,
          2616610,
          2651100,
          3825200,
          4746010,
          4030360,
          3879320,
          3989300,
          4252740,
          3756800,
          3439400
         ],
         "yaxis": "y"
        },
        {
         "hovertemplate": "item=Urea<br>year=%{x}<br>value=%{y}<extra></extra>",
         "legendgroup": "Urea",
         "line": {
          "color": "#EF553B"
         },
         "mode": "lines",
         "name": "Urea",
         "orientation": "v",
         "showlegend": true,
         "stackgroup": "1",
         "type": "scatter",
         "x": [
          2002,
          2003,
          2004,
          2005,
          2006,
          2007,
          2008,
          2009,
          2010,
          2011,
          2012,
          2013,
          2014,
          2015,
          2016,
          2017
         ],
         "xaxis": "x",
         "y": [
          18493090,
          19767480,
          20665190,
          22297510,
          24337660,
          25963150,
          26549210,
          26673440,
          28112530,
          29565320,
          30002200,
          30600480,
          30610000,
          30634870,
          29613580,
          29894400
         ],
         "yaxis": "y"
        }
       ],
       "layout": {
        "height": 600,
        "legend": {
         "orientation": "h",
         "title": {
          "text": "item"
         },
         "tracegroupgap": 0
        },
        "template": {
         "data": {
          "bar": [
           {
            "error_x": {
             "color": "#2a3f5f"
            },
            "error_y": {
             "color": "#2a3f5f"
            },
            "marker": {
             "line": {
              "color": "#E5ECF6",
              "width": 0.5
             }
            },
            "type": "bar"
           }
          ],
          "barpolar": [
           {
            "marker": {
             "line": {
              "color": "#E5ECF6",
              "width": 0.5
             }
            },
            "type": "barpolar"
           }
          ],
          "carpet": [
           {
            "aaxis": {
             "endlinecolor": "#2a3f5f",
             "gridcolor": "white",
             "linecolor": "white",
             "minorgridcolor": "white",
             "startlinecolor": "#2a3f5f"
            },
            "baxis": {
             "endlinecolor": "#2a3f5f",
             "gridcolor": "white",
             "linecolor": "white",
             "minorgridcolor": "white",
             "startlinecolor": "#2a3f5f"
            },
            "type": "carpet"
           }
          ],
          "choropleth": [
           {
            "colorbar": {
             "outlinewidth": 0,
             "ticks": ""
            },
            "type": "choropleth"
           }
          ],
          "contour": [
           {
            "colorbar": {
             "outlinewidth": 0,
             "ticks": ""
            },
            "colorscale": [
             [
              0,
              "#0d0887"
             ],
             [
              0.1111111111111111,
              "#46039f"
             ],
             [
              0.2222222222222222,
              "#7201a8"
             ],
             [
              0.3333333333333333,
              "#9c179e"
             ],
             [
              0.4444444444444444,
              "#bd3786"
             ],
             [
              0.5555555555555556,
              "#d8576b"
             ],
             [
              0.6666666666666666,
              "#ed7953"
             ],
             [
              0.7777777777777778,
              "#fb9f3a"
             ],
             [
              0.8888888888888888,
              "#fdca26"
             ],
             [
              1,
              "#f0f921"
             ]
            ],
            "type": "contour"
           }
          ],
          "contourcarpet": [
           {
            "colorbar": {
             "outlinewidth": 0,
             "ticks": ""
            },
            "type": "contourcarpet"
           }
          ],
          "heatmap": [
           {
            "colorbar": {
             "outlinewidth": 0,
             "ticks": ""
            },
            "colorscale": [
             [
              0,
              "#0d0887"
             ],
             [
              0.1111111111111111,
              "#46039f"
             ],
             [
              0.2222222222222222,
              "#7201a8"
             ],
             [
              0.3333333333333333,
              "#9c179e"
             ],
             [
              0.4444444444444444,
              "#bd3786"
             ],
             [
              0.5555555555555556,
              "#d8576b"
             ],
             [
              0.6666666666666666,
              "#ed7953"
             ],
             [
              0.7777777777777778,
              "#fb9f3a"
             ],
             [
              0.8888888888888888,
              "#fdca26"
             ],
             [
              1,
              "#f0f921"
             ]
            ],
            "type": "heatmap"
           }
          ],
          "heatmapgl": [
           {
            "colorbar": {
             "outlinewidth": 0,
             "ticks": ""
            },
            "colorscale": [
             [
              0,
              "#0d0887"
             ],
             [
              0.1111111111111111,
              "#46039f"
             ],
             [
              0.2222222222222222,
              "#7201a8"
             ],
             [
              0.3333333333333333,
              "#9c179e"
             ],
             [
              0.4444444444444444,
              "#bd3786"
             ],
             [
              0.5555555555555556,
              "#d8576b"
             ],
             [
              0.6666666666666666,
              "#ed7953"
             ],
             [
              0.7777777777777778,
              "#fb9f3a"
             ],
             [
              0.8888888888888888,
              "#fdca26"
             ],
             [
              1,
              "#f0f921"
             ]
            ],
            "type": "heatmapgl"
           }
          ],
          "histogram": [
           {
            "marker": {
             "colorbar": {
              "outlinewidth": 0,
              "ticks": ""
             }
            },
            "type": "histogram"
           }
          ],
          "histogram2d": [
           {
            "colorbar": {
             "outlinewidth": 0,
             "ticks": ""
            },
            "colorscale": [
             [
              0,
              "#0d0887"
             ],
             [
              0.1111111111111111,
              "#46039f"
             ],
             [
              0.2222222222222222,
              "#7201a8"
             ],
             [
              0.3333333333333333,
              "#9c179e"
             ],
             [
              0.4444444444444444,
              "#bd3786"
             ],
             [
              0.5555555555555556,
              "#d8576b"
             ],
             [
              0.6666666666666666,
              "#ed7953"
             ],
             [
              0.7777777777777778,
              "#fb9f3a"
             ],
             [
              0.8888888888888888,
              "#fdca26"
             ],
             [
              1,
              "#f0f921"
             ]
            ],
            "type": "histogram2d"
           }
          ],
          "histogram2dcontour": [
           {
            "colorbar": {
             "outlinewidth": 0,
             "ticks": ""
            },
            "colorscale": [
             [
              0,
              "#0d0887"
             ],
             [
              0.1111111111111111,
              "#46039f"
             ],
             [
              0.2222222222222222,
              "#7201a8"
             ],
             [
              0.3333333333333333,
              "#9c179e"
             ],
             [
              0.4444444444444444,
              "#bd3786"
             ],
             [
              0.5555555555555556,
              "#d8576b"
             ],
             [
              0.6666666666666666,
              "#ed7953"
             ],
             [
              0.7777777777777778,
              "#fb9f3a"
             ],
             [
              0.8888888888888888,
              "#fdca26"
             ],
             [
              1,
              "#f0f921"
             ]
            ],
            "type": "histogram2dcontour"
           }
          ],
          "mesh3d": [
           {
            "colorbar": {
             "outlinewidth": 0,
             "ticks": ""
            },
            "type": "mesh3d"
           }
          ],
          "parcoords": [
           {
            "line": {
             "colorbar": {
              "outlinewidth": 0,
              "ticks": ""
             }
            },
            "type": "parcoords"
           }
          ],
          "pie": [
           {
            "automargin": true,
            "type": "pie"
           }
          ],
          "scatter": [
           {
            "marker": {
             "colorbar": {
              "outlinewidth": 0,
              "ticks": ""
             }
            },
            "type": "scatter"
           }
          ],
          "scatter3d": [
           {
            "line": {
             "colorbar": {
              "outlinewidth": 0,
              "ticks": ""
             }
            },
            "marker": {
             "colorbar": {
              "outlinewidth": 0,
              "ticks": ""
             }
            },
            "type": "scatter3d"
           }
          ],
          "scattercarpet": [
           {
            "marker": {
             "colorbar": {
              "outlinewidth": 0,
              "ticks": ""
             }
            },
            "type": "scattercarpet"
           }
          ],
          "scattergeo": [
           {
            "marker": {
             "colorbar": {
              "outlinewidth": 0,
              "ticks": ""
             }
            },
            "type": "scattergeo"
           }
          ],
          "scattergl": [
           {
            "marker": {
             "colorbar": {
              "outlinewidth": 0,
              "ticks": ""
             }
            },
            "type": "scattergl"
           }
          ],
          "scattermapbox": [
           {
            "marker": {
             "colorbar": {
              "outlinewidth": 0,
              "ticks": ""
             }
            },
            "type": "scattermapbox"
           }
          ],
          "scatterpolar": [
           {
            "marker": {
             "colorbar": {
              "outlinewidth": 0,
              "ticks": ""
             }
            },
            "type": "scatterpolar"
           }
          ],
          "scatterpolargl": [
           {
            "marker": {
             "colorbar": {
              "outlinewidth": 0,
              "ticks": ""
             }
            },
            "type": "scatterpolargl"
           }
          ],
          "scatterternary": [
           {
            "marker": {
             "colorbar": {
              "outlinewidth": 0,
              "ticks": ""
             }
            },
            "type": "scatterternary"
           }
          ],
          "surface": [
           {
            "colorbar": {
             "outlinewidth": 0,
             "ticks": ""
            },
            "colorscale": [
             [
              0,
              "#0d0887"
             ],
             [
              0.1111111111111111,
              "#46039f"
             ],
             [
              0.2222222222222222,
              "#7201a8"
             ],
             [
              0.3333333333333333,
              "#9c179e"
             ],
             [
              0.4444444444444444,
              "#bd3786"
             ],
             [
              0.5555555555555556,
              "#d8576b"
             ],
             [
              0.6666666666666666,
              "#ed7953"
             ],
             [
              0.7777777777777778,
              "#fb9f3a"
             ],
             [
              0.8888888888888888,
              "#fdca26"
             ],
             [
              1,
              "#f0f921"
             ]
            ],
            "type": "surface"
           }
          ],
          "table": [
           {
            "cells": {
             "fill": {
              "color": "#EBF0F8"
             },
             "line": {
              "color": "white"
             }
            },
            "header": {
             "fill": {
              "color": "#C8D4E3"
             },
             "line": {
              "color": "white"
             }
            },
            "type": "table"
           }
          ]
         },
         "layout": {
          "annotationdefaults": {
           "arrowcolor": "#2a3f5f",
           "arrowhead": 0,
           "arrowwidth": 1
          },
          "autotypenumbers": "strict",
          "coloraxis": {
           "colorbar": {
            "outlinewidth": 0,
            "ticks": ""
           }
          },
          "colorscale": {
           "diverging": [
            [
             0,
             "#8e0152"
            ],
            [
             0.1,
             "#c51b7d"
            ],
            [
             0.2,
             "#de77ae"
            ],
            [
             0.3,
             "#f1b6da"
            ],
            [
             0.4,
             "#fde0ef"
            ],
            [
             0.5,
             "#f7f7f7"
            ],
            [
             0.6,
             "#e6f5d0"
            ],
            [
             0.7,
             "#b8e186"
            ],
            [
             0.8,
             "#7fbc41"
            ],
            [
             0.9,
             "#4d9221"
            ],
            [
             1,
             "#276419"
            ]
           ],
           "sequential": [
            [
             0,
             "#0d0887"
            ],
            [
             0.1111111111111111,
             "#46039f"
            ],
            [
             0.2222222222222222,
             "#7201a8"
            ],
            [
             0.3333333333333333,
             "#9c179e"
            ],
            [
             0.4444444444444444,
             "#bd3786"
            ],
            [
             0.5555555555555556,
             "#d8576b"
            ],
            [
             0.6666666666666666,
             "#ed7953"
            ],
            [
             0.7777777777777778,
             "#fb9f3a"
            ],
            [
             0.8888888888888888,
             "#fdca26"
            ],
            [
             1,
             "#f0f921"
            ]
           ],
           "sequentialminus": [
            [
             0,
             "#0d0887"
            ],
            [
             0.1111111111111111,
             "#46039f"
            ],
            [
             0.2222222222222222,
             "#7201a8"
            ],
            [
             0.3333333333333333,
             "#9c179e"
            ],
            [
             0.4444444444444444,
             "#bd3786"
            ],
            [
             0.5555555555555556,
             "#d8576b"
            ],
            [
             0.6666666666666666,
             "#ed7953"
            ],
            [
             0.7777777777777778,
             "#fb9f3a"
            ],
            [
             0.8888888888888888,
             "#fdca26"
            ],
            [
             1,
             "#f0f921"
            ]
           ]
          },
          "colorway": [
           "#636efa",
           "#EF553B",
           "#00cc96",
           "#ab63fa",
           "#FFA15A",
           "#19d3f3",
           "#FF6692",
           "#B6E880",
           "#FF97FF",
           "#FECB52"
          ],
          "font": {
           "color": "#2a3f5f"
          },
          "geo": {
           "bgcolor": "white",
           "lakecolor": "white",
           "landcolor": "#E5ECF6",
           "showlakes": true,
           "showland": true,
           "subunitcolor": "white"
          },
          "hoverlabel": {
           "align": "left"
          },
          "hovermode": "closest",
          "mapbox": {
           "style": "light"
          },
          "paper_bgcolor": "white",
          "plot_bgcolor": "#E5ECF6",
          "polar": {
           "angularaxis": {
            "gridcolor": "white",
            "linecolor": "white",
            "ticks": ""
           },
           "bgcolor": "#E5ECF6",
           "radialaxis": {
            "gridcolor": "white",
            "linecolor": "white",
            "ticks": ""
           }
          },
          "scene": {
           "xaxis": {
            "backgroundcolor": "#E5ECF6",
            "gridcolor": "white",
            "gridwidth": 2,
            "linecolor": "white",
            "showbackground": true,
            "ticks": "",
            "zerolinecolor": "white"
           },
           "yaxis": {
            "backgroundcolor": "#E5ECF6",
            "gridcolor": "white",
            "gridwidth": 2,
            "linecolor": "white",
            "showbackground": true,
            "ticks": "",
            "zerolinecolor": "white"
           },
           "zaxis": {
            "backgroundcolor": "#E5ECF6",
            "gridcolor": "white",
            "gridwidth": 2,
            "linecolor": "white",
            "showbackground": true,
            "ticks": "",
            "zerolinecolor": "white"
           }
          },
          "shapedefaults": {
           "line": {
            "color": "#2a3f5f"
           }
          },
          "ternary": {
           "aaxis": {
            "gridcolor": "white",
            "linecolor": "white",
            "ticks": ""
           },
           "baxis": {
            "gridcolor": "white",
            "linecolor": "white",
            "ticks": ""
           },
           "bgcolor": "#E5ECF6",
           "caxis": {
            "gridcolor": "white",
            "linecolor": "white",
            "ticks": ""
           }
          },
          "title": {
           "x": 0.05
          },
          "xaxis": {
           "automargin": true,
           "gridcolor": "white",
           "linecolor": "white",
           "ticks": "",
           "title": {
            "standoff": 15
           },
           "zerolinecolor": "white",
           "zerolinewidth": 2
          },
          "yaxis": {
           "automargin": true,
           "gridcolor": "white",
           "linecolor": "white",
           "ticks": "",
           "title": {
            "standoff": 15
           },
           "zerolinecolor": "white",
           "zerolinewidth": 2
          }
         }
        },
        "title": {
         "text": "Fertilizers used over the years 2002-2017 in India"
        },
        "xaxis": {
         "anchor": "y",
         "domain": [
          0,
          1
         ],
         "title": {
          "text": "year"
         }
        },
        "yaxis": {
         "anchor": "x",
         "domain": [
          0,
          1
         ],
         "title": {
          "text": "value"
         }
        }
       }
      }
     },
     "metadata": {}
    }
   ],
   "source": [
    "df_agr = India[India.element == 'Agricultural Use'] # creating a new dataframe which contains data of only Agricultural use in India\n",
    "\n",
    "\n",
    "fig = px.area(df_agr, x = 'year', y = 'value', color = 'item',title = 'Fertilizers used over the years 2002-2017 in India', line_group = 'item')\n",
    "fig.update_layout(legend_orientation = 'h',height = 600)\n",
    "\n",
    "fig.show()"
   ]
  },
  {
   "cell_type": "markdown",
   "metadata": {
    "papermill": {
     "duration": 0.044881,
     "end_time": "2021-02-15T19:09:33.765284",
     "exception": false,
     "start_time": "2021-02-15T19:09:33.720403",
     "status": "completed"
    },
    "tags": []
   },
   "source": [
    "From the above we can see that Urea is the most used fertilizer for agriculture. It should not be too shocking since it was the most produced fertilizer in India as well. But from above we can also see that Urea is being used more than its being produced. So does India import and export Urea the most as well? "
   ]
  },
  {
   "cell_type": "markdown",
   "metadata": {
    "papermill": {
     "duration": 0.045147,
     "end_time": "2021-02-15T19:09:33.855983",
     "exception": false,
     "start_time": "2021-02-15T19:09:33.810836",
     "status": "completed"
    },
    "tags": []
   },
   "source": [
    "### Trade - Export Quantity\n",
    "\n",
    "Looking at Top 10 fertilizers that are being exported from India"
   ]
  },
  {
   "cell_type": "code",
   "execution_count": 20,
   "metadata": {
    "execution": {
     "iopub.execute_input": "2021-02-15T19:09:33.961018Z",
     "iopub.status.busy": "2021-02-15T19:09:33.959238Z",
     "iopub.status.idle": "2021-02-15T19:09:34.019891Z",
     "shell.execute_reply": "2021-02-15T19:09:34.019303Z"
    },
    "papermill": {
     "duration": 0.118725,
     "end_time": "2021-02-15T19:09:34.020004",
     "exception": false,
     "start_time": "2021-02-15T19:09:33.901279",
     "status": "completed"
    },
    "tags": []
   },
   "outputs": [
    {
     "output_type": "display_data",
     "data": {
      "application/vnd.plotly.v1+json": {
       "config": {
        "plotlyServerURL": "https://plot.ly"
       },
       "data": [
        {
         "alignmentgroup": "True",
         "hovertemplate": "value=%{x}<br>item=%{y}<extra></extra>",
         "legendgroup": "",
         "marker": {
          "color": "#636efa"
         },
         "name": "",
         "offsetgroup": "",
         "orientation": "h",
         "showlegend": false,
         "textposition": "auto",
         "type": "bar",
         "x": [
          626753.6000000001,
          378694.82000000007,
          185335.91,
          180019.69,
          171624.63,
          147752.97,
          114389.53,
          113579.94,
          96527.37999999999,
          68358.5
         ],
         "xaxis": "x",
         "y": [
          "NPK fertilizers",
          "Other nitrogenous fertilizers, n.e.c.",
          "Urea",
          "Potassium chloride (muriate of potash) (MOP)",
          "Ammonium nitrate (AN)",
          "Ammonium sulphate",
          "Diammonium phosphate (DAP)",
          "Potassium sulphate (sulphate of potash) (SOP)",
          "Monoammonium phosphate (MAP)",
          "Superphosphates above 35%"
         ],
         "yaxis": "y"
        }
       ],
       "layout": {
        "barmode": "relative",
        "legend": {
         "tracegroupgap": 0
        },
        "template": {
         "data": {
          "bar": [
           {
            "error_x": {
             "color": "#2a3f5f"
            },
            "error_y": {
             "color": "#2a3f5f"
            },
            "marker": {
             "line": {
              "color": "#E5ECF6",
              "width": 0.5
             }
            },
            "type": "bar"
           }
          ],
          "barpolar": [
           {
            "marker": {
             "line": {
              "color": "#E5ECF6",
              "width": 0.5
             }
            },
            "type": "barpolar"
           }
          ],
          "carpet": [
           {
            "aaxis": {
             "endlinecolor": "#2a3f5f",
             "gridcolor": "white",
             "linecolor": "white",
             "minorgridcolor": "white",
             "startlinecolor": "#2a3f5f"
            },
            "baxis": {
             "endlinecolor": "#2a3f5f",
             "gridcolor": "white",
             "linecolor": "white",
             "minorgridcolor": "white",
             "startlinecolor": "#2a3f5f"
            },
            "type": "carpet"
           }
          ],
          "choropleth": [
           {
            "colorbar": {
             "outlinewidth": 0,
             "ticks": ""
            },
            "type": "choropleth"
           }
          ],
          "contour": [
           {
            "colorbar": {
             "outlinewidth": 0,
             "ticks": ""
            },
            "colorscale": [
             [
              0,
              "#0d0887"
             ],
             [
              0.1111111111111111,
              "#46039f"
             ],
             [
              0.2222222222222222,
              "#7201a8"
             ],
             [
              0.3333333333333333,
              "#9c179e"
             ],
             [
              0.4444444444444444,
              "#bd3786"
             ],
             [
              0.5555555555555556,
              "#d8576b"
             ],
             [
              0.6666666666666666,
              "#ed7953"
             ],
             [
              0.7777777777777778,
              "#fb9f3a"
             ],
             [
              0.8888888888888888,
              "#fdca26"
             ],
             [
              1,
              "#f0f921"
             ]
            ],
            "type": "contour"
           }
          ],
          "contourcarpet": [
           {
            "colorbar": {
             "outlinewidth": 0,
             "ticks": ""
            },
            "type": "contourcarpet"
           }
          ],
          "heatmap": [
           {
            "colorbar": {
             "outlinewidth": 0,
             "ticks": ""
            },
            "colorscale": [
             [
              0,
              "#0d0887"
             ],
             [
              0.1111111111111111,
              "#46039f"
             ],
             [
              0.2222222222222222,
              "#7201a8"
             ],
             [
              0.3333333333333333,
              "#9c179e"
             ],
             [
              0.4444444444444444,
              "#bd3786"
             ],
             [
              0.5555555555555556,
              "#d8576b"
             ],
             [
              0.6666666666666666,
              "#ed7953"
             ],
             [
              0.7777777777777778,
              "#fb9f3a"
             ],
             [
              0.8888888888888888,
              "#fdca26"
             ],
             [
              1,
              "#f0f921"
             ]
            ],
            "type": "heatmap"
           }
          ],
          "heatmapgl": [
           {
            "colorbar": {
             "outlinewidth": 0,
             "ticks": ""
            },
            "colorscale": [
             [
              0,
              "#0d0887"
             ],
             [
              0.1111111111111111,
              "#46039f"
             ],
             [
              0.2222222222222222,
              "#7201a8"
             ],
             [
              0.3333333333333333,
              "#9c179e"
             ],
             [
              0.4444444444444444,
              "#bd3786"
             ],
             [
              0.5555555555555556,
              "#d8576b"
             ],
             [
              0.6666666666666666,
              "#ed7953"
             ],
             [
              0.7777777777777778,
              "#fb9f3a"
             ],
             [
              0.8888888888888888,
              "#fdca26"
             ],
             [
              1,
              "#f0f921"
             ]
            ],
            "type": "heatmapgl"
           }
          ],
          "histogram": [
           {
            "marker": {
             "colorbar": {
              "outlinewidth": 0,
              "ticks": ""
             }
            },
            "type": "histogram"
           }
          ],
          "histogram2d": [
           {
            "colorbar": {
             "outlinewidth": 0,
             "ticks": ""
            },
            "colorscale": [
             [
              0,
              "#0d0887"
             ],
             [
              0.1111111111111111,
              "#46039f"
             ],
             [
              0.2222222222222222,
              "#7201a8"
             ],
             [
              0.3333333333333333,
              "#9c179e"
             ],
             [
              0.4444444444444444,
              "#bd3786"
             ],
             [
              0.5555555555555556,
              "#d8576b"
             ],
             [
              0.6666666666666666,
              "#ed7953"
             ],
             [
              0.7777777777777778,
              "#fb9f3a"
             ],
             [
              0.8888888888888888,
              "#fdca26"
             ],
             [
              1,
              "#f0f921"
             ]
            ],
            "type": "histogram2d"
           }
          ],
          "histogram2dcontour": [
           {
            "colorbar": {
             "outlinewidth": 0,
             "ticks": ""
            },
            "colorscale": [
             [
              0,
              "#0d0887"
             ],
             [
              0.1111111111111111,
              "#46039f"
             ],
             [
              0.2222222222222222,
              "#7201a8"
             ],
             [
              0.3333333333333333,
              "#9c179e"
             ],
             [
              0.4444444444444444,
              "#bd3786"
             ],
             [
              0.5555555555555556,
              "#d8576b"
             ],
             [
              0.6666666666666666,
              "#ed7953"
             ],
             [
              0.7777777777777778,
              "#fb9f3a"
             ],
             [
              0.8888888888888888,
              "#fdca26"
             ],
             [
              1,
              "#f0f921"
             ]
            ],
            "type": "histogram2dcontour"
           }
          ],
          "mesh3d": [
           {
            "colorbar": {
             "outlinewidth": 0,
             "ticks": ""
            },
            "type": "mesh3d"
           }
          ],
          "parcoords": [
           {
            "line": {
             "colorbar": {
              "outlinewidth": 0,
              "ticks": ""
             }
            },
            "type": "parcoords"
           }
          ],
          "pie": [
           {
            "automargin": true,
            "type": "pie"
           }
          ],
          "scatter": [
           {
            "marker": {
             "colorbar": {
              "outlinewidth": 0,
              "ticks": ""
             }
            },
            "type": "scatter"
           }
          ],
          "scatter3d": [
           {
            "line": {
             "colorbar": {
              "outlinewidth": 0,
              "ticks": ""
             }
            },
            "marker": {
             "colorbar": {
              "outlinewidth": 0,
              "ticks": ""
             }
            },
            "type": "scatter3d"
           }
          ],
          "scattercarpet": [
           {
            "marker": {
             "colorbar": {
              "outlinewidth": 0,
              "ticks": ""
             }
            },
            "type": "scattercarpet"
           }
          ],
          "scattergeo": [
           {
            "marker": {
             "colorbar": {
              "outlinewidth": 0,
              "ticks": ""
             }
            },
            "type": "scattergeo"
           }
          ],
          "scattergl": [
           {
            "marker": {
             "colorbar": {
              "outlinewidth": 0,
              "ticks": ""
             }
            },
            "type": "scattergl"
           }
          ],
          "scattermapbox": [
           {
            "marker": {
             "colorbar": {
              "outlinewidth": 0,
              "ticks": ""
             }
            },
            "type": "scattermapbox"
           }
          ],
          "scatterpolar": [
           {
            "marker": {
             "colorbar": {
              "outlinewidth": 0,
              "ticks": ""
             }
            },
            "type": "scatterpolar"
           }
          ],
          "scatterpolargl": [
           {
            "marker": {
             "colorbar": {
              "outlinewidth": 0,
              "ticks": ""
             }
            },
            "type": "scatterpolargl"
           }
          ],
          "scatterternary": [
           {
            "marker": {
             "colorbar": {
              "outlinewidth": 0,
              "ticks": ""
             }
            },
            "type": "scatterternary"
           }
          ],
          "surface": [
           {
            "colorbar": {
             "outlinewidth": 0,
             "ticks": ""
            },
            "colorscale": [
             [
              0,
              "#0d0887"
             ],
             [
              0.1111111111111111,
              "#46039f"
             ],
             [
              0.2222222222222222,
              "#7201a8"
             ],
             [
              0.3333333333333333,
              "#9c179e"
             ],
             [
              0.4444444444444444,
              "#bd3786"
             ],
             [
              0.5555555555555556,
              "#d8576b"
             ],
             [
              0.6666666666666666,
              "#ed7953"
             ],
             [
              0.7777777777777778,
              "#fb9f3a"
             ],
             [
              0.8888888888888888,
              "#fdca26"
             ],
             [
              1,
              "#f0f921"
             ]
            ],
            "type": "surface"
           }
          ],
          "table": [
           {
            "cells": {
             "fill": {
              "color": "#EBF0F8"
             },
             "line": {
              "color": "white"
             }
            },
            "header": {
             "fill": {
              "color": "#C8D4E3"
             },
             "line": {
              "color": "white"
             }
            },
            "type": "table"
           }
          ]
         },
         "layout": {
          "annotationdefaults": {
           "arrowcolor": "#2a3f5f",
           "arrowhead": 0,
           "arrowwidth": 1
          },
          "autotypenumbers": "strict",
          "coloraxis": {
           "colorbar": {
            "outlinewidth": 0,
            "ticks": ""
           }
          },
          "colorscale": {
           "diverging": [
            [
             0,
             "#8e0152"
            ],
            [
             0.1,
             "#c51b7d"
            ],
            [
             0.2,
             "#de77ae"
            ],
            [
             0.3,
             "#f1b6da"
            ],
            [
             0.4,
             "#fde0ef"
            ],
            [
             0.5,
             "#f7f7f7"
            ],
            [
             0.6,
             "#e6f5d0"
            ],
            [
             0.7,
             "#b8e186"
            ],
            [
             0.8,
             "#7fbc41"
            ],
            [
             0.9,
             "#4d9221"
            ],
            [
             1,
             "#276419"
            ]
           ],
           "sequential": [
            [
             0,
             "#0d0887"
            ],
            [
             0.1111111111111111,
             "#46039f"
            ],
            [
             0.2222222222222222,
             "#7201a8"
            ],
            [
             0.3333333333333333,
             "#9c179e"
            ],
            [
             0.4444444444444444,
             "#bd3786"
            ],
            [
             0.5555555555555556,
             "#d8576b"
            ],
            [
             0.6666666666666666,
             "#ed7953"
            ],
            [
             0.7777777777777778,
             "#fb9f3a"
            ],
            [
             0.8888888888888888,
             "#fdca26"
            ],
            [
             1,
             "#f0f921"
            ]
           ],
           "sequentialminus": [
            [
             0,
             "#0d0887"
            ],
            [
             0.1111111111111111,
             "#46039f"
            ],
            [
             0.2222222222222222,
             "#7201a8"
            ],
            [
             0.3333333333333333,
             "#9c179e"
            ],
            [
             0.4444444444444444,
             "#bd3786"
            ],
            [
             0.5555555555555556,
             "#d8576b"
            ],
            [
             0.6666666666666666,
             "#ed7953"
            ],
            [
             0.7777777777777778,
             "#fb9f3a"
            ],
            [
             0.8888888888888888,
             "#fdca26"
            ],
            [
             1,
             "#f0f921"
            ]
           ]
          },
          "colorway": [
           "#636efa",
           "#EF553B",
           "#00cc96",
           "#ab63fa",
           "#FFA15A",
           "#19d3f3",
           "#FF6692",
           "#B6E880",
           "#FF97FF",
           "#FECB52"
          ],
          "font": {
           "color": "#2a3f5f"
          },
          "geo": {
           "bgcolor": "white",
           "lakecolor": "white",
           "landcolor": "#E5ECF6",
           "showlakes": true,
           "showland": true,
           "subunitcolor": "white"
          },
          "hoverlabel": {
           "align": "left"
          },
          "hovermode": "closest",
          "mapbox": {
           "style": "light"
          },
          "paper_bgcolor": "white",
          "plot_bgcolor": "#E5ECF6",
          "polar": {
           "angularaxis": {
            "gridcolor": "white",
            "linecolor": "white",
            "ticks": ""
           },
           "bgcolor": "#E5ECF6",
           "radialaxis": {
            "gridcolor": "white",
            "linecolor": "white",
            "ticks": ""
           }
          },
          "scene": {
           "xaxis": {
            "backgroundcolor": "#E5ECF6",
            "gridcolor": "white",
            "gridwidth": 2,
            "linecolor": "white",
            "showbackground": true,
            "ticks": "",
            "zerolinecolor": "white"
           },
           "yaxis": {
            "backgroundcolor": "#E5ECF6",
            "gridcolor": "white",
            "gridwidth": 2,
            "linecolor": "white",
            "showbackground": true,
            "ticks": "",
            "zerolinecolor": "white"
           },
           "zaxis": {
            "backgroundcolor": "#E5ECF6",
            "gridcolor": "white",
            "gridwidth": 2,
            "linecolor": "white",
            "showbackground": true,
            "ticks": "",
            "zerolinecolor": "white"
           }
          },
          "shapedefaults": {
           "line": {
            "color": "#2a3f5f"
           }
          },
          "ternary": {
           "aaxis": {
            "gridcolor": "white",
            "linecolor": "white",
            "ticks": ""
           },
           "baxis": {
            "gridcolor": "white",
            "linecolor": "white",
            "ticks": ""
           },
           "bgcolor": "#E5ECF6",
           "caxis": {
            "gridcolor": "white",
            "linecolor": "white",
            "ticks": ""
           }
          },
          "title": {
           "x": 0.05
          },
          "xaxis": {
           "automargin": true,
           "gridcolor": "white",
           "linecolor": "white",
           "ticks": "",
           "title": {
            "standoff": 15
           },
           "zerolinecolor": "white",
           "zerolinewidth": 2
          },
          "yaxis": {
           "automargin": true,
           "gridcolor": "white",
           "linecolor": "white",
           "ticks": "",
           "title": {
            "standoff": 15
           },
           "zerolinecolor": "white",
           "zerolinewidth": 2
          }
         }
        },
        "title": {
         "text": "Top 10 Fertilizers Exported"
        },
        "xaxis": {
         "anchor": "y",
         "domain": [
          0,
          1
         ],
         "title": {
          "text": "value"
         }
        },
        "yaxis": {
         "anchor": "x",
         "domain": [
          0,
          1
         ],
         "title": {
          "text": "item"
         }
        }
       }
      }
     },
     "metadata": {}
    }
   ],
   "source": [
    "#getting all the data where element is export quantity\n",
    "df_equan = India[India.element == 'Export Quantity']\n",
    "\n",
    "#getting top 10 fertilizers that were exported\n",
    "top_10_exp = df_equan.groupby('item')['value'].sum().sort_values(ascending = False).head(10).reset_index()\n",
    "fig = px.bar(top_10_exp, x = 'value', y = 'item', orientation = 'h', title = 'Top 10 Fertilizers Exported')\n",
    "fig.show()\n"
   ]
  },
  {
   "cell_type": "markdown",
   "metadata": {
    "papermill": {
     "duration": 0.04668,
     "end_time": "2021-02-15T19:09:34.114832",
     "exception": false,
     "start_time": "2021-02-15T19:09:34.068152",
     "status": "completed"
    },
    "tags": []
   },
   "source": [
    "NPK fertlizers were exported the most.\n",
    "\n",
    "We can also see that even though India produces Urea in high quantities, it doesn't export much."
   ]
  },
  {
   "cell_type": "code",
   "execution_count": 21,
   "metadata": {
    "execution": {
     "iopub.execute_input": "2021-02-15T19:09:34.229343Z",
     "iopub.status.busy": "2021-02-15T19:09:34.228255Z",
     "iopub.status.idle": "2021-02-15T19:09:34.323810Z",
     "shell.execute_reply": "2021-02-15T19:09:34.322999Z"
    },
    "papermill": {
     "duration": 0.162115,
     "end_time": "2021-02-15T19:09:34.323943",
     "exception": false,
     "start_time": "2021-02-15T19:09:34.161828",
     "status": "completed"
    },
    "tags": []
   },
   "outputs": [
    {
     "output_type": "display_data",
     "data": {
      "application/vnd.plotly.v1+json": {
       "config": {
        "plotlyServerURL": "https://plot.ly"
       },
       "data": [
        {
         "hovertemplate": "item=NPK fertilizers<br>year=%{x}<br>value=%{y}<extra></extra>",
         "legendgroup": "NPK fertilizers",
         "line": {
          "color": "#636efa",
          "dash": "solid"
         },
         "mode": "lines",
         "name": "NPK fertilizers",
         "orientation": "v",
         "showlegend": true,
         "type": "scatter",
         "x": [
          2002,
          2004,
          2005,
          2006,
          2007,
          2008,
          2009,
          2010,
          2011,
          2012,
          2013,
          2014,
          2015,
          2016,
          2017
         ],
         "xaxis": "x",
         "y": [
          0.25,
          0.11,
          23.54,
          21.9,
          243,
          1174.2,
          107013.03,
          8619.12,
          63282.75,
          53176.46,
          55745.94,
          79044.01,
          103093.61,
          77326.37,
          77989.31
         ],
         "yaxis": "y"
        },
        {
         "hovertemplate": "item=Other nitrogenous fertilizers, n.e.c.<br>year=%{x}<br>value=%{y}<extra></extra>",
         "legendgroup": "Other nitrogenous fertilizers, n.e.c.",
         "line": {
          "color": "#EF553B",
          "dash": "solid"
         },
         "mode": "lines",
         "name": "Other nitrogenous fertilizers, n.e.c.",
         "orientation": "v",
         "showlegend": true,
         "type": "scatter",
         "x": [
          2002,
          2003,
          2004,
          2005,
          2006,
          2007,
          2008,
          2009,
          2010,
          2011,
          2012,
          2013,
          2014,
          2015,
          2016,
          2017
         ],
         "xaxis": "x",
         "y": [
          6256.36,
          11340.09,
          22997.99,
          18597.35,
          7482.25,
          8894.64,
          16260.23,
          15372.48,
          16487.38,
          47984.36,
          59610.58,
          26921.31,
          22905.33,
          23119.9,
          30120.55,
          44344.02
         ],
         "yaxis": "y"
        },
        {
         "hovertemplate": "item=Urea<br>year=%{x}<br>value=%{y}<extra></extra>",
         "legendgroup": "Urea",
         "line": {
          "color": "#00cc96",
          "dash": "solid"
         },
         "mode": "lines",
         "name": "Urea",
         "orientation": "v",
         "showlegend": true,
         "type": "scatter",
         "x": [
          2002,
          2003,
          2004,
          2005,
          2006,
          2007,
          2008,
          2009,
          2010,
          2011,
          2012,
          2013,
          2014,
          2015,
          2016,
          2017
         ],
         "xaxis": "x",
         "y": [
          75.53,
          7345.67,
          4747.15,
          4225.62,
          612.54,
          162.84,
          416.84,
          23184.59,
          16158.85,
          12835.53,
          42148.11,
          12528.32,
          1062.55,
          45.36,
          888.3,
          58898.11
         ],
         "yaxis": "y"
        },
        {
         "hovertemplate": "item=Potassium chloride (muriate of potash) (MOP)<br>year=%{x}<br>value=%{y}<extra></extra>",
         "legendgroup": "Potassium chloride (muriate of potash) (MOP)",
         "line": {
          "color": "#ab63fa",
          "dash": "solid"
         },
         "mode": "lines",
         "name": "Potassium chloride (muriate of potash) (MOP)",
         "orientation": "v",
         "showlegend": true,
         "type": "scatter",
         "x": [
          2002,
          2003,
          2004,
          2005,
          2006,
          2007,
          2008,
          2009,
          2010,
          2011,
          2012,
          2013,
          2014,
          2015,
          2016,
          2017
         ],
         "xaxis": "x",
         "y": [
          708.24,
          1189.28,
          6931.74,
          7052.2,
          5332.23,
          9823.63,
          51118.6,
          5138.06,
          12952.31,
          29733.37,
          6911.72,
          11018.29,
          4547.04,
          23021.73,
          1136.2,
          3405.05
         ],
         "yaxis": "y"
        },
        {
         "hovertemplate": "item=Ammonium nitrate (AN)<br>year=%{x}<br>value=%{y}<extra></extra>",
         "legendgroup": "Ammonium nitrate (AN)",
         "line": {
          "color": "#FFA15A",
          "dash": "solid"
         },
         "mode": "lines",
         "name": "Ammonium nitrate (AN)",
         "orientation": "v",
         "showlegend": true,
         "type": "scatter",
         "x": [
          2002,
          2003,
          2004,
          2005,
          2006,
          2007,
          2008,
          2009,
          2010,
          2011,
          2012,
          2013,
          2014,
          2015,
          2016,
          2017
         ],
         "xaxis": "x",
         "y": [
          898.75,
          809.57,
          2473.95,
          4100.93,
          7261,
          4520.87,
          7255.7,
          7317.45,
          12764.29,
          13276.65,
          23413.63,
          12278.21,
          8859.1,
          20763.11,
          26077.38,
          19554.04
         ],
         "yaxis": "y"
        },
        {
         "hovertemplate": "item=Ammonium sulphate<br>year=%{x}<br>value=%{y}<extra></extra>",
         "legendgroup": "Ammonium sulphate",
         "line": {
          "color": "#19d3f3",
          "dash": "solid"
         },
         "mode": "lines",
         "name": "Ammonium sulphate",
         "orientation": "v",
         "showlegend": true,
         "type": "scatter",
         "x": [
          2002,
          2003,
          2004,
          2005,
          2006,
          2007,
          2008,
          2009,
          2010,
          2011,
          2012,
          2013,
          2014,
          2015,
          2016,
          2017
         ],
         "xaxis": "x",
         "y": [
          145.42,
          1948.62,
          14071.21,
          23321.81,
          4368.75,
          12294.23,
          31062.58,
          14894.73,
          12441.05,
          995.54,
          3118.55,
          3457.06,
          3584.72,
          10152.51,
          1482.41,
          10413.78
         ],
         "yaxis": "y"
        },
        {
         "hovertemplate": "item=Diammonium phosphate (DAP)<br>year=%{x}<br>value=%{y}<extra></extra>",
         "legendgroup": "Diammonium phosphate (DAP)",
         "line": {
          "color": "#FF6692",
          "dash": "solid"
         },
         "mode": "lines",
         "name": "Diammonium phosphate (DAP)",
         "orientation": "v",
         "showlegend": true,
         "type": "scatter",
         "x": [
          2003,
          2004,
          2005,
          2007,
          2008,
          2009,
          2010,
          2011,
          2012,
          2013,
          2014,
          2015,
          2016,
          2017
         ],
         "xaxis": "x",
         "y": [
          52.9,
          0.5,
          0.42,
          514.25,
          131.04,
          2112.67,
          8761.1,
          4386.86,
          550.73,
          16518.51,
          16385.56,
          22418.49,
          27435.5,
          15121
         ],
         "yaxis": "y"
        },
        {
         "hovertemplate": "item=Potassium sulphate (sulphate of potash) (SOP)<br>year=%{x}<br>value=%{y}<extra></extra>",
         "legendgroup": "Potassium sulphate (sulphate of potash) (SOP)",
         "line": {
          "color": "#B6E880",
          "dash": "solid"
         },
         "mode": "lines",
         "name": "Potassium sulphate (sulphate of potash) (SOP)",
         "orientation": "v",
         "showlegend": true,
         "type": "scatter",
         "x": [
          2002,
          2003,
          2004,
          2005,
          2006,
          2007,
          2008,
          2009,
          2010,
          2011,
          2012,
          2013,
          2014,
          2015,
          2016,
          2017
         ],
         "xaxis": "x",
         "y": [
          55.94,
          215.12,
          122.96,
          19.23,
          167.29,
          317.93,
          122.04,
          620.54,
          1808.6,
          9836.6,
          6473.68,
          8334.23,
          12359.75,
          15335.6,
          29649.24,
          28141.19
         ],
         "yaxis": "y"
        },
        {
         "hovertemplate": "item=Monoammonium phosphate (MAP)<br>year=%{x}<br>value=%{y}<extra></extra>",
         "legendgroup": "Monoammonium phosphate (MAP)",
         "line": {
          "color": "#FF97FF",
          "dash": "solid"
         },
         "mode": "lines",
         "name": "Monoammonium phosphate (MAP)",
         "orientation": "v",
         "showlegend": true,
         "type": "scatter",
         "x": [
          2002,
          2003,
          2005,
          2006,
          2007,
          2008,
          2009,
          2010,
          2011,
          2012,
          2013,
          2014,
          2015,
          2016,
          2017
         ],
         "xaxis": "x",
         "y": [
          0.8,
          15,
          2471.54,
          619.6,
          239.7,
          121.3,
          90087.85,
          218.84,
          515.7,
          712.9,
          561.54,
          3.97,
          902.16,
          1.23,
          55.25
         ],
         "yaxis": "y"
        },
        {
         "hovertemplate": "item=Superphosphates above 35%<br>year=%{x}<br>value=%{y}<extra></extra>",
         "legendgroup": "Superphosphates above 35%",
         "line": {
          "color": "#FECB52",
          "dash": "solid"
         },
         "mode": "lines",
         "name": "Superphosphates above 35%",
         "orientation": "v",
         "showlegend": true,
         "type": "scatter",
         "x": [
          2002,
          2003,
          2004,
          2005,
          2006,
          2007,
          2008,
          2009,
          2010,
          2011,
          2012,
          2013,
          2014,
          2015,
          2016,
          2017
         ],
         "xaxis": "x",
         "y": [
          200,
          1292.15,
          1030.7,
          562,
          7298.33,
          4172.79,
          19620.04,
          1890.04,
          254.93,
          804.01,
          430.01,
          654,
          2509,
          11723,
          13166.5,
          2751
         ],
         "yaxis": "y"
        }
       ],
       "layout": {
        "height": 600,
        "legend": {
         "orientation": "h",
         "title": {
          "text": "item"
         },
         "tracegroupgap": 0
        },
        "template": {
         "data": {
          "bar": [
           {
            "error_x": {
             "color": "#2a3f5f"
            },
            "error_y": {
             "color": "#2a3f5f"
            },
            "marker": {
             "line": {
              "color": "#E5ECF6",
              "width": 0.5
             }
            },
            "type": "bar"
           }
          ],
          "barpolar": [
           {
            "marker": {
             "line": {
              "color": "#E5ECF6",
              "width": 0.5
             }
            },
            "type": "barpolar"
           }
          ],
          "carpet": [
           {
            "aaxis": {
             "endlinecolor": "#2a3f5f",
             "gridcolor": "white",
             "linecolor": "white",
             "minorgridcolor": "white",
             "startlinecolor": "#2a3f5f"
            },
            "baxis": {
             "endlinecolor": "#2a3f5f",
             "gridcolor": "white",
             "linecolor": "white",
             "minorgridcolor": "white",
             "startlinecolor": "#2a3f5f"
            },
            "type": "carpet"
           }
          ],
          "choropleth": [
           {
            "colorbar": {
             "outlinewidth": 0,
             "ticks": ""
            },
            "type": "choropleth"
           }
          ],
          "contour": [
           {
            "colorbar": {
             "outlinewidth": 0,
             "ticks": ""
            },
            "colorscale": [
             [
              0,
              "#0d0887"
             ],
             [
              0.1111111111111111,
              "#46039f"
             ],
             [
              0.2222222222222222,
              "#7201a8"
             ],
             [
              0.3333333333333333,
              "#9c179e"
             ],
             [
              0.4444444444444444,
              "#bd3786"
             ],
             [
              0.5555555555555556,
              "#d8576b"
             ],
             [
              0.6666666666666666,
              "#ed7953"
             ],
             [
              0.7777777777777778,
              "#fb9f3a"
             ],
             [
              0.8888888888888888,
              "#fdca26"
             ],
             [
              1,
              "#f0f921"
             ]
            ],
            "type": "contour"
           }
          ],
          "contourcarpet": [
           {
            "colorbar": {
             "outlinewidth": 0,
             "ticks": ""
            },
            "type": "contourcarpet"
           }
          ],
          "heatmap": [
           {
            "colorbar": {
             "outlinewidth": 0,
             "ticks": ""
            },
            "colorscale": [
             [
              0,
              "#0d0887"
             ],
             [
              0.1111111111111111,
              "#46039f"
             ],
             [
              0.2222222222222222,
              "#7201a8"
             ],
             [
              0.3333333333333333,
              "#9c179e"
             ],
             [
              0.4444444444444444,
              "#bd3786"
             ],
             [
              0.5555555555555556,
              "#d8576b"
             ],
             [
              0.6666666666666666,
              "#ed7953"
             ],
             [
              0.7777777777777778,
              "#fb9f3a"
             ],
             [
              0.8888888888888888,
              "#fdca26"
             ],
             [
              1,
              "#f0f921"
             ]
            ],
            "type": "heatmap"
           }
          ],
          "heatmapgl": [
           {
            "colorbar": {
             "outlinewidth": 0,
             "ticks": ""
            },
            "colorscale": [
             [
              0,
              "#0d0887"
             ],
             [
              0.1111111111111111,
              "#46039f"
             ],
             [
              0.2222222222222222,
              "#7201a8"
             ],
             [
              0.3333333333333333,
              "#9c179e"
             ],
             [
              0.4444444444444444,
              "#bd3786"
             ],
             [
              0.5555555555555556,
              "#d8576b"
             ],
             [
              0.6666666666666666,
              "#ed7953"
             ],
             [
              0.7777777777777778,
              "#fb9f3a"
             ],
             [
              0.8888888888888888,
              "#fdca26"
             ],
             [
              1,
              "#f0f921"
             ]
            ],
            "type": "heatmapgl"
           }
          ],
          "histogram": [
           {
            "marker": {
             "colorbar": {
              "outlinewidth": 0,
              "ticks": ""
             }
            },
            "type": "histogram"
           }
          ],
          "histogram2d": [
           {
            "colorbar": {
             "outlinewidth": 0,
             "ticks": ""
            },
            "colorscale": [
             [
              0,
              "#0d0887"
             ],
             [
              0.1111111111111111,
              "#46039f"
             ],
             [
              0.2222222222222222,
              "#7201a8"
             ],
             [
              0.3333333333333333,
              "#9c179e"
             ],
             [
              0.4444444444444444,
              "#bd3786"
             ],
             [
              0.5555555555555556,
              "#d8576b"
             ],
             [
              0.6666666666666666,
              "#ed7953"
             ],
             [
              0.7777777777777778,
              "#fb9f3a"
             ],
             [
              0.8888888888888888,
              "#fdca26"
             ],
             [
              1,
              "#f0f921"
             ]
            ],
            "type": "histogram2d"
           }
          ],
          "histogram2dcontour": [
           {
            "colorbar": {
             "outlinewidth": 0,
             "ticks": ""
            },
            "colorscale": [
             [
              0,
              "#0d0887"
             ],
             [
              0.1111111111111111,
              "#46039f"
             ],
             [
              0.2222222222222222,
              "#7201a8"
             ],
             [
              0.3333333333333333,
              "#9c179e"
             ],
             [
              0.4444444444444444,
              "#bd3786"
             ],
             [
              0.5555555555555556,
              "#d8576b"
             ],
             [
              0.6666666666666666,
              "#ed7953"
             ],
             [
              0.7777777777777778,
              "#fb9f3a"
             ],
             [
              0.8888888888888888,
              "#fdca26"
             ],
             [
              1,
              "#f0f921"
             ]
            ],
            "type": "histogram2dcontour"
           }
          ],
          "mesh3d": [
           {
            "colorbar": {
             "outlinewidth": 0,
             "ticks": ""
            },
            "type": "mesh3d"
           }
          ],
          "parcoords": [
           {
            "line": {
             "colorbar": {
              "outlinewidth": 0,
              "ticks": ""
             }
            },
            "type": "parcoords"
           }
          ],
          "pie": [
           {
            "automargin": true,
            "type": "pie"
           }
          ],
          "scatter": [
           {
            "marker": {
             "colorbar": {
              "outlinewidth": 0,
              "ticks": ""
             }
            },
            "type": "scatter"
           }
          ],
          "scatter3d": [
           {
            "line": {
             "colorbar": {
              "outlinewidth": 0,
              "ticks": ""
             }
            },
            "marker": {
             "colorbar": {
              "outlinewidth": 0,
              "ticks": ""
             }
            },
            "type": "scatter3d"
           }
          ],
          "scattercarpet": [
           {
            "marker": {
             "colorbar": {
              "outlinewidth": 0,
              "ticks": ""
             }
            },
            "type": "scattercarpet"
           }
          ],
          "scattergeo": [
           {
            "marker": {
             "colorbar": {
              "outlinewidth": 0,
              "ticks": ""
             }
            },
            "type": "scattergeo"
           }
          ],
          "scattergl": [
           {
            "marker": {
             "colorbar": {
              "outlinewidth": 0,
              "ticks": ""
             }
            },
            "type": "scattergl"
           }
          ],
          "scattermapbox": [
           {
            "marker": {
             "colorbar": {
              "outlinewidth": 0,
              "ticks": ""
             }
            },
            "type": "scattermapbox"
           }
          ],
          "scatterpolar": [
           {
            "marker": {
             "colorbar": {
              "outlinewidth": 0,
              "ticks": ""
             }
            },
            "type": "scatterpolar"
           }
          ],
          "scatterpolargl": [
           {
            "marker": {
             "colorbar": {
              "outlinewidth": 0,
              "ticks": ""
             }
            },
            "type": "scatterpolargl"
           }
          ],
          "scatterternary": [
           {
            "marker": {
             "colorbar": {
              "outlinewidth": 0,
              "ticks": ""
             }
            },
            "type": "scatterternary"
           }
          ],
          "surface": [
           {
            "colorbar": {
             "outlinewidth": 0,
             "ticks": ""
            },
            "colorscale": [
             [
              0,
              "#0d0887"
             ],
             [
              0.1111111111111111,
              "#46039f"
             ],
             [
              0.2222222222222222,
              "#7201a8"
             ],
             [
              0.3333333333333333,
              "#9c179e"
             ],
             [
              0.4444444444444444,
              "#bd3786"
             ],
             [
              0.5555555555555556,
              "#d8576b"
             ],
             [
              0.6666666666666666,
              "#ed7953"
             ],
             [
              0.7777777777777778,
              "#fb9f3a"
             ],
             [
              0.8888888888888888,
              "#fdca26"
             ],
             [
              1,
              "#f0f921"
             ]
            ],
            "type": "surface"
           }
          ],
          "table": [
           {
            "cells": {
             "fill": {
              "color": "#EBF0F8"
             },
             "line": {
              "color": "white"
             }
            },
            "header": {
             "fill": {
              "color": "#C8D4E3"
             },
             "line": {
              "color": "white"
             }
            },
            "type": "table"
           }
          ]
         },
         "layout": {
          "annotationdefaults": {
           "arrowcolor": "#2a3f5f",
           "arrowhead": 0,
           "arrowwidth": 1
          },
          "autotypenumbers": "strict",
          "coloraxis": {
           "colorbar": {
            "outlinewidth": 0,
            "ticks": ""
           }
          },
          "colorscale": {
           "diverging": [
            [
             0,
             "#8e0152"
            ],
            [
             0.1,
             "#c51b7d"
            ],
            [
             0.2,
             "#de77ae"
            ],
            [
             0.3,
             "#f1b6da"
            ],
            [
             0.4,
             "#fde0ef"
            ],
            [
             0.5,
             "#f7f7f7"
            ],
            [
             0.6,
             "#e6f5d0"
            ],
            [
             0.7,
             "#b8e186"
            ],
            [
             0.8,
             "#7fbc41"
            ],
            [
             0.9,
             "#4d9221"
            ],
            [
             1,
             "#276419"
            ]
           ],
           "sequential": [
            [
             0,
             "#0d0887"
            ],
            [
             0.1111111111111111,
             "#46039f"
            ],
            [
             0.2222222222222222,
             "#7201a8"
            ],
            [
             0.3333333333333333,
             "#9c179e"
            ],
            [
             0.4444444444444444,
             "#bd3786"
            ],
            [
             0.5555555555555556,
             "#d8576b"
            ],
            [
             0.6666666666666666,
             "#ed7953"
            ],
            [
             0.7777777777777778,
             "#fb9f3a"
            ],
            [
             0.8888888888888888,
             "#fdca26"
            ],
            [
             1,
             "#f0f921"
            ]
           ],
           "sequentialminus": [
            [
             0,
             "#0d0887"
            ],
            [
             0.1111111111111111,
             "#46039f"
            ],
            [
             0.2222222222222222,
             "#7201a8"
            ],
            [
             0.3333333333333333,
             "#9c179e"
            ],
            [
             0.4444444444444444,
             "#bd3786"
            ],
            [
             0.5555555555555556,
             "#d8576b"
            ],
            [
             0.6666666666666666,
             "#ed7953"
            ],
            [
             0.7777777777777778,
             "#fb9f3a"
            ],
            [
             0.8888888888888888,
             "#fdca26"
            ],
            [
             1,
             "#f0f921"
            ]
           ]
          },
          "colorway": [
           "#636efa",
           "#EF553B",
           "#00cc96",
           "#ab63fa",
           "#FFA15A",
           "#19d3f3",
           "#FF6692",
           "#B6E880",
           "#FF97FF",
           "#FECB52"
          ],
          "font": {
           "color": "#2a3f5f"
          },
          "geo": {
           "bgcolor": "white",
           "lakecolor": "white",
           "landcolor": "#E5ECF6",
           "showlakes": true,
           "showland": true,
           "subunitcolor": "white"
          },
          "hoverlabel": {
           "align": "left"
          },
          "hovermode": "closest",
          "mapbox": {
           "style": "light"
          },
          "paper_bgcolor": "white",
          "plot_bgcolor": "#E5ECF6",
          "polar": {
           "angularaxis": {
            "gridcolor": "white",
            "linecolor": "white",
            "ticks": ""
           },
           "bgcolor": "#E5ECF6",
           "radialaxis": {
            "gridcolor": "white",
            "linecolor": "white",
            "ticks": ""
           }
          },
          "scene": {
           "xaxis": {
            "backgroundcolor": "#E5ECF6",
            "gridcolor": "white",
            "gridwidth": 2,
            "linecolor": "white",
            "showbackground": true,
            "ticks": "",
            "zerolinecolor": "white"
           },
           "yaxis": {
            "backgroundcolor": "#E5ECF6",
            "gridcolor": "white",
            "gridwidth": 2,
            "linecolor": "white",
            "showbackground": true,
            "ticks": "",
            "zerolinecolor": "white"
           },
           "zaxis": {
            "backgroundcolor": "#E5ECF6",
            "gridcolor": "white",
            "gridwidth": 2,
            "linecolor": "white",
            "showbackground": true,
            "ticks": "",
            "zerolinecolor": "white"
           }
          },
          "shapedefaults": {
           "line": {
            "color": "#2a3f5f"
           }
          },
          "ternary": {
           "aaxis": {
            "gridcolor": "white",
            "linecolor": "white",
            "ticks": ""
           },
           "baxis": {
            "gridcolor": "white",
            "linecolor": "white",
            "ticks": ""
           },
           "bgcolor": "#E5ECF6",
           "caxis": {
            "gridcolor": "white",
            "linecolor": "white",
            "ticks": ""
           }
          },
          "title": {
           "x": 0.05
          },
          "xaxis": {
           "automargin": true,
           "gridcolor": "white",
           "linecolor": "white",
           "ticks": "",
           "title": {
            "standoff": 15
           },
           "zerolinecolor": "white",
           "zerolinewidth": 2
          },
          "yaxis": {
           "automargin": true,
           "gridcolor": "white",
           "linecolor": "white",
           "ticks": "",
           "title": {
            "standoff": 15
           },
           "zerolinecolor": "white",
           "zerolinewidth": 2
          }
         }
        },
        "title": {
         "text": "Top 10 Fertilizers exported from 2002-2017"
        },
        "xaxis": {
         "anchor": "y",
         "domain": [
          0,
          1
         ],
         "title": {
          "text": "year"
         }
        },
        "yaxis": {
         "anchor": "x",
         "domain": [
          0,
          1
         ],
         "title": {
          "text": "value"
         }
        }
       }
      }
     },
     "metadata": {}
    }
   ],
   "source": [
    "\n",
    "#list to store the dataframes created for top 10 fertilizers\n",
    "df_to_concat = []\n",
    "\n",
    "for i in top_10_exp['item']:\n",
    "    items = df_equan[df_equan.item == i]\n",
    "    df_to_concat.append(items)\n",
    "    \n",
    "result = pd.concat(df_to_concat)\n",
    "\n",
    "#plotting line graph\n",
    "fig_equan = px.line(result, x = 'year', y = 'value', color = 'item', title = 'Top 10 Fertilizers exported from 2002-2017')\n",
    "fig_equan.update_layout(legend_orientation = 'h', height= 600)\n",
    "fig_equan.show()\n"
   ]
  },
  {
   "cell_type": "markdown",
   "metadata": {
    "papermill": {
     "duration": 0.047762,
     "end_time": "2021-02-15T19:09:34.419520",
     "exception": false,
     "start_time": "2021-02-15T19:09:34.371758",
     "status": "completed"
    },
    "tags": []
   },
   "source": [
    "Above we can see that NPK fertilizers were either not getting exported or were being exported in very less quantity until 2008 and then by 2009 it became the most exported fertilizer. Even though it went down in 2010, the quantity increased steadily after that. A pattern has not been recognised by looking at the Top 10 Fertilizers that were exported from 2002-2017"
   ]
  },
  {
   "cell_type": "markdown",
   "metadata": {
    "papermill": {
     "duration": 0.04725,
     "end_time": "2021-02-15T19:09:34.514720",
     "exception": false,
     "start_time": "2021-02-15T19:09:34.467470",
     "status": "completed"
    },
    "tags": []
   },
   "source": [
    "### Trade - Import Quantity\n",
    "\n",
    "Looking at Top 10 fertilizers that are being exported from India"
   ]
  },
  {
   "cell_type": "code",
   "execution_count": 22,
   "metadata": {
    "execution": {
     "iopub.execute_input": "2021-02-15T19:09:34.673095Z",
     "iopub.status.busy": "2021-02-15T19:09:34.666325Z",
     "iopub.status.idle": "2021-02-15T19:09:34.679167Z",
     "shell.execute_reply": "2021-02-15T19:09:34.678302Z"
    },
    "papermill": {
     "duration": 0.116781,
     "end_time": "2021-02-15T19:09:34.679295",
     "exception": false,
     "start_time": "2021-02-15T19:09:34.562514",
     "status": "completed"
    },
    "tags": []
   },
   "outputs": [
    {
     "output_type": "display_data",
     "data": {
      "application/vnd.plotly.v1+json": {
       "config": {
        "plotlyServerURL": "https://plot.ly"
       },
       "data": [
        {
         "alignmentgroup": "True",
         "hovertemplate": "value=%{x}<br>item=%{y}<extra></extra>",
         "legendgroup": "",
         "marker": {
          "color": "#636efa"
         },
         "name": "",
         "offsetgroup": "",
         "orientation": "h",
         "showlegend": false,
         "textposition": "auto",
         "type": "bar",
         "x": [
          96682378.35,
          76403811.19000001,
          58189247.38999999,
          53679824.56000001,
          28782523.71,
          4539864.95,
          4026177.5400000005,
          3019311.3099999996,
          2446204.78,
          1727922.54
         ],
         "xaxis": "x",
         "y": [
          "Phosphate rock",
          "Urea",
          "Diammonium phosphate (DAP)",
          "Potassium chloride (muriate of potash) (MOP)",
          "Ammonia, anhydrous",
          "Other NP compounds",
          "Monoammonium phosphate (MAP)",
          "Ammonium nitrate (AN)",
          "Other potassic fertilizers, n.e.c.",
          "NPK fertilizers"
         ],
         "yaxis": "y"
        }
       ],
       "layout": {
        "barmode": "relative",
        "legend": {
         "tracegroupgap": 0
        },
        "template": {
         "data": {
          "bar": [
           {
            "error_x": {
             "color": "#2a3f5f"
            },
            "error_y": {
             "color": "#2a3f5f"
            },
            "marker": {
             "line": {
              "color": "#E5ECF6",
              "width": 0.5
             }
            },
            "type": "bar"
           }
          ],
          "barpolar": [
           {
            "marker": {
             "line": {
              "color": "#E5ECF6",
              "width": 0.5
             }
            },
            "type": "barpolar"
           }
          ],
          "carpet": [
           {
            "aaxis": {
             "endlinecolor": "#2a3f5f",
             "gridcolor": "white",
             "linecolor": "white",
             "minorgridcolor": "white",
             "startlinecolor": "#2a3f5f"
            },
            "baxis": {
             "endlinecolor": "#2a3f5f",
             "gridcolor": "white",
             "linecolor": "white",
             "minorgridcolor": "white",
             "startlinecolor": "#2a3f5f"
            },
            "type": "carpet"
           }
          ],
          "choropleth": [
           {
            "colorbar": {
             "outlinewidth": 0,
             "ticks": ""
            },
            "type": "choropleth"
           }
          ],
          "contour": [
           {
            "colorbar": {
             "outlinewidth": 0,
             "ticks": ""
            },
            "colorscale": [
             [
              0,
              "#0d0887"
             ],
             [
              0.1111111111111111,
              "#46039f"
             ],
             [
              0.2222222222222222,
              "#7201a8"
             ],
             [
              0.3333333333333333,
              "#9c179e"
             ],
             [
              0.4444444444444444,
              "#bd3786"
             ],
             [
              0.5555555555555556,
              "#d8576b"
             ],
             [
              0.6666666666666666,
              "#ed7953"
             ],
             [
              0.7777777777777778,
              "#fb9f3a"
             ],
             [
              0.8888888888888888,
              "#fdca26"
             ],
             [
              1,
              "#f0f921"
             ]
            ],
            "type": "contour"
           }
          ],
          "contourcarpet": [
           {
            "colorbar": {
             "outlinewidth": 0,
             "ticks": ""
            },
            "type": "contourcarpet"
           }
          ],
          "heatmap": [
           {
            "colorbar": {
             "outlinewidth": 0,
             "ticks": ""
            },
            "colorscale": [
             [
              0,
              "#0d0887"
             ],
             [
              0.1111111111111111,
              "#46039f"
             ],
             [
              0.2222222222222222,
              "#7201a8"
             ],
             [
              0.3333333333333333,
              "#9c179e"
             ],
             [
              0.4444444444444444,
              "#bd3786"
             ],
             [
              0.5555555555555556,
              "#d8576b"
             ],
             [
              0.6666666666666666,
              "#ed7953"
             ],
             [
              0.7777777777777778,
              "#fb9f3a"
             ],
             [
              0.8888888888888888,
              "#fdca26"
             ],
             [
              1,
              "#f0f921"
             ]
            ],
            "type": "heatmap"
           }
          ],
          "heatmapgl": [
           {
            "colorbar": {
             "outlinewidth": 0,
             "ticks": ""
            },
            "colorscale": [
             [
              0,
              "#0d0887"
             ],
             [
              0.1111111111111111,
              "#46039f"
             ],
             [
              0.2222222222222222,
              "#7201a8"
             ],
             [
              0.3333333333333333,
              "#9c179e"
             ],
             [
              0.4444444444444444,
              "#bd3786"
             ],
             [
              0.5555555555555556,
              "#d8576b"
             ],
             [
              0.6666666666666666,
              "#ed7953"
             ],
             [
              0.7777777777777778,
              "#fb9f3a"
             ],
             [
              0.8888888888888888,
              "#fdca26"
             ],
             [
              1,
              "#f0f921"
             ]
            ],
            "type": "heatmapgl"
           }
          ],
          "histogram": [
           {
            "marker": {
             "colorbar": {
              "outlinewidth": 0,
              "ticks": ""
             }
            },
            "type": "histogram"
           }
          ],
          "histogram2d": [
           {
            "colorbar": {
             "outlinewidth": 0,
             "ticks": ""
            },
            "colorscale": [
             [
              0,
              "#0d0887"
             ],
             [
              0.1111111111111111,
              "#46039f"
             ],
             [
              0.2222222222222222,
              "#7201a8"
             ],
             [
              0.3333333333333333,
              "#9c179e"
             ],
             [
              0.4444444444444444,
              "#bd3786"
             ],
             [
              0.5555555555555556,
              "#d8576b"
             ],
             [
              0.6666666666666666,
              "#ed7953"
             ],
             [
              0.7777777777777778,
              "#fb9f3a"
             ],
             [
              0.8888888888888888,
              "#fdca26"
             ],
             [
              1,
              "#f0f921"
             ]
            ],
            "type": "histogram2d"
           }
          ],
          "histogram2dcontour": [
           {
            "colorbar": {
             "outlinewidth": 0,
             "ticks": ""
            },
            "colorscale": [
             [
              0,
              "#0d0887"
             ],
             [
              0.1111111111111111,
              "#46039f"
             ],
             [
              0.2222222222222222,
              "#7201a8"
             ],
             [
              0.3333333333333333,
              "#9c179e"
             ],
             [
              0.4444444444444444,
              "#bd3786"
             ],
             [
              0.5555555555555556,
              "#d8576b"
             ],
             [
              0.6666666666666666,
              "#ed7953"
             ],
             [
              0.7777777777777778,
              "#fb9f3a"
             ],
             [
              0.8888888888888888,
              "#fdca26"
             ],
             [
              1,
              "#f0f921"
             ]
            ],
            "type": "histogram2dcontour"
           }
          ],
          "mesh3d": [
           {
            "colorbar": {
             "outlinewidth": 0,
             "ticks": ""
            },
            "type": "mesh3d"
           }
          ],
          "parcoords": [
           {
            "line": {
             "colorbar": {
              "outlinewidth": 0,
              "ticks": ""
             }
            },
            "type": "parcoords"
           }
          ],
          "pie": [
           {
            "automargin": true,
            "type": "pie"
           }
          ],
          "scatter": [
           {
            "marker": {
             "colorbar": {
              "outlinewidth": 0,
              "ticks": ""
             }
            },
            "type": "scatter"
           }
          ],
          "scatter3d": [
           {
            "line": {
             "colorbar": {
              "outlinewidth": 0,
              "ticks": ""
             }
            },
            "marker": {
             "colorbar": {
              "outlinewidth": 0,
              "ticks": ""
             }
            },
            "type": "scatter3d"
           }
          ],
          "scattercarpet": [
           {
            "marker": {
             "colorbar": {
              "outlinewidth": 0,
              "ticks": ""
             }
            },
            "type": "scattercarpet"
           }
          ],
          "scattergeo": [
           {
            "marker": {
             "colorbar": {
              "outlinewidth": 0,
              "ticks": ""
             }
            },
            "type": "scattergeo"
           }
          ],
          "scattergl": [
           {
            "marker": {
             "colorbar": {
              "outlinewidth": 0,
              "ticks": ""
             }
            },
            "type": "scattergl"
           }
          ],
          "scattermapbox": [
           {
            "marker": {
             "colorbar": {
              "outlinewidth": 0,
              "ticks": ""
             }
            },
            "type": "scattermapbox"
           }
          ],
          "scatterpolar": [
           {
            "marker": {
             "colorbar": {
              "outlinewidth": 0,
              "ticks": ""
             }
            },
            "type": "scatterpolar"
           }
          ],
          "scatterpolargl": [
           {
            "marker": {
             "colorbar": {
              "outlinewidth": 0,
              "ticks": ""
             }
            },
            "type": "scatterpolargl"
           }
          ],
          "scatterternary": [
           {
            "marker": {
             "colorbar": {
              "outlinewidth": 0,
              "ticks": ""
             }
            },
            "type": "scatterternary"
           }
          ],
          "surface": [
           {
            "colorbar": {
             "outlinewidth": 0,
             "ticks": ""
            },
            "colorscale": [
             [
              0,
              "#0d0887"
             ],
             [
              0.1111111111111111,
              "#46039f"
             ],
             [
              0.2222222222222222,
              "#7201a8"
             ],
             [
              0.3333333333333333,
              "#9c179e"
             ],
             [
              0.4444444444444444,
              "#bd3786"
             ],
             [
              0.5555555555555556,
              "#d8576b"
             ],
             [
              0.6666666666666666,
              "#ed7953"
             ],
             [
              0.7777777777777778,
              "#fb9f3a"
             ],
             [
              0.8888888888888888,
              "#fdca26"
             ],
             [
              1,
              "#f0f921"
             ]
            ],
            "type": "surface"
           }
          ],
          "table": [
           {
            "cells": {
             "fill": {
              "color": "#EBF0F8"
             },
             "line": {
              "color": "white"
             }
            },
            "header": {
             "fill": {
              "color": "#C8D4E3"
             },
             "line": {
              "color": "white"
             }
            },
            "type": "table"
           }
          ]
         },
         "layout": {
          "annotationdefaults": {
           "arrowcolor": "#2a3f5f",
           "arrowhead": 0,
           "arrowwidth": 1
          },
          "autotypenumbers": "strict",
          "coloraxis": {
           "colorbar": {
            "outlinewidth": 0,
            "ticks": ""
           }
          },
          "colorscale": {
           "diverging": [
            [
             0,
             "#8e0152"
            ],
            [
             0.1,
             "#c51b7d"
            ],
            [
             0.2,
             "#de77ae"
            ],
            [
             0.3,
             "#f1b6da"
            ],
            [
             0.4,
             "#fde0ef"
            ],
            [
             0.5,
             "#f7f7f7"
            ],
            [
             0.6,
             "#e6f5d0"
            ],
            [
             0.7,
             "#b8e186"
            ],
            [
             0.8,
             "#7fbc41"
            ],
            [
             0.9,
             "#4d9221"
            ],
            [
             1,
             "#276419"
            ]
           ],
           "sequential": [
            [
             0,
             "#0d0887"
            ],
            [
             0.1111111111111111,
             "#46039f"
            ],
            [
             0.2222222222222222,
             "#7201a8"
            ],
            [
             0.3333333333333333,
             "#9c179e"
            ],
            [
             0.4444444444444444,
             "#bd3786"
            ],
            [
             0.5555555555555556,
             "#d8576b"
            ],
            [
             0.6666666666666666,
             "#ed7953"
            ],
            [
             0.7777777777777778,
             "#fb9f3a"
            ],
            [
             0.8888888888888888,
             "#fdca26"
            ],
            [
             1,
             "#f0f921"
            ]
           ],
           "sequentialminus": [
            [
             0,
             "#0d0887"
            ],
            [
             0.1111111111111111,
             "#46039f"
            ],
            [
             0.2222222222222222,
             "#7201a8"
            ],
            [
             0.3333333333333333,
             "#9c179e"
            ],
            [
             0.4444444444444444,
             "#bd3786"
            ],
            [
             0.5555555555555556,
             "#d8576b"
            ],
            [
             0.6666666666666666,
             "#ed7953"
            ],
            [
             0.7777777777777778,
             "#fb9f3a"
            ],
            [
             0.8888888888888888,
             "#fdca26"
            ],
            [
             1,
             "#f0f921"
            ]
           ]
          },
          "colorway": [
           "#636efa",
           "#EF553B",
           "#00cc96",
           "#ab63fa",
           "#FFA15A",
           "#19d3f3",
           "#FF6692",
           "#B6E880",
           "#FF97FF",
           "#FECB52"
          ],
          "font": {
           "color": "#2a3f5f"
          },
          "geo": {
           "bgcolor": "white",
           "lakecolor": "white",
           "landcolor": "#E5ECF6",
           "showlakes": true,
           "showland": true,
           "subunitcolor": "white"
          },
          "hoverlabel": {
           "align": "left"
          },
          "hovermode": "closest",
          "mapbox": {
           "style": "light"
          },
          "paper_bgcolor": "white",
          "plot_bgcolor": "#E5ECF6",
          "polar": {
           "angularaxis": {
            "gridcolor": "white",
            "linecolor": "white",
            "ticks": ""
           },
           "bgcolor": "#E5ECF6",
           "radialaxis": {
            "gridcolor": "white",
            "linecolor": "white",
            "ticks": ""
           }
          },
          "scene": {
           "xaxis": {
            "backgroundcolor": "#E5ECF6",
            "gridcolor": "white",
            "gridwidth": 2,
            "linecolor": "white",
            "showbackground": true,
            "ticks": "",
            "zerolinecolor": "white"
           },
           "yaxis": {
            "backgroundcolor": "#E5ECF6",
            "gridcolor": "white",
            "gridwidth": 2,
            "linecolor": "white",
            "showbackground": true,
            "ticks": "",
            "zerolinecolor": "white"
           },
           "zaxis": {
            "backgroundcolor": "#E5ECF6",
            "gridcolor": "white",
            "gridwidth": 2,
            "linecolor": "white",
            "showbackground": true,
            "ticks": "",
            "zerolinecolor": "white"
           }
          },
          "shapedefaults": {
           "line": {
            "color": "#2a3f5f"
           }
          },
          "ternary": {
           "aaxis": {
            "gridcolor": "white",
            "linecolor": "white",
            "ticks": ""
           },
           "baxis": {
            "gridcolor": "white",
            "linecolor": "white",
            "ticks": ""
           },
           "bgcolor": "#E5ECF6",
           "caxis": {
            "gridcolor": "white",
            "linecolor": "white",
            "ticks": ""
           }
          },
          "title": {
           "x": 0.05
          },
          "xaxis": {
           "automargin": true,
           "gridcolor": "white",
           "linecolor": "white",
           "ticks": "",
           "title": {
            "standoff": 15
           },
           "zerolinecolor": "white",
           "zerolinewidth": 2
          },
          "yaxis": {
           "automargin": true,
           "gridcolor": "white",
           "linecolor": "white",
           "ticks": "",
           "title": {
            "standoff": 15
           },
           "zerolinecolor": "white",
           "zerolinewidth": 2
          }
         }
        },
        "title": {
         "text": "Top 10 Fertilizers Imported"
        },
        "xaxis": {
         "anchor": "y",
         "domain": [
          0,
          1
         ],
         "title": {
          "text": "value"
         }
        },
        "yaxis": {
         "anchor": "x",
         "domain": [
          0,
          1
         ],
         "title": {
          "text": "item"
         }
        }
       }
      }
     },
     "metadata": {}
    }
   ],
   "source": [
    "df_iquan = India[India.element == 'Import Quantity']\n",
    "\n",
    "#getting top 10 fertilizers that were imported\n",
    "top_10_imp = df_iquan.groupby('item')['value'].sum().sort_values(ascending = False).head(10).reset_index()\n",
    "fig = px.bar(top_10_imp, x = 'value', y = 'item', orientation = 'h', title = 'Top 10 Fertilizers Imported')\n",
    "fig.show()"
   ]
  },
  {
   "cell_type": "markdown",
   "metadata": {
    "papermill": {
     "duration": 0.049021,
     "end_time": "2021-02-15T19:09:34.776610",
     "exception": false,
     "start_time": "2021-02-15T19:09:34.727589",
     "status": "completed"
    },
    "tags": []
   },
   "source": [
    "Phosphate rock is imported the most and after that Urea is imported the most. We had already established earlier that Urea was being used more than it was being produced, so it had to be imported in large quantities as well, which it is."
   ]
  },
  {
   "cell_type": "code",
   "execution_count": 23,
   "metadata": {
    "execution": {
     "iopub.execute_input": "2021-02-15T19:09:34.914739Z",
     "iopub.status.busy": "2021-02-15T19:09:34.910165Z",
     "iopub.status.idle": "2021-02-15T19:09:34.995138Z",
     "shell.execute_reply": "2021-02-15T19:09:34.994589Z"
    },
    "papermill": {
     "duration": 0.168908,
     "end_time": "2021-02-15T19:09:34.995276",
     "exception": false,
     "start_time": "2021-02-15T19:09:34.826368",
     "status": "completed"
    },
    "tags": []
   },
   "outputs": [
    {
     "output_type": "display_data",
     "data": {
      "application/vnd.plotly.v1+json": {
       "config": {
        "plotlyServerURL": "https://plot.ly"
       },
       "data": [
        {
         "hovertemplate": "item=Phosphate rock<br>year=%{x}<br>value=%{y}<extra></extra>",
         "legendgroup": "Phosphate rock",
         "line": {
          "color": "#636efa",
          "dash": "solid"
         },
         "mode": "lines",
         "name": "Phosphate rock",
         "orientation": "v",
         "showlegend": true,
         "type": "scatter",
         "x": [
          2002,
          2003,
          2004,
          2005,
          2006,
          2007,
          2008,
          2009,
          2010,
          2011,
          2012,
          2013,
          2014,
          2015,
          2016,
          2017
         ],
         "xaxis": "x",
         "y": [
          3745658.66,
          2633527.23,
          3183428.19,
          4902724.15,
          4825164.08,
          5061925.85,
          4881158.07,
          4981853.75,
          5564840.61,
          7942480.69,
          10298331.57,
          7184107.29,
          8195746.19,
          8298338.22,
          7500199.87,
          7482893.93
         ],
         "yaxis": "y"
        },
        {
         "hovertemplate": "item=Urea<br>year=%{x}<br>value=%{y}<extra></extra>",
         "legendgroup": "Urea",
         "line": {
          "color": "#EF553B",
          "dash": "solid"
         },
         "mode": "lines",
         "name": "Urea",
         "orientation": "v",
         "showlegend": true,
         "type": "scatter",
         "x": [
          2002,
          2003,
          2004,
          2005,
          2006,
          2007,
          2008,
          2009,
          2010,
          2011,
          2012,
          2013,
          2014,
          2015,
          2016,
          2017
         ],
         "xaxis": "x",
         "y": [
          227410,
          110638,
          458586.87,
          1576639.33,
          3918887.82,
          5790046.53,
          5343706.28,
          4591120.44,
          4520118.46,
          4408214.47,
          6686178.62,
          8644240.17,
          7277073.6,
          9915149.74,
          6991686.94,
          5944113.92
         ],
         "yaxis": "y"
        },
        {
         "hovertemplate": "item=Diammonium phosphate (DAP)<br>year=%{x}<br>value=%{y}<extra></extra>",
         "legendgroup": "Diammonium phosphate (DAP)",
         "line": {
          "color": "#00cc96",
          "dash": "solid"
         },
         "mode": "lines",
         "name": "Diammonium phosphate (DAP)",
         "orientation": "v",
         "showlegend": true,
         "type": "scatter",
         "x": [
          2002,
          2003,
          2004,
          2005,
          2006,
          2007,
          2008,
          2009,
          2010,
          2011,
          2012,
          2013,
          2014,
          2015,
          2016,
          2017
         ],
         "xaxis": "x",
         "y": [
          195915.46,
          669436.97,
          465652.96,
          1176635.76,
          3027419.13,
          2588320.22,
          5232548.47,
          5631567.15,
          4934503.8,
          5721842.26,
          5726842.23,
          3574515.29,
          3834453.29,
          6472195.07,
          4843356.64,
          4094042.69
         ],
         "yaxis": "y"
        },
        {
         "hovertemplate": "item=Potassium chloride (muriate of potash) (MOP)<br>year=%{x}<br>value=%{y}<extra></extra>",
         "legendgroup": "Potassium chloride (muriate of potash) (MOP)",
         "line": {
          "color": "#ab63fa",
          "dash": "solid"
         },
         "mode": "lines",
         "name": "Potassium chloride (muriate of potash) (MOP)",
         "orientation": "v",
         "showlegend": true,
         "type": "scatter",
         "x": [
          2002,
          2003,
          2004,
          2005,
          2006,
          2007,
          2008,
          2009,
          2010,
          2011,
          2012,
          2013,
          2014,
          2015,
          2016,
          2017
         ],
         "xaxis": "x",
         "y": [
          2064951.64,
          2238472.08,
          2279203.03,
          4006096.18,
          2962506.45,
          2788145.47,
          5014476.22,
          4219908.87,
          4386138.46,
          2686825.09,
          2333364.57,
          2785039.57,
          4072660.75,
          3641575.66,
          3753063.14,
          4447397.38
         ],
         "yaxis": "y"
        },
        {
         "hovertemplate": "item=Ammonia, anhydrous<br>year=%{x}<br>value=%{y}<extra></extra>",
         "legendgroup": "Ammonia, anhydrous",
         "line": {
          "color": "#FFA15A",
          "dash": "solid"
         },
         "mode": "lines",
         "name": "Ammonia, anhydrous",
         "orientation": "v",
         "showlegend": true,
         "type": "scatter",
         "x": [
          2002,
          2003,
          2004,
          2005,
          2006,
          2007,
          2008,
          2009,
          2010,
          2011,
          2012,
          2013,
          2014,
          2015,
          2016,
          2017
         ],
         "xaxis": "x",
         "y": [
          1279348.13,
          979985.94,
          1189895.82,
          1731417.05,
          1781431.57,
          1786860.23,
          1485502.51,
          1787890.88,
          1661262.77,
          2171151.47,
          2164496.22,
          1934662.59,
          2029925.96,
          2162185.85,
          2296076.13,
          2340430.59
         ],
         "yaxis": "y"
        },
        {
         "hovertemplate": "item=Other NP compounds<br>year=%{x}<br>value=%{y}<extra></extra>",
         "legendgroup": "Other NP compounds",
         "line": {
          "color": "#19d3f3",
          "dash": "solid"
         },
         "mode": "lines",
         "name": "Other NP compounds",
         "orientation": "v",
         "showlegend": true,
         "type": "scatter",
         "x": [
          2002,
          2003,
          2004,
          2005,
          2006,
          2007,
          2008,
          2009,
          2010,
          2011,
          2012,
          2013,
          2014,
          2015,
          2016,
          2017
         ],
         "xaxis": "x",
         "y": [
          975.39,
          742.75,
          1112.5,
          2437.23,
          824.26,
          2387.49,
          8858.92,
          1273.64,
          235478.07,
          2629739.96,
          333441.17,
          259634.54,
          264163.31,
          289119.26,
          273164.56,
          236511.9
         ],
         "yaxis": "y"
        },
        {
         "hovertemplate": "item=Monoammonium phosphate (MAP)<br>year=%{x}<br>value=%{y}<extra></extra>",
         "legendgroup": "Monoammonium phosphate (MAP)",
         "line": {
          "color": "#FF6692",
          "dash": "solid"
         },
         "mode": "lines",
         "name": "Monoammonium phosphate (MAP)",
         "orientation": "v",
         "showlegend": true,
         "type": "scatter",
         "x": [
          2002,
          2003,
          2004,
          2005,
          2006,
          2007,
          2008,
          2009,
          2010,
          2011,
          2012,
          2013,
          2014,
          2015,
          2016,
          2017
         ],
         "xaxis": "x",
         "y": [
          140128.71,
          149020.47,
          80434.8,
          182917.58,
          297727.88,
          298444.79,
          547454.06,
          241261.42,
          497297.45,
          667199.24,
          222271.2,
          61288.38,
          237245.93,
          116379.96,
          147683.6,
          139422.07
         ],
         "yaxis": "y"
        },
        {
         "hovertemplate": "item=Ammonium nitrate (AN)<br>year=%{x}<br>value=%{y}<extra></extra>",
         "legendgroup": "Ammonium nitrate (AN)",
         "line": {
          "color": "#B6E880",
          "dash": "solid"
         },
         "mode": "lines",
         "name": "Ammonium nitrate (AN)",
         "orientation": "v",
         "showlegend": true,
         "type": "scatter",
         "x": [
          2002,
          2003,
          2004,
          2005,
          2006,
          2007,
          2008,
          2009,
          2010,
          2011,
          2012,
          2013,
          2014,
          2015,
          2016,
          2017
         ],
         "xaxis": "x",
         "y": [
          91647.03,
          104232,
          97434,
          204791,
          185568.48,
          198106.12,
          223360.14,
          293568.32,
          216801.54,
          279737.64,
          258173,
          73022,
          59511.4,
          150488.3,
          307048.5,
          275821.84
         ],
         "yaxis": "y"
        },
        {
         "hovertemplate": "item=Other potassic fertilizers, n.e.c.<br>year=%{x}<br>value=%{y}<extra></extra>",
         "legendgroup": "Other potassic fertilizers, n.e.c.",
         "line": {
          "color": "#FF97FF",
          "dash": "solid"
         },
         "mode": "lines",
         "name": "Other potassic fertilizers, n.e.c.",
         "orientation": "v",
         "showlegend": true,
         "type": "scatter",
         "x": [
          2002,
          2003,
          2004,
          2005,
          2006,
          2007,
          2008,
          2009,
          2010,
          2011,
          2012,
          2013,
          2014,
          2015,
          2016,
          2017
         ],
         "xaxis": "x",
         "y": [
          138504.29,
          60638,
          68232.05,
          65819.83,
          864.41,
          308283.22,
          274951.86,
          649790.88,
          139126.97,
          184578.03,
          103470.01,
          180603.11,
          119908.03,
          63835.55,
          32017.59,
          55580.95
         ],
         "yaxis": "y"
        },
        {
         "hovertemplate": "item=NPK fertilizers<br>year=%{x}<br>value=%{y}<extra></extra>",
         "legendgroup": "NPK fertilizers",
         "line": {
          "color": "#FECB52",
          "dash": "solid"
         },
         "mode": "lines",
         "name": "NPK fertilizers",
         "orientation": "v",
         "showlegend": true,
         "type": "scatter",
         "x": [
          2002,
          2003,
          2004,
          2005,
          2006,
          2007,
          2008,
          2009,
          2010,
          2011,
          2012,
          2013,
          2014,
          2015,
          2016,
          2017
         ],
         "xaxis": "x",
         "y": [
          3694.53,
          5671.59,
          6045.5,
          12910.82,
          12612.96,
          14451.77,
          19859.75,
          8074.85,
          370129.87,
          169800.6,
          258685.4,
          51742.24,
          65286.35,
          258399.32,
          268027.48,
          202529.51
         ],
         "yaxis": "y"
        }
       ],
       "layout": {
        "height": 600,
        "legend": {
         "orientation": "h",
         "title": {
          "text": "item"
         },
         "tracegroupgap": 0
        },
        "template": {
         "data": {
          "bar": [
           {
            "error_x": {
             "color": "#2a3f5f"
            },
            "error_y": {
             "color": "#2a3f5f"
            },
            "marker": {
             "line": {
              "color": "#E5ECF6",
              "width": 0.5
             }
            },
            "type": "bar"
           }
          ],
          "barpolar": [
           {
            "marker": {
             "line": {
              "color": "#E5ECF6",
              "width": 0.5
             }
            },
            "type": "barpolar"
           }
          ],
          "carpet": [
           {
            "aaxis": {
             "endlinecolor": "#2a3f5f",
             "gridcolor": "white",
             "linecolor": "white",
             "minorgridcolor": "white",
             "startlinecolor": "#2a3f5f"
            },
            "baxis": {
             "endlinecolor": "#2a3f5f",
             "gridcolor": "white",
             "linecolor": "white",
             "minorgridcolor": "white",
             "startlinecolor": "#2a3f5f"
            },
            "type": "carpet"
           }
          ],
          "choropleth": [
           {
            "colorbar": {
             "outlinewidth": 0,
             "ticks": ""
            },
            "type": "choropleth"
           }
          ],
          "contour": [
           {
            "colorbar": {
             "outlinewidth": 0,
             "ticks": ""
            },
            "colorscale": [
             [
              0,
              "#0d0887"
             ],
             [
              0.1111111111111111,
              "#46039f"
             ],
             [
              0.2222222222222222,
              "#7201a8"
             ],
             [
              0.3333333333333333,
              "#9c179e"
             ],
             [
              0.4444444444444444,
              "#bd3786"
             ],
             [
              0.5555555555555556,
              "#d8576b"
             ],
             [
              0.6666666666666666,
              "#ed7953"
             ],
             [
              0.7777777777777778,
              "#fb9f3a"
             ],
             [
              0.8888888888888888,
              "#fdca26"
             ],
             [
              1,
              "#f0f921"
             ]
            ],
            "type": "contour"
           }
          ],
          "contourcarpet": [
           {
            "colorbar": {
             "outlinewidth": 0,
             "ticks": ""
            },
            "type": "contourcarpet"
           }
          ],
          "heatmap": [
           {
            "colorbar": {
             "outlinewidth": 0,
             "ticks": ""
            },
            "colorscale": [
             [
              0,
              "#0d0887"
             ],
             [
              0.1111111111111111,
              "#46039f"
             ],
             [
              0.2222222222222222,
              "#7201a8"
             ],
             [
              0.3333333333333333,
              "#9c179e"
             ],
             [
              0.4444444444444444,
              "#bd3786"
             ],
             [
              0.5555555555555556,
              "#d8576b"
             ],
             [
              0.6666666666666666,
              "#ed7953"
             ],
             [
              0.7777777777777778,
              "#fb9f3a"
             ],
             [
              0.8888888888888888,
              "#fdca26"
             ],
             [
              1,
              "#f0f921"
             ]
            ],
            "type": "heatmap"
           }
          ],
          "heatmapgl": [
           {
            "colorbar": {
             "outlinewidth": 0,
             "ticks": ""
            },
            "colorscale": [
             [
              0,
              "#0d0887"
             ],
             [
              0.1111111111111111,
              "#46039f"
             ],
             [
              0.2222222222222222,
              "#7201a8"
             ],
             [
              0.3333333333333333,
              "#9c179e"
             ],
             [
              0.4444444444444444,
              "#bd3786"
             ],
             [
              0.5555555555555556,
              "#d8576b"
             ],
             [
              0.6666666666666666,
              "#ed7953"
             ],
             [
              0.7777777777777778,
              "#fb9f3a"
             ],
             [
              0.8888888888888888,
              "#fdca26"
             ],
             [
              1,
              "#f0f921"
             ]
            ],
            "type": "heatmapgl"
           }
          ],
          "histogram": [
           {
            "marker": {
             "colorbar": {
              "outlinewidth": 0,
              "ticks": ""
             }
            },
            "type": "histogram"
           }
          ],
          "histogram2d": [
           {
            "colorbar": {
             "outlinewidth": 0,
             "ticks": ""
            },
            "colorscale": [
             [
              0,
              "#0d0887"
             ],
             [
              0.1111111111111111,
              "#46039f"
             ],
             [
              0.2222222222222222,
              "#7201a8"
             ],
             [
              0.3333333333333333,
              "#9c179e"
             ],
             [
              0.4444444444444444,
              "#bd3786"
             ],
             [
              0.5555555555555556,
              "#d8576b"
             ],
             [
              0.6666666666666666,
              "#ed7953"
             ],
             [
              0.7777777777777778,
              "#fb9f3a"
             ],
             [
              0.8888888888888888,
              "#fdca26"
             ],
             [
              1,
              "#f0f921"
             ]
            ],
            "type": "histogram2d"
           }
          ],
          "histogram2dcontour": [
           {
            "colorbar": {
             "outlinewidth": 0,
             "ticks": ""
            },
            "colorscale": [
             [
              0,
              "#0d0887"
             ],
             [
              0.1111111111111111,
              "#46039f"
             ],
             [
              0.2222222222222222,
              "#7201a8"
             ],
             [
              0.3333333333333333,
              "#9c179e"
             ],
             [
              0.4444444444444444,
              "#bd3786"
             ],
             [
              0.5555555555555556,
              "#d8576b"
             ],
             [
              0.6666666666666666,
              "#ed7953"
             ],
             [
              0.7777777777777778,
              "#fb9f3a"
             ],
             [
              0.8888888888888888,
              "#fdca26"
             ],
             [
              1,
              "#f0f921"
             ]
            ],
            "type": "histogram2dcontour"
           }
          ],
          "mesh3d": [
           {
            "colorbar": {
             "outlinewidth": 0,
             "ticks": ""
            },
            "type": "mesh3d"
           }
          ],
          "parcoords": [
           {
            "line": {
             "colorbar": {
              "outlinewidth": 0,
              "ticks": ""
             }
            },
            "type": "parcoords"
           }
          ],
          "pie": [
           {
            "automargin": true,
            "type": "pie"
           }
          ],
          "scatter": [
           {
            "marker": {
             "colorbar": {
              "outlinewidth": 0,
              "ticks": ""
             }
            },
            "type": "scatter"
           }
          ],
          "scatter3d": [
           {
            "line": {
             "colorbar": {
              "outlinewidth": 0,
              "ticks": ""
             }
            },
            "marker": {
             "colorbar": {
              "outlinewidth": 0,
              "ticks": ""
             }
            },
            "type": "scatter3d"
           }
          ],
          "scattercarpet": [
           {
            "marker": {
             "colorbar": {
              "outlinewidth": 0,
              "ticks": ""
             }
            },
            "type": "scattercarpet"
           }
          ],
          "scattergeo": [
           {
            "marker": {
             "colorbar": {
              "outlinewidth": 0,
              "ticks": ""
             }
            },
            "type": "scattergeo"
           }
          ],
          "scattergl": [
           {
            "marker": {
             "colorbar": {
              "outlinewidth": 0,
              "ticks": ""
             }
            },
            "type": "scattergl"
           }
          ],
          "scattermapbox": [
           {
            "marker": {
             "colorbar": {
              "outlinewidth": 0,
              "ticks": ""
             }
            },
            "type": "scattermapbox"
           }
          ],
          "scatterpolar": [
           {
            "marker": {
             "colorbar": {
              "outlinewidth": 0,
              "ticks": ""
             }
            },
            "type": "scatterpolar"
           }
          ],
          "scatterpolargl": [
           {
            "marker": {
             "colorbar": {
              "outlinewidth": 0,
              "ticks": ""
             }
            },
            "type": "scatterpolargl"
           }
          ],
          "scatterternary": [
           {
            "marker": {
             "colorbar": {
              "outlinewidth": 0,
              "ticks": ""
             }
            },
            "type": "scatterternary"
           }
          ],
          "surface": [
           {
            "colorbar": {
             "outlinewidth": 0,
             "ticks": ""
            },
            "colorscale": [
             [
              0,
              "#0d0887"
             ],
             [
              0.1111111111111111,
              "#46039f"
             ],
             [
              0.2222222222222222,
              "#7201a8"
             ],
             [
              0.3333333333333333,
              "#9c179e"
             ],
             [
              0.4444444444444444,
              "#bd3786"
             ],
             [
              0.5555555555555556,
              "#d8576b"
             ],
             [
              0.6666666666666666,
              "#ed7953"
             ],
             [
              0.7777777777777778,
              "#fb9f3a"
             ],
             [
              0.8888888888888888,
              "#fdca26"
             ],
             [
              1,
              "#f0f921"
             ]
            ],
            "type": "surface"
           }
          ],
          "table": [
           {
            "cells": {
             "fill": {
              "color": "#EBF0F8"
             },
             "line": {
              "color": "white"
             }
            },
            "header": {
             "fill": {
              "color": "#C8D4E3"
             },
             "line": {
              "color": "white"
             }
            },
            "type": "table"
           }
          ]
         },
         "layout": {
          "annotationdefaults": {
           "arrowcolor": "#2a3f5f",
           "arrowhead": 0,
           "arrowwidth": 1
          },
          "autotypenumbers": "strict",
          "coloraxis": {
           "colorbar": {
            "outlinewidth": 0,
            "ticks": ""
           }
          },
          "colorscale": {
           "diverging": [
            [
             0,
             "#8e0152"
            ],
            [
             0.1,
             "#c51b7d"
            ],
            [
             0.2,
             "#de77ae"
            ],
            [
             0.3,
             "#f1b6da"
            ],
            [
             0.4,
             "#fde0ef"
            ],
            [
             0.5,
             "#f7f7f7"
            ],
            [
             0.6,
             "#e6f5d0"
            ],
            [
             0.7,
             "#b8e186"
            ],
            [
             0.8,
             "#7fbc41"
            ],
            [
             0.9,
             "#4d9221"
            ],
            [
             1,
             "#276419"
            ]
           ],
           "sequential": [
            [
             0,
             "#0d0887"
            ],
            [
             0.1111111111111111,
             "#46039f"
            ],
            [
             0.2222222222222222,
             "#7201a8"
            ],
            [
             0.3333333333333333,
             "#9c179e"
            ],
            [
             0.4444444444444444,
             "#bd3786"
            ],
            [
             0.5555555555555556,
             "#d8576b"
            ],
            [
             0.6666666666666666,
             "#ed7953"
            ],
            [
             0.7777777777777778,
             "#fb9f3a"
            ],
            [
             0.8888888888888888,
             "#fdca26"
            ],
            [
             1,
             "#f0f921"
            ]
           ],
           "sequentialminus": [
            [
             0,
             "#0d0887"
            ],
            [
             0.1111111111111111,
             "#46039f"
            ],
            [
             0.2222222222222222,
             "#7201a8"
            ],
            [
             0.3333333333333333,
             "#9c179e"
            ],
            [
             0.4444444444444444,
             "#bd3786"
            ],
            [
             0.5555555555555556,
             "#d8576b"
            ],
            [
             0.6666666666666666,
             "#ed7953"
            ],
            [
             0.7777777777777778,
             "#fb9f3a"
            ],
            [
             0.8888888888888888,
             "#fdca26"
            ],
            [
             1,
             "#f0f921"
            ]
           ]
          },
          "colorway": [
           "#636efa",
           "#EF553B",
           "#00cc96",
           "#ab63fa",
           "#FFA15A",
           "#19d3f3",
           "#FF6692",
           "#B6E880",
           "#FF97FF",
           "#FECB52"
          ],
          "font": {
           "color": "#2a3f5f"
          },
          "geo": {
           "bgcolor": "white",
           "lakecolor": "white",
           "landcolor": "#E5ECF6",
           "showlakes": true,
           "showland": true,
           "subunitcolor": "white"
          },
          "hoverlabel": {
           "align": "left"
          },
          "hovermode": "closest",
          "mapbox": {
           "style": "light"
          },
          "paper_bgcolor": "white",
          "plot_bgcolor": "#E5ECF6",
          "polar": {
           "angularaxis": {
            "gridcolor": "white",
            "linecolor": "white",
            "ticks": ""
           },
           "bgcolor": "#E5ECF6",
           "radialaxis": {
            "gridcolor": "white",
            "linecolor": "white",
            "ticks": ""
           }
          },
          "scene": {
           "xaxis": {
            "backgroundcolor": "#E5ECF6",
            "gridcolor": "white",
            "gridwidth": 2,
            "linecolor": "white",
            "showbackground": true,
            "ticks": "",
            "zerolinecolor": "white"
           },
           "yaxis": {
            "backgroundcolor": "#E5ECF6",
            "gridcolor": "white",
            "gridwidth": 2,
            "linecolor": "white",
            "showbackground": true,
            "ticks": "",
            "zerolinecolor": "white"
           },
           "zaxis": {
            "backgroundcolor": "#E5ECF6",
            "gridcolor": "white",
            "gridwidth": 2,
            "linecolor": "white",
            "showbackground": true,
            "ticks": "",
            "zerolinecolor": "white"
           }
          },
          "shapedefaults": {
           "line": {
            "color": "#2a3f5f"
           }
          },
          "ternary": {
           "aaxis": {
            "gridcolor": "white",
            "linecolor": "white",
            "ticks": ""
           },
           "baxis": {
            "gridcolor": "white",
            "linecolor": "white",
            "ticks": ""
           },
           "bgcolor": "#E5ECF6",
           "caxis": {
            "gridcolor": "white",
            "linecolor": "white",
            "ticks": ""
           }
          },
          "title": {
           "x": 0.05
          },
          "xaxis": {
           "automargin": true,
           "gridcolor": "white",
           "linecolor": "white",
           "ticks": "",
           "title": {
            "standoff": 15
           },
           "zerolinecolor": "white",
           "zerolinewidth": 2
          },
          "yaxis": {
           "automargin": true,
           "gridcolor": "white",
           "linecolor": "white",
           "ticks": "",
           "title": {
            "standoff": 15
           },
           "zerolinecolor": "white",
           "zerolinewidth": 2
          }
         }
        },
        "title": {
         "text": "Top 10 Fertilizers imported from 2002-2017"
        },
        "xaxis": {
         "anchor": "y",
         "domain": [
          0,
          1
         ],
         "title": {
          "text": "year"
         }
        },
        "yaxis": {
         "anchor": "x",
         "domain": [
          0,
          1
         ],
         "title": {
          "text": "value"
         }
        }
       }
      }
     },
     "metadata": {}
    }
   ],
   "source": [
    "\n",
    "#list to store the dataframes created for top 10 fertilizers\n",
    "df_to_concat = []\n",
    "\n",
    "for i in top_10_imp['item']:\n",
    "    items = df_iquan[df_iquan.item == i]\n",
    "    df_to_concat.append(items)\n",
    "    \n",
    "result = pd.concat(df_to_concat)\n",
    "\n",
    "#plotting line graph\n",
    "fig_equan = px.line(result, x = 'year', y = 'value', color = 'item', title = 'Top 10 Fertilizers imported from 2002-2017')\n",
    "fig_equan.update_layout(legend_orientation = 'h', height = 600)\n",
    "fig_equan.show()\n"
   ]
  },
  {
   "cell_type": "markdown",
   "metadata": {
    "papermill": {
     "duration": 0.049148,
     "end_time": "2021-02-15T19:09:35.094868",
     "exception": false,
     "start_time": "2021-02-15T19:09:35.045720",
     "status": "completed"
    },
    "tags": []
   },
   "source": [
    "Over the years, India has increased the import of Phospate Rock and Urea. In 2008 and 2009, Diammonium Phosphate was being imported the most, but after that it has remained more or less constant."
   ]
  },
  {
   "cell_type": "markdown",
   "metadata": {
    "papermill": {
     "duration": 0.049739,
     "end_time": "2021-02-15T19:09:35.194581",
     "exception": false,
     "start_time": "2021-02-15T19:09:35.144842",
     "status": "completed"
    },
    "tags": []
   },
   "source": [
    "## How has India been using fertilizers?"
   ]
  },
  {
   "cell_type": "markdown",
   "metadata": {
    "papermill": {
     "duration": 0.04893,
     "end_time": "2021-02-15T19:09:35.293954",
     "exception": false,
     "start_time": "2021-02-15T19:09:35.245024",
     "status": "completed"
    },
    "tags": []
   },
   "source": [
    "1. India is not in Top 10 Countries list for each use separately, but India is the 9th top country for fertilizer use overall.\n",
    "2. We observed that **Urea** in India is the most produced fertilizer, but only until 2016. After the production of Urea decreased after 2016, Urea was getting imported in large ammounts. \n",
    "4. **NPK fertilizers** is the most exported fertilizer \n",
    "3. **Urea** is the most used fertilizer for agriculture in India.\n",
    "4. India produces, uses and imports fertilizers in large quantities, but the amount of fertilizers exported compared to other uses is very low. "
   ]
  }
 ],
 "metadata": {
  "kernelspec": {
   "display_name": "Python 3",
   "language": "python",
   "name": "python3"
  },
  "language_info": {
   "codemirror_mode": {
    "name": "ipython",
    "version": 3
   },
   "file_extension": ".py",
   "mimetype": "text/x-python",
   "name": "python",
   "nbconvert_exporter": "python",
   "pygments_lexer": "ipython3",
   "version": "3.8.6-final"
  },
  "papermill": {
   "duration": 23.25506,
   "end_time": "2021-02-15T19:09:35.451492",
   "environment_variables": {},
   "exception": null,
   "input_path": "__notebook__.ipynb",
   "output_path": "__notebook__.ipynb",
   "parameters": {},
   "start_time": "2021-02-15T19:09:12.196432",
   "version": "2.1.0"
  }
 },
 "nbformat": 4,
 "nbformat_minor": 4
}